{
  "cells": [
    {
      "cell_type": "markdown",
      "metadata": {
        "id": "view-in-github",
        "colab_type": "text"
      },
      "source": [
        "<a href=\"https://colab.research.google.com/github/bharath-r17/project/blob/main/customer_segmentation_and_visualizations_in_plotly.ipynb\" target=\"_parent\"><img src=\"https://colab.research.google.com/assets/colab-badge.svg\" alt=\"Open In Colab\"/></a>"
      ]
    },
    {
      "cell_type": "markdown",
      "metadata": {
        "papermill": {
          "duration": 0.122728,
          "end_time": "2020-12-10T17:19:00.458937",
          "exception": false,
          "start_time": "2020-12-10T17:19:00.336209",
          "status": "completed"
        },
        "tags": [],
        "id": "rYmPfx7nQagH"
      },
      "source": [
        "<h1 style=\"font-family:verdana;\"> <center>  Data Visualization with Plotly </center> </h1>\n",
        "\n",
        "\n",
        "***"
      ]
    },
    {
      "cell_type": "markdown",
      "metadata": {
        "papermill": {
          "duration": 0.118973,
          "end_time": "2020-12-10T17:19:00.929326",
          "exception": false,
          "start_time": "2020-12-10T17:19:00.810353",
          "status": "completed"
        },
        "tags": [],
        "id": "S6kBDzt4QagM"
      },
      "source": [
        "***"
      ]
    },
    {
      "cell_type": "code",
      "execution_count": 1,
      "metadata": {
        "_kg_hide-input": true,
        "_kg_hide-output": true,
        "execution": {
          "iopub.execute_input": "2020-12-10T17:19:01.177121Z",
          "iopub.status.busy": "2020-12-10T17:19:01.176001Z",
          "iopub.status.idle": "2020-12-10T17:19:18.039633Z",
          "shell.execute_reply": "2020-12-10T17:19:18.038888Z"
        },
        "papermill": {
          "duration": 16.98815,
          "end_time": "2020-12-10T17:19:18.039787",
          "exception": false,
          "start_time": "2020-12-10T17:19:01.051637",
          "status": "completed"
        },
        "tags": [],
        "colab": {
          "base_uri": "https://localhost:8080/"
        },
        "id": "ClXys2OXQagN",
        "outputId": "4ceedc8f-1f4d-41cf-dcca-f13f901dcdde"
      },
      "outputs": [
        {
          "output_type": "stream",
          "name": "stdout",
          "text": [
            "Requirement already satisfied: texthero in /usr/local/lib/python3.7/dist-packages (1.1.0)\n",
            "Requirement already satisfied: numpy>=1.17 in /usr/local/lib/python3.7/dist-packages (from texthero) (1.21.6)\n",
            "Requirement already satisfied: gensim<4.0,>=3.6.0 in /usr/local/lib/python3.7/dist-packages (from texthero) (3.6.0)\n",
            "Requirement already satisfied: matplotlib>=3.1.0 in /usr/local/lib/python3.7/dist-packages (from texthero) (3.2.2)\n",
            "Requirement already satisfied: scikit-learn>=0.22 in /usr/local/lib/python3.7/dist-packages (from texthero) (1.0.2)\n",
            "Requirement already satisfied: pandas>=1.0.2 in /usr/local/lib/python3.7/dist-packages (from texthero) (1.3.5)\n",
            "Requirement already satisfied: plotly>=4.2.0 in /usr/local/lib/python3.7/dist-packages (from texthero) (5.5.0)\n",
            "Requirement already satisfied: spacy<3.0.0 in /usr/local/lib/python3.7/dist-packages (from texthero) (2.2.4)\n",
            "Requirement already satisfied: tqdm>=4.3 in /usr/local/lib/python3.7/dist-packages (from texthero) (4.64.0)\n",
            "Requirement already satisfied: unidecode>=1.1.1 in /usr/local/lib/python3.7/dist-packages (from texthero) (1.3.4)\n",
            "Requirement already satisfied: wordcloud>=1.5.0 in /usr/local/lib/python3.7/dist-packages (from texthero) (1.5.0)\n",
            "Requirement already satisfied: nltk>=3.3 in /usr/local/lib/python3.7/dist-packages (from texthero) (3.7)\n",
            "Requirement already satisfied: scipy>=0.18.1 in /usr/local/lib/python3.7/dist-packages (from gensim<4.0,>=3.6.0->texthero) (1.4.1)\n",
            "Requirement already satisfied: smart-open>=1.2.1 in /usr/local/lib/python3.7/dist-packages (from gensim<4.0,>=3.6.0->texthero) (6.0.0)\n",
            "Requirement already satisfied: six>=1.5.0 in /usr/local/lib/python3.7/dist-packages (from gensim<4.0,>=3.6.0->texthero) (1.15.0)\n",
            "Requirement already satisfied: pyparsing!=2.0.4,!=2.1.2,!=2.1.6,>=2.0.1 in /usr/local/lib/python3.7/dist-packages (from matplotlib>=3.1.0->texthero) (3.0.8)\n",
            "Requirement already satisfied: kiwisolver>=1.0.1 in /usr/local/lib/python3.7/dist-packages (from matplotlib>=3.1.0->texthero) (1.4.2)\n",
            "Requirement already satisfied: python-dateutil>=2.1 in /usr/local/lib/python3.7/dist-packages (from matplotlib>=3.1.0->texthero) (2.8.2)\n",
            "Requirement already satisfied: cycler>=0.10 in /usr/local/lib/python3.7/dist-packages (from matplotlib>=3.1.0->texthero) (0.11.0)\n",
            "Requirement already satisfied: typing-extensions in /usr/local/lib/python3.7/dist-packages (from kiwisolver>=1.0.1->matplotlib>=3.1.0->texthero) (4.2.0)\n",
            "Requirement already satisfied: click in /usr/local/lib/python3.7/dist-packages (from nltk>=3.3->texthero) (7.1.2)\n",
            "Requirement already satisfied: joblib in /usr/local/lib/python3.7/dist-packages (from nltk>=3.3->texthero) (1.1.0)\n",
            "Requirement already satisfied: regex>=2021.8.3 in /usr/local/lib/python3.7/dist-packages (from nltk>=3.3->texthero) (2022.4.24)\n",
            "Requirement already satisfied: pytz>=2017.3 in /usr/local/lib/python3.7/dist-packages (from pandas>=1.0.2->texthero) (2022.1)\n",
            "Requirement already satisfied: tenacity>=6.2.0 in /usr/local/lib/python3.7/dist-packages (from plotly>=4.2.0->texthero) (8.0.1)\n",
            "Requirement already satisfied: threadpoolctl>=2.0.0 in /usr/local/lib/python3.7/dist-packages (from scikit-learn>=0.22->texthero) (3.1.0)\n",
            "Requirement already satisfied: wasabi<1.1.0,>=0.4.0 in /usr/local/lib/python3.7/dist-packages (from spacy<3.0.0->texthero) (0.9.1)\n",
            "Requirement already satisfied: thinc==7.4.0 in /usr/local/lib/python3.7/dist-packages (from spacy<3.0.0->texthero) (7.4.0)\n",
            "Requirement already satisfied: catalogue<1.1.0,>=0.0.7 in /usr/local/lib/python3.7/dist-packages (from spacy<3.0.0->texthero) (1.0.0)\n",
            "Requirement already satisfied: plac<1.2.0,>=0.9.6 in /usr/local/lib/python3.7/dist-packages (from spacy<3.0.0->texthero) (1.1.3)\n",
            "Requirement already satisfied: srsly<1.1.0,>=1.0.2 in /usr/local/lib/python3.7/dist-packages (from spacy<3.0.0->texthero) (1.0.5)\n",
            "Requirement already satisfied: murmurhash<1.1.0,>=0.28.0 in /usr/local/lib/python3.7/dist-packages (from spacy<3.0.0->texthero) (1.0.7)\n",
            "Requirement already satisfied: preshed<3.1.0,>=3.0.2 in /usr/local/lib/python3.7/dist-packages (from spacy<3.0.0->texthero) (3.0.6)\n",
            "Requirement already satisfied: blis<0.5.0,>=0.4.0 in /usr/local/lib/python3.7/dist-packages (from spacy<3.0.0->texthero) (0.4.1)\n",
            "Requirement already satisfied: requests<3.0.0,>=2.13.0 in /usr/local/lib/python3.7/dist-packages (from spacy<3.0.0->texthero) (2.23.0)\n",
            "Requirement already satisfied: setuptools in /usr/local/lib/python3.7/dist-packages (from spacy<3.0.0->texthero) (57.4.0)\n",
            "Requirement already satisfied: cymem<2.1.0,>=2.0.2 in /usr/local/lib/python3.7/dist-packages (from spacy<3.0.0->texthero) (2.0.6)\n",
            "Requirement already satisfied: importlib-metadata>=0.20 in /usr/local/lib/python3.7/dist-packages (from catalogue<1.1.0,>=0.0.7->spacy<3.0.0->texthero) (4.11.3)\n",
            "Requirement already satisfied: zipp>=0.5 in /usr/local/lib/python3.7/dist-packages (from importlib-metadata>=0.20->catalogue<1.1.0,>=0.0.7->spacy<3.0.0->texthero) (3.8.0)\n",
            "Requirement already satisfied: idna<3,>=2.5 in /usr/local/lib/python3.7/dist-packages (from requests<3.0.0,>=2.13.0->spacy<3.0.0->texthero) (2.10)\n",
            "Requirement already satisfied: chardet<4,>=3.0.2 in /usr/local/lib/python3.7/dist-packages (from requests<3.0.0,>=2.13.0->spacy<3.0.0->texthero) (3.0.4)\n",
            "Requirement already satisfied: certifi>=2017.4.17 in /usr/local/lib/python3.7/dist-packages (from requests<3.0.0,>=2.13.0->spacy<3.0.0->texthero) (2021.10.8)\n",
            "Requirement already satisfied: urllib3!=1.25.0,!=1.25.1,<1.26,>=1.21.1 in /usr/local/lib/python3.7/dist-packages (from requests<3.0.0,>=2.13.0->spacy<3.0.0->texthero) (1.24.3)\n",
            "Requirement already satisfied: pillow in /usr/local/lib/python3.7/dist-packages (from wordcloud>=1.5.0->texthero) (7.1.2)\n"
          ]
        }
      ],
      "source": [
        "!pip install texthero"
      ]
    },
    {
      "cell_type": "code",
      "execution_count": 2,
      "metadata": {
        "_kg_hide-input": true,
        "_kg_hide-output": true,
        "collapsed": true,
        "execution": {
          "iopub.execute_input": "2020-12-10T17:19:18.325308Z",
          "iopub.status.busy": "2020-12-10T17:19:18.321734Z",
          "iopub.status.idle": "2020-12-10T17:19:40.484000Z",
          "shell.execute_reply": "2020-12-10T17:19:40.484566Z"
        },
        "papermill": {
          "duration": 22.302718,
          "end_time": "2020-12-10T17:19:40.484726",
          "exception": false,
          "start_time": "2020-12-10T17:19:18.182008",
          "status": "completed"
        },
        "tags": [],
        "colab": {
          "base_uri": "https://localhost:8080/"
        },
        "id": "CJ_USTfTQagP",
        "outputId": "da77fc74-9232-4843-abde-1e2d0ca3e8fd"
      },
      "outputs": [
        {
          "output_type": "stream",
          "name": "stdout",
          "text": [
            "Requirement already satisfied: jupyter_dash in /usr/local/lib/python3.7/dist-packages (0.4.2)\n",
            "Requirement already satisfied: flask in /usr/local/lib/python3.7/dist-packages (from jupyter_dash) (1.1.4)\n",
            "Requirement already satisfied: ansi2html in /usr/local/lib/python3.7/dist-packages (from jupyter_dash) (1.7.0)\n",
            "Requirement already satisfied: dash in /usr/local/lib/python3.7/dist-packages (from jupyter_dash) (2.3.1)\n",
            "Requirement already satisfied: requests in /usr/local/lib/python3.7/dist-packages (from jupyter_dash) (2.23.0)\n",
            "Requirement already satisfied: nest-asyncio in /usr/local/lib/python3.7/dist-packages (from jupyter_dash) (1.5.5)\n",
            "Requirement already satisfied: ipykernel in /usr/local/lib/python3.7/dist-packages (from jupyter_dash) (4.10.1)\n",
            "Requirement already satisfied: retrying in /usr/local/lib/python3.7/dist-packages (from jupyter_dash) (1.3.3)\n",
            "Requirement already satisfied: ipython in /usr/local/lib/python3.7/dist-packages (from jupyter_dash) (5.5.0)\n",
            "Requirement already satisfied: importlib-metadata in /usr/local/lib/python3.7/dist-packages (from ansi2html->jupyter_dash) (4.11.3)\n",
            "Requirement already satisfied: dash-html-components==2.0.0 in /usr/local/lib/python3.7/dist-packages (from dash->jupyter_dash) (2.0.0)\n",
            "Requirement already satisfied: plotly>=5.0.0 in /usr/local/lib/python3.7/dist-packages (from dash->jupyter_dash) (5.5.0)\n",
            "Requirement already satisfied: dash-table==5.0.0 in /usr/local/lib/python3.7/dist-packages (from dash->jupyter_dash) (5.0.0)\n",
            "Requirement already satisfied: dash-core-components==2.0.0 in /usr/local/lib/python3.7/dist-packages (from dash->jupyter_dash) (2.0.0)\n",
            "Requirement already satisfied: flask-compress in /usr/local/lib/python3.7/dist-packages (from dash->jupyter_dash) (1.12)\n",
            "Requirement already satisfied: Werkzeug<2.0,>=0.15 in /usr/local/lib/python3.7/dist-packages (from flask->jupyter_dash) (1.0.1)\n",
            "Requirement already satisfied: click<8.0,>=5.1 in /usr/local/lib/python3.7/dist-packages (from flask->jupyter_dash) (7.1.2)\n",
            "Requirement already satisfied: itsdangerous<2.0,>=0.24 in /usr/local/lib/python3.7/dist-packages (from flask->jupyter_dash) (1.1.0)\n",
            "Requirement already satisfied: Jinja2<3.0,>=2.10.1 in /usr/local/lib/python3.7/dist-packages (from flask->jupyter_dash) (2.11.3)\n",
            "Requirement already satisfied: MarkupSafe>=0.23 in /usr/local/lib/python3.7/dist-packages (from Jinja2<3.0,>=2.10.1->flask->jupyter_dash) (2.0.1)\n",
            "Requirement already satisfied: tenacity>=6.2.0 in /usr/local/lib/python3.7/dist-packages (from plotly>=5.0.0->dash->jupyter_dash) (8.0.1)\n",
            "Requirement already satisfied: six in /usr/local/lib/python3.7/dist-packages (from plotly>=5.0.0->dash->jupyter_dash) (1.15.0)\n",
            "Requirement already satisfied: brotli in /usr/local/lib/python3.7/dist-packages (from flask-compress->dash->jupyter_dash) (1.0.9)\n",
            "Requirement already satisfied: zipp>=0.5 in /usr/local/lib/python3.7/dist-packages (from importlib-metadata->ansi2html->jupyter_dash) (3.8.0)\n",
            "Requirement already satisfied: typing-extensions>=3.6.4 in /usr/local/lib/python3.7/dist-packages (from importlib-metadata->ansi2html->jupyter_dash) (4.2.0)\n",
            "Requirement already satisfied: tornado>=4.0 in /usr/local/lib/python3.7/dist-packages (from ipykernel->jupyter_dash) (5.1.1)\n",
            "Requirement already satisfied: jupyter-client in /usr/local/lib/python3.7/dist-packages (from ipykernel->jupyter_dash) (5.3.5)\n",
            "Requirement already satisfied: traitlets>=4.1.0 in /usr/local/lib/python3.7/dist-packages (from ipykernel->jupyter_dash) (5.1.1)\n",
            "Requirement already satisfied: setuptools>=18.5 in /usr/local/lib/python3.7/dist-packages (from ipython->jupyter_dash) (57.4.0)\n",
            "Requirement already satisfied: decorator in /usr/local/lib/python3.7/dist-packages (from ipython->jupyter_dash) (4.4.2)\n",
            "Requirement already satisfied: pexpect in /usr/local/lib/python3.7/dist-packages (from ipython->jupyter_dash) (4.8.0)\n",
            "Requirement already satisfied: pickleshare in /usr/local/lib/python3.7/dist-packages (from ipython->jupyter_dash) (0.7.5)\n",
            "Requirement already satisfied: simplegeneric>0.8 in /usr/local/lib/python3.7/dist-packages (from ipython->jupyter_dash) (0.8.1)\n",
            "Requirement already satisfied: prompt-toolkit<2.0.0,>=1.0.4 in /usr/local/lib/python3.7/dist-packages (from ipython->jupyter_dash) (1.0.18)\n",
            "Requirement already satisfied: pygments in /usr/local/lib/python3.7/dist-packages (from ipython->jupyter_dash) (2.6.1)\n",
            "Requirement already satisfied: wcwidth in /usr/local/lib/python3.7/dist-packages (from prompt-toolkit<2.0.0,>=1.0.4->ipython->jupyter_dash) (0.2.5)\n",
            "Requirement already satisfied: pyzmq>=13 in /usr/local/lib/python3.7/dist-packages (from jupyter-client->ipykernel->jupyter_dash) (22.3.0)\n",
            "Requirement already satisfied: jupyter-core>=4.6.0 in /usr/local/lib/python3.7/dist-packages (from jupyter-client->ipykernel->jupyter_dash) (4.10.0)\n",
            "Requirement already satisfied: python-dateutil>=2.1 in /usr/local/lib/python3.7/dist-packages (from jupyter-client->ipykernel->jupyter_dash) (2.8.2)\n",
            "Requirement already satisfied: ptyprocess>=0.5 in /usr/local/lib/python3.7/dist-packages (from pexpect->ipython->jupyter_dash) (0.7.0)\n",
            "Requirement already satisfied: certifi>=2017.4.17 in /usr/local/lib/python3.7/dist-packages (from requests->jupyter_dash) (2021.10.8)\n",
            "Requirement already satisfied: urllib3!=1.25.0,!=1.25.1,<1.26,>=1.21.1 in /usr/local/lib/python3.7/dist-packages (from requests->jupyter_dash) (1.24.3)\n",
            "Requirement already satisfied: chardet<4,>=3.0.2 in /usr/local/lib/python3.7/dist-packages (from requests->jupyter_dash) (3.0.4)\n",
            "Requirement already satisfied: idna<3,>=2.5 in /usr/local/lib/python3.7/dist-packages (from requests->jupyter_dash) (2.10)\n"
          ]
        }
      ],
      "source": [
        "!pip install jupyter_dash"
      ]
    },
    {
      "cell_type": "code",
      "execution_count": 3,
      "metadata": {
        "_cell_guid": "b1076dfc-b9ad-4769-8c92-a6c4dae69d19",
        "_kg_hide-input": false,
        "_uuid": "8f2839f25d086af736a60e9eeb907d3b93b6e0e5",
        "execution": {
          "iopub.execute_input": "2020-12-10T17:19:40.811844Z",
          "iopub.status.busy": "2020-12-10T17:19:40.809074Z",
          "iopub.status.idle": "2020-12-10T17:19:46.550770Z",
          "shell.execute_reply": "2020-12-10T17:19:46.550126Z"
        },
        "papermill": {
          "duration": 5.909571,
          "end_time": "2020-12-10T17:19:46.550893",
          "exception": false,
          "start_time": "2020-12-10T17:19:40.641322",
          "status": "completed"
        },
        "tags": [],
        "id": "LVDEMwPxQagQ"
      },
      "outputs": [],
      "source": [
        "# Basic libraries\n",
        "\n",
        "import numpy as np # linear algebra\n",
        "import pandas as pd # data processing, CSV file I/O (e.g. pd.read_csv)\n",
        "import datetime as dt\n",
        "from scipy import stats\n",
        "import json\n",
        "\n",
        "# NLP libraries\n",
        "import texthero as hero\n",
        "from nltk.tokenize import ToktokTokenizer\n",
        "\n",
        "# Data visualization libraries\n",
        "import plotly.express as px\n",
        "import plotly.graph_objects as go\n",
        "from plotly.subplots import make_subplots\n",
        "\n",
        "\n",
        "\n",
        "# Sklearn libraries\n",
        "from sklearn.feature_extraction.text import TfidfVectorizer\n",
        "from sklearn.model_selection import train_test_split\n",
        "from sklearn import model_selection\n",
        "\n",
        "from sklearn.dummy import DummyClassifier\n",
        "from sklearn.naive_bayes import MultinomialNB\n",
        "from sklearn.linear_model import SGDClassifier\n",
        "from sklearn.linear_model import LogisticRegression\n",
        "from sklearn.svm import LinearSVC\n",
        "from sklearn.linear_model import Perceptron\n",
        "from sklearn.linear_model import PassiveAggressiveClassifier\n",
        "from sklearn.neural_network import MLPClassifier\n",
        "from sklearn.ensemble import RandomForestClassifier\n",
        "\n",
        "from sklearn.metrics import accuracy_score\n",
        "from sklearn import preprocessing\n",
        "from xgboost import XGBClassifier\n",
        "from xgboost import plot_importance\n",
        "\n"
      ]
    },
    {
      "cell_type": "code",
      "source": [
        "! pip install kaggle\n"
      ],
      "metadata": {
        "colab": {
          "base_uri": "https://localhost:8080/"
        },
        "id": "PkiPUecIRFbb",
        "outputId": "a86d2f09-4729-4f2e-ef67-29e4f2575368"
      },
      "execution_count": 4,
      "outputs": [
        {
          "output_type": "stream",
          "name": "stdout",
          "text": [
            "Requirement already satisfied: kaggle in /usr/local/lib/python3.7/dist-packages (1.5.12)\n",
            "Requirement already satisfied: urllib3 in /usr/local/lib/python3.7/dist-packages (from kaggle) (1.24.3)\n",
            "Requirement already satisfied: python-slugify in /usr/local/lib/python3.7/dist-packages (from kaggle) (6.1.2)\n",
            "Requirement already satisfied: tqdm in /usr/local/lib/python3.7/dist-packages (from kaggle) (4.64.0)\n",
            "Requirement already satisfied: certifi in /usr/local/lib/python3.7/dist-packages (from kaggle) (2021.10.8)\n",
            "Requirement already satisfied: six>=1.10 in /usr/local/lib/python3.7/dist-packages (from kaggle) (1.15.0)\n",
            "Requirement already satisfied: python-dateutil in /usr/local/lib/python3.7/dist-packages (from kaggle) (2.8.2)\n",
            "Requirement already satisfied: requests in /usr/local/lib/python3.7/dist-packages (from kaggle) (2.23.0)\n",
            "Requirement already satisfied: text-unidecode>=1.3 in /usr/local/lib/python3.7/dist-packages (from python-slugify->kaggle) (1.3)\n",
            "Requirement already satisfied: idna<3,>=2.5 in /usr/local/lib/python3.7/dist-packages (from requests->kaggle) (2.10)\n",
            "Requirement already satisfied: chardet<4,>=3.0.2 in /usr/local/lib/python3.7/dist-packages (from requests->kaggle) (3.0.4)\n"
          ]
        }
      ]
    },
    {
      "cell_type": "code",
      "source": [
        " ! mkdir ~/.kaggle\n"
      ],
      "metadata": {
        "colab": {
          "base_uri": "https://localhost:8080/"
        },
        "id": "IJnZOmRgRIEL",
        "outputId": "e89cd37b-5d29-4e1f-ac5d-d4310d988dc0"
      },
      "execution_count": 5,
      "outputs": [
        {
          "output_type": "stream",
          "name": "stdout",
          "text": [
            "mkdir: cannot create directory ‘/root/.kaggle’: File exists\n"
          ]
        }
      ]
    },
    {
      "cell_type": "code",
      "source": [
        "! cp kaggle.json ~/.kaggle/\n",
        "\n"
      ],
      "metadata": {
        "id": "WAukzsVbSr77"
      },
      "execution_count": 6,
      "outputs": []
    },
    {
      "cell_type": "code",
      "source": [
        "! chmod 600 ~/.kaggle/kaggle.json\n"
      ],
      "metadata": {
        "id": "_NVoDO0_RWVa"
      },
      "execution_count": 7,
      "outputs": []
    },
    {
      "cell_type": "code",
      "source": [
        "! kaggle datasets download mashlyn/online-retail-ii-uci\n"
      ],
      "metadata": {
        "colab": {
          "base_uri": "https://localhost:8080/"
        },
        "id": "ozFJZkrtRid6",
        "outputId": "d14230d6-c7ab-4383-b70d-7298ecb9ba34"
      },
      "execution_count": 8,
      "outputs": [
        {
          "output_type": "stream",
          "name": "stdout",
          "text": [
            "online-retail-ii-uci.zip: Skipping, found more recently modified local copy (use --force to force download)\n"
          ]
        }
      ]
    },
    {
      "cell_type": "code",
      "source": [
        "!unzip /content/online-retail-ii-uci.zip\n"
      ],
      "metadata": {
        "colab": {
          "base_uri": "https://localhost:8080/"
        },
        "id": "2nCQplmTS24S",
        "outputId": "a220f292-e904-4029-910f-26e02fa4c29f"
      },
      "execution_count": 9,
      "outputs": [
        {
          "output_type": "stream",
          "name": "stdout",
          "text": [
            "Archive:  /content/online-retail-ii-uci.zip\n",
            "replace online_retail_II.csv? [y]es, [n]o, [A]ll, [N]one, [r]ename: y\n",
            "  inflating: online_retail_II.csv    \n"
          ]
        }
      ]
    },
    {
      "cell_type": "code",
      "execution_count": 10,
      "metadata": {
        "_cell_guid": "79c7e3d0-c299-4dcb-8224-4455121ee9b0",
        "_kg_hide-input": false,
        "_uuid": "d629ff2d2480ee46fbb7e2d37f6b5fab8052498a",
        "execution": {
          "iopub.execute_input": "2020-12-10T17:19:46.877125Z",
          "iopub.status.busy": "2020-12-10T17:19:46.876385Z",
          "iopub.status.idle": "2020-12-10T17:19:49.900405Z",
          "shell.execute_reply": "2020-12-10T17:19:49.899674Z"
        },
        "papermill": {
          "duration": 3.192466,
          "end_time": "2020-12-10T17:19:49.900530",
          "exception": false,
          "start_time": "2020-12-10T17:19:46.708064",
          "status": "completed"
        },
        "tags": [],
        "id": "qDXwlZZ9QagS"
      },
      "outputs": [],
      "source": [
        "\n",
        "df = pd.read_csv('/content/online_retail_II.csv',encoding= 'unicode_escape')"
      ]
    },
    {
      "cell_type": "markdown",
      "metadata": {
        "papermill": {
          "duration": 0.156836,
          "end_time": "2020-12-10T17:19:50.218780",
          "exception": false,
          "start_time": "2020-12-10T17:19:50.061944",
          "status": "completed"
        },
        "tags": [],
        "id": "VFbmnJNFQagT"
      },
      "source": [
        "***"
      ]
    },
    {
      "cell_type": "markdown",
      "metadata": {
        "papermill": {
          "duration": 0.156814,
          "end_time": "2020-12-10T17:19:50.533212",
          "exception": false,
          "start_time": "2020-12-10T17:19:50.376398",
          "status": "completed"
        },
        "tags": [],
        "id": "BL04WVH5QagU"
      },
      "source": [
        "<h1 id=\"clean\" style=\"font-family:verdana;\"> \n",
        "    <center>1. Cleaning Data \n",
        "        <a class=\"anchor-link\" href=\"https://www.kaggle.com/miljan/product-tagging-for-e-commerce-work-in-progress/#clean\">¶</a>\n",
        "    </center>\n",
        "</h1>"
      ]
    },
    {
      "cell_type": "markdown",
      "metadata": {
        "papermill": {
          "duration": 0.157322,
          "end_time": "2020-12-10T17:19:50.847932",
          "exception": false,
          "start_time": "2020-12-10T17:19:50.690610",
          "status": "completed"
        },
        "tags": [],
        "id": "TJTJEt2PQage"
      },
      "source": [
        "> <h2 id=\"missing\" style=\"font-family:verdana;\"> \n",
        ">          1.1 Missing data \n",
        ">         <a class=\"anchor-link\" href=\"https://www.kaggle.com/miljan/product-tagging-for-e-commerce-work-in-progress/#missing\">¶</a>\n",
        "> \n",
        "</h2>"
      ]
    },
    {
      "cell_type": "markdown",
      "metadata": {
        "papermill": {
          "duration": 0.157951,
          "end_time": "2020-12-10T17:19:51.172586",
          "exception": false,
          "start_time": "2020-12-10T17:19:51.014635",
          "status": "completed"
        },
        "tags": [],
        "id": "8eejYU5xQagf"
      },
      "source": [
        "<p style=\"font-size:15px; font-family:verdana; line-height: 1.7em\"> After an exploratory analysis of the dataset, it appears that <span style=\"color:crimson;\"> 22% </span>of the customer ids are missing which is very problematic since I want to do a <span style=\"color:crimson;\"> Customer </span> Segmentation later. I've tried looking at the invoice number or date without success. It's a shame that we have to lose 22% of the data but we don't have a choice."
      ]
    },
    {
      "cell_type": "code",
      "execution_count": 11,
      "metadata": {
        "execution": {
          "iopub.execute_input": "2020-12-10T17:19:51.507022Z",
          "iopub.status.busy": "2020-12-10T17:19:51.506358Z",
          "iopub.status.idle": "2020-12-10T17:19:51.626591Z",
          "shell.execute_reply": "2020-12-10T17:19:51.625880Z"
        },
        "papermill": {
          "duration": 0.29302,
          "end_time": "2020-12-10T17:19:51.626711",
          "exception": false,
          "start_time": "2020-12-10T17:19:51.333691",
          "status": "completed"
        },
        "tags": [],
        "id": "gS0lcWT_Qagg"
      },
      "outputs": [],
      "source": [
        "df = df.dropna(subset=[\"Customer ID\"])"
      ]
    },
    {
      "cell_type": "markdown",
      "metadata": {
        "papermill": {
          "duration": 0.158785,
          "end_time": "2020-12-10T17:19:51.944066",
          "exception": false,
          "start_time": "2020-12-10T17:19:51.785281",
          "status": "completed"
        },
        "tags": [],
        "id": "jJgEKVKhQagg"
      },
      "source": [
        "<h2 id=\"duplicates\" style=\"font-family:verdana;\"> \n",
        "         1.2 Duplicate values\n",
        "        <a class=\"anchor-link\" href=\"https://www.kaggle.com/miljan/product-tagging-for-e-commerce-work-in-progress/#duplicates\">¶</a>\n",
        "\n",
        "</h2>"
      ]
    },
    {
      "cell_type": "code",
      "execution_count": 12,
      "metadata": {
        "execution": {
          "iopub.execute_input": "2020-12-10T17:19:52.287321Z",
          "iopub.status.busy": "2020-12-10T17:19:52.286310Z",
          "iopub.status.idle": "2020-12-10T17:19:53.459062Z",
          "shell.execute_reply": "2020-12-10T17:19:53.458344Z"
        },
        "papermill": {
          "duration": 1.35442,
          "end_time": "2020-12-10T17:19:53.459198",
          "exception": false,
          "start_time": "2020-12-10T17:19:52.104778",
          "status": "completed"
        },
        "tags": [],
        "colab": {
          "base_uri": "https://localhost:8080/"
        },
        "id": "0b6VgO0qQagh",
        "outputId": "23bd3c40-e377-46da-b670-7b9f44095c2f"
      },
      "outputs": [
        {
          "output_type": "stream",
          "name": "stdout",
          "text": [
            "Duplicate entries: 26479\n"
          ]
        }
      ],
      "source": [
        "print('Duplicate entries: {}'.format(df.duplicated().sum()))\n",
        "df.drop_duplicates(inplace = True)"
      ]
    },
    {
      "cell_type": "markdown",
      "metadata": {
        "papermill": {
          "duration": 0.157894,
          "end_time": "2020-12-10T17:19:53.776684",
          "exception": false,
          "start_time": "2020-12-10T17:19:53.618790",
          "status": "completed"
        },
        "tags": [],
        "id": "yIzDys98Qagh"
      },
      "source": [
        "<br><br>\n",
        "<div class=\"alert alert-block alert-info\" style=\"font-size:15px; font-family:verdana; line-height: 1.7em\">\n",
        "     <b>Since duplicates values aren't following one another in the dataset, I could think that the customer added the same product in his basket several times without updating the quantity. The choice is here also hard to make. But, by trying this experiment on a few websites, it seems that the quantity is always updated when you add the same product. So I'll consider them as duplicates even though this data is from 2010.</b><br><br>\n",
        "</div>"
      ]
    },
    {
      "cell_type": "markdown",
      "metadata": {
        "papermill": {
          "duration": 0.15904,
          "end_time": "2020-12-10T17:19:54.092620",
          "exception": false,
          "start_time": "2020-12-10T17:19:53.933580",
          "status": "completed"
        },
        "tags": [],
        "id": "dCijwTlQQagi"
      },
      "source": [
        "<h2 id=\"dupplicates\" style=\"font-family:verdana;\"> \n",
        "         1.3 Stock Code\n",
        "        <a class=\"anchor-link\" href=\"https://www.kaggle.com/miljan/product-tagging-for-e-commerce-work-in-progress/#dupplicates\">¶</a>\n",
        "\n",
        "</h2>"
      ]
    },
    {
      "cell_type": "markdown",
      "metadata": {
        "papermill": {
          "duration": 0.155673,
          "end_time": "2020-12-10T17:19:54.404074",
          "exception": false,
          "start_time": "2020-12-10T17:19:54.248401",
          "status": "completed"
        },
        "tags": [],
        "id": "epkqM-fjQagi"
      },
      "source": [
        "<br><br>\n",
        "<div class=\"alert alert-block alert-info\" style=\"font-size:15px; font-family:verdana; line-height: 1.7em\">\n",
        "     <b> In this dataset, there are several specific transactions which aren't products. For example, we can have a line with 'Discount' as a description. This probably means that the customer had a discount during his purchase. Before deleting lines that aren't product, I'll create 2 features : discount and postage in which I'll store different discounts and postage customers had.</b><br><br>\n",
        "</div>"
      ]
    },
    {
      "cell_type": "code",
      "execution_count": 13,
      "metadata": {
        "execution": {
          "iopub.execute_input": "2020-12-10T17:19:54.726982Z",
          "iopub.status.busy": "2020-12-10T17:19:54.726297Z",
          "iopub.status.idle": "2020-12-10T17:20:15.540042Z",
          "shell.execute_reply": "2020-12-10T17:20:15.539407Z"
        },
        "papermill": {
          "duration": 20.97875,
          "end_time": "2020-12-10T17:20:15.540171",
          "exception": false,
          "start_time": "2020-12-10T17:19:54.561421",
          "status": "completed"
        },
        "tags": [],
        "id": "Clr4izi1Qagj"
      },
      "outputs": [],
      "source": [
        "df['Discount'] = 0\n",
        "for index, col in  df[df['StockCode']=='D'].iterrows():\n",
        "    invoice = col['Invoice']\n",
        "    price = col['Price']\n",
        "    \n",
        "    df.loc[(df.Invoice == invoice), 'Discount'] = price\n",
        "    "
      ]
    },
    {
      "cell_type": "code",
      "execution_count": 14,
      "metadata": {
        "execution": {
          "iopub.execute_input": "2020-12-10T17:20:15.861778Z",
          "iopub.status.busy": "2020-12-10T17:20:15.860718Z",
          "iopub.status.idle": "2020-12-10T17:24:38.900877Z",
          "shell.execute_reply": "2020-12-10T17:24:38.899616Z"
        },
        "papermill": {
          "duration": 263.203657,
          "end_time": "2020-12-10T17:24:38.901019",
          "exception": false,
          "start_time": "2020-12-10T17:20:15.697362",
          "status": "completed"
        },
        "tags": [],
        "id": "I_gXAFIGQagj"
      },
      "outputs": [],
      "source": [
        "df['Postage'] = 0\n",
        "for index, col in  df[df['StockCode']=='POST'].iterrows():\n",
        "    invoice = col['Invoice']\n",
        "    price = col['Price']\n",
        "    \n",
        "    df.loc[(df.Invoice == invoice), 'Postage'] = price\n",
        "    "
      ]
    },
    {
      "cell_type": "code",
      "execution_count": 15,
      "metadata": {
        "execution": {
          "iopub.execute_input": "2020-12-10T17:24:39.310418Z",
          "iopub.status.busy": "2020-12-10T17:24:39.309160Z",
          "iopub.status.idle": "2020-12-10T17:24:39.978265Z",
          "shell.execute_reply": "2020-12-10T17:24:39.977453Z"
        },
        "papermill": {
          "duration": 0.916997,
          "end_time": "2020-12-10T17:24:39.978396",
          "exception": false,
          "start_time": "2020-12-10T17:24:39.061399",
          "status": "completed"
        },
        "tags": [],
        "colab": {
          "base_uri": "https://localhost:8080/"
        },
        "id": "Y1R2Jy7yQagk",
        "outputId": "d3c8eea0-5b9e-4f63-b1cb-7e672f185206"
      },
      "outputs": [
        {
          "output_type": "execute_result",
          "data": {
            "text/plain": [
              "array(['POST', 'D', 'M', 'C2', 'BANK CHARGES', 'TEST001', 'TEST002',\n",
              "       'PADS', 'ADJUST', 'ADJUST2', 'SP1002', 'DOT', 'CRUK'], dtype=object)"
            ]
          },
          "metadata": {},
          "execution_count": 15
        }
      ],
      "source": [
        "list_special_codes = df[df['StockCode'].str.contains('^[a-zA-Z]+', regex=True)]['StockCode'].unique()\n",
        "list_special_codes "
      ]
    },
    {
      "cell_type": "code",
      "execution_count": 16,
      "metadata": {
        "execution": {
          "iopub.execute_input": "2020-12-10T17:24:40.411759Z",
          "iopub.status.busy": "2020-12-10T17:24:40.411024Z",
          "iopub.status.idle": "2020-12-10T17:24:42.439614Z",
          "shell.execute_reply": "2020-12-10T17:24:42.440133Z"
        },
        "papermill": {
          "duration": 2.304765,
          "end_time": "2020-12-10T17:24:42.440324",
          "exception": false,
          "start_time": "2020-12-10T17:24:40.135559",
          "status": "completed"
        },
        "tags": [],
        "id": "NEtU7kNVQagk"
      },
      "outputs": [],
      "source": [
        "for code in list_special_codes : \n",
        "    df = df[df['StockCode']!= code]"
      ]
    },
    {
      "cell_type": "markdown",
      "metadata": {
        "papermill": {
          "duration": 0.161508,
          "end_time": "2020-12-10T17:24:42.759524",
          "exception": false,
          "start_time": "2020-12-10T17:24:42.598016",
          "status": "completed"
        },
        "tags": [],
        "id": "7CHQfjjKQagl"
      },
      "source": [
        "<h2 id=\"canceled\" style=\"font-family:verdana;\"> \n",
        "         1.4 Canceled Orders\n",
        "        <a class=\"anchor-link\" href=\"https://www.kaggle.com/miljan/product-tagging-for-e-commerce-work-in-progress/#canceled\">¶</a>\n",
        "\n",
        "</h2>"
      ]
    },
    {
      "cell_type": "code",
      "source": [
        "df_cleaned = df.copy(deep = True)\n"
      ],
      "metadata": {
        "id": "R3s2n4NxbtVK"
      },
      "execution_count": 17,
      "outputs": []
    },
    {
      "cell_type": "code",
      "execution_count": 18,
      "metadata": {
        "execution": {
          "iopub.execute_input": "2020-12-10T17:24:43.111932Z",
          "iopub.status.busy": "2020-12-10T17:24:43.111195Z",
          "iopub.status.idle": "2020-12-10T18:38:17.810234Z",
          "shell.execute_reply": "2020-12-10T18:38:17.809120Z"
        },
        "papermill": {
          "duration": 4414.887284,
          "end_time": "2020-12-10T18:38:17.810477",
          "exception": false,
          "start_time": "2020-12-10T17:24:42.923193",
          "status": "completed"
        },
        "tags": [],
        "id": "G43jPkhZQagl"
      },
      "outputs": [],
      "source": [
        "\n",
        "df_cleaned = df.copy(deep = True)\n",
        "df_cleaned['QuantityCanceled'] = 0\n",
        "\n",
        "entry_to_remove = [] ; doubtfull_entry = []\n",
        "\n",
        "for index, col in  df.iterrows():\n",
        "    if (col['Quantity'] > 0) or col['Description'] == 'Discount': continue        \n",
        "    df_test = df[(df['Customer ID'] == col['Customer ID']) &\n",
        "                         (df['StockCode']  == col['StockCode']) & \n",
        "                         (df['InvoiceDate'] < col['InvoiceDate']) & \n",
        "                         (df['Quantity']   > 0)].copy()\n",
        "    #_________________________________\n",
        "    # Cancelation WITHOUT counterpart\n",
        "    if (df_test.shape[0] == 0): \n",
        "        doubtfull_entry.append(index)\n",
        "    #________________________________\n",
        "    # Cancelation WITH a counterpart\n",
        "    elif (df_test.shape[0] == 1): \n",
        "        index_order = df_test.index[0]\n",
        "        df_cleaned.loc[index_order, 'QuantityCanceled'] = -col['Quantity']\n",
        "        entry_to_remove.append(index)        \n",
        "    #______________________________________________________________\n",
        "    # Various counterparts exist in orders: we delete the last one\n",
        "    elif (df_test.shape[0] > 1): \n",
        "        df_test.sort_index(axis=0 ,ascending=False, inplace = True)        \n",
        "        for ind, val in df_test.iterrows():\n",
        "            if val['Quantity'] < -col['Quantity']: continue\n",
        "            df_cleaned.loc[ind, 'QuantityCanceled'] = -col['Quantity']\n",
        "            entry_to_remove.append(index) \n",
        "            break    "
      ]
    },
    {
      "cell_type": "code",
      "execution_count": 19,
      "metadata": {
        "execution": {
          "iopub.execute_input": "2020-12-10T18:38:18.153820Z",
          "iopub.status.busy": "2020-12-10T18:38:18.151947Z",
          "iopub.status.idle": "2020-12-10T18:38:18.156448Z",
          "shell.execute_reply": "2020-12-10T18:38:18.155872Z"
        },
        "papermill": {
          "duration": 0.174503,
          "end_time": "2020-12-10T18:38:18.156564",
          "exception": false,
          "start_time": "2020-12-10T18:38:17.982061",
          "status": "completed"
        },
        "tags": [],
        "colab": {
          "base_uri": "https://localhost:8080/"
        },
        "id": "7-6azOztQagm",
        "outputId": "8b2de60b-ed34-4ec2-8a30-7769c7fd4234"
      },
      "outputs": [
        {
          "output_type": "stream",
          "name": "stdout",
          "text": [
            "entry_to_remove: 15942\n",
            "doubtfull_entry: 1532\n"
          ]
        }
      ],
      "source": [
        "print(\"entry_to_remove: {}\".format(len(entry_to_remove)))\n",
        "print(\"doubtfull_entry: {}\".format(len(doubtfull_entry)))"
      ]
    },
    {
      "cell_type": "code",
      "execution_count": 20,
      "metadata": {
        "execution": {
          "iopub.execute_input": "2020-12-10T18:38:18.508877Z",
          "iopub.status.busy": "2020-12-10T18:38:18.507068Z",
          "iopub.status.idle": "2020-12-10T18:38:18.874521Z",
          "shell.execute_reply": "2020-12-10T18:38:18.875061Z"
        },
        "papermill": {
          "duration": 0.552621,
          "end_time": "2020-12-10T18:38:18.875235",
          "exception": false,
          "start_time": "2020-12-10T18:38:18.322614",
          "status": "completed"
        },
        "tags": [],
        "colab": {
          "base_uri": "https://localhost:8080/",
          "height": 372
        },
        "id": "aL6PhXDFQagm",
        "outputId": "dfe623ff-c5ba-4505-85d1-80db8443518c"
      },
      "outputs": [
        {
          "output_type": "stream",
          "name": "stdout",
          "text": [
            "nb of entries to delete: 112\n"
          ]
        },
        {
          "output_type": "execute_result",
          "data": {
            "text/plain": [
              "       Invoice StockCode                        Description  Quantity  \\\n",
              "9324   C490133     21314      SMALL GLASS HEART TRINKET POT      -504   \n",
              "28066  C491728     22139  RETRO SPOT TEA SET CERAMIC 11 PC         -4   \n",
              "46326  C493689     79000                 MOROCCAN TEA GLASS       -18   \n",
              "47742  C493836     84050    PINK HEART SHAPE EGG FRYING PAN       -24   \n",
              "69168  C495516    72739C         DARK CHOCOLATE SCENTCANDLE       -13   \n",
              "\n",
              "               InvoiceDate  Price  Customer ID         Country  Discount  \\\n",
              "9324   2009-12-03 18:36:00   1.85      17949.0  United Kingdom       0.0   \n",
              "28066  2009-12-14 09:18:00   4.95      12471.0         Germany       0.0   \n",
              "46326  2010-01-05 12:45:00   0.85      14606.0  United Kingdom       0.0   \n",
              "47742  2010-01-07 13:49:00   1.65      12839.0  United Kingdom       0.0   \n",
              "69168  2010-01-25 14:26:00   1.25      13564.0  United Kingdom       0.0   \n",
              "\n",
              "       Postage  QuantityCanceled  \n",
              "9324       0.0                 0  \n",
              "28066      0.0                 0  \n",
              "46326      0.0                 0  \n",
              "47742      0.0                 0  \n",
              "69168      0.0                 0  "
            ],
            "text/html": [
              "\n",
              "  <div id=\"df-f8b3ade0-7aad-4d53-89d3-265c00a4a3d3\">\n",
              "    <div class=\"colab-df-container\">\n",
              "      <div>\n",
              "<style scoped>\n",
              "    .dataframe tbody tr th:only-of-type {\n",
              "        vertical-align: middle;\n",
              "    }\n",
              "\n",
              "    .dataframe tbody tr th {\n",
              "        vertical-align: top;\n",
              "    }\n",
              "\n",
              "    .dataframe thead th {\n",
              "        text-align: right;\n",
              "    }\n",
              "</style>\n",
              "<table border=\"1\" class=\"dataframe\">\n",
              "  <thead>\n",
              "    <tr style=\"text-align: right;\">\n",
              "      <th></th>\n",
              "      <th>Invoice</th>\n",
              "      <th>StockCode</th>\n",
              "      <th>Description</th>\n",
              "      <th>Quantity</th>\n",
              "      <th>InvoiceDate</th>\n",
              "      <th>Price</th>\n",
              "      <th>Customer ID</th>\n",
              "      <th>Country</th>\n",
              "      <th>Discount</th>\n",
              "      <th>Postage</th>\n",
              "      <th>QuantityCanceled</th>\n",
              "    </tr>\n",
              "  </thead>\n",
              "  <tbody>\n",
              "    <tr>\n",
              "      <th>9324</th>\n",
              "      <td>C490133</td>\n",
              "      <td>21314</td>\n",
              "      <td>SMALL GLASS HEART TRINKET POT</td>\n",
              "      <td>-504</td>\n",
              "      <td>2009-12-03 18:36:00</td>\n",
              "      <td>1.85</td>\n",
              "      <td>17949.0</td>\n",
              "      <td>United Kingdom</td>\n",
              "      <td>0.0</td>\n",
              "      <td>0.0</td>\n",
              "      <td>0</td>\n",
              "    </tr>\n",
              "    <tr>\n",
              "      <th>28066</th>\n",
              "      <td>C491728</td>\n",
              "      <td>22139</td>\n",
              "      <td>RETRO SPOT TEA SET CERAMIC 11 PC</td>\n",
              "      <td>-4</td>\n",
              "      <td>2009-12-14 09:18:00</td>\n",
              "      <td>4.95</td>\n",
              "      <td>12471.0</td>\n",
              "      <td>Germany</td>\n",
              "      <td>0.0</td>\n",
              "      <td>0.0</td>\n",
              "      <td>0</td>\n",
              "    </tr>\n",
              "    <tr>\n",
              "      <th>46326</th>\n",
              "      <td>C493689</td>\n",
              "      <td>79000</td>\n",
              "      <td>MOROCCAN TEA GLASS</td>\n",
              "      <td>-18</td>\n",
              "      <td>2010-01-05 12:45:00</td>\n",
              "      <td>0.85</td>\n",
              "      <td>14606.0</td>\n",
              "      <td>United Kingdom</td>\n",
              "      <td>0.0</td>\n",
              "      <td>0.0</td>\n",
              "      <td>0</td>\n",
              "    </tr>\n",
              "    <tr>\n",
              "      <th>47742</th>\n",
              "      <td>C493836</td>\n",
              "      <td>84050</td>\n",
              "      <td>PINK HEART SHAPE EGG FRYING PAN</td>\n",
              "      <td>-24</td>\n",
              "      <td>2010-01-07 13:49:00</td>\n",
              "      <td>1.65</td>\n",
              "      <td>12839.0</td>\n",
              "      <td>United Kingdom</td>\n",
              "      <td>0.0</td>\n",
              "      <td>0.0</td>\n",
              "      <td>0</td>\n",
              "    </tr>\n",
              "    <tr>\n",
              "      <th>69168</th>\n",
              "      <td>C495516</td>\n",
              "      <td>72739C</td>\n",
              "      <td>DARK CHOCOLATE SCENTCANDLE</td>\n",
              "      <td>-13</td>\n",
              "      <td>2010-01-25 14:26:00</td>\n",
              "      <td>1.25</td>\n",
              "      <td>13564.0</td>\n",
              "      <td>United Kingdom</td>\n",
              "      <td>0.0</td>\n",
              "      <td>0.0</td>\n",
              "      <td>0</td>\n",
              "    </tr>\n",
              "  </tbody>\n",
              "</table>\n",
              "</div>\n",
              "      <button class=\"colab-df-convert\" onclick=\"convertToInteractive('df-f8b3ade0-7aad-4d53-89d3-265c00a4a3d3')\"\n",
              "              title=\"Convert this dataframe to an interactive table.\"\n",
              "              style=\"display:none;\">\n",
              "        \n",
              "  <svg xmlns=\"http://www.w3.org/2000/svg\" height=\"24px\"viewBox=\"0 0 24 24\"\n",
              "       width=\"24px\">\n",
              "    <path d=\"M0 0h24v24H0V0z\" fill=\"none\"/>\n",
              "    <path d=\"M18.56 5.44l.94 2.06.94-2.06 2.06-.94-2.06-.94-.94-2.06-.94 2.06-2.06.94zm-11 1L8.5 8.5l.94-2.06 2.06-.94-2.06-.94L8.5 2.5l-.94 2.06-2.06.94zm10 10l.94 2.06.94-2.06 2.06-.94-2.06-.94-.94-2.06-.94 2.06-2.06.94z\"/><path d=\"M17.41 7.96l-1.37-1.37c-.4-.4-.92-.59-1.43-.59-.52 0-1.04.2-1.43.59L10.3 9.45l-7.72 7.72c-.78.78-.78 2.05 0 2.83L4 21.41c.39.39.9.59 1.41.59.51 0 1.02-.2 1.41-.59l7.78-7.78 2.81-2.81c.8-.78.8-2.07 0-2.86zM5.41 20L4 18.59l7.72-7.72 1.47 1.35L5.41 20z\"/>\n",
              "  </svg>\n",
              "      </button>\n",
              "      \n",
              "  <style>\n",
              "    .colab-df-container {\n",
              "      display:flex;\n",
              "      flex-wrap:wrap;\n",
              "      gap: 12px;\n",
              "    }\n",
              "\n",
              "    .colab-df-convert {\n",
              "      background-color: #E8F0FE;\n",
              "      border: none;\n",
              "      border-radius: 50%;\n",
              "      cursor: pointer;\n",
              "      display: none;\n",
              "      fill: #1967D2;\n",
              "      height: 32px;\n",
              "      padding: 0 0 0 0;\n",
              "      width: 32px;\n",
              "    }\n",
              "\n",
              "    .colab-df-convert:hover {\n",
              "      background-color: #E2EBFA;\n",
              "      box-shadow: 0px 1px 2px rgba(60, 64, 67, 0.3), 0px 1px 3px 1px rgba(60, 64, 67, 0.15);\n",
              "      fill: #174EA6;\n",
              "    }\n",
              "\n",
              "    [theme=dark] .colab-df-convert {\n",
              "      background-color: #3B4455;\n",
              "      fill: #D2E3FC;\n",
              "    }\n",
              "\n",
              "    [theme=dark] .colab-df-convert:hover {\n",
              "      background-color: #434B5C;\n",
              "      box-shadow: 0px 1px 3px 1px rgba(0, 0, 0, 0.15);\n",
              "      filter: drop-shadow(0px 1px 2px rgba(0, 0, 0, 0.3));\n",
              "      fill: #FFFFFF;\n",
              "    }\n",
              "  </style>\n",
              "\n",
              "      <script>\n",
              "        const buttonEl =\n",
              "          document.querySelector('#df-f8b3ade0-7aad-4d53-89d3-265c00a4a3d3 button.colab-df-convert');\n",
              "        buttonEl.style.display =\n",
              "          google.colab.kernel.accessAllowed ? 'block' : 'none';\n",
              "\n",
              "        async function convertToInteractive(key) {\n",
              "          const element = document.querySelector('#df-f8b3ade0-7aad-4d53-89d3-265c00a4a3d3');\n",
              "          const dataTable =\n",
              "            await google.colab.kernel.invokeFunction('convertToInteractive',\n",
              "                                                     [key], {});\n",
              "          if (!dataTable) return;\n",
              "\n",
              "          const docLinkHtml = 'Like what you see? Visit the ' +\n",
              "            '<a target=\"_blank\" href=https://colab.research.google.com/notebooks/data_table.ipynb>data table notebook</a>'\n",
              "            + ' to learn more about interactive tables.';\n",
              "          element.innerHTML = '';\n",
              "          dataTable['output_type'] = 'display_data';\n",
              "          await google.colab.output.renderOutput(dataTable, element);\n",
              "          const docLink = document.createElement('div');\n",
              "          docLink.innerHTML = docLinkHtml;\n",
              "          element.appendChild(docLink);\n",
              "        }\n",
              "      </script>\n",
              "    </div>\n",
              "  </div>\n",
              "  "
            ]
          },
          "metadata": {},
          "execution_count": 20
        }
      ],
      "source": [
        "df_cleaned.drop(entry_to_remove, axis = 0, inplace = True)\n",
        "df_cleaned.drop(doubtfull_entry, axis = 0, inplace = True)\n",
        "remaining_entries = df_cleaned[(df_cleaned['Quantity'] < 0) & (df_cleaned['StockCode'] != 'D')]\n",
        "print(\"nb of entries to delete: {}\".format(remaining_entries.shape[0]))\n",
        "remaining_entries[:5]"
      ]
    },
    {
      "cell_type": "code",
      "execution_count": 21,
      "metadata": {
        "execution": {
          "iopub.execute_input": "2020-12-10T18:38:19.218750Z",
          "iopub.status.busy": "2020-12-10T18:38:19.217899Z",
          "iopub.status.idle": "2020-12-10T18:38:19.303499Z",
          "shell.execute_reply": "2020-12-10T18:38:19.304087Z"
        },
        "papermill": {
          "duration": 0.257682,
          "end_time": "2020-12-10T18:38:19.304289",
          "exception": false,
          "start_time": "2020-12-10T18:38:19.046607",
          "status": "completed"
        },
        "tags": [],
        "id": "gf5RSUm7Qagn"
      },
      "outputs": [],
      "source": [
        "df_cleaned.drop(remaining_entries.index, axis = 0, inplace = True)"
      ]
    },
    {
      "cell_type": "markdown",
      "metadata": {
        "papermill": {
          "duration": 0.165278,
          "end_time": "2020-12-10T18:38:19.636779",
          "exception": false,
          "start_time": "2020-12-10T18:38:19.471501",
          "status": "completed"
        },
        "tags": [],
        "id": "KHGs6i21Qagn"
      },
      "source": [
        "***"
      ]
    },
    {
      "cell_type": "markdown",
      "metadata": {
        "papermill": {
          "duration": 0.160027,
          "end_time": "2020-12-10T18:38:19.955716",
          "exception": false,
          "start_time": "2020-12-10T18:38:19.795689",
          "status": "completed"
        },
        "tags": [],
        "id": "v7asmAjVQagn"
      },
      "source": [
        "<h1 id=\"products_tag\" style=\"font-family:verdana;\"> \n",
        "    <center>2. Product Tagging \n",
        "        <a class=\"anchor-link\" href=\"https://www.kaggle.com/miljan/product-tagging-for-e-commerce-work-in-progress/#products_tag\">¶</a>\n",
        "    </center>\n",
        "</h1>"
      ]
    },
    {
      "cell_type": "markdown",
      "metadata": {
        "papermill": {
          "duration": 0.168175,
          "end_time": "2020-12-10T18:38:20.290650",
          "exception": false,
          "start_time": "2020-12-10T18:38:20.122475",
          "status": "completed"
        },
        "tags": [],
        "id": "zMxqe9MJQago"
      },
      "source": [
        "<h2 id=\"desc_clean\" style=\"font-family:verdana;\"> \n",
        "         2.1 Cleaning the description\n",
        "        <a class=\"anchor-link\" href=\"https://www.kaggle.com/miljan/product-tagging-for-e-commerce-work-in-progress/#desc_clean\">¶</a>\n",
        "\n",
        "</h2>"
      ]
    },
    {
      "cell_type": "code",
      "execution_count": 22,
      "metadata": {
        "execution": {
          "iopub.execute_input": "2020-12-10T18:38:20.942402Z",
          "iopub.status.busy": "2020-12-10T18:38:20.941559Z",
          "iopub.status.idle": "2020-12-10T18:38:38.688366Z",
          "shell.execute_reply": "2020-12-10T18:38:38.687803Z"
        },
        "papermill": {
          "duration": 17.910175,
          "end_time": "2020-12-10T18:38:38.688494",
          "exception": false,
          "start_time": "2020-12-10T18:38:20.778319",
          "status": "completed"
        },
        "tags": [],
        "id": "ukSM9QJwQago"
      },
      "outputs": [],
      "source": [
        "product_df = df_cleaned.drop(columns=['StockCode', 'Invoice', 'Customer ID', 'Price', 'Quantity', 'InvoiceDate', 'Country'])\n",
        "product_df['Description'] = df['Description'].pipe(hero.clean)"
      ]
    },
    {
      "cell_type": "code",
      "execution_count": 23,
      "metadata": {
        "execution": {
          "iopub.execute_input": "2020-12-10T18:38:39.105343Z",
          "iopub.status.busy": "2020-12-10T18:38:39.103706Z",
          "iopub.status.idle": "2020-12-10T18:38:53.538032Z",
          "shell.execute_reply": "2020-12-10T18:38:53.537480Z"
        },
        "papermill": {
          "duration": 14.687151,
          "end_time": "2020-12-10T18:38:53.538156",
          "exception": false,
          "start_time": "2020-12-10T18:38:38.851005",
          "status": "completed"
        },
        "tags": [],
        "colab": {
          "base_uri": "https://localhost:8080/",
          "height": 542
        },
        "id": "EadeGsm9Qagp",
        "outputId": "acb93100-ccb7-4d83-997f-3ec25358830e"
      },
      "outputs": [
        {
          "output_type": "display_data",
          "data": {
            "text/html": [
              "<html>\n",
              "<head><meta charset=\"utf-8\" /></head>\n",
              "<body>\n",
              "    <div>            <script src=\"https://cdnjs.cloudflare.com/ajax/libs/mathjax/2.7.5/MathJax.js?config=TeX-AMS-MML_SVG\"></script><script type=\"text/javascript\">if (window.MathJax) {MathJax.Hub.Config({SVG: {font: \"STIX-Web\"}});}</script>                <script type=\"text/javascript\">window.PlotlyConfig = {MathJaxConfig: 'local'};</script>\n",
              "        <script src=\"https://cdn.plot.ly/plotly-2.8.3.min.js\"></script>                <div id=\"a9e44a1e-0f57-4765-ae53-d1cabe628082\" class=\"plotly-graph-div\" style=\"height:525px; width:100%;\"></div>            <script type=\"text/javascript\">                                    window.PLOTLYENV=window.PLOTLYENV || {};                                    if (document.getElementById(\"a9e44a1e-0f57-4765-ae53-d1cabe628082\")) {                    Plotly.newPlot(                        \"a9e44a1e-0f57-4765-ae53-d1cabe628082\",                        [{\"alignmentgroup\":\"True\",\"hovertemplate\":\"variable=Description<br>index=%{x}<br>value=%{y}<extra></extra>\",\"legendgroup\":\"Description\",\"marker\":{\"color\":\"#636efa\",\"pattern\":{\"shape\":\"\"}},\"name\":\"Description\",\"offsetgroup\":\"Description\",\"orientation\":\"v\",\"showlegend\":true,\"textposition\":\"auto\",\"x\":[\"set\",\"red\",\"bag\",\"heart\",\"pink\",\"retrospot\",\"vintage\",\"design\",\"white\",\"box\",\"metal\",\"cake\",\"christmas\",\"blue\",\"hanging\",\"light\",\"holder\",\"sign\",\"jumbo\",\"pack\",\"lunch\",\"paper\",\"small\",\"tea\",\"glass\",\"card\",\"wooden\",\"cases\",\"spotty\",\"decoration\",\"bottle\",\"hot\",\"water\",\"large\",\"ceramic\",\"spaceboy\",\"rose\",\"home\",\"paisley\",\"tin\"],\"xaxis\":\"x\",\"y\":[84314,69377,68327,58609,45516,43691,41653,41641,39120,37183,34804,34460,32872,30924,27877,27344,26949,26936,26570,24791,24216,23038,21700,19907,19137,18689,18609,18318,17735,16830,16667,16238,15814,15633,15395,14837,14001,13599,13456,13417],\"yaxis\":\"y\",\"type\":\"bar\"}],                        {\"template\":{\"data\":{\"bar\":[{\"error_x\":{\"color\":\"#2a3f5f\"},\"error_y\":{\"color\":\"#2a3f5f\"},\"marker\":{\"line\":{\"color\":\"#E5ECF6\",\"width\":0.5},\"pattern\":{\"fillmode\":\"overlay\",\"size\":10,\"solidity\":0.2}},\"type\":\"bar\"}],\"barpolar\":[{\"marker\":{\"line\":{\"color\":\"#E5ECF6\",\"width\":0.5},\"pattern\":{\"fillmode\":\"overlay\",\"size\":10,\"solidity\":0.2}},\"type\":\"barpolar\"}],\"carpet\":[{\"aaxis\":{\"endlinecolor\":\"#2a3f5f\",\"gridcolor\":\"white\",\"linecolor\":\"white\",\"minorgridcolor\":\"white\",\"startlinecolor\":\"#2a3f5f\"},\"baxis\":{\"endlinecolor\":\"#2a3f5f\",\"gridcolor\":\"white\",\"linecolor\":\"white\",\"minorgridcolor\":\"white\",\"startlinecolor\":\"#2a3f5f\"},\"type\":\"carpet\"}],\"choropleth\":[{\"colorbar\":{\"outlinewidth\":0,\"ticks\":\"\"},\"type\":\"choropleth\"}],\"contour\":[{\"colorbar\":{\"outlinewidth\":0,\"ticks\":\"\"},\"colorscale\":[[0.0,\"#0d0887\"],[0.1111111111111111,\"#46039f\"],[0.2222222222222222,\"#7201a8\"],[0.3333333333333333,\"#9c179e\"],[0.4444444444444444,\"#bd3786\"],[0.5555555555555556,\"#d8576b\"],[0.6666666666666666,\"#ed7953\"],[0.7777777777777778,\"#fb9f3a\"],[0.8888888888888888,\"#fdca26\"],[1.0,\"#f0f921\"]],\"type\":\"contour\"}],\"contourcarpet\":[{\"colorbar\":{\"outlinewidth\":0,\"ticks\":\"\"},\"type\":\"contourcarpet\"}],\"heatmap\":[{\"colorbar\":{\"outlinewidth\":0,\"ticks\":\"\"},\"colorscale\":[[0.0,\"#0d0887\"],[0.1111111111111111,\"#46039f\"],[0.2222222222222222,\"#7201a8\"],[0.3333333333333333,\"#9c179e\"],[0.4444444444444444,\"#bd3786\"],[0.5555555555555556,\"#d8576b\"],[0.6666666666666666,\"#ed7953\"],[0.7777777777777778,\"#fb9f3a\"],[0.8888888888888888,\"#fdca26\"],[1.0,\"#f0f921\"]],\"type\":\"heatmap\"}],\"heatmapgl\":[{\"colorbar\":{\"outlinewidth\":0,\"ticks\":\"\"},\"colorscale\":[[0.0,\"#0d0887\"],[0.1111111111111111,\"#46039f\"],[0.2222222222222222,\"#7201a8\"],[0.3333333333333333,\"#9c179e\"],[0.4444444444444444,\"#bd3786\"],[0.5555555555555556,\"#d8576b\"],[0.6666666666666666,\"#ed7953\"],[0.7777777777777778,\"#fb9f3a\"],[0.8888888888888888,\"#fdca26\"],[1.0,\"#f0f921\"]],\"type\":\"heatmapgl\"}],\"histogram\":[{\"marker\":{\"pattern\":{\"fillmode\":\"overlay\",\"size\":10,\"solidity\":0.2}},\"type\":\"histogram\"}],\"histogram2d\":[{\"colorbar\":{\"outlinewidth\":0,\"ticks\":\"\"},\"colorscale\":[[0.0,\"#0d0887\"],[0.1111111111111111,\"#46039f\"],[0.2222222222222222,\"#7201a8\"],[0.3333333333333333,\"#9c179e\"],[0.4444444444444444,\"#bd3786\"],[0.5555555555555556,\"#d8576b\"],[0.6666666666666666,\"#ed7953\"],[0.7777777777777778,\"#fb9f3a\"],[0.8888888888888888,\"#fdca26\"],[1.0,\"#f0f921\"]],\"type\":\"histogram2d\"}],\"histogram2dcontour\":[{\"colorbar\":{\"outlinewidth\":0,\"ticks\":\"\"},\"colorscale\":[[0.0,\"#0d0887\"],[0.1111111111111111,\"#46039f\"],[0.2222222222222222,\"#7201a8\"],[0.3333333333333333,\"#9c179e\"],[0.4444444444444444,\"#bd3786\"],[0.5555555555555556,\"#d8576b\"],[0.6666666666666666,\"#ed7953\"],[0.7777777777777778,\"#fb9f3a\"],[0.8888888888888888,\"#fdca26\"],[1.0,\"#f0f921\"]],\"type\":\"histogram2dcontour\"}],\"mesh3d\":[{\"colorbar\":{\"outlinewidth\":0,\"ticks\":\"\"},\"type\":\"mesh3d\"}],\"parcoords\":[{\"line\":{\"colorbar\":{\"outlinewidth\":0,\"ticks\":\"\"}},\"type\":\"parcoords\"}],\"pie\":[{\"automargin\":true,\"type\":\"pie\"}],\"scatter\":[{\"marker\":{\"colorbar\":{\"outlinewidth\":0,\"ticks\":\"\"}},\"type\":\"scatter\"}],\"scatter3d\":[{\"line\":{\"colorbar\":{\"outlinewidth\":0,\"ticks\":\"\"}},\"marker\":{\"colorbar\":{\"outlinewidth\":0,\"ticks\":\"\"}},\"type\":\"scatter3d\"}],\"scattercarpet\":[{\"marker\":{\"colorbar\":{\"outlinewidth\":0,\"ticks\":\"\"}},\"type\":\"scattercarpet\"}],\"scattergeo\":[{\"marker\":{\"colorbar\":{\"outlinewidth\":0,\"ticks\":\"\"}},\"type\":\"scattergeo\"}],\"scattergl\":[{\"marker\":{\"colorbar\":{\"outlinewidth\":0,\"ticks\":\"\"}},\"type\":\"scattergl\"}],\"scattermapbox\":[{\"marker\":{\"colorbar\":{\"outlinewidth\":0,\"ticks\":\"\"}},\"type\":\"scattermapbox\"}],\"scatterpolar\":[{\"marker\":{\"colorbar\":{\"outlinewidth\":0,\"ticks\":\"\"}},\"type\":\"scatterpolar\"}],\"scatterpolargl\":[{\"marker\":{\"colorbar\":{\"outlinewidth\":0,\"ticks\":\"\"}},\"type\":\"scatterpolargl\"}],\"scatterternary\":[{\"marker\":{\"colorbar\":{\"outlinewidth\":0,\"ticks\":\"\"}},\"type\":\"scatterternary\"}],\"surface\":[{\"colorbar\":{\"outlinewidth\":0,\"ticks\":\"\"},\"colorscale\":[[0.0,\"#0d0887\"],[0.1111111111111111,\"#46039f\"],[0.2222222222222222,\"#7201a8\"],[0.3333333333333333,\"#9c179e\"],[0.4444444444444444,\"#bd3786\"],[0.5555555555555556,\"#d8576b\"],[0.6666666666666666,\"#ed7953\"],[0.7777777777777778,\"#fb9f3a\"],[0.8888888888888888,\"#fdca26\"],[1.0,\"#f0f921\"]],\"type\":\"surface\"}],\"table\":[{\"cells\":{\"fill\":{\"color\":\"#EBF0F8\"},\"line\":{\"color\":\"white\"}},\"header\":{\"fill\":{\"color\":\"#C8D4E3\"},\"line\":{\"color\":\"white\"}},\"type\":\"table\"}]},\"layout\":{\"annotationdefaults\":{\"arrowcolor\":\"#2a3f5f\",\"arrowhead\":0,\"arrowwidth\":1},\"autotypenumbers\":\"strict\",\"coloraxis\":{\"colorbar\":{\"outlinewidth\":0,\"ticks\":\"\"}},\"colorscale\":{\"diverging\":[[0,\"#8e0152\"],[0.1,\"#c51b7d\"],[0.2,\"#de77ae\"],[0.3,\"#f1b6da\"],[0.4,\"#fde0ef\"],[0.5,\"#f7f7f7\"],[0.6,\"#e6f5d0\"],[0.7,\"#b8e186\"],[0.8,\"#7fbc41\"],[0.9,\"#4d9221\"],[1,\"#276419\"]],\"sequential\":[[0.0,\"#0d0887\"],[0.1111111111111111,\"#46039f\"],[0.2222222222222222,\"#7201a8\"],[0.3333333333333333,\"#9c179e\"],[0.4444444444444444,\"#bd3786\"],[0.5555555555555556,\"#d8576b\"],[0.6666666666666666,\"#ed7953\"],[0.7777777777777778,\"#fb9f3a\"],[0.8888888888888888,\"#fdca26\"],[1.0,\"#f0f921\"]],\"sequentialminus\":[[0.0,\"#0d0887\"],[0.1111111111111111,\"#46039f\"],[0.2222222222222222,\"#7201a8\"],[0.3333333333333333,\"#9c179e\"],[0.4444444444444444,\"#bd3786\"],[0.5555555555555556,\"#d8576b\"],[0.6666666666666666,\"#ed7953\"],[0.7777777777777778,\"#fb9f3a\"],[0.8888888888888888,\"#fdca26\"],[1.0,\"#f0f921\"]]},\"colorway\":[\"#636efa\",\"#EF553B\",\"#00cc96\",\"#ab63fa\",\"#FFA15A\",\"#19d3f3\",\"#FF6692\",\"#B6E880\",\"#FF97FF\",\"#FECB52\"],\"font\":{\"color\":\"#2a3f5f\"},\"geo\":{\"bgcolor\":\"white\",\"lakecolor\":\"white\",\"landcolor\":\"#E5ECF6\",\"showlakes\":true,\"showland\":true,\"subunitcolor\":\"white\"},\"hoverlabel\":{\"align\":\"left\"},\"hovermode\":\"closest\",\"mapbox\":{\"style\":\"light\"},\"paper_bgcolor\":\"white\",\"plot_bgcolor\":\"#E5ECF6\",\"polar\":{\"angularaxis\":{\"gridcolor\":\"white\",\"linecolor\":\"white\",\"ticks\":\"\"},\"bgcolor\":\"#E5ECF6\",\"radialaxis\":{\"gridcolor\":\"white\",\"linecolor\":\"white\",\"ticks\":\"\"}},\"scene\":{\"xaxis\":{\"backgroundcolor\":\"#E5ECF6\",\"gridcolor\":\"white\",\"gridwidth\":2,\"linecolor\":\"white\",\"showbackground\":true,\"ticks\":\"\",\"zerolinecolor\":\"white\"},\"yaxis\":{\"backgroundcolor\":\"#E5ECF6\",\"gridcolor\":\"white\",\"gridwidth\":2,\"linecolor\":\"white\",\"showbackground\":true,\"ticks\":\"\",\"zerolinecolor\":\"white\"},\"zaxis\":{\"backgroundcolor\":\"#E5ECF6\",\"gridcolor\":\"white\",\"gridwidth\":2,\"linecolor\":\"white\",\"showbackground\":true,\"ticks\":\"\",\"zerolinecolor\":\"white\"}},\"shapedefaults\":{\"line\":{\"color\":\"#2a3f5f\"}},\"ternary\":{\"aaxis\":{\"gridcolor\":\"white\",\"linecolor\":\"white\",\"ticks\":\"\"},\"baxis\":{\"gridcolor\":\"white\",\"linecolor\":\"white\",\"ticks\":\"\"},\"bgcolor\":\"#E5ECF6\",\"caxis\":{\"gridcolor\":\"white\",\"linecolor\":\"white\",\"ticks\":\"\"}},\"title\":{\"x\":0.05},\"xaxis\":{\"automargin\":true,\"gridcolor\":\"white\",\"linecolor\":\"white\",\"ticks\":\"\",\"title\":{\"standoff\":15},\"zerolinecolor\":\"white\",\"zerolinewidth\":2},\"yaxis\":{\"automargin\":true,\"gridcolor\":\"white\",\"linecolor\":\"white\",\"ticks\":\"\",\"title\":{\"standoff\":15},\"zerolinecolor\":\"white\",\"zerolinewidth\":2}}},\"xaxis\":{\"anchor\":\"y\",\"domain\":[0.0,1.0],\"title\":{\"text\":\"index\"}},\"yaxis\":{\"anchor\":\"x\",\"domain\":[0.0,1.0],\"title\":{\"text\":\"value\"}},\"legend\":{\"title\":{\"text\":\"variable\"},\"tracegroupgap\":0},\"margin\":{\"t\":60},\"barmode\":\"relative\"},                        {\"responsive\": true}                    ).then(function(){\n",
              "                            \n",
              "var gd = document.getElementById('a9e44a1e-0f57-4765-ae53-d1cabe628082');\n",
              "var x = new MutationObserver(function (mutations, observer) {{\n",
              "        var display = window.getComputedStyle(gd).display;\n",
              "        if (!display || display === 'none') {{\n",
              "            console.log([gd, 'removed!']);\n",
              "            Plotly.purge(gd);\n",
              "            observer.disconnect();\n",
              "        }}\n",
              "}});\n",
              "\n",
              "// Listen for the removal of the full notebook cells\n",
              "var notebookContainer = gd.closest('#notebook-container');\n",
              "if (notebookContainer) {{\n",
              "    x.observe(notebookContainer, {childList: true});\n",
              "}}\n",
              "\n",
              "// Listen for the clearing of the current output cell\n",
              "var outputEl = gd.closest('.output');\n",
              "if (outputEl) {{\n",
              "    x.observe(outputEl, {childList: true});\n",
              "}}\n",
              "\n",
              "                        })                };                            </script>        </div>\n",
              "</body>\n",
              "</html>"
            ]
          },
          "metadata": {}
        }
      ],
      "source": [
        "tw = hero.visualization.top_words(product_df['Description']).head(40)\n",
        "\n",
        "fig = px.bar(tw)\n",
        "fig.show()"
      ]
    },
    {
      "cell_type": "markdown",
      "metadata": {
        "papermill": {
          "duration": 0.160113,
          "end_time": "2020-12-10T18:38:54.186433",
          "exception": false,
          "start_time": "2020-12-10T18:38:54.026320",
          "status": "completed"
        },
        "tags": [],
        "id": "3FQZSojaQagp"
      },
      "source": [
        "<h2 id=\"prod_color\" style=\"font-family:verdana;\"> \n",
        "         2.2 Product's color \n",
        "        <a class=\"anchor-link\" href=\"https://www.kaggle.com/miljan/product-tagging-for-e-commerce-work-in-progress/#prod_color\">¶</a>\n",
        "\n",
        "</h2>"
      ]
    },
    {
      "cell_type": "code",
      "execution_count": 24,
      "metadata": {
        "execution": {
          "iopub.execute_input": "2020-12-10T18:38:54.511444Z",
          "iopub.status.busy": "2020-12-10T18:38:54.510335Z",
          "iopub.status.idle": "2020-12-10T18:38:54.513494Z",
          "shell.execute_reply": "2020-12-10T18:38:54.512894Z"
        },
        "papermill": {
          "duration": 0.167857,
          "end_time": "2020-12-10T18:38:54.513611",
          "exception": false,
          "start_time": "2020-12-10T18:38:54.345754",
          "status": "completed"
        },
        "tags": [],
        "id": "jT51NaZYQagq"
      },
      "outputs": [],
      "source": [
        "token = ToktokTokenizer()"
      ]
    },
    {
      "cell_type": "code",
      "execution_count": 25,
      "metadata": {
        "execution": {
          "iopub.execute_input": "2020-12-10T18:38:54.847561Z",
          "iopub.status.busy": "2020-12-10T18:38:54.846736Z",
          "iopub.status.idle": "2020-12-10T18:38:54.849150Z",
          "shell.execute_reply": "2020-12-10T18:38:54.849742Z"
        },
        "papermill": {
          "duration": 0.173537,
          "end_time": "2020-12-10T18:38:54.849888",
          "exception": false,
          "start_time": "2020-12-10T18:38:54.676351",
          "status": "completed"
        },
        "tags": [],
        "id": "3TiPgjTXQagq"
      },
      "outputs": [],
      "source": [
        "def TagExtractor(text, tags):\n",
        "    \n",
        "    words=token.tokenize(text)\n",
        "    \n",
        "    filtered = [w for w in words if  w in tags]\n",
        "    \n",
        "    return ' '.join(map(str, filtered))"
      ]
    },
    {
      "cell_type": "code",
      "execution_count": 26,
      "metadata": {
        "execution": {
          "iopub.execute_input": "2020-12-10T18:38:55.187684Z",
          "iopub.status.busy": "2020-12-10T18:38:55.186964Z",
          "iopub.status.idle": "2020-12-10T18:38:55.192321Z",
          "shell.execute_reply": "2020-12-10T18:38:55.192872Z"
        },
        "papermill": {
          "duration": 0.174236,
          "end_time": "2020-12-10T18:38:55.193020",
          "exception": false,
          "start_time": "2020-12-10T18:38:55.018784",
          "status": "completed"
        },
        "tags": [],
        "id": "6Cu-ukhoQagq"
      },
      "outputs": [],
      "source": [
        "\n",
        "def TagRemove(text, tags):\n",
        "    \n",
        "    words=token.tokenize(text)\n",
        "    \n",
        "    filtered = [w for w in words if not w in tags]\n",
        "    \n",
        "    return ' '.join(map(str, filtered))"
      ]
    },
    {
      "cell_type": "code",
      "execution_count": 27,
      "metadata": {
        "execution": {
          "iopub.execute_input": "2020-12-10T18:38:55.524634Z",
          "iopub.status.busy": "2020-12-10T18:38:55.523862Z",
          "iopub.status.idle": "2020-12-10T18:38:55.528458Z",
          "shell.execute_reply": "2020-12-10T18:38:55.529054Z"
        },
        "papermill": {
          "duration": 0.173739,
          "end_time": "2020-12-10T18:38:55.529250",
          "exception": false,
          "start_time": "2020-12-10T18:38:55.355511",
          "status": "completed"
        },
        "tags": [],
        "id": "OFDtu7ilQagr"
      },
      "outputs": [],
      "source": [
        "colors = ['black', 'blue', 'brown', 'gold', 'green', 'grey', 'orange', 'pink', 'purple', 'red', 'silver', 'white', 'yellow', 'ivory']"
      ]
    },
    {
      "cell_type": "code",
      "execution_count": 28,
      "metadata": {
        "execution": {
          "iopub.execute_input": "2020-12-10T18:38:55.914624Z",
          "iopub.status.busy": "2020-12-10T18:38:55.913882Z",
          "iopub.status.idle": "2020-12-10T18:39:38.083531Z",
          "shell.execute_reply": "2020-12-10T18:39:38.081904Z"
        },
        "papermill": {
          "duration": 42.337313,
          "end_time": "2020-12-10T18:39:38.083672",
          "exception": false,
          "start_time": "2020-12-10T18:38:55.746359",
          "status": "completed"
        },
        "tags": [],
        "id": "tM09cX29Qagr"
      },
      "outputs": [],
      "source": [
        "product_df['ProductColor'] = product_df['Description'].apply(lambda x: TagExtractor(x, colors)) "
      ]
    },
    {
      "cell_type": "code",
      "execution_count": 29,
      "metadata": {
        "execution": {
          "iopub.execute_input": "2020-12-10T18:39:38.422152Z",
          "iopub.status.busy": "2020-12-10T18:39:38.421444Z",
          "iopub.status.idle": "2020-12-10T18:40:20.848231Z",
          "shell.execute_reply": "2020-12-10T18:40:20.848739Z"
        },
        "papermill": {
          "duration": 42.600044,
          "end_time": "2020-12-10T18:40:20.848926",
          "exception": false,
          "start_time": "2020-12-10T18:39:38.248882",
          "status": "completed"
        },
        "tags": [],
        "id": "D4dhMIaDQags"
      },
      "outputs": [],
      "source": [
        " product_df['Description'] = product_df['Description'].apply(lambda x: TagRemove(x, colors)) "
      ]
    },
    {
      "cell_type": "code",
      "execution_count": 30,
      "metadata": {
        "execution": {
          "iopub.execute_input": "2020-12-10T18:40:21.198911Z",
          "iopub.status.busy": "2020-12-10T18:40:21.198255Z",
          "iopub.status.idle": "2020-12-10T18:40:27.288804Z",
          "shell.execute_reply": "2020-12-10T18:40:27.289492Z"
        },
        "papermill": {
          "duration": 6.260274,
          "end_time": "2020-12-10T18:40:27.289697",
          "exception": false,
          "start_time": "2020-12-10T18:40:21.029423",
          "status": "completed"
        },
        "tags": [],
        "id": "22vSBADcQags",
        "outputId": "9f7733f6-a81c-4669-c11a-a5098b115c37",
        "colab": {
          "base_uri": "https://localhost:8080/",
          "height": 542
        }
      },
      "outputs": [
        {
          "output_type": "display_data",
          "data": {
            "text/html": [
              "<html>\n",
              "<head><meta charset=\"utf-8\" /></head>\n",
              "<body>\n",
              "    <div>            <script src=\"https://cdnjs.cloudflare.com/ajax/libs/mathjax/2.7.5/MathJax.js?config=TeX-AMS-MML_SVG\"></script><script type=\"text/javascript\">if (window.MathJax) {MathJax.Hub.Config({SVG: {font: \"STIX-Web\"}});}</script>                <script type=\"text/javascript\">window.PlotlyConfig = {MathJaxConfig: 'local'};</script>\n",
              "        <script src=\"https://cdn.plot.ly/plotly-2.8.3.min.js\"></script>                <div id=\"6bf923a1-94f5-4a1c-a538-61cbba7febf5\" class=\"plotly-graph-div\" style=\"height:525px; width:100%;\"></div>            <script type=\"text/javascript\">                                    window.PLOTLYENV=window.PLOTLYENV || {};                                    if (document.getElementById(\"6bf923a1-94f5-4a1c-a538-61cbba7febf5\")) {                    Plotly.newPlot(                        \"6bf923a1-94f5-4a1c-a538-61cbba7febf5\",                        [{\"alignmentgroup\":\"True\",\"hovertemplate\":\"variable=ProductColor<br>index=%{x}<br>value=%{y}<extra></extra>\",\"legendgroup\":\"ProductColor\",\"marker\":{\"color\":\"#636efa\",\"pattern\":{\"shape\":\"\"}},\"name\":\"ProductColor\",\"offsetgroup\":\"ProductColor\",\"orientation\":\"v\",\"showlegend\":true,\"textposition\":\"auto\",\"x\":[\"red\",\"pink\",\"white\",\"blue\",\"black\",\"green\",\"ivory\",\"silver\",\"yellow\",\"purple\",\"grey\",\"gold\",\"brown\",\"orange\"],\"xaxis\":\"x\",\"y\":[69377,45516,39120,30924,12259,11014,10604,9738,3092,2052,1981,1935,1636,1533],\"yaxis\":\"y\",\"type\":\"bar\"}],                        {\"template\":{\"data\":{\"bar\":[{\"error_x\":{\"color\":\"#2a3f5f\"},\"error_y\":{\"color\":\"#2a3f5f\"},\"marker\":{\"line\":{\"color\":\"#E5ECF6\",\"width\":0.5},\"pattern\":{\"fillmode\":\"overlay\",\"size\":10,\"solidity\":0.2}},\"type\":\"bar\"}],\"barpolar\":[{\"marker\":{\"line\":{\"color\":\"#E5ECF6\",\"width\":0.5},\"pattern\":{\"fillmode\":\"overlay\",\"size\":10,\"solidity\":0.2}},\"type\":\"barpolar\"}],\"carpet\":[{\"aaxis\":{\"endlinecolor\":\"#2a3f5f\",\"gridcolor\":\"white\",\"linecolor\":\"white\",\"minorgridcolor\":\"white\",\"startlinecolor\":\"#2a3f5f\"},\"baxis\":{\"endlinecolor\":\"#2a3f5f\",\"gridcolor\":\"white\",\"linecolor\":\"white\",\"minorgridcolor\":\"white\",\"startlinecolor\":\"#2a3f5f\"},\"type\":\"carpet\"}],\"choropleth\":[{\"colorbar\":{\"outlinewidth\":0,\"ticks\":\"\"},\"type\":\"choropleth\"}],\"contour\":[{\"colorbar\":{\"outlinewidth\":0,\"ticks\":\"\"},\"colorscale\":[[0.0,\"#0d0887\"],[0.1111111111111111,\"#46039f\"],[0.2222222222222222,\"#7201a8\"],[0.3333333333333333,\"#9c179e\"],[0.4444444444444444,\"#bd3786\"],[0.5555555555555556,\"#d8576b\"],[0.6666666666666666,\"#ed7953\"],[0.7777777777777778,\"#fb9f3a\"],[0.8888888888888888,\"#fdca26\"],[1.0,\"#f0f921\"]],\"type\":\"contour\"}],\"contourcarpet\":[{\"colorbar\":{\"outlinewidth\":0,\"ticks\":\"\"},\"type\":\"contourcarpet\"}],\"heatmap\":[{\"colorbar\":{\"outlinewidth\":0,\"ticks\":\"\"},\"colorscale\":[[0.0,\"#0d0887\"],[0.1111111111111111,\"#46039f\"],[0.2222222222222222,\"#7201a8\"],[0.3333333333333333,\"#9c179e\"],[0.4444444444444444,\"#bd3786\"],[0.5555555555555556,\"#d8576b\"],[0.6666666666666666,\"#ed7953\"],[0.7777777777777778,\"#fb9f3a\"],[0.8888888888888888,\"#fdca26\"],[1.0,\"#f0f921\"]],\"type\":\"heatmap\"}],\"heatmapgl\":[{\"colorbar\":{\"outlinewidth\":0,\"ticks\":\"\"},\"colorscale\":[[0.0,\"#0d0887\"],[0.1111111111111111,\"#46039f\"],[0.2222222222222222,\"#7201a8\"],[0.3333333333333333,\"#9c179e\"],[0.4444444444444444,\"#bd3786\"],[0.5555555555555556,\"#d8576b\"],[0.6666666666666666,\"#ed7953\"],[0.7777777777777778,\"#fb9f3a\"],[0.8888888888888888,\"#fdca26\"],[1.0,\"#f0f921\"]],\"type\":\"heatmapgl\"}],\"histogram\":[{\"marker\":{\"pattern\":{\"fillmode\":\"overlay\",\"size\":10,\"solidity\":0.2}},\"type\":\"histogram\"}],\"histogram2d\":[{\"colorbar\":{\"outlinewidth\":0,\"ticks\":\"\"},\"colorscale\":[[0.0,\"#0d0887\"],[0.1111111111111111,\"#46039f\"],[0.2222222222222222,\"#7201a8\"],[0.3333333333333333,\"#9c179e\"],[0.4444444444444444,\"#bd3786\"],[0.5555555555555556,\"#d8576b\"],[0.6666666666666666,\"#ed7953\"],[0.7777777777777778,\"#fb9f3a\"],[0.8888888888888888,\"#fdca26\"],[1.0,\"#f0f921\"]],\"type\":\"histogram2d\"}],\"histogram2dcontour\":[{\"colorbar\":{\"outlinewidth\":0,\"ticks\":\"\"},\"colorscale\":[[0.0,\"#0d0887\"],[0.1111111111111111,\"#46039f\"],[0.2222222222222222,\"#7201a8\"],[0.3333333333333333,\"#9c179e\"],[0.4444444444444444,\"#bd3786\"],[0.5555555555555556,\"#d8576b\"],[0.6666666666666666,\"#ed7953\"],[0.7777777777777778,\"#fb9f3a\"],[0.8888888888888888,\"#fdca26\"],[1.0,\"#f0f921\"]],\"type\":\"histogram2dcontour\"}],\"mesh3d\":[{\"colorbar\":{\"outlinewidth\":0,\"ticks\":\"\"},\"type\":\"mesh3d\"}],\"parcoords\":[{\"line\":{\"colorbar\":{\"outlinewidth\":0,\"ticks\":\"\"}},\"type\":\"parcoords\"}],\"pie\":[{\"automargin\":true,\"type\":\"pie\"}],\"scatter\":[{\"marker\":{\"colorbar\":{\"outlinewidth\":0,\"ticks\":\"\"}},\"type\":\"scatter\"}],\"scatter3d\":[{\"line\":{\"colorbar\":{\"outlinewidth\":0,\"ticks\":\"\"}},\"marker\":{\"colorbar\":{\"outlinewidth\":0,\"ticks\":\"\"}},\"type\":\"scatter3d\"}],\"scattercarpet\":[{\"marker\":{\"colorbar\":{\"outlinewidth\":0,\"ticks\":\"\"}},\"type\":\"scattercarpet\"}],\"scattergeo\":[{\"marker\":{\"colorbar\":{\"outlinewidth\":0,\"ticks\":\"\"}},\"type\":\"scattergeo\"}],\"scattergl\":[{\"marker\":{\"colorbar\":{\"outlinewidth\":0,\"ticks\":\"\"}},\"type\":\"scattergl\"}],\"scattermapbox\":[{\"marker\":{\"colorbar\":{\"outlinewidth\":0,\"ticks\":\"\"}},\"type\":\"scattermapbox\"}],\"scatterpolar\":[{\"marker\":{\"colorbar\":{\"outlinewidth\":0,\"ticks\":\"\"}},\"type\":\"scatterpolar\"}],\"scatterpolargl\":[{\"marker\":{\"colorbar\":{\"outlinewidth\":0,\"ticks\":\"\"}},\"type\":\"scatterpolargl\"}],\"scatterternary\":[{\"marker\":{\"colorbar\":{\"outlinewidth\":0,\"ticks\":\"\"}},\"type\":\"scatterternary\"}],\"surface\":[{\"colorbar\":{\"outlinewidth\":0,\"ticks\":\"\"},\"colorscale\":[[0.0,\"#0d0887\"],[0.1111111111111111,\"#46039f\"],[0.2222222222222222,\"#7201a8\"],[0.3333333333333333,\"#9c179e\"],[0.4444444444444444,\"#bd3786\"],[0.5555555555555556,\"#d8576b\"],[0.6666666666666666,\"#ed7953\"],[0.7777777777777778,\"#fb9f3a\"],[0.8888888888888888,\"#fdca26\"],[1.0,\"#f0f921\"]],\"type\":\"surface\"}],\"table\":[{\"cells\":{\"fill\":{\"color\":\"#EBF0F8\"},\"line\":{\"color\":\"white\"}},\"header\":{\"fill\":{\"color\":\"#C8D4E3\"},\"line\":{\"color\":\"white\"}},\"type\":\"table\"}]},\"layout\":{\"annotationdefaults\":{\"arrowcolor\":\"#2a3f5f\",\"arrowhead\":0,\"arrowwidth\":1},\"autotypenumbers\":\"strict\",\"coloraxis\":{\"colorbar\":{\"outlinewidth\":0,\"ticks\":\"\"}},\"colorscale\":{\"diverging\":[[0,\"#8e0152\"],[0.1,\"#c51b7d\"],[0.2,\"#de77ae\"],[0.3,\"#f1b6da\"],[0.4,\"#fde0ef\"],[0.5,\"#f7f7f7\"],[0.6,\"#e6f5d0\"],[0.7,\"#b8e186\"],[0.8,\"#7fbc41\"],[0.9,\"#4d9221\"],[1,\"#276419\"]],\"sequential\":[[0.0,\"#0d0887\"],[0.1111111111111111,\"#46039f\"],[0.2222222222222222,\"#7201a8\"],[0.3333333333333333,\"#9c179e\"],[0.4444444444444444,\"#bd3786\"],[0.5555555555555556,\"#d8576b\"],[0.6666666666666666,\"#ed7953\"],[0.7777777777777778,\"#fb9f3a\"],[0.8888888888888888,\"#fdca26\"],[1.0,\"#f0f921\"]],\"sequentialminus\":[[0.0,\"#0d0887\"],[0.1111111111111111,\"#46039f\"],[0.2222222222222222,\"#7201a8\"],[0.3333333333333333,\"#9c179e\"],[0.4444444444444444,\"#bd3786\"],[0.5555555555555556,\"#d8576b\"],[0.6666666666666666,\"#ed7953\"],[0.7777777777777778,\"#fb9f3a\"],[0.8888888888888888,\"#fdca26\"],[1.0,\"#f0f921\"]]},\"colorway\":[\"#636efa\",\"#EF553B\",\"#00cc96\",\"#ab63fa\",\"#FFA15A\",\"#19d3f3\",\"#FF6692\",\"#B6E880\",\"#FF97FF\",\"#FECB52\"],\"font\":{\"color\":\"#2a3f5f\"},\"geo\":{\"bgcolor\":\"white\",\"lakecolor\":\"white\",\"landcolor\":\"#E5ECF6\",\"showlakes\":true,\"showland\":true,\"subunitcolor\":\"white\"},\"hoverlabel\":{\"align\":\"left\"},\"hovermode\":\"closest\",\"mapbox\":{\"style\":\"light\"},\"paper_bgcolor\":\"white\",\"plot_bgcolor\":\"#E5ECF6\",\"polar\":{\"angularaxis\":{\"gridcolor\":\"white\",\"linecolor\":\"white\",\"ticks\":\"\"},\"bgcolor\":\"#E5ECF6\",\"radialaxis\":{\"gridcolor\":\"white\",\"linecolor\":\"white\",\"ticks\":\"\"}},\"scene\":{\"xaxis\":{\"backgroundcolor\":\"#E5ECF6\",\"gridcolor\":\"white\",\"gridwidth\":2,\"linecolor\":\"white\",\"showbackground\":true,\"ticks\":\"\",\"zerolinecolor\":\"white\"},\"yaxis\":{\"backgroundcolor\":\"#E5ECF6\",\"gridcolor\":\"white\",\"gridwidth\":2,\"linecolor\":\"white\",\"showbackground\":true,\"ticks\":\"\",\"zerolinecolor\":\"white\"},\"zaxis\":{\"backgroundcolor\":\"#E5ECF6\",\"gridcolor\":\"white\",\"gridwidth\":2,\"linecolor\":\"white\",\"showbackground\":true,\"ticks\":\"\",\"zerolinecolor\":\"white\"}},\"shapedefaults\":{\"line\":{\"color\":\"#2a3f5f\"}},\"ternary\":{\"aaxis\":{\"gridcolor\":\"white\",\"linecolor\":\"white\",\"ticks\":\"\"},\"baxis\":{\"gridcolor\":\"white\",\"linecolor\":\"white\",\"ticks\":\"\"},\"bgcolor\":\"#E5ECF6\",\"caxis\":{\"gridcolor\":\"white\",\"linecolor\":\"white\",\"ticks\":\"\"}},\"title\":{\"x\":0.05},\"xaxis\":{\"automargin\":true,\"gridcolor\":\"white\",\"linecolor\":\"white\",\"ticks\":\"\",\"title\":{\"standoff\":15},\"zerolinecolor\":\"white\",\"zerolinewidth\":2},\"yaxis\":{\"automargin\":true,\"gridcolor\":\"white\",\"linecolor\":\"white\",\"ticks\":\"\",\"title\":{\"standoff\":15},\"zerolinecolor\":\"white\",\"zerolinewidth\":2}}},\"xaxis\":{\"anchor\":\"y\",\"domain\":[0.0,1.0],\"title\":{\"text\":\"index\"}},\"yaxis\":{\"anchor\":\"x\",\"domain\":[0.0,1.0],\"title\":{\"text\":\"value\"}},\"legend\":{\"title\":{\"text\":\"variable\"},\"tracegroupgap\":0},\"margin\":{\"t\":60},\"barmode\":\"relative\"},                        {\"responsive\": true}                    ).then(function(){\n",
              "                            \n",
              "var gd = document.getElementById('6bf923a1-94f5-4a1c-a538-61cbba7febf5');\n",
              "var x = new MutationObserver(function (mutations, observer) {{\n",
              "        var display = window.getComputedStyle(gd).display;\n",
              "        if (!display || display === 'none') {{\n",
              "            console.log([gd, 'removed!']);\n",
              "            Plotly.purge(gd);\n",
              "            observer.disconnect();\n",
              "        }}\n",
              "}});\n",
              "\n",
              "// Listen for the removal of the full notebook cells\n",
              "var notebookContainer = gd.closest('#notebook-container');\n",
              "if (notebookContainer) {{\n",
              "    x.observe(notebookContainer, {childList: true});\n",
              "}}\n",
              "\n",
              "// Listen for the clearing of the current output cell\n",
              "var outputEl = gd.closest('.output');\n",
              "if (outputEl) {{\n",
              "    x.observe(outputEl, {childList: true});\n",
              "}}\n",
              "\n",
              "                        })                };                            </script>        </div>\n",
              "</body>\n",
              "</html>"
            ]
          },
          "metadata": {}
        }
      ],
      "source": [
        "tw = hero.visualization.top_words(product_df['ProductColor']).head(20)\n",
        "\n",
        "fig = px.bar(tw)\n",
        "fig.show()"
      ]
    },
    {
      "cell_type": "markdown",
      "metadata": {
        "papermill": {
          "duration": 0.163882,
          "end_time": "2020-12-10T18:40:27.968400",
          "exception": false,
          "start_time": "2020-12-10T18:40:27.804518",
          "status": "completed"
        },
        "tags": [],
        "id": "Vv8LjJ9rQagt"
      },
      "source": [
        "<h2 id=\"prod_des\" style=\"font-family:verdana;\"> \n",
        "         2.3 Product's design\n",
        "        <a class=\"anchor-link\" href=\"https://www.kaggle.com/miljan/product-tagging-for-e-commerce-work-in-progress/#prod_des\">¶</a>\n",
        "\n",
        "</h2>"
      ]
    },
    {
      "cell_type": "code",
      "execution_count": 31,
      "metadata": {
        "execution": {
          "iopub.execute_input": "2020-12-10T18:40:28.315812Z",
          "iopub.status.busy": "2020-12-10T18:40:28.314786Z",
          "iopub.status.idle": "2020-12-10T18:40:28.318077Z",
          "shell.execute_reply": "2020-12-10T18:40:28.317387Z"
        },
        "papermill": {
          "duration": 0.177286,
          "end_time": "2020-12-10T18:40:28.318225",
          "exception": false,
          "start_time": "2020-12-10T18:40:28.140939",
          "status": "completed"
        },
        "tags": [],
        "id": "0Pyc2cUWQagt"
      },
      "outputs": [],
      "source": [
        "Design = ['gingham', 'butterfly', 'chocolate', 'zinc', 'hearts', 'star', 'skull', 'dolly', 'wood', 'retro', 'strawberry',\n",
        "         'mini', 'polkadot', 'spot', 'cream', 'rose', 'spaceboy', 'ceramic', 'glasse', 'vintage', 'retrospot', 'heart',\n",
        "         'spots', 'skulls', 'scandinavian', 'london', 'french', 'wooden', 'woodland', 'bakelike', 'feltrcraft', 'porcelain',\n",
        "         'spaceboy', 'glass', 'traditional', 'bird', 'birds', 'flower', 'antique', 'tube']"
      ]
    },
    {
      "cell_type": "code",
      "execution_count": 32,
      "metadata": {
        "execution": {
          "iopub.execute_input": "2020-12-10T18:40:28.654546Z",
          "iopub.status.busy": "2020-12-10T18:40:28.653760Z",
          "iopub.status.idle": "2020-12-10T18:41:11.380857Z",
          "shell.execute_reply": "2020-12-10T18:41:11.381738Z"
        },
        "papermill": {
          "duration": 42.901258,
          "end_time": "2020-12-10T18:41:11.382001",
          "exception": false,
          "start_time": "2020-12-10T18:40:28.480743",
          "status": "completed"
        },
        "tags": [],
        "id": "zyL-r8JxQagt"
      },
      "outputs": [],
      "source": [
        "product_df['Design'] = product_df['Description'].apply(lambda x: TagExtractor(x, Design)) "
      ]
    },
    {
      "cell_type": "code",
      "execution_count": 33,
      "metadata": {
        "execution": {
          "iopub.execute_input": "2020-12-10T18:41:11.728169Z",
          "iopub.status.busy": "2020-12-10T18:41:11.727449Z",
          "iopub.status.idle": "2020-12-10T18:41:11.730674Z",
          "shell.execute_reply": "2020-12-10T18:41:11.729953Z"
        },
        "papermill": {
          "duration": 0.17514,
          "end_time": "2020-12-10T18:41:11.730802",
          "exception": false,
          "start_time": "2020-12-10T18:41:11.555662",
          "status": "completed"
        },
        "tags": [],
        "id": "mwOi5BHRQagt"
      },
      "outputs": [],
      "source": [
        "stop_words = ['set', 'pack', 'small', 'large']"
      ]
    },
    {
      "cell_type": "code",
      "execution_count": 34,
      "metadata": {
        "execution": {
          "iopub.execute_input": "2020-12-10T18:41:12.076429Z",
          "iopub.status.busy": "2020-12-10T18:41:12.075629Z",
          "iopub.status.idle": "2020-12-10T18:41:55.369785Z",
          "shell.execute_reply": "2020-12-10T18:41:55.370341Z"
        },
        "papermill": {
          "duration": 43.471421,
          "end_time": "2020-12-10T18:41:55.370528",
          "exception": false,
          "start_time": "2020-12-10T18:41:11.899107",
          "status": "completed"
        },
        "tags": [],
        "id": "JyU3htLXQagu"
      },
      "outputs": [],
      "source": [
        " product_df['Description'] = product_df['Description'].apply(lambda x: TagRemove(x, (Design+stop_words))) "
      ]
    },
    {
      "cell_type": "code",
      "execution_count": 35,
      "metadata": {
        "execution": {
          "iopub.execute_input": "2020-12-10T18:41:55.795154Z",
          "iopub.status.busy": "2020-12-10T18:41:55.794080Z",
          "iopub.status.idle": "2020-12-10T18:42:02.098355Z",
          "shell.execute_reply": "2020-12-10T18:42:02.097736Z"
        },
        "papermill": {
          "duration": 6.556373,
          "end_time": "2020-12-10T18:42:02.098482",
          "exception": false,
          "start_time": "2020-12-10T18:41:55.542109",
          "status": "completed"
        },
        "tags": [],
        "id": "GYjzPsKEQagu",
        "outputId": "225c6b49-f1e0-4106-e0cf-dee1476f320f",
        "colab": {
          "base_uri": "https://localhost:8080/",
          "height": 542
        }
      },
      "outputs": [
        {
          "output_type": "display_data",
          "data": {
            "text/html": [
              "<html>\n",
              "<head><meta charset=\"utf-8\" /></head>\n",
              "<body>\n",
              "    <div>            <script src=\"https://cdnjs.cloudflare.com/ajax/libs/mathjax/2.7.5/MathJax.js?config=TeX-AMS-MML_SVG\"></script><script type=\"text/javascript\">if (window.MathJax) {MathJax.Hub.Config({SVG: {font: \"STIX-Web\"}});}</script>                <script type=\"text/javascript\">window.PlotlyConfig = {MathJaxConfig: 'local'};</script>\n",
              "        <script src=\"https://cdn.plot.ly/plotly-2.8.3.min.js\"></script>                <div id=\"0994b279-37f7-41ab-9cf2-8139c93571d6\" class=\"plotly-graph-div\" style=\"height:525px; width:100%;\"></div>            <script type=\"text/javascript\">                                    window.PLOTLYENV=window.PLOTLYENV || {};                                    if (document.getElementById(\"0994b279-37f7-41ab-9cf2-8139c93571d6\")) {                    Plotly.newPlot(                        \"0994b279-37f7-41ab-9cf2-8139c93571d6\",                        [{\"alignmentgroup\":\"True\",\"hovertemplate\":\"variable=Design<br>index=%{x}<br>value=%{y}<extra></extra>\",\"legendgroup\":\"Design\",\"marker\":{\"color\":\"#636efa\",\"pattern\":{\"shape\":\"\"}},\"name\":\"Design\",\"offsetgroup\":\"Design\",\"orientation\":\"v\",\"showlegend\":true,\"textposition\":\"auto\",\"x\":[\"heart\",\"retrospot\",\"vintage\",\"glass\",\"wooden\",\"ceramic\",\"spaceboy\",\"rose\",\"cream\",\"spot\",\"polkadot\",\"mini\",\"strawberry\",\"woodland\",\"retro\",\"wood\",\"dolly\",\"skull\",\"bird\",\"star\"],\"xaxis\":\"x\",\"y\":[58609,43691,41653,19137,18609,15395,14837,14001,13401,12339,11737,11401,10293,10231,10212,10176,9815,8731,8621,8597],\"yaxis\":\"y\",\"type\":\"bar\"}],                        {\"template\":{\"data\":{\"bar\":[{\"error_x\":{\"color\":\"#2a3f5f\"},\"error_y\":{\"color\":\"#2a3f5f\"},\"marker\":{\"line\":{\"color\":\"#E5ECF6\",\"width\":0.5},\"pattern\":{\"fillmode\":\"overlay\",\"size\":10,\"solidity\":0.2}},\"type\":\"bar\"}],\"barpolar\":[{\"marker\":{\"line\":{\"color\":\"#E5ECF6\",\"width\":0.5},\"pattern\":{\"fillmode\":\"overlay\",\"size\":10,\"solidity\":0.2}},\"type\":\"barpolar\"}],\"carpet\":[{\"aaxis\":{\"endlinecolor\":\"#2a3f5f\",\"gridcolor\":\"white\",\"linecolor\":\"white\",\"minorgridcolor\":\"white\",\"startlinecolor\":\"#2a3f5f\"},\"baxis\":{\"endlinecolor\":\"#2a3f5f\",\"gridcolor\":\"white\",\"linecolor\":\"white\",\"minorgridcolor\":\"white\",\"startlinecolor\":\"#2a3f5f\"},\"type\":\"carpet\"}],\"choropleth\":[{\"colorbar\":{\"outlinewidth\":0,\"ticks\":\"\"},\"type\":\"choropleth\"}],\"contour\":[{\"colorbar\":{\"outlinewidth\":0,\"ticks\":\"\"},\"colorscale\":[[0.0,\"#0d0887\"],[0.1111111111111111,\"#46039f\"],[0.2222222222222222,\"#7201a8\"],[0.3333333333333333,\"#9c179e\"],[0.4444444444444444,\"#bd3786\"],[0.5555555555555556,\"#d8576b\"],[0.6666666666666666,\"#ed7953\"],[0.7777777777777778,\"#fb9f3a\"],[0.8888888888888888,\"#fdca26\"],[1.0,\"#f0f921\"]],\"type\":\"contour\"}],\"contourcarpet\":[{\"colorbar\":{\"outlinewidth\":0,\"ticks\":\"\"},\"type\":\"contourcarpet\"}],\"heatmap\":[{\"colorbar\":{\"outlinewidth\":0,\"ticks\":\"\"},\"colorscale\":[[0.0,\"#0d0887\"],[0.1111111111111111,\"#46039f\"],[0.2222222222222222,\"#7201a8\"],[0.3333333333333333,\"#9c179e\"],[0.4444444444444444,\"#bd3786\"],[0.5555555555555556,\"#d8576b\"],[0.6666666666666666,\"#ed7953\"],[0.7777777777777778,\"#fb9f3a\"],[0.8888888888888888,\"#fdca26\"],[1.0,\"#f0f921\"]],\"type\":\"heatmap\"}],\"heatmapgl\":[{\"colorbar\":{\"outlinewidth\":0,\"ticks\":\"\"},\"colorscale\":[[0.0,\"#0d0887\"],[0.1111111111111111,\"#46039f\"],[0.2222222222222222,\"#7201a8\"],[0.3333333333333333,\"#9c179e\"],[0.4444444444444444,\"#bd3786\"],[0.5555555555555556,\"#d8576b\"],[0.6666666666666666,\"#ed7953\"],[0.7777777777777778,\"#fb9f3a\"],[0.8888888888888888,\"#fdca26\"],[1.0,\"#f0f921\"]],\"type\":\"heatmapgl\"}],\"histogram\":[{\"marker\":{\"pattern\":{\"fillmode\":\"overlay\",\"size\":10,\"solidity\":0.2}},\"type\":\"histogram\"}],\"histogram2d\":[{\"colorbar\":{\"outlinewidth\":0,\"ticks\":\"\"},\"colorscale\":[[0.0,\"#0d0887\"],[0.1111111111111111,\"#46039f\"],[0.2222222222222222,\"#7201a8\"],[0.3333333333333333,\"#9c179e\"],[0.4444444444444444,\"#bd3786\"],[0.5555555555555556,\"#d8576b\"],[0.6666666666666666,\"#ed7953\"],[0.7777777777777778,\"#fb9f3a\"],[0.8888888888888888,\"#fdca26\"],[1.0,\"#f0f921\"]],\"type\":\"histogram2d\"}],\"histogram2dcontour\":[{\"colorbar\":{\"outlinewidth\":0,\"ticks\":\"\"},\"colorscale\":[[0.0,\"#0d0887\"],[0.1111111111111111,\"#46039f\"],[0.2222222222222222,\"#7201a8\"],[0.3333333333333333,\"#9c179e\"],[0.4444444444444444,\"#bd3786\"],[0.5555555555555556,\"#d8576b\"],[0.6666666666666666,\"#ed7953\"],[0.7777777777777778,\"#fb9f3a\"],[0.8888888888888888,\"#fdca26\"],[1.0,\"#f0f921\"]],\"type\":\"histogram2dcontour\"}],\"mesh3d\":[{\"colorbar\":{\"outlinewidth\":0,\"ticks\":\"\"},\"type\":\"mesh3d\"}],\"parcoords\":[{\"line\":{\"colorbar\":{\"outlinewidth\":0,\"ticks\":\"\"}},\"type\":\"parcoords\"}],\"pie\":[{\"automargin\":true,\"type\":\"pie\"}],\"scatter\":[{\"marker\":{\"colorbar\":{\"outlinewidth\":0,\"ticks\":\"\"}},\"type\":\"scatter\"}],\"scatter3d\":[{\"line\":{\"colorbar\":{\"outlinewidth\":0,\"ticks\":\"\"}},\"marker\":{\"colorbar\":{\"outlinewidth\":0,\"ticks\":\"\"}},\"type\":\"scatter3d\"}],\"scattercarpet\":[{\"marker\":{\"colorbar\":{\"outlinewidth\":0,\"ticks\":\"\"}},\"type\":\"scattercarpet\"}],\"scattergeo\":[{\"marker\":{\"colorbar\":{\"outlinewidth\":0,\"ticks\":\"\"}},\"type\":\"scattergeo\"}],\"scattergl\":[{\"marker\":{\"colorbar\":{\"outlinewidth\":0,\"ticks\":\"\"}},\"type\":\"scattergl\"}],\"scattermapbox\":[{\"marker\":{\"colorbar\":{\"outlinewidth\":0,\"ticks\":\"\"}},\"type\":\"scattermapbox\"}],\"scatterpolar\":[{\"marker\":{\"colorbar\":{\"outlinewidth\":0,\"ticks\":\"\"}},\"type\":\"scatterpolar\"}],\"scatterpolargl\":[{\"marker\":{\"colorbar\":{\"outlinewidth\":0,\"ticks\":\"\"}},\"type\":\"scatterpolargl\"}],\"scatterternary\":[{\"marker\":{\"colorbar\":{\"outlinewidth\":0,\"ticks\":\"\"}},\"type\":\"scatterternary\"}],\"surface\":[{\"colorbar\":{\"outlinewidth\":0,\"ticks\":\"\"},\"colorscale\":[[0.0,\"#0d0887\"],[0.1111111111111111,\"#46039f\"],[0.2222222222222222,\"#7201a8\"],[0.3333333333333333,\"#9c179e\"],[0.4444444444444444,\"#bd3786\"],[0.5555555555555556,\"#d8576b\"],[0.6666666666666666,\"#ed7953\"],[0.7777777777777778,\"#fb9f3a\"],[0.8888888888888888,\"#fdca26\"],[1.0,\"#f0f921\"]],\"type\":\"surface\"}],\"table\":[{\"cells\":{\"fill\":{\"color\":\"#EBF0F8\"},\"line\":{\"color\":\"white\"}},\"header\":{\"fill\":{\"color\":\"#C8D4E3\"},\"line\":{\"color\":\"white\"}},\"type\":\"table\"}]},\"layout\":{\"annotationdefaults\":{\"arrowcolor\":\"#2a3f5f\",\"arrowhead\":0,\"arrowwidth\":1},\"autotypenumbers\":\"strict\",\"coloraxis\":{\"colorbar\":{\"outlinewidth\":0,\"ticks\":\"\"}},\"colorscale\":{\"diverging\":[[0,\"#8e0152\"],[0.1,\"#c51b7d\"],[0.2,\"#de77ae\"],[0.3,\"#f1b6da\"],[0.4,\"#fde0ef\"],[0.5,\"#f7f7f7\"],[0.6,\"#e6f5d0\"],[0.7,\"#b8e186\"],[0.8,\"#7fbc41\"],[0.9,\"#4d9221\"],[1,\"#276419\"]],\"sequential\":[[0.0,\"#0d0887\"],[0.1111111111111111,\"#46039f\"],[0.2222222222222222,\"#7201a8\"],[0.3333333333333333,\"#9c179e\"],[0.4444444444444444,\"#bd3786\"],[0.5555555555555556,\"#d8576b\"],[0.6666666666666666,\"#ed7953\"],[0.7777777777777778,\"#fb9f3a\"],[0.8888888888888888,\"#fdca26\"],[1.0,\"#f0f921\"]],\"sequentialminus\":[[0.0,\"#0d0887\"],[0.1111111111111111,\"#46039f\"],[0.2222222222222222,\"#7201a8\"],[0.3333333333333333,\"#9c179e\"],[0.4444444444444444,\"#bd3786\"],[0.5555555555555556,\"#d8576b\"],[0.6666666666666666,\"#ed7953\"],[0.7777777777777778,\"#fb9f3a\"],[0.8888888888888888,\"#fdca26\"],[1.0,\"#f0f921\"]]},\"colorway\":[\"#636efa\",\"#EF553B\",\"#00cc96\",\"#ab63fa\",\"#FFA15A\",\"#19d3f3\",\"#FF6692\",\"#B6E880\",\"#FF97FF\",\"#FECB52\"],\"font\":{\"color\":\"#2a3f5f\"},\"geo\":{\"bgcolor\":\"white\",\"lakecolor\":\"white\",\"landcolor\":\"#E5ECF6\",\"showlakes\":true,\"showland\":true,\"subunitcolor\":\"white\"},\"hoverlabel\":{\"align\":\"left\"},\"hovermode\":\"closest\",\"mapbox\":{\"style\":\"light\"},\"paper_bgcolor\":\"white\",\"plot_bgcolor\":\"#E5ECF6\",\"polar\":{\"angularaxis\":{\"gridcolor\":\"white\",\"linecolor\":\"white\",\"ticks\":\"\"},\"bgcolor\":\"#E5ECF6\",\"radialaxis\":{\"gridcolor\":\"white\",\"linecolor\":\"white\",\"ticks\":\"\"}},\"scene\":{\"xaxis\":{\"backgroundcolor\":\"#E5ECF6\",\"gridcolor\":\"white\",\"gridwidth\":2,\"linecolor\":\"white\",\"showbackground\":true,\"ticks\":\"\",\"zerolinecolor\":\"white\"},\"yaxis\":{\"backgroundcolor\":\"#E5ECF6\",\"gridcolor\":\"white\",\"gridwidth\":2,\"linecolor\":\"white\",\"showbackground\":true,\"ticks\":\"\",\"zerolinecolor\":\"white\"},\"zaxis\":{\"backgroundcolor\":\"#E5ECF6\",\"gridcolor\":\"white\",\"gridwidth\":2,\"linecolor\":\"white\",\"showbackground\":true,\"ticks\":\"\",\"zerolinecolor\":\"white\"}},\"shapedefaults\":{\"line\":{\"color\":\"#2a3f5f\"}},\"ternary\":{\"aaxis\":{\"gridcolor\":\"white\",\"linecolor\":\"white\",\"ticks\":\"\"},\"baxis\":{\"gridcolor\":\"white\",\"linecolor\":\"white\",\"ticks\":\"\"},\"bgcolor\":\"#E5ECF6\",\"caxis\":{\"gridcolor\":\"white\",\"linecolor\":\"white\",\"ticks\":\"\"}},\"title\":{\"x\":0.05},\"xaxis\":{\"automargin\":true,\"gridcolor\":\"white\",\"linecolor\":\"white\",\"ticks\":\"\",\"title\":{\"standoff\":15},\"zerolinecolor\":\"white\",\"zerolinewidth\":2},\"yaxis\":{\"automargin\":true,\"gridcolor\":\"white\",\"linecolor\":\"white\",\"ticks\":\"\",\"title\":{\"standoff\":15},\"zerolinecolor\":\"white\",\"zerolinewidth\":2}}},\"xaxis\":{\"anchor\":\"y\",\"domain\":[0.0,1.0],\"title\":{\"text\":\"index\"}},\"yaxis\":{\"anchor\":\"x\",\"domain\":[0.0,1.0],\"title\":{\"text\":\"value\"}},\"legend\":{\"title\":{\"text\":\"variable\"},\"tracegroupgap\":0},\"margin\":{\"t\":60},\"barmode\":\"relative\"},                        {\"responsive\": true}                    ).then(function(){\n",
              "                            \n",
              "var gd = document.getElementById('0994b279-37f7-41ab-9cf2-8139c93571d6');\n",
              "var x = new MutationObserver(function (mutations, observer) {{\n",
              "        var display = window.getComputedStyle(gd).display;\n",
              "        if (!display || display === 'none') {{\n",
              "            console.log([gd, 'removed!']);\n",
              "            Plotly.purge(gd);\n",
              "            observer.disconnect();\n",
              "        }}\n",
              "}});\n",
              "\n",
              "// Listen for the removal of the full notebook cells\n",
              "var notebookContainer = gd.closest('#notebook-container');\n",
              "if (notebookContainer) {{\n",
              "    x.observe(notebookContainer, {childList: true});\n",
              "}}\n",
              "\n",
              "// Listen for the clearing of the current output cell\n",
              "var outputEl = gd.closest('.output');\n",
              "if (outputEl) {{\n",
              "    x.observe(outputEl, {childList: true});\n",
              "}}\n",
              "\n",
              "                        })                };                            </script>        </div>\n",
              "</body>\n",
              "</html>"
            ]
          },
          "metadata": {}
        }
      ],
      "source": [
        "tw = hero.visualization.top_words(product_df['Design']).head(20)\n",
        "\n",
        "fig = px.bar(tw)\n",
        "fig.show()"
      ]
    },
    {
      "cell_type": "markdown",
      "metadata": {
        "papermill": {
          "duration": 0.165615,
          "end_time": "2020-12-10T18:42:02.755318",
          "exception": false,
          "start_time": "2020-12-10T18:42:02.589703",
          "status": "completed"
        },
        "tags": [],
        "id": "SvMBCTywQagv"
      },
      "source": [
        "<h2 id=\"prod_cat\" style=\"font-family:verdana;\"> \n",
        "         2.4 Product's category\n",
        "        <a class=\"anchor-link\" href=\"https://www.kaggle.com/miljan/product-tagging-for-e-commerce-work-in-progress/#prod_cat\">¶</a>\n",
        "\n",
        "</h2>"
      ]
    },
    {
      "cell_type": "markdown",
      "metadata": {
        "papermill": {
          "duration": 0.165285,
          "end_time": "2020-12-10T18:42:03.085061",
          "exception": false,
          "start_time": "2020-12-10T18:42:02.919776",
          "status": "completed"
        },
        "tags": [],
        "id": "HaWugLthQagv"
      },
      "source": [
        "<h3 id=\"prod_cat_man\" style=\"font-family:verdana;\"> \n",
        "         2.4.1 Semi manually tagging products\n",
        "        <a class=\"anchor-link\" href=\"https://www.kaggle.com/miljan/product-tagging-for-e-commerce-work-in-progress/#prod_cat_man\">¶</a>\n",
        "\n",
        "</h3>"
      ]
    },
    {
      "cell_type": "code",
      "execution_count": 36,
      "metadata": {
        "execution": {
          "iopub.execute_input": "2020-12-10T18:42:03.426391Z",
          "iopub.status.busy": "2020-12-10T18:42:03.425616Z",
          "iopub.status.idle": "2020-12-10T18:42:03.428681Z",
          "shell.execute_reply": "2020-12-10T18:42:03.429219Z"
        },
        "papermill": {
          "duration": 0.178152,
          "end_time": "2020-12-10T18:42:03.429366",
          "exception": false,
          "start_time": "2020-12-10T18:42:03.251214",
          "status": "completed"
        },
        "tags": [],
        "id": "vPHXLgyOQagv"
      },
      "outputs": [],
      "source": [
        "Categories = ['bag', 'box', 'cake', 'christmas', 'hanging', 'light', 'holder', 'sign', 'jumbo', 'lunch', 'paper', 'tea', 'card',\n",
        "              'cases', 'decoration', 'water', 'bottle', 'mug', 'party', 'garden', 'wrap', 'bowl', 'birthday', \n",
        "              'photo', 'frame', 'candle', 'key', 'ring', 'travel', 'egg', 'cup', \n",
        "              'lights', 'cutlery', 'candles', 'door', 'gift', 'clock', 'trinket', \n",
        "              'drawer', 'stand', 'pencils', 'ribbons', 'napkins', 'notebook', 'photo', 'alarm', 'dog',\n",
        "             'kitchen', 'storage', 'childrens', 'cup', 'cat', 'wall', 'art', 'cushion', 'cover', 'popcorn', 'soap', 'baking', 'door']\n"
      ]
    },
    {
      "cell_type": "code",
      "execution_count": 37,
      "metadata": {
        "execution": {
          "iopub.execute_input": "2020-12-10T18:42:03.763583Z",
          "iopub.status.busy": "2020-12-10T18:42:03.762860Z",
          "iopub.status.idle": "2020-12-10T18:42:44.095068Z",
          "shell.execute_reply": "2020-12-10T18:42:44.094449Z"
        },
        "papermill": {
          "duration": 40.502052,
          "end_time": "2020-12-10T18:42:44.095225",
          "exception": false,
          "start_time": "2020-12-10T18:42:03.593173",
          "status": "completed"
        },
        "tags": [],
        "id": "uNwmWRB3Qagv"
      },
      "outputs": [],
      "source": [
        "product_df['Categories'] = product_df['Description'].apply(lambda x: TagExtractor(x, Categories)) "
      ]
    },
    {
      "cell_type": "code",
      "execution_count": 38,
      "metadata": {
        "execution": {
          "iopub.execute_input": "2020-12-10T18:42:44.429294Z",
          "iopub.status.busy": "2020-12-10T18:42:44.428213Z",
          "iopub.status.idle": "2020-12-10T18:42:44.738041Z",
          "shell.execute_reply": "2020-12-10T18:42:44.738601Z"
        },
        "papermill": {
          "duration": 0.47818,
          "end_time": "2020-12-10T18:42:44.738774",
          "exception": false,
          "start_time": "2020-12-10T18:42:44.260594",
          "status": "completed"
        },
        "tags": [],
        "id": "2OzLG0o4Qagw"
      },
      "outputs": [],
      "source": [
        "pd.DataFrame(product_df['Categories'].value_counts()).to_excel('product_categories.xlsx')"
      ]
    },
    {
      "cell_type": "markdown",
      "metadata": {
        "papermill": {
          "duration": 0.166678,
          "end_time": "2020-12-10T18:42:45.070016",
          "exception": false,
          "start_time": "2020-12-10T18:42:44.903338",
          "status": "completed"
        },
        "tags": [],
        "id": "9e8heuVRQagw"
      },
      "source": [
        "<br><br>\n",
        "<div class=\"alert alert-block alert-info\" style=\"font-size:15px; font-family:verdana; line-height: 1.7em\">\n",
        "     <b>  From here, I took it on excel. I renamed and grouped categories into labels in order to have something more reliable for the classifiers later on. </b><br><br>\n",
        "    \n",
        "</div>"
      ]
    },
    {
      "cell_type": "code",
      "execution_count": 39,
      "metadata": {
        "execution": {
          "iopub.execute_input": "2020-12-10T18:42:45.405507Z",
          "iopub.status.busy": "2020-12-10T18:42:45.404718Z",
          "iopub.status.idle": "2020-12-10T18:42:45.739172Z",
          "shell.execute_reply": "2020-12-10T18:42:45.738081Z"
        },
        "papermill": {
          "duration": 0.505587,
          "end_time": "2020-12-10T18:42:45.739356",
          "exception": false,
          "start_time": "2020-12-10T18:42:45.233769",
          "status": "completed"
        },
        "tags": [],
        "id": "up2kkwpFQagw"
      },
      "outputs": [],
      "source": [
        "product_tags = pd.read_excel('/content/product_categories.xlsx')"
      ]
    },
    {
      "cell_type": "code",
      "execution_count": 40,
      "metadata": {
        "execution": {
          "iopub.execute_input": "2020-12-10T18:42:46.091431Z",
          "iopub.status.busy": "2020-12-10T18:42:46.090431Z",
          "iopub.status.idle": "2020-12-10T18:42:46.096003Z",
          "shell.execute_reply": "2020-12-10T18:42:46.095317Z"
        },
        "papermill": {
          "duration": 0.190291,
          "end_time": "2020-12-10T18:42:46.096141",
          "exception": false,
          "start_time": "2020-12-10T18:42:45.905850",
          "status": "completed"
        },
        "tags": [],
        "id": "RqEzuRTGQagx",
        "outputId": "372dbafd-69d5-4ba5-a28e-2c4e7c61ab60",
        "colab": {
          "base_uri": "https://localhost:8080/",
          "height": 206
        }
      },
      "outputs": [
        {
          "output_type": "execute_result",
          "data": {
            "text/plain": [
              "  Unnamed: 0  Categories\n",
              "0        NaN      281397\n",
              "1        bag       23199\n",
              "2       sign       21932\n",
              "3        box       19839\n",
              "4  jumbo bag       19189"
            ],
            "text/html": [
              "\n",
              "  <div id=\"df-5d5249bf-44a2-4817-b376-a804399c19bd\">\n",
              "    <div class=\"colab-df-container\">\n",
              "      <div>\n",
              "<style scoped>\n",
              "    .dataframe tbody tr th:only-of-type {\n",
              "        vertical-align: middle;\n",
              "    }\n",
              "\n",
              "    .dataframe tbody tr th {\n",
              "        vertical-align: top;\n",
              "    }\n",
              "\n",
              "    .dataframe thead th {\n",
              "        text-align: right;\n",
              "    }\n",
              "</style>\n",
              "<table border=\"1\" class=\"dataframe\">\n",
              "  <thead>\n",
              "    <tr style=\"text-align: right;\">\n",
              "      <th></th>\n",
              "      <th>Unnamed: 0</th>\n",
              "      <th>Categories</th>\n",
              "    </tr>\n",
              "  </thead>\n",
              "  <tbody>\n",
              "    <tr>\n",
              "      <th>0</th>\n",
              "      <td>NaN</td>\n",
              "      <td>281397</td>\n",
              "    </tr>\n",
              "    <tr>\n",
              "      <th>1</th>\n",
              "      <td>bag</td>\n",
              "      <td>23199</td>\n",
              "    </tr>\n",
              "    <tr>\n",
              "      <th>2</th>\n",
              "      <td>sign</td>\n",
              "      <td>21932</td>\n",
              "    </tr>\n",
              "    <tr>\n",
              "      <th>3</th>\n",
              "      <td>box</td>\n",
              "      <td>19839</td>\n",
              "    </tr>\n",
              "    <tr>\n",
              "      <th>4</th>\n",
              "      <td>jumbo bag</td>\n",
              "      <td>19189</td>\n",
              "    </tr>\n",
              "  </tbody>\n",
              "</table>\n",
              "</div>\n",
              "      <button class=\"colab-df-convert\" onclick=\"convertToInteractive('df-5d5249bf-44a2-4817-b376-a804399c19bd')\"\n",
              "              title=\"Convert this dataframe to an interactive table.\"\n",
              "              style=\"display:none;\">\n",
              "        \n",
              "  <svg xmlns=\"http://www.w3.org/2000/svg\" height=\"24px\"viewBox=\"0 0 24 24\"\n",
              "       width=\"24px\">\n",
              "    <path d=\"M0 0h24v24H0V0z\" fill=\"none\"/>\n",
              "    <path d=\"M18.56 5.44l.94 2.06.94-2.06 2.06-.94-2.06-.94-.94-2.06-.94 2.06-2.06.94zm-11 1L8.5 8.5l.94-2.06 2.06-.94-2.06-.94L8.5 2.5l-.94 2.06-2.06.94zm10 10l.94 2.06.94-2.06 2.06-.94-2.06-.94-.94-2.06-.94 2.06-2.06.94z\"/><path d=\"M17.41 7.96l-1.37-1.37c-.4-.4-.92-.59-1.43-.59-.52 0-1.04.2-1.43.59L10.3 9.45l-7.72 7.72c-.78.78-.78 2.05 0 2.83L4 21.41c.39.39.9.59 1.41.59.51 0 1.02-.2 1.41-.59l7.78-7.78 2.81-2.81c.8-.78.8-2.07 0-2.86zM5.41 20L4 18.59l7.72-7.72 1.47 1.35L5.41 20z\"/>\n",
              "  </svg>\n",
              "      </button>\n",
              "      \n",
              "  <style>\n",
              "    .colab-df-container {\n",
              "      display:flex;\n",
              "      flex-wrap:wrap;\n",
              "      gap: 12px;\n",
              "    }\n",
              "\n",
              "    .colab-df-convert {\n",
              "      background-color: #E8F0FE;\n",
              "      border: none;\n",
              "      border-radius: 50%;\n",
              "      cursor: pointer;\n",
              "      display: none;\n",
              "      fill: #1967D2;\n",
              "      height: 32px;\n",
              "      padding: 0 0 0 0;\n",
              "      width: 32px;\n",
              "    }\n",
              "\n",
              "    .colab-df-convert:hover {\n",
              "      background-color: #E2EBFA;\n",
              "      box-shadow: 0px 1px 2px rgba(60, 64, 67, 0.3), 0px 1px 3px 1px rgba(60, 64, 67, 0.15);\n",
              "      fill: #174EA6;\n",
              "    }\n",
              "\n",
              "    [theme=dark] .colab-df-convert {\n",
              "      background-color: #3B4455;\n",
              "      fill: #D2E3FC;\n",
              "    }\n",
              "\n",
              "    [theme=dark] .colab-df-convert:hover {\n",
              "      background-color: #434B5C;\n",
              "      box-shadow: 0px 1px 3px 1px rgba(0, 0, 0, 0.15);\n",
              "      filter: drop-shadow(0px 1px 2px rgba(0, 0, 0, 0.3));\n",
              "      fill: #FFFFFF;\n",
              "    }\n",
              "  </style>\n",
              "\n",
              "      <script>\n",
              "        const buttonEl =\n",
              "          document.querySelector('#df-5d5249bf-44a2-4817-b376-a804399c19bd button.colab-df-convert');\n",
              "        buttonEl.style.display =\n",
              "          google.colab.kernel.accessAllowed ? 'block' : 'none';\n",
              "\n",
              "        async function convertToInteractive(key) {\n",
              "          const element = document.querySelector('#df-5d5249bf-44a2-4817-b376-a804399c19bd');\n",
              "          const dataTable =\n",
              "            await google.colab.kernel.invokeFunction('convertToInteractive',\n",
              "                                                     [key], {});\n",
              "          if (!dataTable) return;\n",
              "\n",
              "          const docLinkHtml = 'Like what you see? Visit the ' +\n",
              "            '<a target=\"_blank\" href=https://colab.research.google.com/notebooks/data_table.ipynb>data table notebook</a>'\n",
              "            + ' to learn more about interactive tables.';\n",
              "          element.innerHTML = '';\n",
              "          dataTable['output_type'] = 'display_data';\n",
              "          await google.colab.output.renderOutput(dataTable, element);\n",
              "          const docLink = document.createElement('div');\n",
              "          docLink.innerHTML = docLinkHtml;\n",
              "          element.appendChild(docLink);\n",
              "        }\n",
              "      </script>\n",
              "    </div>\n",
              "  </div>\n",
              "  "
            ]
          },
          "metadata": {},
          "execution_count": 40
        }
      ],
      "source": [
        "product_tags.head()"
      ]
    },
    {
      "cell_type": "code",
      "execution_count": 41,
      "metadata": {
        "execution": {
          "iopub.execute_input": "2020-12-10T18:42:46.434345Z",
          "iopub.status.busy": "2020-12-10T18:42:46.433681Z",
          "iopub.status.idle": "2020-12-10T18:42:46.846244Z",
          "shell.execute_reply": "2020-12-10T18:42:46.846830Z"
        },
        "papermill": {
          "duration": 0.582918,
          "end_time": "2020-12-10T18:42:46.846990",
          "exception": false,
          "start_time": "2020-12-10T18:42:46.264072",
          "status": "completed"
        },
        "tags": [],
        "id": "0GWW6FO_Qagx",
        "colab": {
          "base_uri": "https://localhost:8080/",
          "height": 311
        },
        "outputId": "352fa801-2d34-4765-d071-7f1aeb535228"
      },
      "outputs": [
        {
          "output_type": "error",
          "ename": "ValueError",
          "evalue": "ignored",
          "traceback": [
            "\u001b[0;31m---------------------------------------------------------------------------\u001b[0m",
            "\u001b[0;31mValueError\u001b[0m                                Traceback (most recent call last)",
            "\u001b[0;32m<ipython-input-41-fe6412ad75a7>\u001b[0m in \u001b[0;36m<module>\u001b[0;34m()\u001b[0m\n\u001b[0;32m----> 1\u001b[0;31m \u001b[0mproduct_df\u001b[0m \u001b[0;34m=\u001b[0m \u001b[0mproduct_df\u001b[0m\u001b[0;34m.\u001b[0m\u001b[0mreset_index\u001b[0m\u001b[0;34m(\u001b[0m\u001b[0;34m)\u001b[0m\u001b[0;34m.\u001b[0m\u001b[0mmerge\u001b[0m\u001b[0;34m(\u001b[0m\u001b[0mproduct_tags\u001b[0m\u001b[0;34m,\u001b[0m \u001b[0mon\u001b[0m\u001b[0;34m=\u001b[0m\u001b[0;34m'Categories'\u001b[0m\u001b[0;34m,\u001b[0m \u001b[0mhow\u001b[0m\u001b[0;34m=\u001b[0m\u001b[0;34m'left'\u001b[0m\u001b[0;34m)\u001b[0m\u001b[0;34m.\u001b[0m\u001b[0mset_index\u001b[0m\u001b[0;34m(\u001b[0m\u001b[0;34m'index'\u001b[0m\u001b[0;34m)\u001b[0m\u001b[0;34m\u001b[0m\u001b[0;34m\u001b[0m\u001b[0m\n\u001b[0m",
            "\u001b[0;32m/usr/local/lib/python3.7/dist-packages/pandas/core/frame.py\u001b[0m in \u001b[0;36mmerge\u001b[0;34m(self, right, how, on, left_on, right_on, left_index, right_index, sort, suffixes, copy, indicator, validate)\u001b[0m\n\u001b[1;32m   9201\u001b[0m             \u001b[0mcopy\u001b[0m\u001b[0;34m=\u001b[0m\u001b[0mcopy\u001b[0m\u001b[0;34m,\u001b[0m\u001b[0;34m\u001b[0m\u001b[0;34m\u001b[0m\u001b[0m\n\u001b[1;32m   9202\u001b[0m             \u001b[0mindicator\u001b[0m\u001b[0;34m=\u001b[0m\u001b[0mindicator\u001b[0m\u001b[0;34m,\u001b[0m\u001b[0;34m\u001b[0m\u001b[0;34m\u001b[0m\u001b[0m\n\u001b[0;32m-> 9203\u001b[0;31m             \u001b[0mvalidate\u001b[0m\u001b[0;34m=\u001b[0m\u001b[0mvalidate\u001b[0m\u001b[0;34m,\u001b[0m\u001b[0;34m\u001b[0m\u001b[0;34m\u001b[0m\u001b[0m\n\u001b[0m\u001b[1;32m   9204\u001b[0m         )\n\u001b[1;32m   9205\u001b[0m \u001b[0;34m\u001b[0m\u001b[0m\n",
            "\u001b[0;32m/usr/local/lib/python3.7/dist-packages/pandas/core/reshape/merge.py\u001b[0m in \u001b[0;36mmerge\u001b[0;34m(left, right, how, on, left_on, right_on, left_index, right_index, sort, suffixes, copy, indicator, validate)\u001b[0m\n\u001b[1;32m    117\u001b[0m         \u001b[0mcopy\u001b[0m\u001b[0;34m=\u001b[0m\u001b[0mcopy\u001b[0m\u001b[0;34m,\u001b[0m\u001b[0;34m\u001b[0m\u001b[0;34m\u001b[0m\u001b[0m\n\u001b[1;32m    118\u001b[0m         \u001b[0mindicator\u001b[0m\u001b[0;34m=\u001b[0m\u001b[0mindicator\u001b[0m\u001b[0;34m,\u001b[0m\u001b[0;34m\u001b[0m\u001b[0;34m\u001b[0m\u001b[0m\n\u001b[0;32m--> 119\u001b[0;31m         \u001b[0mvalidate\u001b[0m\u001b[0;34m=\u001b[0m\u001b[0mvalidate\u001b[0m\u001b[0;34m,\u001b[0m\u001b[0;34m\u001b[0m\u001b[0;34m\u001b[0m\u001b[0m\n\u001b[0m\u001b[1;32m    120\u001b[0m     )\n\u001b[1;32m    121\u001b[0m     \u001b[0;32mreturn\u001b[0m \u001b[0mop\u001b[0m\u001b[0;34m.\u001b[0m\u001b[0mget_result\u001b[0m\u001b[0;34m(\u001b[0m\u001b[0;34m)\u001b[0m\u001b[0;34m\u001b[0m\u001b[0;34m\u001b[0m\u001b[0m\n",
            "\u001b[0;32m/usr/local/lib/python3.7/dist-packages/pandas/core/reshape/merge.py\u001b[0m in \u001b[0;36m__init__\u001b[0;34m(self, left, right, how, on, left_on, right_on, axis, left_index, right_index, sort, suffixes, copy, indicator, validate)\u001b[0m\n\u001b[1;32m    701\u001b[0m         \u001b[0;31m# validate the merge keys dtypes. We may need to coerce\u001b[0m\u001b[0;34m\u001b[0m\u001b[0;34m\u001b[0m\u001b[0;34m\u001b[0m\u001b[0m\n\u001b[1;32m    702\u001b[0m         \u001b[0;31m# to avoid incompatible dtypes\u001b[0m\u001b[0;34m\u001b[0m\u001b[0;34m\u001b[0m\u001b[0;34m\u001b[0m\u001b[0m\n\u001b[0;32m--> 703\u001b[0;31m         \u001b[0mself\u001b[0m\u001b[0;34m.\u001b[0m\u001b[0m_maybe_coerce_merge_keys\u001b[0m\u001b[0;34m(\u001b[0m\u001b[0;34m)\u001b[0m\u001b[0;34m\u001b[0m\u001b[0;34m\u001b[0m\u001b[0m\n\u001b[0m\u001b[1;32m    704\u001b[0m \u001b[0;34m\u001b[0m\u001b[0m\n\u001b[1;32m    705\u001b[0m         \u001b[0;31m# If argument passed to validate,\u001b[0m\u001b[0;34m\u001b[0m\u001b[0;34m\u001b[0m\u001b[0;34m\u001b[0m\u001b[0m\n",
            "\u001b[0;32m/usr/local/lib/python3.7/dist-packages/pandas/core/reshape/merge.py\u001b[0m in \u001b[0;36m_maybe_coerce_merge_keys\u001b[0;34m(self)\u001b[0m\n\u001b[1;32m   1254\u001b[0m                     \u001b[0minferred_right\u001b[0m \u001b[0;32min\u001b[0m \u001b[0mstring_types\u001b[0m \u001b[0;32mand\u001b[0m \u001b[0minferred_left\u001b[0m \u001b[0;32mnot\u001b[0m \u001b[0;32min\u001b[0m \u001b[0mstring_types\u001b[0m\u001b[0;34m\u001b[0m\u001b[0;34m\u001b[0m\u001b[0m\n\u001b[1;32m   1255\u001b[0m                 ):\n\u001b[0;32m-> 1256\u001b[0;31m                     \u001b[0;32mraise\u001b[0m \u001b[0mValueError\u001b[0m\u001b[0;34m(\u001b[0m\u001b[0mmsg\u001b[0m\u001b[0;34m)\u001b[0m\u001b[0;34m\u001b[0m\u001b[0;34m\u001b[0m\u001b[0m\n\u001b[0m\u001b[1;32m   1257\u001b[0m \u001b[0;34m\u001b[0m\u001b[0m\n\u001b[1;32m   1258\u001b[0m             \u001b[0;31m# datetimelikes must match exactly\u001b[0m\u001b[0;34m\u001b[0m\u001b[0;34m\u001b[0m\u001b[0;34m\u001b[0m\u001b[0m\n",
            "\u001b[0;31mValueError\u001b[0m: You are trying to merge on object and int64 columns. If you wish to proceed you should use pd.concat"
          ]
        }
      ],
      "source": [
        "product_df = product_df.reset_index().merge(product_tags, on='Categories', how='left').set_index('index')"
      ]
    },
    {
      "cell_type": "code",
      "execution_count": 42,
      "metadata": {
        "_kg_hide-input": true,
        "execution": {
          "iopub.execute_input": "2020-12-10T18:42:47.191699Z",
          "iopub.status.busy": "2020-12-10T18:42:47.190821Z",
          "iopub.status.idle": "2020-12-10T18:42:48.187094Z",
          "shell.execute_reply": "2020-12-10T18:42:48.186315Z"
        },
        "papermill": {
          "duration": 1.167536,
          "end_time": "2020-12-10T18:42:48.187247",
          "exception": false,
          "start_time": "2020-12-10T18:42:47.019711",
          "status": "completed"
        },
        "tags": [],
        "id": "nJ9_xRdgQagx"
      },
      "outputs": [],
      "source": [
        "product_df.loc[(product_df.Description =='wicker'), 'Labels'] = 'Wicker'\n",
        "\n",
        "product_df.loc[(product_df.Description =='assorted colour ornament'), 'Labels'] = 'Home Decoration'\n",
        "\n",
        "product_df.loc[(product_df.Description =='tissues'), 'Labels'] = 'Essentials'\n",
        "\n",
        "product_df.loc[(product_df.Description =='chalkboard'), 'Labels'] = 'Stationary'\n",
        "\n",
        "product_df.loc[(product_df.Description =='milk jug'), 'Labels'] = 'Tableware'\n",
        "\n",
        "product_df.loc[(product_df.Description =='measuring spoons'), 'Labels'] = 'Baking'\n",
        "\n",
        "product_df.loc[(product_df.Description =='snap cards'), 'Labels'] = 'Cards'"
      ]
    },
    {
      "cell_type": "code",
      "execution_count": 43,
      "metadata": {
        "_kg_hide-input": true,
        "execution": {
          "iopub.execute_input": "2020-12-10T18:42:48.650619Z",
          "iopub.status.busy": "2020-12-10T18:42:48.649845Z",
          "iopub.status.idle": "2020-12-10T18:42:49.863938Z",
          "shell.execute_reply": "2020-12-10T18:42:49.863373Z"
        },
        "papermill": {
          "duration": 1.508099,
          "end_time": "2020-12-10T18:42:49.864070",
          "exception": false,
          "start_time": "2020-12-10T18:42:48.355971",
          "status": "completed"
        },
        "tags": [],
        "id": "007qzbilQagx"
      },
      "outputs": [],
      "source": [
        "product_df.loc[(product_df.Description =='regency cakestand tier'), 'Labels'] = 'Cake Decoration'\n",
        "\n",
        "product_df.loc[(product_df.Description =='heart wicker small'), 'Labels'] = 'Hanging Decoration'\n",
        "\n",
        "product_df.loc[(product_df.Description =='heart wicker large'), 'Labels'] = 'Hanging Decoration'\n",
        "\n",
        "product_df.loc[(product_df.Description =='edwardian parasol'), 'Labels'] = 'Essentials'\n",
        "\n",
        "product_df.loc[(product_df.Description =='regency teacup saucer'), 'Labels'] = 'Tea'\n",
        "\n",
        "product_df.loc[(product_df.Description =='natural slate heart chalkboard'), 'Labels'] = 'Home Decoration'\n",
        "\n",
        "product_df.loc[(product_df.Description =='french metal door sign'), 'Labels'] = 'Door Sign'\n",
        "\n",
        "product_df.loc[(product_df.Description =='love building block word'), 'Labels'] = 'Home Decoration'\n",
        "\n",
        "product_df.loc[(product_df.Description =='vintage snap cards'), 'Labels'] = 'Cards'\n",
        "\n",
        "product_df.loc[(product_df.Description =='scottie dog hot water bottle'), 'Labels'] = 'Water Bottle'\n",
        "\n",
        "product_df.loc[(product_df.Labels =='Holders'), 'Labels'] = 'Holding Decoration'"
      ]
    },
    {
      "cell_type": "code",
      "execution_count": 44,
      "metadata": {
        "execution": {
          "iopub.execute_input": "2020-12-10T18:42:50.296681Z",
          "iopub.status.busy": "2020-12-10T18:42:50.295450Z",
          "iopub.status.idle": "2020-12-10T18:42:51.547818Z",
          "shell.execute_reply": "2020-12-10T18:42:51.547142Z"
        },
        "papermill": {
          "duration": 1.514735,
          "end_time": "2020-12-10T18:42:51.547949",
          "exception": false,
          "start_time": "2020-12-10T18:42:50.033214",
          "status": "completed"
        },
        "tags": [],
        "id": "vFQm47U6Qagy"
      },
      "outputs": [],
      "source": [
        "for label in ['Decorative Storage', 'Hanging Decoration', 'Lights', 'Candles', 'Door Signs', 'Wall Signs', 'Wicker', 'Clocks',\n",
        "             'Storage', 'Frame', 'Photo Frame', 'Wall Art', 'Holding Decoration', 'Popcorn Holder']:\n",
        "    product_df.loc[(product_df.Labels ==label), 'Labels'] = 'Home Decoration'"
      ]
    },
    {
      "cell_type": "code",
      "execution_count": 45,
      "metadata": {
        "execution": {
          "iopub.execute_input": "2020-12-10T18:42:51.889000Z",
          "iopub.status.busy": "2020-12-10T18:42:51.887978Z",
          "iopub.status.idle": "2020-12-10T18:42:52.175373Z",
          "shell.execute_reply": "2020-12-10T18:42:52.175881Z"
        },
        "papermill": {
          "duration": 0.459424,
          "end_time": "2020-12-10T18:42:52.176063",
          "exception": false,
          "start_time": "2020-12-10T18:42:51.716639",
          "status": "completed"
        },
        "tags": [],
        "id": "P6r7uMABQagy"
      },
      "outputs": [],
      "source": [
        "for label in ['Lunch Bags', 'Jumbo Bags', 'Jumbo Shopper']:\n",
        "    product_df.loc[(product_df.Labels ==label), 'Labels'] = 'Bags'"
      ]
    },
    {
      "cell_type": "code",
      "execution_count": 46,
      "metadata": {
        "execution": {
          "iopub.execute_input": "2020-12-10T18:42:52.512790Z",
          "iopub.status.busy": "2020-12-10T18:42:52.511767Z",
          "iopub.status.idle": "2020-12-10T18:42:52.981027Z",
          "shell.execute_reply": "2020-12-10T18:42:52.980399Z"
        },
        "papermill": {
          "duration": 0.638858,
          "end_time": "2020-12-10T18:42:52.981146",
          "exception": false,
          "start_time": "2020-12-10T18:42:52.342288",
          "status": "completed"
        },
        "tags": [],
        "id": "nOX9uZOIQagy"
      },
      "outputs": [],
      "source": [
        "for label in ['Cards', 'Paper', 'Cushions', 'Wraps', 'Gift Wraps']:\n",
        "    product_df.loc[(product_df.Labels ==label), 'Labels'] = 'Gifts'"
      ]
    },
    {
      "cell_type": "code",
      "execution_count": 47,
      "metadata": {
        "execution": {
          "iopub.execute_input": "2020-12-10T18:42:53.410350Z",
          "iopub.status.busy": "2020-12-10T18:42:53.409645Z",
          "iopub.status.idle": "2020-12-10T18:42:53.792934Z",
          "shell.execute_reply": "2020-12-10T18:42:53.792343Z"
        },
        "papermill": {
          "duration": 0.64235,
          "end_time": "2020-12-10T18:42:53.793074",
          "exception": false,
          "start_time": "2020-12-10T18:42:53.150724",
          "status": "completed"
        },
        "tags": [],
        "id": "rxrxfqMEQagz"
      },
      "outputs": [],
      "source": [
        "for label in ['Water Bottle', 'Essentials', 'Travel', 'Pets', 'Jewelry']:\n",
        "    product_df.loc[(product_df.Labels ==label), 'Labels'] = 'Other'"
      ]
    },
    {
      "cell_type": "code",
      "execution_count": 48,
      "metadata": {
        "execution": {
          "iopub.execute_input": "2020-12-10T18:42:54.228904Z",
          "iopub.status.busy": "2020-12-10T18:42:54.227883Z",
          "iopub.status.idle": "2020-12-10T18:42:54.335140Z",
          "shell.execute_reply": "2020-12-10T18:42:54.334537Z"
        },
        "papermill": {
          "duration": 0.372656,
          "end_time": "2020-12-10T18:42:54.335275",
          "exception": false,
          "start_time": "2020-12-10T18:42:53.962619",
          "status": "completed"
        },
        "tags": [],
        "id": "Hfe8-QCJQagz"
      },
      "outputs": [],
      "source": [
        "for label in ['Cake Decoration', 'Birthday']:\n",
        "    product_df.loc[(product_df.Labels ==label), 'Labels'] = 'Party'"
      ]
    },
    {
      "cell_type": "code",
      "execution_count": 49,
      "metadata": {
        "execution": {
          "iopub.execute_input": "2020-12-10T18:42:54.763092Z",
          "iopub.status.busy": "2020-12-10T18:42:54.762235Z",
          "iopub.status.idle": "2020-12-10T18:42:55.058821Z",
          "shell.execute_reply": "2020-12-10T18:42:55.059333Z"
        },
        "papermill": {
          "duration": 0.555936,
          "end_time": "2020-12-10T18:42:55.059504",
          "exception": false,
          "start_time": "2020-12-10T18:42:54.503568",
          "status": "completed"
        },
        "tags": [],
        "id": "xgNrutvOQagz"
      },
      "outputs": [],
      "source": [
        "for label in ['Tea', 'Baking', 'Kitchen', 'Soap']:\n",
        "    product_df.loc[(product_df.Labels ==label), 'Labels'] = 'Tableware'"
      ]
    },
    {
      "cell_type": "markdown",
      "metadata": {
        "papermill": {
          "duration": 0.168327,
          "end_time": "2020-12-10T18:42:55.395886",
          "exception": false,
          "start_time": "2020-12-10T18:42:55.227559",
          "status": "completed"
        },
        "tags": [],
        "id": "ZBn_ZNJZQagz"
      },
      "source": [
        "<br><br>\n",
        "<div class=\"alert alert-block alert-info\" style=\"font-size:15px; font-family:verdana; line-height: 1.7em\">\n",
        "     <b>   I decided that I had too many categories and wanted to squeeze them into 10 new labels. </b><br><br>\n",
        "</div>"
      ]
    },
    {
      "cell_type": "code",
      "execution_count": 50,
      "metadata": {
        "execution": {
          "iopub.execute_input": "2020-12-10T18:42:55.882968Z",
          "iopub.status.busy": "2020-12-10T18:42:55.880416Z",
          "iopub.status.idle": "2020-12-10T18:42:55.887250Z",
          "shell.execute_reply": "2020-12-10T18:42:55.887816Z"
        },
        "papermill": {
          "duration": 0.324686,
          "end_time": "2020-12-10T18:42:55.887974",
          "exception": false,
          "start_time": "2020-12-10T18:42:55.563288",
          "status": "completed"
        },
        "tags": [],
        "id": "b3duJt98Qag0",
        "outputId": "32e354e6-39f5-4afd-8a90-49cb787b026b",
        "colab": {
          "base_uri": "https://localhost:8080/"
        }
      },
      "outputs": [
        {
          "output_type": "execute_result",
          "data": {
            "text/plain": [
              "3.2774642464883854"
            ]
          },
          "metadata": {},
          "execution_count": 50
        }
      ],
      "source": [
        "product_df['Labels'].value_counts().sum() /product_df['Labels'].shape[0]*100"
      ]
    },
    {
      "cell_type": "markdown",
      "metadata": {
        "papermill": {
          "duration": 0.174338,
          "end_time": "2020-12-10T18:42:56.238132",
          "exception": false,
          "start_time": "2020-12-10T18:42:56.063794",
          "status": "completed"
        },
        "tags": [],
        "id": "Gg58yCYRQag0"
      },
      "source": [
        "<br><br>\n",
        "<div class=\"alert alert-block alert-info\" style=\"font-size:15px; font-family:verdana; line-height: 1.7em\">\n",
        "     <b> One last finishing touch and we're done. With this semi-manual work almost 60% of the data is tagged which should give us enough data for the next step </b><br><br>\n",
        "</div>"
      ]
    },
    {
      "cell_type": "markdown",
      "metadata": {
        "papermill": {
          "duration": 0.171313,
          "end_time": "2020-12-10T18:42:56.581735",
          "exception": false,
          "start_time": "2020-12-10T18:42:56.410422",
          "status": "completed"
        },
        "tags": [],
        "id": "kNnhLLX-Qag0"
      },
      "source": [
        "<h3 id=\"prod_cat_auto\" style=\"font-family:verdana;\"> \n",
        "         2.4.2 Training classification algorithms \n",
        "        <a class=\"anchor-link\" href=\"https://www.kaggle.com/miljan/product-tagging-for-e-commerce-work-in-progress/#prod_cat_auto\">¶</a>\n",
        "\n",
        "</h3>"
      ]
    },
    {
      "cell_type": "markdown",
      "metadata": {
        "papermill": {
          "duration": 0.170553,
          "end_time": "2020-12-10T18:42:56.924929",
          "exception": false,
          "start_time": "2020-12-10T18:42:56.754376",
          "status": "completed"
        },
        "tags": [],
        "id": "DhnGbXqIQag0"
      },
      "source": [
        "<br><br>\n",
        "<div class=\"alert alert-block alert-info\" style=\"font-size:15px; font-family:verdana; line-height: 1.7em\">\n",
        "     <b> I've now landed on the fun and last part of this notebook. I'll use my labeled data in order to train classifiers and validate results on it. Once this is done, I'll simply choose the best classifiers and predict labels for the test data. This was the plan but it didn't go that smoothly. </b><br><br>\n",
        "</div>"
      ]
    },
    {
      "cell_type": "code",
      "execution_count": 51,
      "metadata": {
        "execution": {
          "iopub.execute_input": "2020-12-10T18:42:57.274288Z",
          "iopub.status.busy": "2020-12-10T18:42:57.273554Z",
          "iopub.status.idle": "2020-12-10T18:42:57.576875Z",
          "shell.execute_reply": "2020-12-10T18:42:57.576137Z"
        },
        "papermill": {
          "duration": 0.479087,
          "end_time": "2020-12-10T18:42:57.576996",
          "exception": false,
          "start_time": "2020-12-10T18:42:57.097909",
          "status": "completed"
        },
        "tags": [],
        "id": "c2d_ASxiQag1"
      },
      "outputs": [],
      "source": [
        "X = product_df.dropna(subset=['Labels']).drop_duplicates(subset=['Description'])['Description']\n",
        "X_test = product_df[product_df['Labels'].isnull()]['Description']"
      ]
    },
    {
      "cell_type": "code",
      "execution_count": 52,
      "metadata": {
        "execution": {
          "iopub.execute_input": "2020-12-10T18:42:57.925639Z",
          "iopub.status.busy": "2020-12-10T18:42:57.924926Z",
          "iopub.status.idle": "2020-12-10T18:42:57.928356Z",
          "shell.execute_reply": "2020-12-10T18:42:57.928913Z"
        },
        "papermill": {
          "duration": 0.178894,
          "end_time": "2020-12-10T18:42:57.929060",
          "exception": false,
          "start_time": "2020-12-10T18:42:57.750166",
          "status": "completed"
        },
        "tags": [],
        "id": "zVpQjRCtQag1",
        "outputId": "f579197e-6b48-49f1-b949-6a94e5abbffc",
        "colab": {
          "base_uri": "https://localhost:8080/"
        }
      },
      "outputs": [
        {
          "output_type": "execute_result",
          "data": {
            "text/plain": [
              "((11,), (751183,))"
            ]
          },
          "metadata": {},
          "execution_count": 52
        }
      ],
      "source": [
        "X.shape, X_test.shape"
      ]
    },
    {
      "cell_type": "code",
      "execution_count": 53,
      "metadata": {
        "execution": {
          "iopub.execute_input": "2020-12-10T18:42:58.276327Z",
          "iopub.status.busy": "2020-12-10T18:42:58.275277Z",
          "iopub.status.idle": "2020-12-10T18:42:58.279898Z",
          "shell.execute_reply": "2020-12-10T18:42:58.280492Z"
        },
        "papermill": {
          "duration": 0.178314,
          "end_time": "2020-12-10T18:42:58.280654",
          "exception": false,
          "start_time": "2020-12-10T18:42:58.102340",
          "status": "completed"
        },
        "tags": [],
        "id": "It-yqn26Qag1"
      },
      "outputs": [],
      "source": [
        "le = preprocessing.LabelEncoder()"
      ]
    },
    {
      "cell_type": "code",
      "execution_count": 54,
      "metadata": {
        "execution": {
          "iopub.execute_input": "2020-12-10T18:42:58.622831Z",
          "iopub.status.busy": "2020-12-10T18:42:58.621804Z",
          "iopub.status.idle": "2020-12-10T18:42:58.828031Z",
          "shell.execute_reply": "2020-12-10T18:42:58.828623Z"
        },
        "papermill": {
          "duration": 0.377957,
          "end_time": "2020-12-10T18:42:58.828774",
          "exception": false,
          "start_time": "2020-12-10T18:42:58.450817",
          "status": "completed"
        },
        "tags": [],
        "id": "mBfzRBWhQag1"
      },
      "outputs": [],
      "source": [
        "y = le.fit_transform(product_df.dropna(subset=['Labels']).drop_duplicates(subset=['Description'])['Labels'])"
      ]
    },
    {
      "cell_type": "code",
      "execution_count": 55,
      "metadata": {
        "execution": {
          "iopub.execute_input": "2020-12-10T18:42:59.173762Z",
          "iopub.status.busy": "2020-12-10T18:42:59.172738Z",
          "iopub.status.idle": "2020-12-10T18:42:59.179411Z",
          "shell.execute_reply": "2020-12-10T18:42:59.179951Z"
        },
        "papermill": {
          "duration": 0.179514,
          "end_time": "2020-12-10T18:42:59.180095",
          "exception": false,
          "start_time": "2020-12-10T18:42:59.000581",
          "status": "completed"
        },
        "tags": [],
        "id": "c-97s8YBQag2"
      },
      "outputs": [],
      "source": [
        "X_train, X_val, y_train, y_val = train_test_split(X, y, test_size = 0.4, random_state = 46) # Do 60/40 split"
      ]
    },
    {
      "cell_type": "code",
      "execution_count": 56,
      "metadata": {
        "execution": {
          "iopub.execute_input": "2020-12-10T18:42:59.525549Z",
          "iopub.status.busy": "2020-12-10T18:42:59.524387Z",
          "iopub.status.idle": "2020-12-10T18:42:59.529562Z",
          "shell.execute_reply": "2020-12-10T18:42:59.530137Z"
        },
        "papermill": {
          "duration": 0.179123,
          "end_time": "2020-12-10T18:42:59.530296",
          "exception": false,
          "start_time": "2020-12-10T18:42:59.351173",
          "status": "completed"
        },
        "tags": [],
        "id": "O6ccQ8sVQag2"
      },
      "outputs": [],
      "source": [
        "X_vectorizer = TfidfVectorizer(analyzer = 'word',\n",
        "                            )"
      ]
    },
    {
      "cell_type": "code",
      "execution_count": 57,
      "metadata": {
        "execution": {
          "iopub.execute_input": "2020-12-10T18:42:59.884994Z",
          "iopub.status.busy": "2020-12-10T18:42:59.879676Z",
          "iopub.status.idle": "2020-12-10T18:43:02.457807Z",
          "shell.execute_reply": "2020-12-10T18:43:02.456959Z"
        },
        "papermill": {
          "duration": 2.758484,
          "end_time": "2020-12-10T18:43:02.457967",
          "exception": false,
          "start_time": "2020-12-10T18:42:59.699483",
          "status": "completed"
        },
        "tags": [],
        "id": "-Q1Va7wLQag2"
      },
      "outputs": [],
      "source": [
        "X_train = X_vectorizer.fit_transform(X_train)\n",
        "X_val =  X_vectorizer.transform(X_val)\n",
        "X_test_tfidf = X_vectorizer.transform(X_test)"
      ]
    },
    {
      "cell_type": "code",
      "execution_count": 58,
      "metadata": {
        "execution": {
          "iopub.execute_input": "2020-12-10T18:43:02.825203Z",
          "iopub.status.busy": "2020-12-10T18:43:02.824324Z",
          "iopub.status.idle": "2020-12-10T18:43:02.828421Z",
          "shell.execute_reply": "2020-12-10T18:43:02.827770Z"
        },
        "papermill": {
          "duration": 0.189012,
          "end_time": "2020-12-10T18:43:02.828539",
          "exception": false,
          "start_time": "2020-12-10T18:43:02.639527",
          "status": "completed"
        },
        "tags": [],
        "id": "OHv73u-tQag2"
      },
      "outputs": [],
      "source": [
        "def print_score(y_pred, clf):\n",
        "    print(\"Clf: \", clf.__class__.__name__)\n",
        "    print(\"Accuracy score: {}\".format(accuracy_score(y_val, y_pred)))\n",
        "    print(\"---\")    "
      ]
    },
    {
      "cell_type": "code",
      "execution_count": 59,
      "metadata": {
        "execution": {
          "iopub.execute_input": "2020-12-10T18:43:03.184696Z",
          "iopub.status.busy": "2020-12-10T18:43:03.183665Z",
          "iopub.status.idle": "2020-12-10T18:43:08.900330Z",
          "shell.execute_reply": "2020-12-10T18:43:08.900833Z"
        },
        "papermill": {
          "duration": 5.894687,
          "end_time": "2020-12-10T18:43:08.901000",
          "exception": false,
          "start_time": "2020-12-10T18:43:03.006313",
          "status": "completed"
        },
        "tags": [],
        "id": "faGrh0GRQag3",
        "outputId": "95d2ec7d-90e8-46aa-b592-aaca1db31428",
        "colab": {
          "base_uri": "https://localhost:8080/"
        }
      },
      "outputs": [
        {
          "output_type": "stream",
          "name": "stdout",
          "text": [
            "Clf:  DummyClassifier\n",
            "Accuracy score: 0.2\n",
            "---\n",
            "Clf:  SGDClassifier\n",
            "Accuracy score: 0.2\n",
            "---\n",
            "Clf:  MultinomialNB\n",
            "Accuracy score: 0.2\n",
            "---\n",
            "Clf:  LinearSVC\n",
            "Accuracy score: 0.2\n",
            "---\n",
            "Clf:  Perceptron\n",
            "Accuracy score: 0.0\n",
            "---\n",
            "Clf:  PassiveAggressiveClassifier\n",
            "Accuracy score: 0.2\n",
            "---\n",
            "Clf:  MLPClassifier\n",
            "Accuracy score: 0.2\n",
            "---\n",
            "Clf:  RandomForestClassifier\n",
            "Accuracy score: 0.2\n",
            "---\n",
            "Clf:  XGBClassifier\n",
            "Accuracy score: 0.2\n",
            "---\n"
          ]
        },
        {
          "output_type": "stream",
          "name": "stderr",
          "text": [
            "/usr/local/lib/python3.7/dist-packages/sklearn/neural_network/_multilayer_perceptron.py:696: ConvergenceWarning:\n",
            "\n",
            "Stochastic Optimizer: Maximum iterations (200) reached and the optimization hasn't converged yet.\n",
            "\n"
          ]
        }
      ],
      "source": [
        "dummy = DummyClassifier(strategy='prior')\n",
        "sgd = SGDClassifier()\n",
        "mn = MultinomialNB()\n",
        "svc = LinearSVC()\n",
        "perceptron = Perceptron()\n",
        "pac = PassiveAggressiveClassifier()\n",
        "mlpc = MLPClassifier()\n",
        "rfc = RandomForestClassifier()\n",
        "xgb = XGBClassifier()\n",
        "\n",
        "\n",
        "for classifier in [dummy, sgd, mn, svc, perceptron, pac, mlpc, rfc, xgb]:\n",
        "    classifier.fit(X_train, y_train)\n",
        "    y_pred = classifier.predict(X_val)\n",
        "    print_score(y_pred, classifier)"
      ]
    },
    {
      "cell_type": "markdown",
      "metadata": {
        "papermill": {
          "duration": 0.174153,
          "end_time": "2020-12-10T18:43:09.252928",
          "exception": false,
          "start_time": "2020-12-10T18:43:09.078775",
          "status": "completed"
        },
        "tags": [],
        "id": "hL3s5ysUQag3"
      },
      "source": [
        "<br><br>\n",
        "<div class=\"alert alert-block alert-info\" style=\"font-size:15px; font-family:verdana; line-height: 1.7em\">\n",
        "     <b> We could have better results by tuning some parameterers but for now I'm going to keep it that way and come back to it later. </b><br><br>\n",
        "</div>"
      ]
    },
    {
      "cell_type": "code",
      "execution_count": 60,
      "metadata": {
        "execution": {
          "iopub.execute_input": "2020-12-10T18:43:09.606798Z",
          "iopub.status.busy": "2020-12-10T18:43:09.606103Z",
          "iopub.status.idle": "2020-12-10T18:43:20.932113Z",
          "shell.execute_reply": "2020-12-10T18:43:20.931378Z"
        },
        "papermill": {
          "duration": 11.507826,
          "end_time": "2020-12-10T18:43:20.932250",
          "exception": false,
          "start_time": "2020-12-10T18:43:09.424424",
          "status": "completed"
        },
        "tags": [],
        "id": "vXfEhntzQag3"
      },
      "outputs": [],
      "source": [
        "y_pred_test = rfc.predict(X_test_tfidf) "
      ]
    },
    {
      "cell_type": "code",
      "execution_count": 61,
      "metadata": {
        "execution": {
          "iopub.execute_input": "2020-12-10T18:43:21.286115Z",
          "iopub.status.busy": "2020-12-10T18:43:21.285044Z",
          "iopub.status.idle": "2020-12-10T18:43:21.290854Z",
          "shell.execute_reply": "2020-12-10T18:43:21.291376Z"
        },
        "papermill": {
          "duration": 0.18356,
          "end_time": "2020-12-10T18:43:21.291533",
          "exception": false,
          "start_time": "2020-12-10T18:43:21.107973",
          "status": "completed"
        },
        "tags": [],
        "id": "fV0Z_eVNQag4"
      },
      "outputs": [],
      "source": [
        "prods_non_labeled = pd.DataFrame()"
      ]
    },
    {
      "cell_type": "code",
      "execution_count": 62,
      "metadata": {
        "execution": {
          "iopub.execute_input": "2020-12-10T18:43:21.641444Z",
          "iopub.status.busy": "2020-12-10T18:43:21.640721Z",
          "iopub.status.idle": "2020-12-10T18:43:21.686923Z",
          "shell.execute_reply": "2020-12-10T18:43:21.687567Z"
        },
        "papermill": {
          "duration": 0.223807,
          "end_time": "2020-12-10T18:43:21.687756",
          "exception": false,
          "start_time": "2020-12-10T18:43:21.463949",
          "status": "completed"
        },
        "tags": [],
        "id": "1oDvuX6oQag4"
      },
      "outputs": [],
      "source": [
        "prods_non_labeled['Description']= X_test"
      ]
    },
    {
      "cell_type": "code",
      "execution_count": 63,
      "metadata": {
        "execution": {
          "iopub.execute_input": "2020-12-10T18:43:22.043694Z",
          "iopub.status.busy": "2020-12-10T18:43:22.042646Z",
          "iopub.status.idle": "2020-12-10T18:43:22.058032Z",
          "shell.execute_reply": "2020-12-10T18:43:22.058556Z"
        },
        "papermill": {
          "duration": 0.197001,
          "end_time": "2020-12-10T18:43:22.058715",
          "exception": false,
          "start_time": "2020-12-10T18:43:21.861714",
          "status": "completed"
        },
        "tags": [],
        "id": "2jRpg5COQag4"
      },
      "outputs": [],
      "source": [
        "prods_non_labeled['Labels'] = le.inverse_transform(y_pred_test)"
      ]
    },
    {
      "cell_type": "code",
      "execution_count": 64,
      "metadata": {
        "execution": {
          "iopub.execute_input": "2020-12-10T18:43:22.418075Z",
          "iopub.status.busy": "2020-12-10T18:43:22.417424Z",
          "iopub.status.idle": "2020-12-10T18:43:22.424447Z",
          "shell.execute_reply": "2020-12-10T18:43:22.423419Z"
        },
        "papermill": {
          "duration": 0.193646,
          "end_time": "2020-12-10T18:43:22.424572",
          "exception": false,
          "start_time": "2020-12-10T18:43:22.230926",
          "status": "completed"
        },
        "tags": [],
        "id": "RtnVzXEIQag4",
        "outputId": "097e4f3a-7ead-4e52-d206-399d213dd611",
        "colab": {
          "base_uri": "https://localhost:8080/",
          "height": 424
        }
      },
      "outputs": [
        {
          "output_type": "execute_result",
          "data": {
            "text/plain": [
              "                             Description Labels\n",
              "0             15cm christmas ball lights  Other\n",
              "1                          cherry lights  Other\n",
              "2                          cherry lights  Other\n",
              "3               record frame single size  Other\n",
              "4                            trinket box  Other\n",
              "...                                  ...    ...\n",
              "1067365                          napkins  Other\n",
              "1067366              children apron girl  Other\n",
              "1067367           childrens cutlery girl  Other\n",
              "1067368  childrens cutlery circus parade  Other\n",
              "1067369                     baking piece  Other\n",
              "\n",
              "[751183 rows x 2 columns]"
            ],
            "text/html": [
              "\n",
              "  <div id=\"df-4f1368b5-673c-4090-bb26-517c39d5d214\">\n",
              "    <div class=\"colab-df-container\">\n",
              "      <div>\n",
              "<style scoped>\n",
              "    .dataframe tbody tr th:only-of-type {\n",
              "        vertical-align: middle;\n",
              "    }\n",
              "\n",
              "    .dataframe tbody tr th {\n",
              "        vertical-align: top;\n",
              "    }\n",
              "\n",
              "    .dataframe thead th {\n",
              "        text-align: right;\n",
              "    }\n",
              "</style>\n",
              "<table border=\"1\" class=\"dataframe\">\n",
              "  <thead>\n",
              "    <tr style=\"text-align: right;\">\n",
              "      <th></th>\n",
              "      <th>Description</th>\n",
              "      <th>Labels</th>\n",
              "    </tr>\n",
              "  </thead>\n",
              "  <tbody>\n",
              "    <tr>\n",
              "      <th>0</th>\n",
              "      <td>15cm christmas ball lights</td>\n",
              "      <td>Other</td>\n",
              "    </tr>\n",
              "    <tr>\n",
              "      <th>1</th>\n",
              "      <td>cherry lights</td>\n",
              "      <td>Other</td>\n",
              "    </tr>\n",
              "    <tr>\n",
              "      <th>2</th>\n",
              "      <td>cherry lights</td>\n",
              "      <td>Other</td>\n",
              "    </tr>\n",
              "    <tr>\n",
              "      <th>3</th>\n",
              "      <td>record frame single size</td>\n",
              "      <td>Other</td>\n",
              "    </tr>\n",
              "    <tr>\n",
              "      <th>4</th>\n",
              "      <td>trinket box</td>\n",
              "      <td>Other</td>\n",
              "    </tr>\n",
              "    <tr>\n",
              "      <th>...</th>\n",
              "      <td>...</td>\n",
              "      <td>...</td>\n",
              "    </tr>\n",
              "    <tr>\n",
              "      <th>1067365</th>\n",
              "      <td>napkins</td>\n",
              "      <td>Other</td>\n",
              "    </tr>\n",
              "    <tr>\n",
              "      <th>1067366</th>\n",
              "      <td>children apron girl</td>\n",
              "      <td>Other</td>\n",
              "    </tr>\n",
              "    <tr>\n",
              "      <th>1067367</th>\n",
              "      <td>childrens cutlery girl</td>\n",
              "      <td>Other</td>\n",
              "    </tr>\n",
              "    <tr>\n",
              "      <th>1067368</th>\n",
              "      <td>childrens cutlery circus parade</td>\n",
              "      <td>Other</td>\n",
              "    </tr>\n",
              "    <tr>\n",
              "      <th>1067369</th>\n",
              "      <td>baking piece</td>\n",
              "      <td>Other</td>\n",
              "    </tr>\n",
              "  </tbody>\n",
              "</table>\n",
              "<p>751183 rows × 2 columns</p>\n",
              "</div>\n",
              "      <button class=\"colab-df-convert\" onclick=\"convertToInteractive('df-4f1368b5-673c-4090-bb26-517c39d5d214')\"\n",
              "              title=\"Convert this dataframe to an interactive table.\"\n",
              "              style=\"display:none;\">\n",
              "        \n",
              "  <svg xmlns=\"http://www.w3.org/2000/svg\" height=\"24px\"viewBox=\"0 0 24 24\"\n",
              "       width=\"24px\">\n",
              "    <path d=\"M0 0h24v24H0V0z\" fill=\"none\"/>\n",
              "    <path d=\"M18.56 5.44l.94 2.06.94-2.06 2.06-.94-2.06-.94-.94-2.06-.94 2.06-2.06.94zm-11 1L8.5 8.5l.94-2.06 2.06-.94-2.06-.94L8.5 2.5l-.94 2.06-2.06.94zm10 10l.94 2.06.94-2.06 2.06-.94-2.06-.94-.94-2.06-.94 2.06-2.06.94z\"/><path d=\"M17.41 7.96l-1.37-1.37c-.4-.4-.92-.59-1.43-.59-.52 0-1.04.2-1.43.59L10.3 9.45l-7.72 7.72c-.78.78-.78 2.05 0 2.83L4 21.41c.39.39.9.59 1.41.59.51 0 1.02-.2 1.41-.59l7.78-7.78 2.81-2.81c.8-.78.8-2.07 0-2.86zM5.41 20L4 18.59l7.72-7.72 1.47 1.35L5.41 20z\"/>\n",
              "  </svg>\n",
              "      </button>\n",
              "      \n",
              "  <style>\n",
              "    .colab-df-container {\n",
              "      display:flex;\n",
              "      flex-wrap:wrap;\n",
              "      gap: 12px;\n",
              "    }\n",
              "\n",
              "    .colab-df-convert {\n",
              "      background-color: #E8F0FE;\n",
              "      border: none;\n",
              "      border-radius: 50%;\n",
              "      cursor: pointer;\n",
              "      display: none;\n",
              "      fill: #1967D2;\n",
              "      height: 32px;\n",
              "      padding: 0 0 0 0;\n",
              "      width: 32px;\n",
              "    }\n",
              "\n",
              "    .colab-df-convert:hover {\n",
              "      background-color: #E2EBFA;\n",
              "      box-shadow: 0px 1px 2px rgba(60, 64, 67, 0.3), 0px 1px 3px 1px rgba(60, 64, 67, 0.15);\n",
              "      fill: #174EA6;\n",
              "    }\n",
              "\n",
              "    [theme=dark] .colab-df-convert {\n",
              "      background-color: #3B4455;\n",
              "      fill: #D2E3FC;\n",
              "    }\n",
              "\n",
              "    [theme=dark] .colab-df-convert:hover {\n",
              "      background-color: #434B5C;\n",
              "      box-shadow: 0px 1px 3px 1px rgba(0, 0, 0, 0.15);\n",
              "      filter: drop-shadow(0px 1px 2px rgba(0, 0, 0, 0.3));\n",
              "      fill: #FFFFFF;\n",
              "    }\n",
              "  </style>\n",
              "\n",
              "      <script>\n",
              "        const buttonEl =\n",
              "          document.querySelector('#df-4f1368b5-673c-4090-bb26-517c39d5d214 button.colab-df-convert');\n",
              "        buttonEl.style.display =\n",
              "          google.colab.kernel.accessAllowed ? 'block' : 'none';\n",
              "\n",
              "        async function convertToInteractive(key) {\n",
              "          const element = document.querySelector('#df-4f1368b5-673c-4090-bb26-517c39d5d214');\n",
              "          const dataTable =\n",
              "            await google.colab.kernel.invokeFunction('convertToInteractive',\n",
              "                                                     [key], {});\n",
              "          if (!dataTable) return;\n",
              "\n",
              "          const docLinkHtml = 'Like what you see? Visit the ' +\n",
              "            '<a target=\"_blank\" href=https://colab.research.google.com/notebooks/data_table.ipynb>data table notebook</a>'\n",
              "            + ' to learn more about interactive tables.';\n",
              "          element.innerHTML = '';\n",
              "          dataTable['output_type'] = 'display_data';\n",
              "          await google.colab.output.renderOutput(dataTable, element);\n",
              "          const docLink = document.createElement('div');\n",
              "          docLink.innerHTML = docLinkHtml;\n",
              "          element.appendChild(docLink);\n",
              "        }\n",
              "      </script>\n",
              "    </div>\n",
              "  </div>\n",
              "  "
            ]
          },
          "metadata": {},
          "execution_count": 64
        }
      ],
      "source": [
        "prods_non_labeled"
      ]
    },
    {
      "cell_type": "code",
      "execution_count": 65,
      "metadata": {
        "execution": {
          "iopub.execute_input": "2020-12-10T18:43:22.848364Z",
          "iopub.status.busy": "2020-12-10T18:43:22.847107Z",
          "iopub.status.idle": "2020-12-10T18:43:22.872106Z",
          "shell.execute_reply": "2020-12-10T18:43:22.871502Z"
        },
        "papermill": {
          "duration": 0.273066,
          "end_time": "2020-12-10T18:43:22.872266",
          "exception": false,
          "start_time": "2020-12-10T18:43:22.599200",
          "status": "completed"
        },
        "tags": [],
        "id": "IjrYikqAQag5"
      },
      "outputs": [],
      "source": [
        "product_df.loc[(product_df.Labels.isnull()), 'Labels'] = prods_non_labeled['Labels']"
      ]
    },
    {
      "cell_type": "code",
      "execution_count": 66,
      "metadata": {
        "execution": {
          "iopub.execute_input": "2020-12-10T18:43:23.241709Z",
          "iopub.status.busy": "2020-12-10T18:43:23.240744Z",
          "iopub.status.idle": "2020-12-10T18:43:23.245228Z",
          "shell.execute_reply": "2020-12-10T18:43:23.245701Z"
        },
        "papermill": {
          "duration": 0.196375,
          "end_time": "2020-12-10T18:43:23.245855",
          "exception": false,
          "start_time": "2020-12-10T18:43:23.049480",
          "status": "completed"
        },
        "tags": [],
        "id": "VlpAuI7CQag5",
        "outputId": "000a3d79-5550-467e-a59d-7da0384a836a",
        "colab": {
          "base_uri": "https://localhost:8080/",
          "height": 424
        }
      },
      "outputs": [
        {
          "output_type": "execute_result",
          "data": {
            "text/plain": [
              "                             Description  Discount  Postage  QuantityCanceled  \\\n",
              "0             15cm christmas ball lights       0.0      0.0                 0   \n",
              "1                          cherry lights       0.0      0.0                 0   \n",
              "2                          cherry lights       0.0      0.0                 0   \n",
              "3               record frame single size       0.0      0.0                 0   \n",
              "4                            trinket box       0.0      0.0                 0   \n",
              "...                                  ...       ...      ...               ...   \n",
              "1067365                          napkins       0.0     18.0                 0   \n",
              "1067366              children apron girl       0.0     18.0                 0   \n",
              "1067367           childrens cutlery girl       0.0     18.0                 0   \n",
              "1067368  childrens cutlery circus parade       0.0     18.0                 0   \n",
              "1067369                     baking piece       0.0     18.0                 0   \n",
              "\n",
              "        ProductColor              Design         Categories Labels  \n",
              "0                                  glass   christmas lights  Other  \n",
              "1               pink                                 lights  Other  \n",
              "2              white                                 lights  Other  \n",
              "3                                                     frame  Other  \n",
              "4                     strawberry ceramic        trinket box  Other  \n",
              "...              ...                 ...                ...    ...  \n",
              "1067365                         spaceboy            napkins  Other  \n",
              "1067366                            dolly                     Other  \n",
              "1067367                            dolly  childrens cutlery  Other  \n",
              "1067368                                   childrens cutlery  Other  \n",
              "1067369                        retrospot             baking  Other  \n",
              "\n",
              "[776637 rows x 8 columns]"
            ],
            "text/html": [
              "\n",
              "  <div id=\"df-361ebf58-36f8-4cfd-b2a4-c32aed23ab7c\">\n",
              "    <div class=\"colab-df-container\">\n",
              "      <div>\n",
              "<style scoped>\n",
              "    .dataframe tbody tr th:only-of-type {\n",
              "        vertical-align: middle;\n",
              "    }\n",
              "\n",
              "    .dataframe tbody tr th {\n",
              "        vertical-align: top;\n",
              "    }\n",
              "\n",
              "    .dataframe thead th {\n",
              "        text-align: right;\n",
              "    }\n",
              "</style>\n",
              "<table border=\"1\" class=\"dataframe\">\n",
              "  <thead>\n",
              "    <tr style=\"text-align: right;\">\n",
              "      <th></th>\n",
              "      <th>Description</th>\n",
              "      <th>Discount</th>\n",
              "      <th>Postage</th>\n",
              "      <th>QuantityCanceled</th>\n",
              "      <th>ProductColor</th>\n",
              "      <th>Design</th>\n",
              "      <th>Categories</th>\n",
              "      <th>Labels</th>\n",
              "    </tr>\n",
              "  </thead>\n",
              "  <tbody>\n",
              "    <tr>\n",
              "      <th>0</th>\n",
              "      <td>15cm christmas ball lights</td>\n",
              "      <td>0.0</td>\n",
              "      <td>0.0</td>\n",
              "      <td>0</td>\n",
              "      <td></td>\n",
              "      <td>glass</td>\n",
              "      <td>christmas lights</td>\n",
              "      <td>Other</td>\n",
              "    </tr>\n",
              "    <tr>\n",
              "      <th>1</th>\n",
              "      <td>cherry lights</td>\n",
              "      <td>0.0</td>\n",
              "      <td>0.0</td>\n",
              "      <td>0</td>\n",
              "      <td>pink</td>\n",
              "      <td></td>\n",
              "      <td>lights</td>\n",
              "      <td>Other</td>\n",
              "    </tr>\n",
              "    <tr>\n",
              "      <th>2</th>\n",
              "      <td>cherry lights</td>\n",
              "      <td>0.0</td>\n",
              "      <td>0.0</td>\n",
              "      <td>0</td>\n",
              "      <td>white</td>\n",
              "      <td></td>\n",
              "      <td>lights</td>\n",
              "      <td>Other</td>\n",
              "    </tr>\n",
              "    <tr>\n",
              "      <th>3</th>\n",
              "      <td>record frame single size</td>\n",
              "      <td>0.0</td>\n",
              "      <td>0.0</td>\n",
              "      <td>0</td>\n",
              "      <td></td>\n",
              "      <td></td>\n",
              "      <td>frame</td>\n",
              "      <td>Other</td>\n",
              "    </tr>\n",
              "    <tr>\n",
              "      <th>4</th>\n",
              "      <td>trinket box</td>\n",
              "      <td>0.0</td>\n",
              "      <td>0.0</td>\n",
              "      <td>0</td>\n",
              "      <td></td>\n",
              "      <td>strawberry ceramic</td>\n",
              "      <td>trinket box</td>\n",
              "      <td>Other</td>\n",
              "    </tr>\n",
              "    <tr>\n",
              "      <th>...</th>\n",
              "      <td>...</td>\n",
              "      <td>...</td>\n",
              "      <td>...</td>\n",
              "      <td>...</td>\n",
              "      <td>...</td>\n",
              "      <td>...</td>\n",
              "      <td>...</td>\n",
              "      <td>...</td>\n",
              "    </tr>\n",
              "    <tr>\n",
              "      <th>1067365</th>\n",
              "      <td>napkins</td>\n",
              "      <td>0.0</td>\n",
              "      <td>18.0</td>\n",
              "      <td>0</td>\n",
              "      <td></td>\n",
              "      <td>spaceboy</td>\n",
              "      <td>napkins</td>\n",
              "      <td>Other</td>\n",
              "    </tr>\n",
              "    <tr>\n",
              "      <th>1067366</th>\n",
              "      <td>children apron girl</td>\n",
              "      <td>0.0</td>\n",
              "      <td>18.0</td>\n",
              "      <td>0</td>\n",
              "      <td></td>\n",
              "      <td>dolly</td>\n",
              "      <td></td>\n",
              "      <td>Other</td>\n",
              "    </tr>\n",
              "    <tr>\n",
              "      <th>1067367</th>\n",
              "      <td>childrens cutlery girl</td>\n",
              "      <td>0.0</td>\n",
              "      <td>18.0</td>\n",
              "      <td>0</td>\n",
              "      <td></td>\n",
              "      <td>dolly</td>\n",
              "      <td>childrens cutlery</td>\n",
              "      <td>Other</td>\n",
              "    </tr>\n",
              "    <tr>\n",
              "      <th>1067368</th>\n",
              "      <td>childrens cutlery circus parade</td>\n",
              "      <td>0.0</td>\n",
              "      <td>18.0</td>\n",
              "      <td>0</td>\n",
              "      <td></td>\n",
              "      <td></td>\n",
              "      <td>childrens cutlery</td>\n",
              "      <td>Other</td>\n",
              "    </tr>\n",
              "    <tr>\n",
              "      <th>1067369</th>\n",
              "      <td>baking piece</td>\n",
              "      <td>0.0</td>\n",
              "      <td>18.0</td>\n",
              "      <td>0</td>\n",
              "      <td></td>\n",
              "      <td>retrospot</td>\n",
              "      <td>baking</td>\n",
              "      <td>Other</td>\n",
              "    </tr>\n",
              "  </tbody>\n",
              "</table>\n",
              "<p>776637 rows × 8 columns</p>\n",
              "</div>\n",
              "      <button class=\"colab-df-convert\" onclick=\"convertToInteractive('df-361ebf58-36f8-4cfd-b2a4-c32aed23ab7c')\"\n",
              "              title=\"Convert this dataframe to an interactive table.\"\n",
              "              style=\"display:none;\">\n",
              "        \n",
              "  <svg xmlns=\"http://www.w3.org/2000/svg\" height=\"24px\"viewBox=\"0 0 24 24\"\n",
              "       width=\"24px\">\n",
              "    <path d=\"M0 0h24v24H0V0z\" fill=\"none\"/>\n",
              "    <path d=\"M18.56 5.44l.94 2.06.94-2.06 2.06-.94-2.06-.94-.94-2.06-.94 2.06-2.06.94zm-11 1L8.5 8.5l.94-2.06 2.06-.94-2.06-.94L8.5 2.5l-.94 2.06-2.06.94zm10 10l.94 2.06.94-2.06 2.06-.94-2.06-.94-.94-2.06-.94 2.06-2.06.94z\"/><path d=\"M17.41 7.96l-1.37-1.37c-.4-.4-.92-.59-1.43-.59-.52 0-1.04.2-1.43.59L10.3 9.45l-7.72 7.72c-.78.78-.78 2.05 0 2.83L4 21.41c.39.39.9.59 1.41.59.51 0 1.02-.2 1.41-.59l7.78-7.78 2.81-2.81c.8-.78.8-2.07 0-2.86zM5.41 20L4 18.59l7.72-7.72 1.47 1.35L5.41 20z\"/>\n",
              "  </svg>\n",
              "      </button>\n",
              "      \n",
              "  <style>\n",
              "    .colab-df-container {\n",
              "      display:flex;\n",
              "      flex-wrap:wrap;\n",
              "      gap: 12px;\n",
              "    }\n",
              "\n",
              "    .colab-df-convert {\n",
              "      background-color: #E8F0FE;\n",
              "      border: none;\n",
              "      border-radius: 50%;\n",
              "      cursor: pointer;\n",
              "      display: none;\n",
              "      fill: #1967D2;\n",
              "      height: 32px;\n",
              "      padding: 0 0 0 0;\n",
              "      width: 32px;\n",
              "    }\n",
              "\n",
              "    .colab-df-convert:hover {\n",
              "      background-color: #E2EBFA;\n",
              "      box-shadow: 0px 1px 2px rgba(60, 64, 67, 0.3), 0px 1px 3px 1px rgba(60, 64, 67, 0.15);\n",
              "      fill: #174EA6;\n",
              "    }\n",
              "\n",
              "    [theme=dark] .colab-df-convert {\n",
              "      background-color: #3B4455;\n",
              "      fill: #D2E3FC;\n",
              "    }\n",
              "\n",
              "    [theme=dark] .colab-df-convert:hover {\n",
              "      background-color: #434B5C;\n",
              "      box-shadow: 0px 1px 3px 1px rgba(0, 0, 0, 0.15);\n",
              "      filter: drop-shadow(0px 1px 2px rgba(0, 0, 0, 0.3));\n",
              "      fill: #FFFFFF;\n",
              "    }\n",
              "  </style>\n",
              "\n",
              "      <script>\n",
              "        const buttonEl =\n",
              "          document.querySelector('#df-361ebf58-36f8-4cfd-b2a4-c32aed23ab7c button.colab-df-convert');\n",
              "        buttonEl.style.display =\n",
              "          google.colab.kernel.accessAllowed ? 'block' : 'none';\n",
              "\n",
              "        async function convertToInteractive(key) {\n",
              "          const element = document.querySelector('#df-361ebf58-36f8-4cfd-b2a4-c32aed23ab7c');\n",
              "          const dataTable =\n",
              "            await google.colab.kernel.invokeFunction('convertToInteractive',\n",
              "                                                     [key], {});\n",
              "          if (!dataTable) return;\n",
              "\n",
              "          const docLinkHtml = 'Like what you see? Visit the ' +\n",
              "            '<a target=\"_blank\" href=https://colab.research.google.com/notebooks/data_table.ipynb>data table notebook</a>'\n",
              "            + ' to learn more about interactive tables.';\n",
              "          element.innerHTML = '';\n",
              "          dataTable['output_type'] = 'display_data';\n",
              "          await google.colab.output.renderOutput(dataTable, element);\n",
              "          const docLink = document.createElement('div');\n",
              "          docLink.innerHTML = docLinkHtml;\n",
              "          element.appendChild(docLink);\n",
              "        }\n",
              "      </script>\n",
              "    </div>\n",
              "  </div>\n",
              "  "
            ]
          },
          "metadata": {},
          "execution_count": 66
        }
      ],
      "source": [
        "product_df"
      ]
    },
    {
      "cell_type": "code",
      "execution_count": 67,
      "metadata": {
        "execution": {
          "iopub.execute_input": "2020-12-10T18:43:23.627318Z",
          "iopub.status.busy": "2020-12-10T18:43:23.626337Z",
          "iopub.status.idle": "2020-12-10T18:43:23.631918Z",
          "shell.execute_reply": "2020-12-10T18:43:23.632399Z"
        },
        "papermill": {
          "duration": 0.182267,
          "end_time": "2020-12-10T18:43:23.632547",
          "exception": false,
          "start_time": "2020-12-10T18:43:23.450280",
          "status": "completed"
        },
        "tags": [],
        "id": "n5P6baoMQag5",
        "outputId": "8b66700f-cfc4-4324-e1c0-92f610e69834",
        "colab": {
          "base_uri": "https://localhost:8080/"
        }
      },
      "outputs": [
        {
          "output_type": "execute_result",
          "data": {
            "text/plain": [
              "((776637, 8), (794223, 10))"
            ]
          },
          "metadata": {},
          "execution_count": 67
        }
      ],
      "source": [
        "product_df.shape, df.shape"
      ]
    },
    {
      "cell_type": "code",
      "execution_count": 68,
      "metadata": {
        "execution": {
          "iopub.execute_input": "2020-12-10T18:43:23.989097Z",
          "iopub.status.busy": "2020-12-10T18:43:23.988091Z",
          "iopub.status.idle": "2020-12-10T18:43:24.014593Z",
          "shell.execute_reply": "2020-12-10T18:43:24.015111Z"
        },
        "papermill": {
          "duration": 0.207075,
          "end_time": "2020-12-10T18:43:24.015288",
          "exception": false,
          "start_time": "2020-12-10T18:43:23.808213",
          "status": "completed"
        },
        "tags": [],
        "id": "IcrJFcsBQag6"
      },
      "outputs": [],
      "source": [
        "df_cleaned['ProductColor'] = product_df['ProductColor']\n",
        "df_cleaned['Design'] = product_df['Design']\n",
        "df_cleaned['Labels'] = product_df['Labels']"
      ]
    },
    {
      "cell_type": "code",
      "execution_count": 69,
      "metadata": {
        "execution": {
          "iopub.execute_input": "2020-12-10T18:43:24.371648Z",
          "iopub.status.busy": "2020-12-10T18:43:24.370846Z",
          "iopub.status.idle": "2020-12-10T18:43:24.560832Z",
          "shell.execute_reply": "2020-12-10T18:43:24.561516Z"
        },
        "papermill": {
          "duration": 0.370213,
          "end_time": "2020-12-10T18:43:24.561683",
          "exception": false,
          "start_time": "2020-12-10T18:43:24.191470",
          "status": "completed"
        },
        "tags": [],
        "id": "WCSb2xRtQag6",
        "outputId": "ef08b036-b9c4-4afd-efea-e0349eed13d3",
        "colab": {
          "base_uri": "https://localhost:8080/"
        }
      },
      "outputs": [
        {
          "output_type": "execute_result",
          "data": {
            "text/plain": [
              "Other              748938\n",
              "Home Decoration     12389\n",
              "Tableware            7866\n",
              "Party                3810\n",
              "Gifts                3634\n",
              "Name: Labels, dtype: int64"
            ]
          },
          "metadata": {},
          "execution_count": 69
        }
      ],
      "source": [
        "df_cleaned['Labels'].value_counts(dropna=False)"
      ]
    },
    {
      "cell_type": "markdown",
      "metadata": {
        "papermill": {
          "duration": 0.178964,
          "end_time": "2020-12-10T18:43:24.916788",
          "exception": false,
          "start_time": "2020-12-10T18:43:24.737824",
          "status": "completed"
        },
        "tags": [],
        "id": "c9dTFBpLQag6"
      },
      "source": [
        "***"
      ]
    },
    {
      "cell_type": "markdown",
      "metadata": {
        "papermill": {
          "duration": 0.174181,
          "end_time": "2020-12-10T18:43:25.271295",
          "exception": false,
          "start_time": "2020-12-10T18:43:25.097114",
          "status": "completed"
        },
        "tags": [],
        "id": "ETbunW1FQag6"
      },
      "source": [
        "<h1 id=\"Feature_engin\" style=\"font-family:verdana;\"> \n",
        "    <center>3. Feature Engineering\n",
        "        <a class=\"anchor-link\" href=\"https://www.kaggle.com/miljan/product-tagging-for-e-commerce-work-in-progress/#Feature_engin\">¶</a>\n",
        "    </center>\n",
        "</h1>"
      ]
    },
    {
      "cell_type": "markdown",
      "metadata": {
        "papermill": {
          "duration": 0.221197,
          "end_time": "2020-12-10T18:43:25.668249",
          "exception": false,
          "start_time": "2020-12-10T18:43:25.447052",
          "status": "completed"
        },
        "tags": [],
        "id": "neGpV1PHQag7"
      },
      "source": [
        "<h2 id=\"total_price\" style=\"font-family:verdana;\"> \n",
        "         3.1 Total Price\n",
        "        <a class=\"anchor-link\" href=\"https://www.kaggle.com/miljan/product-tagging-for-e-commerce-work-in-progress/total_price\">¶</a>\n",
        "\n",
        "</h2>"
      ]
    },
    {
      "cell_type": "code",
      "execution_count": 70,
      "metadata": {
        "execution": {
          "iopub.execute_input": "2020-12-10T18:43:26.028294Z",
          "iopub.status.busy": "2020-12-10T18:43:26.027543Z",
          "iopub.status.idle": "2020-12-10T18:43:26.040961Z",
          "shell.execute_reply": "2020-12-10T18:43:26.040358Z"
        },
        "papermill": {
          "duration": 0.196933,
          "end_time": "2020-12-10T18:43:26.041094",
          "exception": false,
          "start_time": "2020-12-10T18:43:25.844161",
          "status": "completed"
        },
        "tags": [],
        "id": "EBUuUuvLQag7"
      },
      "outputs": [],
      "source": [
        "# Total price feature\n",
        "\n",
        "df_cleaned['TotalPrice'] = df_cleaned['Price'] * (df_cleaned['Quantity'] - df_cleaned['QuantityCanceled'])"
      ]
    },
    {
      "cell_type": "code",
      "execution_count": 71,
      "metadata": {
        "execution": {
          "iopub.execute_input": "2020-12-10T18:43:26.401250Z",
          "iopub.status.busy": "2020-12-10T18:43:26.400485Z",
          "iopub.status.idle": "2020-12-10T18:43:26.438287Z",
          "shell.execute_reply": "2020-12-10T18:43:26.437378Z"
        },
        "papermill": {
          "duration": 0.22095,
          "end_time": "2020-12-10T18:43:26.438475",
          "exception": false,
          "start_time": "2020-12-10T18:43:26.217525",
          "status": "completed"
        },
        "tags": [],
        "id": "bW7qJW-0Qag7",
        "outputId": "2297e866-9dad-46d3-c011-b9a37b19d119",
        "colab": {
          "base_uri": "https://localhost:8080/"
        }
      },
      "outputs": [
        {
          "output_type": "execute_result",
          "data": {
            "text/plain": [
              "count    776637.000000\n",
              "mean         21.078978\n",
              "std          65.060980\n",
              "min        -413.100000\n",
              "25%           4.950000\n",
              "50%          11.800000\n",
              "75%          19.500000\n",
              "max        8925.000000\n",
              "Name: TotalPrice, dtype: float64"
            ]
          },
          "metadata": {},
          "execution_count": 71
        }
      ],
      "source": [
        "df_cleaned['TotalPrice'].describe()"
      ]
    },
    {
      "cell_type": "code",
      "execution_count": 72,
      "metadata": {
        "execution": {
          "iopub.execute_input": "2020-12-10T18:43:26.807542Z",
          "iopub.status.busy": "2020-12-10T18:43:26.805375Z",
          "iopub.status.idle": "2020-12-10T18:43:27.040571Z",
          "shell.execute_reply": "2020-12-10T18:43:27.039925Z"
        },
        "papermill": {
          "duration": 0.421326,
          "end_time": "2020-12-10T18:43:27.040690",
          "exception": false,
          "start_time": "2020-12-10T18:43:26.619364",
          "status": "completed"
        },
        "tags": [],
        "id": "DEsCRDOrQag7",
        "outputId": "3c3d7303-a429-4e62-d25b-a27879ab0875",
        "colab": {
          "base_uri": "https://localhost:8080/",
          "height": 869
        }
      },
      "outputs": [
        {
          "output_type": "execute_result",
          "data": {
            "text/plain": [
              "        Invoice StockCode                        Description  Quantity  \\\n",
              "221      489460    79323S               SILVER CHERRY LIGHTS         4   \n",
              "12138    490372    79323B                BLACK CHERRY LIGHTS         4   \n",
              "12582    490400    79323B                BLACK CHERRY LIGHTS         2   \n",
              "12583    490400    79323G                GOLD  CHERRY LIGHTS         3   \n",
              "12584    490400    79323S               SILVER CHERRY LIGHTS         3   \n",
              "...         ...       ...                                ...       ...   \n",
              "840402   564670     21197      MULTICOLOUR  CONFETTI IN TUBE        12   \n",
              "859081   566203     23356              LOVE HOT WATER BOTTLE         2   \n",
              "938355   572301     22371       AIRLINE BAG VINTAGE TOKYO 78         1   \n",
              "965547   574506     23085       ANTIQUE SILVER BAUBLE LAMP           3   \n",
              "1008590  577492     16054  POPART RECT PENCIL SHARPENER ASST        36   \n",
              "\n",
              "                 InvoiceDate  Price  Customer ID         Country  Discount  \\\n",
              "221      2009-12-01 10:46:00   6.75      16167.0  United Kingdom       0.0   \n",
              "12138    2009-12-05 12:13:00   6.75      17115.0  United Kingdom       0.0   \n",
              "12582    2009-12-06 10:41:00   6.75      16104.0  United Kingdom       0.0   \n",
              "12583    2009-12-06 10:41:00   6.75      16104.0  United Kingdom       0.0   \n",
              "12584    2009-12-06 10:41:00   6.75      16104.0  United Kingdom       0.0   \n",
              "...                      ...    ...          ...             ...       ...   \n",
              "840402   2011-08-26 15:44:00   1.65      12683.0          France       0.0   \n",
              "859081   2011-09-09 14:47:00   5.95      16362.0  United Kingdom       0.0   \n",
              "938355   2011-10-23 14:41:00   4.25      16794.0  United Kingdom       0.0   \n",
              "965547   2011-11-04 13:24:00  10.40      12577.0          France       0.0   \n",
              "1008590  2011-11-20 12:13:00   0.12      16900.0  United Kingdom       0.0   \n",
              "\n",
              "         Postage  QuantityCanceled ProductColor   Design Labels  TotalPrice  \n",
              "221          0.0                 5       silver           Other       -6.75  \n",
              "12138        0.0                12        black           Other      -54.00  \n",
              "12582        0.0                 4        black           Other      -13.50  \n",
              "12583        0.0                 4         gold           Other       -6.75  \n",
              "12584        0.0                 4       silver           Other       -6.75  \n",
              "...          ...               ...          ...      ...    ...         ...  \n",
              "840402      18.0                21                  tube  Other      -14.85  \n",
              "859081       0.0                 4                        Other      -11.90  \n",
              "938355       0.0                 2               vintage  Other       -4.25  \n",
              "965547       0.0                 6       silver  antique  Other      -31.20  \n",
              "1008590      0.0               108                        Other       -8.64  \n",
              "\n",
              "[77 rows x 15 columns]"
            ],
            "text/html": [
              "\n",
              "  <div id=\"df-8d84f40b-84d5-48c6-a2cd-9d5f62183e34\">\n",
              "    <div class=\"colab-df-container\">\n",
              "      <div>\n",
              "<style scoped>\n",
              "    .dataframe tbody tr th:only-of-type {\n",
              "        vertical-align: middle;\n",
              "    }\n",
              "\n",
              "    .dataframe tbody tr th {\n",
              "        vertical-align: top;\n",
              "    }\n",
              "\n",
              "    .dataframe thead th {\n",
              "        text-align: right;\n",
              "    }\n",
              "</style>\n",
              "<table border=\"1\" class=\"dataframe\">\n",
              "  <thead>\n",
              "    <tr style=\"text-align: right;\">\n",
              "      <th></th>\n",
              "      <th>Invoice</th>\n",
              "      <th>StockCode</th>\n",
              "      <th>Description</th>\n",
              "      <th>Quantity</th>\n",
              "      <th>InvoiceDate</th>\n",
              "      <th>Price</th>\n",
              "      <th>Customer ID</th>\n",
              "      <th>Country</th>\n",
              "      <th>Discount</th>\n",
              "      <th>Postage</th>\n",
              "      <th>QuantityCanceled</th>\n",
              "      <th>ProductColor</th>\n",
              "      <th>Design</th>\n",
              "      <th>Labels</th>\n",
              "      <th>TotalPrice</th>\n",
              "    </tr>\n",
              "  </thead>\n",
              "  <tbody>\n",
              "    <tr>\n",
              "      <th>221</th>\n",
              "      <td>489460</td>\n",
              "      <td>79323S</td>\n",
              "      <td>SILVER CHERRY LIGHTS</td>\n",
              "      <td>4</td>\n",
              "      <td>2009-12-01 10:46:00</td>\n",
              "      <td>6.75</td>\n",
              "      <td>16167.0</td>\n",
              "      <td>United Kingdom</td>\n",
              "      <td>0.0</td>\n",
              "      <td>0.0</td>\n",
              "      <td>5</td>\n",
              "      <td>silver</td>\n",
              "      <td></td>\n",
              "      <td>Other</td>\n",
              "      <td>-6.75</td>\n",
              "    </tr>\n",
              "    <tr>\n",
              "      <th>12138</th>\n",
              "      <td>490372</td>\n",
              "      <td>79323B</td>\n",
              "      <td>BLACK CHERRY LIGHTS</td>\n",
              "      <td>4</td>\n",
              "      <td>2009-12-05 12:13:00</td>\n",
              "      <td>6.75</td>\n",
              "      <td>17115.0</td>\n",
              "      <td>United Kingdom</td>\n",
              "      <td>0.0</td>\n",
              "      <td>0.0</td>\n",
              "      <td>12</td>\n",
              "      <td>black</td>\n",
              "      <td></td>\n",
              "      <td>Other</td>\n",
              "      <td>-54.00</td>\n",
              "    </tr>\n",
              "    <tr>\n",
              "      <th>12582</th>\n",
              "      <td>490400</td>\n",
              "      <td>79323B</td>\n",
              "      <td>BLACK CHERRY LIGHTS</td>\n",
              "      <td>2</td>\n",
              "      <td>2009-12-06 10:41:00</td>\n",
              "      <td>6.75</td>\n",
              "      <td>16104.0</td>\n",
              "      <td>United Kingdom</td>\n",
              "      <td>0.0</td>\n",
              "      <td>0.0</td>\n",
              "      <td>4</td>\n",
              "      <td>black</td>\n",
              "      <td></td>\n",
              "      <td>Other</td>\n",
              "      <td>-13.50</td>\n",
              "    </tr>\n",
              "    <tr>\n",
              "      <th>12583</th>\n",
              "      <td>490400</td>\n",
              "      <td>79323G</td>\n",
              "      <td>GOLD  CHERRY LIGHTS</td>\n",
              "      <td>3</td>\n",
              "      <td>2009-12-06 10:41:00</td>\n",
              "      <td>6.75</td>\n",
              "      <td>16104.0</td>\n",
              "      <td>United Kingdom</td>\n",
              "      <td>0.0</td>\n",
              "      <td>0.0</td>\n",
              "      <td>4</td>\n",
              "      <td>gold</td>\n",
              "      <td></td>\n",
              "      <td>Other</td>\n",
              "      <td>-6.75</td>\n",
              "    </tr>\n",
              "    <tr>\n",
              "      <th>12584</th>\n",
              "      <td>490400</td>\n",
              "      <td>79323S</td>\n",
              "      <td>SILVER CHERRY LIGHTS</td>\n",
              "      <td>3</td>\n",
              "      <td>2009-12-06 10:41:00</td>\n",
              "      <td>6.75</td>\n",
              "      <td>16104.0</td>\n",
              "      <td>United Kingdom</td>\n",
              "      <td>0.0</td>\n",
              "      <td>0.0</td>\n",
              "      <td>4</td>\n",
              "      <td>silver</td>\n",
              "      <td></td>\n",
              "      <td>Other</td>\n",
              "      <td>-6.75</td>\n",
              "    </tr>\n",
              "    <tr>\n",
              "      <th>...</th>\n",
              "      <td>...</td>\n",
              "      <td>...</td>\n",
              "      <td>...</td>\n",
              "      <td>...</td>\n",
              "      <td>...</td>\n",
              "      <td>...</td>\n",
              "      <td>...</td>\n",
              "      <td>...</td>\n",
              "      <td>...</td>\n",
              "      <td>...</td>\n",
              "      <td>...</td>\n",
              "      <td>...</td>\n",
              "      <td>...</td>\n",
              "      <td>...</td>\n",
              "      <td>...</td>\n",
              "    </tr>\n",
              "    <tr>\n",
              "      <th>840402</th>\n",
              "      <td>564670</td>\n",
              "      <td>21197</td>\n",
              "      <td>MULTICOLOUR  CONFETTI IN TUBE</td>\n",
              "      <td>12</td>\n",
              "      <td>2011-08-26 15:44:00</td>\n",
              "      <td>1.65</td>\n",
              "      <td>12683.0</td>\n",
              "      <td>France</td>\n",
              "      <td>0.0</td>\n",
              "      <td>18.0</td>\n",
              "      <td>21</td>\n",
              "      <td></td>\n",
              "      <td>tube</td>\n",
              "      <td>Other</td>\n",
              "      <td>-14.85</td>\n",
              "    </tr>\n",
              "    <tr>\n",
              "      <th>859081</th>\n",
              "      <td>566203</td>\n",
              "      <td>23356</td>\n",
              "      <td>LOVE HOT WATER BOTTLE</td>\n",
              "      <td>2</td>\n",
              "      <td>2011-09-09 14:47:00</td>\n",
              "      <td>5.95</td>\n",
              "      <td>16362.0</td>\n",
              "      <td>United Kingdom</td>\n",
              "      <td>0.0</td>\n",
              "      <td>0.0</td>\n",
              "      <td>4</td>\n",
              "      <td></td>\n",
              "      <td></td>\n",
              "      <td>Other</td>\n",
              "      <td>-11.90</td>\n",
              "    </tr>\n",
              "    <tr>\n",
              "      <th>938355</th>\n",
              "      <td>572301</td>\n",
              "      <td>22371</td>\n",
              "      <td>AIRLINE BAG VINTAGE TOKYO 78</td>\n",
              "      <td>1</td>\n",
              "      <td>2011-10-23 14:41:00</td>\n",
              "      <td>4.25</td>\n",
              "      <td>16794.0</td>\n",
              "      <td>United Kingdom</td>\n",
              "      <td>0.0</td>\n",
              "      <td>0.0</td>\n",
              "      <td>2</td>\n",
              "      <td></td>\n",
              "      <td>vintage</td>\n",
              "      <td>Other</td>\n",
              "      <td>-4.25</td>\n",
              "    </tr>\n",
              "    <tr>\n",
              "      <th>965547</th>\n",
              "      <td>574506</td>\n",
              "      <td>23085</td>\n",
              "      <td>ANTIQUE SILVER BAUBLE LAMP</td>\n",
              "      <td>3</td>\n",
              "      <td>2011-11-04 13:24:00</td>\n",
              "      <td>10.40</td>\n",
              "      <td>12577.0</td>\n",
              "      <td>France</td>\n",
              "      <td>0.0</td>\n",
              "      <td>0.0</td>\n",
              "      <td>6</td>\n",
              "      <td>silver</td>\n",
              "      <td>antique</td>\n",
              "      <td>Other</td>\n",
              "      <td>-31.20</td>\n",
              "    </tr>\n",
              "    <tr>\n",
              "      <th>1008590</th>\n",
              "      <td>577492</td>\n",
              "      <td>16054</td>\n",
              "      <td>POPART RECT PENCIL SHARPENER ASST</td>\n",
              "      <td>36</td>\n",
              "      <td>2011-11-20 12:13:00</td>\n",
              "      <td>0.12</td>\n",
              "      <td>16900.0</td>\n",
              "      <td>United Kingdom</td>\n",
              "      <td>0.0</td>\n",
              "      <td>0.0</td>\n",
              "      <td>108</td>\n",
              "      <td></td>\n",
              "      <td></td>\n",
              "      <td>Other</td>\n",
              "      <td>-8.64</td>\n",
              "    </tr>\n",
              "  </tbody>\n",
              "</table>\n",
              "<p>77 rows × 15 columns</p>\n",
              "</div>\n",
              "      <button class=\"colab-df-convert\" onclick=\"convertToInteractive('df-8d84f40b-84d5-48c6-a2cd-9d5f62183e34')\"\n",
              "              title=\"Convert this dataframe to an interactive table.\"\n",
              "              style=\"display:none;\">\n",
              "        \n",
              "  <svg xmlns=\"http://www.w3.org/2000/svg\" height=\"24px\"viewBox=\"0 0 24 24\"\n",
              "       width=\"24px\">\n",
              "    <path d=\"M0 0h24v24H0V0z\" fill=\"none\"/>\n",
              "    <path d=\"M18.56 5.44l.94 2.06.94-2.06 2.06-.94-2.06-.94-.94-2.06-.94 2.06-2.06.94zm-11 1L8.5 8.5l.94-2.06 2.06-.94-2.06-.94L8.5 2.5l-.94 2.06-2.06.94zm10 10l.94 2.06.94-2.06 2.06-.94-2.06-.94-.94-2.06-.94 2.06-2.06.94z\"/><path d=\"M17.41 7.96l-1.37-1.37c-.4-.4-.92-.59-1.43-.59-.52 0-1.04.2-1.43.59L10.3 9.45l-7.72 7.72c-.78.78-.78 2.05 0 2.83L4 21.41c.39.39.9.59 1.41.59.51 0 1.02-.2 1.41-.59l7.78-7.78 2.81-2.81c.8-.78.8-2.07 0-2.86zM5.41 20L4 18.59l7.72-7.72 1.47 1.35L5.41 20z\"/>\n",
              "  </svg>\n",
              "      </button>\n",
              "      \n",
              "  <style>\n",
              "    .colab-df-container {\n",
              "      display:flex;\n",
              "      flex-wrap:wrap;\n",
              "      gap: 12px;\n",
              "    }\n",
              "\n",
              "    .colab-df-convert {\n",
              "      background-color: #E8F0FE;\n",
              "      border: none;\n",
              "      border-radius: 50%;\n",
              "      cursor: pointer;\n",
              "      display: none;\n",
              "      fill: #1967D2;\n",
              "      height: 32px;\n",
              "      padding: 0 0 0 0;\n",
              "      width: 32px;\n",
              "    }\n",
              "\n",
              "    .colab-df-convert:hover {\n",
              "      background-color: #E2EBFA;\n",
              "      box-shadow: 0px 1px 2px rgba(60, 64, 67, 0.3), 0px 1px 3px 1px rgba(60, 64, 67, 0.15);\n",
              "      fill: #174EA6;\n",
              "    }\n",
              "\n",
              "    [theme=dark] .colab-df-convert {\n",
              "      background-color: #3B4455;\n",
              "      fill: #D2E3FC;\n",
              "    }\n",
              "\n",
              "    [theme=dark] .colab-df-convert:hover {\n",
              "      background-color: #434B5C;\n",
              "      box-shadow: 0px 1px 3px 1px rgba(0, 0, 0, 0.15);\n",
              "      filter: drop-shadow(0px 1px 2px rgba(0, 0, 0, 0.3));\n",
              "      fill: #FFFFFF;\n",
              "    }\n",
              "  </style>\n",
              "\n",
              "      <script>\n",
              "        const buttonEl =\n",
              "          document.querySelector('#df-8d84f40b-84d5-48c6-a2cd-9d5f62183e34 button.colab-df-convert');\n",
              "        buttonEl.style.display =\n",
              "          google.colab.kernel.accessAllowed ? 'block' : 'none';\n",
              "\n",
              "        async function convertToInteractive(key) {\n",
              "          const element = document.querySelector('#df-8d84f40b-84d5-48c6-a2cd-9d5f62183e34');\n",
              "          const dataTable =\n",
              "            await google.colab.kernel.invokeFunction('convertToInteractive',\n",
              "                                                     [key], {});\n",
              "          if (!dataTable) return;\n",
              "\n",
              "          const docLinkHtml = 'Like what you see? Visit the ' +\n",
              "            '<a target=\"_blank\" href=https://colab.research.google.com/notebooks/data_table.ipynb>data table notebook</a>'\n",
              "            + ' to learn more about interactive tables.';\n",
              "          element.innerHTML = '';\n",
              "          dataTable['output_type'] = 'display_data';\n",
              "          await google.colab.output.renderOutput(dataTable, element);\n",
              "          const docLink = document.createElement('div');\n",
              "          docLink.innerHTML = docLinkHtml;\n",
              "          element.appendChild(docLink);\n",
              "        }\n",
              "      </script>\n",
              "    </div>\n",
              "  </div>\n",
              "  "
            ]
          },
          "metadata": {},
          "execution_count": 72
        }
      ],
      "source": [
        "df_cleaned[df_cleaned['TotalPrice']<0]"
      ]
    },
    {
      "cell_type": "markdown",
      "metadata": {
        "papermill": {
          "duration": 0.179251,
          "end_time": "2020-12-10T18:43:27.396880",
          "exception": false,
          "start_time": "2020-12-10T18:43:27.217629",
          "status": "completed"
        },
        "tags": [],
        "id": "B7rZyyxrQag8"
      },
      "source": [
        "<br><br>\n",
        "<div class=\"alert alert-block alert-info\" style=\"font-size:15px; font-family:verdana; line-height: 1.7em\">\n",
        "     <b> We can't have more quantities canceled than bought initially. I'm deleting these lines. </b><br><br>\n",
        "</div>"
      ]
    },
    {
      "cell_type": "code",
      "execution_count": 73,
      "metadata": {
        "execution": {
          "iopub.execute_input": "2020-12-10T18:43:27.758323Z",
          "iopub.status.busy": "2020-12-10T18:43:27.757653Z",
          "iopub.status.idle": "2020-12-10T18:43:27.896010Z",
          "shell.execute_reply": "2020-12-10T18:43:27.896604Z"
        },
        "papermill": {
          "duration": 0.322459,
          "end_time": "2020-12-10T18:43:27.896756",
          "exception": false,
          "start_time": "2020-12-10T18:43:27.574297",
          "status": "completed"
        },
        "tags": [],
        "id": "7ritb2mfQag8"
      },
      "outputs": [],
      "source": [
        "df_cleaned.drop(df_cleaned[df_cleaned['TotalPrice']<0].index, axis = 0, inplace = True)"
      ]
    },
    {
      "cell_type": "markdown",
      "metadata": {
        "papermill": {
          "duration": 0.174843,
          "end_time": "2020-12-10T18:43:28.253725",
          "exception": false,
          "start_time": "2020-12-10T18:43:28.078882",
          "status": "completed"
        },
        "tags": [],
        "id": "TyJvLiYyQag8"
      },
      "source": [
        "<br><br>\n",
        "<div class=\"alert alert-block alert-info\" style=\"font-size:15px; font-family:verdana; line-height: 1.7em\">\n",
        "    <b> Let's clean the outliers real quick. I'll delete transactions which are 10 times greater than usual. </b><br><br>\n",
        "</div>"
      ]
    },
    {
      "cell_type": "code",
      "execution_count": 74,
      "metadata": {
        "execution": {
          "iopub.execute_input": "2020-12-10T18:43:28.609513Z",
          "iopub.status.busy": "2020-12-10T18:43:28.608802Z",
          "iopub.status.idle": "2020-12-10T18:43:28.769070Z",
          "shell.execute_reply": "2020-12-10T18:43:28.769693Z"
        },
        "papermill": {
          "duration": 0.338627,
          "end_time": "2020-12-10T18:43:28.769841",
          "exception": false,
          "start_time": "2020-12-10T18:43:28.431214",
          "status": "completed"
        },
        "tags": [],
        "id": "JVyl4tpSQag9",
        "outputId": "7229e71e-531a-4e4b-9a27-b79bf71feb8c",
        "colab": {
          "base_uri": "https://localhost:8080/",
          "height": 939
        }
      },
      "outputs": [
        {
          "output_type": "execute_result",
          "data": {
            "text/plain": [
              "        Invoice StockCode                          Description  Quantity  \\\n",
              "575      489523     84879        ASSORTED COLOUR BIRD ORNAMENT       800   \n",
              "3290     489675   15056BL              EDWARDIAN PARASOL BLACK       240   \n",
              "3511     489702     22086      PAPER CHAIN KIT 50'S CHRISTMAS        280   \n",
              "3570     489726     21428  SET3 BOOK BOX GREEN GINGHAM FLOWER        200   \n",
              "3572     489727     22086      PAPER CHAIN KIT 50'S CHRISTMAS        450   \n",
              "...         ...       ...                                  ...       ...   \n",
              "1065523  581457     82484    WOOD BLACK BOARD ANT WHITE FINISH       204   \n",
              "1065524  581457     23553          LANDMARK FRAME CAMDEN TOWN        120   \n",
              "1065525  581457     23542              WALL ART 70'S ALPHABET        120   \n",
              "1065531  581458     22197                       POPCORN HOLDER      1500   \n",
              "1065532  581459     22197                       POPCORN HOLDER      1200   \n",
              "\n",
              "                 InvoiceDate  Price  Customer ID         Country  Discount  \\\n",
              "575      2009-12-01 11:46:00   1.45      12931.0  United Kingdom       0.0   \n",
              "3290     2009-12-02 09:47:00   4.60      13777.0  United Kingdom       0.0   \n",
              "3511     2009-12-02 10:52:00   2.55      17511.0  United Kingdom       0.0   \n",
              "3570     2009-12-02 11:07:00   3.75      17949.0  United Kingdom       0.0   \n",
              "3572     2009-12-02 11:09:00   2.00      17949.0  United Kingdom       0.0   \n",
              "...                      ...    ...          ...             ...       ...   \n",
              "1065523  2011-12-08 18:43:00   4.80      18102.0  United Kingdom       0.0   \n",
              "1065524  2011-12-08 18:43:00  10.95      18102.0  United Kingdom       0.0   \n",
              "1065525  2011-12-08 18:43:00   6.67      18102.0  United Kingdom       0.0   \n",
              "1065531  2011-12-08 18:45:00   0.72      17949.0  United Kingdom       0.0   \n",
              "1065532  2011-12-08 18:46:00   0.72      17949.0  United Kingdom       0.0   \n",
              "\n",
              "         Postage  QuantityCanceled ProductColor          Design  \\\n",
              "575          0.0                 0                         bird   \n",
              "3290         0.0                 5        black                   \n",
              "3511         0.0                 2                                \n",
              "3570         0.0                 0        green  gingham flower   \n",
              "3572         0.0                 0                                \n",
              "...          ...               ...          ...             ...   \n",
              "1065523      0.0                 0  black white            wood   \n",
              "1065524      0.0                 0                                \n",
              "1065525      0.0                 0                                \n",
              "1065531      0.0                 0                                \n",
              "1065532      0.0                 0                                \n",
              "\n",
              "                  Labels  TotalPrice   Outliers  \n",
              "575      Home Decoration      1160.0  17.505476  \n",
              "3290               Other      1081.0  16.291223  \n",
              "3511               Other       708.9  10.571939  \n",
              "3570               Other       750.0  11.203658  \n",
              "3572               Other       900.0  13.509201  \n",
              "...                  ...         ...        ...  \n",
              "1065523            Other       979.2  14.726528  \n",
              "1065524            Other      1314.0  19.872500  \n",
              "1065525            Other       800.4  11.978321  \n",
              "1065531            Other      1080.0  16.275853  \n",
              "1065532            Other       864.0  12.955871  \n",
              "\n",
              "[1024 rows x 16 columns]"
            ],
            "text/html": [
              "\n",
              "  <div id=\"df-d2a1939f-5b41-4fcd-b0d4-d7f8d0d59989\">\n",
              "    <div class=\"colab-df-container\">\n",
              "      <div>\n",
              "<style scoped>\n",
              "    .dataframe tbody tr th:only-of-type {\n",
              "        vertical-align: middle;\n",
              "    }\n",
              "\n",
              "    .dataframe tbody tr th {\n",
              "        vertical-align: top;\n",
              "    }\n",
              "\n",
              "    .dataframe thead th {\n",
              "        text-align: right;\n",
              "    }\n",
              "</style>\n",
              "<table border=\"1\" class=\"dataframe\">\n",
              "  <thead>\n",
              "    <tr style=\"text-align: right;\">\n",
              "      <th></th>\n",
              "      <th>Invoice</th>\n",
              "      <th>StockCode</th>\n",
              "      <th>Description</th>\n",
              "      <th>Quantity</th>\n",
              "      <th>InvoiceDate</th>\n",
              "      <th>Price</th>\n",
              "      <th>Customer ID</th>\n",
              "      <th>Country</th>\n",
              "      <th>Discount</th>\n",
              "      <th>Postage</th>\n",
              "      <th>QuantityCanceled</th>\n",
              "      <th>ProductColor</th>\n",
              "      <th>Design</th>\n",
              "      <th>Labels</th>\n",
              "      <th>TotalPrice</th>\n",
              "      <th>Outliers</th>\n",
              "    </tr>\n",
              "  </thead>\n",
              "  <tbody>\n",
              "    <tr>\n",
              "      <th>575</th>\n",
              "      <td>489523</td>\n",
              "      <td>84879</td>\n",
              "      <td>ASSORTED COLOUR BIRD ORNAMENT</td>\n",
              "      <td>800</td>\n",
              "      <td>2009-12-01 11:46:00</td>\n",
              "      <td>1.45</td>\n",
              "      <td>12931.0</td>\n",
              "      <td>United Kingdom</td>\n",
              "      <td>0.0</td>\n",
              "      <td>0.0</td>\n",
              "      <td>0</td>\n",
              "      <td></td>\n",
              "      <td>bird</td>\n",
              "      <td>Home Decoration</td>\n",
              "      <td>1160.0</td>\n",
              "      <td>17.505476</td>\n",
              "    </tr>\n",
              "    <tr>\n",
              "      <th>3290</th>\n",
              "      <td>489675</td>\n",
              "      <td>15056BL</td>\n",
              "      <td>EDWARDIAN PARASOL BLACK</td>\n",
              "      <td>240</td>\n",
              "      <td>2009-12-02 09:47:00</td>\n",
              "      <td>4.60</td>\n",
              "      <td>13777.0</td>\n",
              "      <td>United Kingdom</td>\n",
              "      <td>0.0</td>\n",
              "      <td>0.0</td>\n",
              "      <td>5</td>\n",
              "      <td>black</td>\n",
              "      <td></td>\n",
              "      <td>Other</td>\n",
              "      <td>1081.0</td>\n",
              "      <td>16.291223</td>\n",
              "    </tr>\n",
              "    <tr>\n",
              "      <th>3511</th>\n",
              "      <td>489702</td>\n",
              "      <td>22086</td>\n",
              "      <td>PAPER CHAIN KIT 50'S CHRISTMAS</td>\n",
              "      <td>280</td>\n",
              "      <td>2009-12-02 10:52:00</td>\n",
              "      <td>2.55</td>\n",
              "      <td>17511.0</td>\n",
              "      <td>United Kingdom</td>\n",
              "      <td>0.0</td>\n",
              "      <td>0.0</td>\n",
              "      <td>2</td>\n",
              "      <td></td>\n",
              "      <td></td>\n",
              "      <td>Other</td>\n",
              "      <td>708.9</td>\n",
              "      <td>10.571939</td>\n",
              "    </tr>\n",
              "    <tr>\n",
              "      <th>3570</th>\n",
              "      <td>489726</td>\n",
              "      <td>21428</td>\n",
              "      <td>SET3 BOOK BOX GREEN GINGHAM FLOWER</td>\n",
              "      <td>200</td>\n",
              "      <td>2009-12-02 11:07:00</td>\n",
              "      <td>3.75</td>\n",
              "      <td>17949.0</td>\n",
              "      <td>United Kingdom</td>\n",
              "      <td>0.0</td>\n",
              "      <td>0.0</td>\n",
              "      <td>0</td>\n",
              "      <td>green</td>\n",
              "      <td>gingham flower</td>\n",
              "      <td>Other</td>\n",
              "      <td>750.0</td>\n",
              "      <td>11.203658</td>\n",
              "    </tr>\n",
              "    <tr>\n",
              "      <th>3572</th>\n",
              "      <td>489727</td>\n",
              "      <td>22086</td>\n",
              "      <td>PAPER CHAIN KIT 50'S CHRISTMAS</td>\n",
              "      <td>450</td>\n",
              "      <td>2009-12-02 11:09:00</td>\n",
              "      <td>2.00</td>\n",
              "      <td>17949.0</td>\n",
              "      <td>United Kingdom</td>\n",
              "      <td>0.0</td>\n",
              "      <td>0.0</td>\n",
              "      <td>0</td>\n",
              "      <td></td>\n",
              "      <td></td>\n",
              "      <td>Other</td>\n",
              "      <td>900.0</td>\n",
              "      <td>13.509201</td>\n",
              "    </tr>\n",
              "    <tr>\n",
              "      <th>...</th>\n",
              "      <td>...</td>\n",
              "      <td>...</td>\n",
              "      <td>...</td>\n",
              "      <td>...</td>\n",
              "      <td>...</td>\n",
              "      <td>...</td>\n",
              "      <td>...</td>\n",
              "      <td>...</td>\n",
              "      <td>...</td>\n",
              "      <td>...</td>\n",
              "      <td>...</td>\n",
              "      <td>...</td>\n",
              "      <td>...</td>\n",
              "      <td>...</td>\n",
              "      <td>...</td>\n",
              "      <td>...</td>\n",
              "    </tr>\n",
              "    <tr>\n",
              "      <th>1065523</th>\n",
              "      <td>581457</td>\n",
              "      <td>82484</td>\n",
              "      <td>WOOD BLACK BOARD ANT WHITE FINISH</td>\n",
              "      <td>204</td>\n",
              "      <td>2011-12-08 18:43:00</td>\n",
              "      <td>4.80</td>\n",
              "      <td>18102.0</td>\n",
              "      <td>United Kingdom</td>\n",
              "      <td>0.0</td>\n",
              "      <td>0.0</td>\n",
              "      <td>0</td>\n",
              "      <td>black white</td>\n",
              "      <td>wood</td>\n",
              "      <td>Other</td>\n",
              "      <td>979.2</td>\n",
              "      <td>14.726528</td>\n",
              "    </tr>\n",
              "    <tr>\n",
              "      <th>1065524</th>\n",
              "      <td>581457</td>\n",
              "      <td>23553</td>\n",
              "      <td>LANDMARK FRAME CAMDEN TOWN</td>\n",
              "      <td>120</td>\n",
              "      <td>2011-12-08 18:43:00</td>\n",
              "      <td>10.95</td>\n",
              "      <td>18102.0</td>\n",
              "      <td>United Kingdom</td>\n",
              "      <td>0.0</td>\n",
              "      <td>0.0</td>\n",
              "      <td>0</td>\n",
              "      <td></td>\n",
              "      <td></td>\n",
              "      <td>Other</td>\n",
              "      <td>1314.0</td>\n",
              "      <td>19.872500</td>\n",
              "    </tr>\n",
              "    <tr>\n",
              "      <th>1065525</th>\n",
              "      <td>581457</td>\n",
              "      <td>23542</td>\n",
              "      <td>WALL ART 70'S ALPHABET</td>\n",
              "      <td>120</td>\n",
              "      <td>2011-12-08 18:43:00</td>\n",
              "      <td>6.67</td>\n",
              "      <td>18102.0</td>\n",
              "      <td>United Kingdom</td>\n",
              "      <td>0.0</td>\n",
              "      <td>0.0</td>\n",
              "      <td>0</td>\n",
              "      <td></td>\n",
              "      <td></td>\n",
              "      <td>Other</td>\n",
              "      <td>800.4</td>\n",
              "      <td>11.978321</td>\n",
              "    </tr>\n",
              "    <tr>\n",
              "      <th>1065531</th>\n",
              "      <td>581458</td>\n",
              "      <td>22197</td>\n",
              "      <td>POPCORN HOLDER</td>\n",
              "      <td>1500</td>\n",
              "      <td>2011-12-08 18:45:00</td>\n",
              "      <td>0.72</td>\n",
              "      <td>17949.0</td>\n",
              "      <td>United Kingdom</td>\n",
              "      <td>0.0</td>\n",
              "      <td>0.0</td>\n",
              "      <td>0</td>\n",
              "      <td></td>\n",
              "      <td></td>\n",
              "      <td>Other</td>\n",
              "      <td>1080.0</td>\n",
              "      <td>16.275853</td>\n",
              "    </tr>\n",
              "    <tr>\n",
              "      <th>1065532</th>\n",
              "      <td>581459</td>\n",
              "      <td>22197</td>\n",
              "      <td>POPCORN HOLDER</td>\n",
              "      <td>1200</td>\n",
              "      <td>2011-12-08 18:46:00</td>\n",
              "      <td>0.72</td>\n",
              "      <td>17949.0</td>\n",
              "      <td>United Kingdom</td>\n",
              "      <td>0.0</td>\n",
              "      <td>0.0</td>\n",
              "      <td>0</td>\n",
              "      <td></td>\n",
              "      <td></td>\n",
              "      <td>Other</td>\n",
              "      <td>864.0</td>\n",
              "      <td>12.955871</td>\n",
              "    </tr>\n",
              "  </tbody>\n",
              "</table>\n",
              "<p>1024 rows × 16 columns</p>\n",
              "</div>\n",
              "      <button class=\"colab-df-convert\" onclick=\"convertToInteractive('df-d2a1939f-5b41-4fcd-b0d4-d7f8d0d59989')\"\n",
              "              title=\"Convert this dataframe to an interactive table.\"\n",
              "              style=\"display:none;\">\n",
              "        \n",
              "  <svg xmlns=\"http://www.w3.org/2000/svg\" height=\"24px\"viewBox=\"0 0 24 24\"\n",
              "       width=\"24px\">\n",
              "    <path d=\"M0 0h24v24H0V0z\" fill=\"none\"/>\n",
              "    <path d=\"M18.56 5.44l.94 2.06.94-2.06 2.06-.94-2.06-.94-.94-2.06-.94 2.06-2.06.94zm-11 1L8.5 8.5l.94-2.06 2.06-.94-2.06-.94L8.5 2.5l-.94 2.06-2.06.94zm10 10l.94 2.06.94-2.06 2.06-.94-2.06-.94-.94-2.06-.94 2.06-2.06.94z\"/><path d=\"M17.41 7.96l-1.37-1.37c-.4-.4-.92-.59-1.43-.59-.52 0-1.04.2-1.43.59L10.3 9.45l-7.72 7.72c-.78.78-.78 2.05 0 2.83L4 21.41c.39.39.9.59 1.41.59.51 0 1.02-.2 1.41-.59l7.78-7.78 2.81-2.81c.8-.78.8-2.07 0-2.86zM5.41 20L4 18.59l7.72-7.72 1.47 1.35L5.41 20z\"/>\n",
              "  </svg>\n",
              "      </button>\n",
              "      \n",
              "  <style>\n",
              "    .colab-df-container {\n",
              "      display:flex;\n",
              "      flex-wrap:wrap;\n",
              "      gap: 12px;\n",
              "    }\n",
              "\n",
              "    .colab-df-convert {\n",
              "      background-color: #E8F0FE;\n",
              "      border: none;\n",
              "      border-radius: 50%;\n",
              "      cursor: pointer;\n",
              "      display: none;\n",
              "      fill: #1967D2;\n",
              "      height: 32px;\n",
              "      padding: 0 0 0 0;\n",
              "      width: 32px;\n",
              "    }\n",
              "\n",
              "    .colab-df-convert:hover {\n",
              "      background-color: #E2EBFA;\n",
              "      box-shadow: 0px 1px 2px rgba(60, 64, 67, 0.3), 0px 1px 3px 1px rgba(60, 64, 67, 0.15);\n",
              "      fill: #174EA6;\n",
              "    }\n",
              "\n",
              "    [theme=dark] .colab-df-convert {\n",
              "      background-color: #3B4455;\n",
              "      fill: #D2E3FC;\n",
              "    }\n",
              "\n",
              "    [theme=dark] .colab-df-convert:hover {\n",
              "      background-color: #434B5C;\n",
              "      box-shadow: 0px 1px 3px 1px rgba(0, 0, 0, 0.15);\n",
              "      filter: drop-shadow(0px 1px 2px rgba(0, 0, 0, 0.3));\n",
              "      fill: #FFFFFF;\n",
              "    }\n",
              "  </style>\n",
              "\n",
              "      <script>\n",
              "        const buttonEl =\n",
              "          document.querySelector('#df-d2a1939f-5b41-4fcd-b0d4-d7f8d0d59989 button.colab-df-convert');\n",
              "        buttonEl.style.display =\n",
              "          google.colab.kernel.accessAllowed ? 'block' : 'none';\n",
              "\n",
              "        async function convertToInteractive(key) {\n",
              "          const element = document.querySelector('#df-d2a1939f-5b41-4fcd-b0d4-d7f8d0d59989');\n",
              "          const dataTable =\n",
              "            await google.colab.kernel.invokeFunction('convertToInteractive',\n",
              "                                                     [key], {});\n",
              "          if (!dataTable) return;\n",
              "\n",
              "          const docLinkHtml = 'Like what you see? Visit the ' +\n",
              "            '<a target=\"_blank\" href=https://colab.research.google.com/notebooks/data_table.ipynb>data table notebook</a>'\n",
              "            + ' to learn more about interactive tables.';\n",
              "          element.innerHTML = '';\n",
              "          dataTable['output_type'] = 'display_data';\n",
              "          await google.colab.output.renderOutput(dataTable, element);\n",
              "          const docLink = document.createElement('div');\n",
              "          docLink.innerHTML = docLinkHtml;\n",
              "          element.appendChild(docLink);\n",
              "        }\n",
              "      </script>\n",
              "    </div>\n",
              "  </div>\n",
              "  "
            ]
          },
          "metadata": {},
          "execution_count": 74
        }
      ],
      "source": [
        "z = np.abs(stats.zscore(df_cleaned['TotalPrice']))\n",
        "threshold = 10\n",
        "\n",
        "df_cleaned_outliers = df_cleaned.copy(deep=True)\n",
        "df_cleaned_outliers['Outliers'] = z\n",
        "\n",
        "df_cleaned_outliers[df_cleaned_outliers['Outliers']>threshold]"
      ]
    },
    {
      "cell_type": "code",
      "execution_count": 75,
      "metadata": {
        "execution": {
          "iopub.execute_input": "2020-12-10T18:43:29.136350Z",
          "iopub.status.busy": "2020-12-10T18:43:29.135693Z",
          "iopub.status.idle": "2020-12-10T18:43:29.273329Z",
          "shell.execute_reply": "2020-12-10T18:43:29.272598Z"
        },
        "papermill": {
          "duration": 0.322136,
          "end_time": "2020-12-10T18:43:29.273452",
          "exception": false,
          "start_time": "2020-12-10T18:43:28.951316",
          "status": "completed"
        },
        "tags": [],
        "id": "BGc4Exs_Qag9"
      },
      "outputs": [],
      "source": [
        "df_cleaned.drop(df_cleaned_outliers[df_cleaned_outliers['Outliers']>threshold].index, axis = 0, inplace = True)"
      ]
    },
    {
      "cell_type": "markdown",
      "metadata": {
        "papermill": {
          "duration": 0.180541,
          "end_time": "2020-12-10T18:43:29.632447",
          "exception": false,
          "start_time": "2020-12-10T18:43:29.451906",
          "status": "completed"
        },
        "tags": [],
        "id": "GzMFa0Y4Qag9"
      },
      "source": [
        "<h2 id=\"time_features\" style=\"font-family:verdana;\"> \n",
        "         3.2 Time Features\n",
        "        <a class=\"anchor-link\" href=\"https://www.kaggle.com/miljan/product-tagging-for-e-commerce-work-in-progress/time_features\">¶</a>\n",
        "\n",
        "</h2>"
      ]
    },
    {
      "cell_type": "code",
      "execution_count": 76,
      "metadata": {
        "execution": {
          "iopub.execute_input": "2020-12-10T18:43:30.012105Z",
          "iopub.status.busy": "2020-12-10T18:43:30.011037Z",
          "iopub.status.idle": "2020-12-10T18:43:30.267027Z",
          "shell.execute_reply": "2020-12-10T18:43:30.266423Z"
        },
        "papermill": {
          "duration": 0.456125,
          "end_time": "2020-12-10T18:43:30.267166",
          "exception": false,
          "start_time": "2020-12-10T18:43:29.811041",
          "status": "completed"
        },
        "tags": [],
        "id": "NFdJcjX8Qag9"
      },
      "outputs": [],
      "source": [
        "df_cleaned['InvoiceDate'] = pd.to_datetime(df_cleaned['InvoiceDate'])"
      ]
    },
    {
      "cell_type": "code",
      "execution_count": 77,
      "metadata": {
        "execution": {
          "iopub.execute_input": "2020-12-10T18:43:30.636674Z",
          "iopub.status.busy": "2020-12-10T18:43:30.635899Z",
          "iopub.status.idle": "2020-12-10T18:44:05.347216Z",
          "shell.execute_reply": "2020-12-10T18:44:05.348037Z"
        },
        "papermill": {
          "duration": 34.901074,
          "end_time": "2020-12-10T18:44:05.348312",
          "exception": false,
          "start_time": "2020-12-10T18:43:30.447238",
          "status": "completed"
        },
        "tags": [],
        "id": "ZHT2yvEYQag-"
      },
      "outputs": [],
      "source": [
        "df_cleaned['Year'] = df_cleaned[\"InvoiceDate\"].apply(lambda x: x.year)\n",
        "df_cleaned['Month'] = df_cleaned[\"InvoiceDate\"].apply(lambda x: x.month)\n",
        "df_cleaned['MonthYear'] = df_cleaned[\"InvoiceDate\"].apply(lambda x: x.strftime(\"%B %Y\"))\n",
        "df_cleaned['Weekday'] = df_cleaned[\"InvoiceDate\"].apply(lambda x: x.weekday())\n",
        "df_cleaned['Day'] = df_cleaned[\"InvoiceDate\"].apply(lambda x: x.day)\n",
        "df_cleaned['Hour'] = df_cleaned[\"InvoiceDate\"].apply(lambda x: x.hour)"
      ]
    },
    {
      "cell_type": "markdown",
      "metadata": {
        "papermill": {
          "duration": 0.177376,
          "end_time": "2020-12-10T18:44:05.712726",
          "exception": false,
          "start_time": "2020-12-10T18:44:05.535350",
          "status": "completed"
        },
        "tags": [],
        "id": "DcoHMGMVQag-"
      },
      "source": [
        "<h2 id=\"rfm\" style=\"font-family:verdana;\"> \n",
        "         3.3 RFM Principle\n",
        "        <a class=\"anchor-link\" href=\"https://www.kaggle.com/miljan/product-tagging-for-e-commerce-work-in-progress/#rfm**\">¶</a>\n",
        "\n",
        "</h2>"
      ]
    },
    {
      "cell_type": "code",
      "execution_count": 78,
      "metadata": {
        "execution": {
          "iopub.execute_input": "2020-12-10T18:44:06.083400Z",
          "iopub.status.busy": "2020-12-10T18:44:06.082289Z",
          "iopub.status.idle": "2020-12-10T18:44:06.092662Z",
          "shell.execute_reply": "2020-12-10T18:44:06.091935Z"
        },
        "papermill": {
          "duration": 0.20155,
          "end_time": "2020-12-10T18:44:06.092791",
          "exception": false,
          "start_time": "2020-12-10T18:44:05.891241",
          "status": "completed"
        },
        "tags": [],
        "id": "93EswAxoQag-",
        "outputId": "65869a6c-3776-4c15-aa42-e936cc8c1200",
        "colab": {
          "base_uri": "https://localhost:8080/"
        }
      },
      "outputs": [
        {
          "output_type": "execute_result",
          "data": {
            "text/plain": [
              "Timestamp('2009-12-01 07:45:00')"
            ]
          },
          "metadata": {},
          "execution_count": 78
        }
      ],
      "source": [
        "df_cleaned['InvoiceDate'].min()"
      ]
    },
    {
      "cell_type": "code",
      "execution_count": 79,
      "metadata": {
        "execution": {
          "iopub.execute_input": "2020-12-10T18:44:06.455287Z",
          "iopub.status.busy": "2020-12-10T18:44:06.454558Z",
          "iopub.status.idle": "2020-12-10T18:44:06.463509Z",
          "shell.execute_reply": "2020-12-10T18:44:06.462885Z"
        },
        "papermill": {
          "duration": 0.191329,
          "end_time": "2020-12-10T18:44:06.463630",
          "exception": false,
          "start_time": "2020-12-10T18:44:06.272301",
          "status": "completed"
        },
        "tags": [],
        "id": "YnksLlmzQag_",
        "outputId": "9a804f8e-e9aa-4745-d794-8ac8d1e1eebe",
        "colab": {
          "base_uri": "https://localhost:8080/"
        }
      },
      "outputs": [
        {
          "output_type": "execute_result",
          "data": {
            "text/plain": [
              "Timestamp('2011-12-09 12:50:00')"
            ]
          },
          "metadata": {},
          "execution_count": 79
        }
      ],
      "source": [
        "df_cleaned['InvoiceDate'].max()"
      ]
    },
    {
      "cell_type": "code",
      "execution_count": 80,
      "metadata": {
        "execution": {
          "iopub.execute_input": "2020-12-10T18:44:06.829489Z",
          "iopub.status.busy": "2020-12-10T18:44:06.828407Z",
          "iopub.status.idle": "2020-12-10T18:44:06.831012Z",
          "shell.execute_reply": "2020-12-10T18:44:06.831523Z"
        },
        "papermill": {
          "duration": 0.188115,
          "end_time": "2020-12-10T18:44:06.831802",
          "exception": false,
          "start_time": "2020-12-10T18:44:06.643687",
          "status": "completed"
        },
        "tags": [],
        "id": "JPwFqtcYQag_"
      },
      "outputs": [],
      "source": [
        "NOW = dt.datetime(2011,12,10)"
      ]
    },
    {
      "cell_type": "code",
      "execution_count": 81,
      "metadata": {
        "execution": {
          "iopub.execute_input": "2020-12-10T18:44:07.202604Z",
          "iopub.status.busy": "2020-12-10T18:44:07.201567Z",
          "iopub.status.idle": "2020-12-10T18:44:07.414749Z",
          "shell.execute_reply": "2020-12-10T18:44:07.415337Z"
        },
        "papermill": {
          "duration": 0.401014,
          "end_time": "2020-12-10T18:44:07.415494",
          "exception": false,
          "start_time": "2020-12-10T18:44:07.014480",
          "status": "completed"
        },
        "tags": [],
        "id": "CI35nk_OQag_",
        "outputId": "7ed3b5b2-8939-4c81-b4a6-0df87622a86c",
        "colab": {
          "base_uri": "https://localhost:8080/"
        }
      },
      "outputs": [
        {
          "output_type": "execute_result",
          "data": {
            "text/plain": [
              "21.314717603408"
            ]
          },
          "metadata": {},
          "execution_count": 81
        }
      ],
      "source": [
        "df_cleaned.shape[0] / df_cleaned['Invoice'].value_counts().count() "
      ]
    },
    {
      "cell_type": "code",
      "execution_count": 82,
      "metadata": {
        "execution": {
          "iopub.execute_input": "2020-12-10T18:44:07.789874Z",
          "iopub.status.busy": "2020-12-10T18:44:07.788876Z",
          "iopub.status.idle": "2020-12-10T18:44:07.794515Z",
          "shell.execute_reply": "2020-12-10T18:44:07.795107Z"
        },
        "papermill": {
          "duration": 0.190139,
          "end_time": "2020-12-10T18:44:07.795266",
          "exception": false,
          "start_time": "2020-12-10T18:44:07.605127",
          "status": "completed"
        },
        "tags": [],
        "id": "qnSZUig7Qag_"
      },
      "outputs": [],
      "source": [
        "custom_aggregation = {}\n",
        "custom_aggregation[\"InvoiceDate\"] = lambda x:x.iloc[0]\n",
        "custom_aggregation[\"Customer ID\"] = lambda x:x.iloc[0]\n",
        "custom_aggregation[\"TotalPrice\"] = \"sum\""
      ]
    },
    {
      "cell_type": "code",
      "execution_count": 83,
      "metadata": {
        "execution": {
          "iopub.execute_input": "2020-12-10T18:44:08.200245Z",
          "iopub.status.busy": "2020-12-10T18:44:08.199170Z",
          "iopub.status.idle": "2020-12-10T18:44:09.995991Z",
          "shell.execute_reply": "2020-12-10T18:44:09.995260Z"
        },
        "papermill": {
          "duration": 2.019345,
          "end_time": "2020-12-10T18:44:09.996113",
          "exception": false,
          "start_time": "2020-12-10T18:44:07.976768",
          "status": "completed"
        },
        "tags": [],
        "id": "qtv2RUD0QahA"
      },
      "outputs": [],
      "source": [
        "rfmTable = df_cleaned.groupby(\"Invoice\").agg(custom_aggregation)"
      ]
    },
    {
      "cell_type": "code",
      "execution_count": 84,
      "metadata": {
        "execution": {
          "iopub.execute_input": "2020-12-10T18:44:10.377023Z",
          "iopub.status.busy": "2020-12-10T18:44:10.375863Z",
          "iopub.status.idle": "2020-12-10T18:44:10.381971Z",
          "shell.execute_reply": "2020-12-10T18:44:10.382497Z"
        },
        "papermill": {
          "duration": 0.191398,
          "end_time": "2020-12-10T18:44:10.382666",
          "exception": false,
          "start_time": "2020-12-10T18:44:10.191268",
          "status": "completed"
        },
        "tags": [],
        "id": "ixiOmcsGQahA"
      },
      "outputs": [],
      "source": [
        "rfmTable[\"Recency\"] = NOW - rfmTable[\"InvoiceDate\"]\n",
        "rfmTable[\"Recency\"] = pd.to_timedelta(rfmTable[\"Recency\"]).astype(\"timedelta64[D]\")"
      ]
    },
    {
      "cell_type": "code",
      "execution_count": 85,
      "metadata": {
        "execution": {
          "iopub.execute_input": "2020-12-10T18:44:10.754650Z",
          "iopub.status.busy": "2020-12-10T18:44:10.753578Z",
          "iopub.status.idle": "2020-12-10T18:44:10.766316Z",
          "shell.execute_reply": "2020-12-10T18:44:10.766837Z"
        },
        "papermill": {
          "duration": 0.200936,
          "end_time": "2020-12-10T18:44:10.766990",
          "exception": false,
          "start_time": "2020-12-10T18:44:10.566054",
          "status": "completed"
        },
        "tags": [],
        "id": "RAjoAmoEQahA",
        "outputId": "84e37d53-3f61-46d1-bbd5-f44e636a24b2",
        "colab": {
          "base_uri": "https://localhost:8080/",
          "height": 237
        }
      },
      "outputs": [
        {
          "output_type": "execute_result",
          "data": {
            "text/plain": [
              "                InvoiceDate  Customer ID  TotalPrice  Recency\n",
              "Invoice                                                      \n",
              "489434  2009-12-01 07:45:00      13085.0      505.30    738.0\n",
              "489435  2009-12-01 07:46:00      13085.0      145.80    738.0\n",
              "489436  2009-12-01 09:06:00      13078.0      630.33    738.0\n",
              "489437  2009-12-01 09:08:00      15362.0      310.75    738.0\n",
              "489438  2009-12-01 09:24:00      18102.0     2286.24    738.0"
            ],
            "text/html": [
              "\n",
              "  <div id=\"df-02be6cf1-f84f-49bd-acf8-921f072fd5ee\">\n",
              "    <div class=\"colab-df-container\">\n",
              "      <div>\n",
              "<style scoped>\n",
              "    .dataframe tbody tr th:only-of-type {\n",
              "        vertical-align: middle;\n",
              "    }\n",
              "\n",
              "    .dataframe tbody tr th {\n",
              "        vertical-align: top;\n",
              "    }\n",
              "\n",
              "    .dataframe thead th {\n",
              "        text-align: right;\n",
              "    }\n",
              "</style>\n",
              "<table border=\"1\" class=\"dataframe\">\n",
              "  <thead>\n",
              "    <tr style=\"text-align: right;\">\n",
              "      <th></th>\n",
              "      <th>InvoiceDate</th>\n",
              "      <th>Customer ID</th>\n",
              "      <th>TotalPrice</th>\n",
              "      <th>Recency</th>\n",
              "    </tr>\n",
              "    <tr>\n",
              "      <th>Invoice</th>\n",
              "      <th></th>\n",
              "      <th></th>\n",
              "      <th></th>\n",
              "      <th></th>\n",
              "    </tr>\n",
              "  </thead>\n",
              "  <tbody>\n",
              "    <tr>\n",
              "      <th>489434</th>\n",
              "      <td>2009-12-01 07:45:00</td>\n",
              "      <td>13085.0</td>\n",
              "      <td>505.30</td>\n",
              "      <td>738.0</td>\n",
              "    </tr>\n",
              "    <tr>\n",
              "      <th>489435</th>\n",
              "      <td>2009-12-01 07:46:00</td>\n",
              "      <td>13085.0</td>\n",
              "      <td>145.80</td>\n",
              "      <td>738.0</td>\n",
              "    </tr>\n",
              "    <tr>\n",
              "      <th>489436</th>\n",
              "      <td>2009-12-01 09:06:00</td>\n",
              "      <td>13078.0</td>\n",
              "      <td>630.33</td>\n",
              "      <td>738.0</td>\n",
              "    </tr>\n",
              "    <tr>\n",
              "      <th>489437</th>\n",
              "      <td>2009-12-01 09:08:00</td>\n",
              "      <td>15362.0</td>\n",
              "      <td>310.75</td>\n",
              "      <td>738.0</td>\n",
              "    </tr>\n",
              "    <tr>\n",
              "      <th>489438</th>\n",
              "      <td>2009-12-01 09:24:00</td>\n",
              "      <td>18102.0</td>\n",
              "      <td>2286.24</td>\n",
              "      <td>738.0</td>\n",
              "    </tr>\n",
              "  </tbody>\n",
              "</table>\n",
              "</div>\n",
              "      <button class=\"colab-df-convert\" onclick=\"convertToInteractive('df-02be6cf1-f84f-49bd-acf8-921f072fd5ee')\"\n",
              "              title=\"Convert this dataframe to an interactive table.\"\n",
              "              style=\"display:none;\">\n",
              "        \n",
              "  <svg xmlns=\"http://www.w3.org/2000/svg\" height=\"24px\"viewBox=\"0 0 24 24\"\n",
              "       width=\"24px\">\n",
              "    <path d=\"M0 0h24v24H0V0z\" fill=\"none\"/>\n",
              "    <path d=\"M18.56 5.44l.94 2.06.94-2.06 2.06-.94-2.06-.94-.94-2.06-.94 2.06-2.06.94zm-11 1L8.5 8.5l.94-2.06 2.06-.94-2.06-.94L8.5 2.5l-.94 2.06-2.06.94zm10 10l.94 2.06.94-2.06 2.06-.94-2.06-.94-.94-2.06-.94 2.06-2.06.94z\"/><path d=\"M17.41 7.96l-1.37-1.37c-.4-.4-.92-.59-1.43-.59-.52 0-1.04.2-1.43.59L10.3 9.45l-7.72 7.72c-.78.78-.78 2.05 0 2.83L4 21.41c.39.39.9.59 1.41.59.51 0 1.02-.2 1.41-.59l7.78-7.78 2.81-2.81c.8-.78.8-2.07 0-2.86zM5.41 20L4 18.59l7.72-7.72 1.47 1.35L5.41 20z\"/>\n",
              "  </svg>\n",
              "      </button>\n",
              "      \n",
              "  <style>\n",
              "    .colab-df-container {\n",
              "      display:flex;\n",
              "      flex-wrap:wrap;\n",
              "      gap: 12px;\n",
              "    }\n",
              "\n",
              "    .colab-df-convert {\n",
              "      background-color: #E8F0FE;\n",
              "      border: none;\n",
              "      border-radius: 50%;\n",
              "      cursor: pointer;\n",
              "      display: none;\n",
              "      fill: #1967D2;\n",
              "      height: 32px;\n",
              "      padding: 0 0 0 0;\n",
              "      width: 32px;\n",
              "    }\n",
              "\n",
              "    .colab-df-convert:hover {\n",
              "      background-color: #E2EBFA;\n",
              "      box-shadow: 0px 1px 2px rgba(60, 64, 67, 0.3), 0px 1px 3px 1px rgba(60, 64, 67, 0.15);\n",
              "      fill: #174EA6;\n",
              "    }\n",
              "\n",
              "    [theme=dark] .colab-df-convert {\n",
              "      background-color: #3B4455;\n",
              "      fill: #D2E3FC;\n",
              "    }\n",
              "\n",
              "    [theme=dark] .colab-df-convert:hover {\n",
              "      background-color: #434B5C;\n",
              "      box-shadow: 0px 1px 3px 1px rgba(0, 0, 0, 0.15);\n",
              "      filter: drop-shadow(0px 1px 2px rgba(0, 0, 0, 0.3));\n",
              "      fill: #FFFFFF;\n",
              "    }\n",
              "  </style>\n",
              "\n",
              "      <script>\n",
              "        const buttonEl =\n",
              "          document.querySelector('#df-02be6cf1-f84f-49bd-acf8-921f072fd5ee button.colab-df-convert');\n",
              "        buttonEl.style.display =\n",
              "          google.colab.kernel.accessAllowed ? 'block' : 'none';\n",
              "\n",
              "        async function convertToInteractive(key) {\n",
              "          const element = document.querySelector('#df-02be6cf1-f84f-49bd-acf8-921f072fd5ee');\n",
              "          const dataTable =\n",
              "            await google.colab.kernel.invokeFunction('convertToInteractive',\n",
              "                                                     [key], {});\n",
              "          if (!dataTable) return;\n",
              "\n",
              "          const docLinkHtml = 'Like what you see? Visit the ' +\n",
              "            '<a target=\"_blank\" href=https://colab.research.google.com/notebooks/data_table.ipynb>data table notebook</a>'\n",
              "            + ' to learn more about interactive tables.';\n",
              "          element.innerHTML = '';\n",
              "          dataTable['output_type'] = 'display_data';\n",
              "          await google.colab.output.renderOutput(dataTable, element);\n",
              "          const docLink = document.createElement('div');\n",
              "          docLink.innerHTML = docLinkHtml;\n",
              "          element.appendChild(docLink);\n",
              "        }\n",
              "      </script>\n",
              "    </div>\n",
              "  </div>\n",
              "  "
            ]
          },
          "metadata": {},
          "execution_count": 85
        }
      ],
      "source": [
        "rfmTable.head(5)"
      ]
    },
    {
      "cell_type": "code",
      "execution_count": 86,
      "metadata": {
        "execution": {
          "iopub.execute_input": "2020-12-10T18:44:11.136731Z",
          "iopub.status.busy": "2020-12-10T18:44:11.135726Z",
          "iopub.status.idle": "2020-12-10T18:44:11.142002Z",
          "shell.execute_reply": "2020-12-10T18:44:11.141436Z"
        },
        "papermill": {
          "duration": 0.192788,
          "end_time": "2020-12-10T18:44:11.142116",
          "exception": false,
          "start_time": "2020-12-10T18:44:10.949328",
          "status": "completed"
        },
        "tags": [],
        "id": "Sv03-HzxQahB"
      },
      "outputs": [],
      "source": [
        "custom_aggregation = {}\n",
        "\n",
        "custom_aggregation[\"Recency\"] = [\"min\", \"max\"]\n",
        "custom_aggregation[\"InvoiceDate\"] = lambda x: len(x)\n",
        "custom_aggregation[\"TotalPrice\"] = \"sum\""
      ]
    },
    {
      "cell_type": "code",
      "execution_count": 87,
      "metadata": {
        "execution": {
          "iopub.execute_input": "2020-12-10T18:44:11.515558Z",
          "iopub.status.busy": "2020-12-10T18:44:11.514857Z",
          "iopub.status.idle": "2020-12-10T18:44:11.591302Z",
          "shell.execute_reply": "2020-12-10T18:44:11.590696Z"
        },
        "papermill": {
          "duration": 0.265902,
          "end_time": "2020-12-10T18:44:11.591422",
          "exception": false,
          "start_time": "2020-12-10T18:44:11.325520",
          "status": "completed"
        },
        "tags": [],
        "id": "FK9o8KlsQahB"
      },
      "outputs": [],
      "source": [
        "rfmTable_final = rfmTable.groupby(\"Customer ID\").agg(custom_aggregation)"
      ]
    },
    {
      "cell_type": "code",
      "execution_count": 88,
      "metadata": {
        "execution": {
          "iopub.execute_input": "2020-12-10T18:44:11.963547Z",
          "iopub.status.busy": "2020-12-10T18:44:11.962716Z",
          "iopub.status.idle": "2020-12-10T18:44:11.965430Z",
          "shell.execute_reply": "2020-12-10T18:44:11.964756Z"
        },
        "papermill": {
          "duration": 0.191859,
          "end_time": "2020-12-10T18:44:11.965550",
          "exception": false,
          "start_time": "2020-12-10T18:44:11.773691",
          "status": "completed"
        },
        "tags": [],
        "id": "ZYSs2CR4QahB"
      },
      "outputs": [],
      "source": [
        "rfmTable_final.columns = [\"min_recency\", \"max_recency\", \"frequency\", \"monetary_value\"]"
      ]
    },
    {
      "cell_type": "code",
      "execution_count": 89,
      "metadata": {
        "execution": {
          "iopub.execute_input": "2020-12-10T18:44:12.341401Z",
          "iopub.status.busy": "2020-12-10T18:44:12.340679Z",
          "iopub.status.idle": "2020-12-10T18:44:12.353939Z",
          "shell.execute_reply": "2020-12-10T18:44:12.353382Z"
        },
        "papermill": {
          "duration": 0.197401,
          "end_time": "2020-12-10T18:44:12.354062",
          "exception": false,
          "start_time": "2020-12-10T18:44:12.156661",
          "status": "completed"
        },
        "tags": [],
        "id": "m7lOJGhQQahB",
        "outputId": "40858cc7-2a53-447b-e40e-4c9c7a791904",
        "colab": {
          "base_uri": "https://localhost:8080/",
          "height": 237
        }
      },
      "outputs": [
        {
          "output_type": "execute_result",
          "data": {
            "text/plain": [
              "             min_recency  max_recency  frequency  monetary_value\n",
              "Customer ID                                                     \n",
              "12346.0            325.0        647.0          3          169.36\n",
              "12347.0              2.0        404.0          8         4921.53\n",
              "12348.0             75.0        438.0          5         1658.40\n",
              "12349.0             18.0        589.0          3         3678.69\n",
              "12350.0            310.0        310.0          1          294.40"
            ],
            "text/html": [
              "\n",
              "  <div id=\"df-24b7e18d-941d-4fef-be56-9c1c64387cf0\">\n",
              "    <div class=\"colab-df-container\">\n",
              "      <div>\n",
              "<style scoped>\n",
              "    .dataframe tbody tr th:only-of-type {\n",
              "        vertical-align: middle;\n",
              "    }\n",
              "\n",
              "    .dataframe tbody tr th {\n",
              "        vertical-align: top;\n",
              "    }\n",
              "\n",
              "    .dataframe thead th {\n",
              "        text-align: right;\n",
              "    }\n",
              "</style>\n",
              "<table border=\"1\" class=\"dataframe\">\n",
              "  <thead>\n",
              "    <tr style=\"text-align: right;\">\n",
              "      <th></th>\n",
              "      <th>min_recency</th>\n",
              "      <th>max_recency</th>\n",
              "      <th>frequency</th>\n",
              "      <th>monetary_value</th>\n",
              "    </tr>\n",
              "    <tr>\n",
              "      <th>Customer ID</th>\n",
              "      <th></th>\n",
              "      <th></th>\n",
              "      <th></th>\n",
              "      <th></th>\n",
              "    </tr>\n",
              "  </thead>\n",
              "  <tbody>\n",
              "    <tr>\n",
              "      <th>12346.0</th>\n",
              "      <td>325.0</td>\n",
              "      <td>647.0</td>\n",
              "      <td>3</td>\n",
              "      <td>169.36</td>\n",
              "    </tr>\n",
              "    <tr>\n",
              "      <th>12347.0</th>\n",
              "      <td>2.0</td>\n",
              "      <td>404.0</td>\n",
              "      <td>8</td>\n",
              "      <td>4921.53</td>\n",
              "    </tr>\n",
              "    <tr>\n",
              "      <th>12348.0</th>\n",
              "      <td>75.0</td>\n",
              "      <td>438.0</td>\n",
              "      <td>5</td>\n",
              "      <td>1658.40</td>\n",
              "    </tr>\n",
              "    <tr>\n",
              "      <th>12349.0</th>\n",
              "      <td>18.0</td>\n",
              "      <td>589.0</td>\n",
              "      <td>3</td>\n",
              "      <td>3678.69</td>\n",
              "    </tr>\n",
              "    <tr>\n",
              "      <th>12350.0</th>\n",
              "      <td>310.0</td>\n",
              "      <td>310.0</td>\n",
              "      <td>1</td>\n",
              "      <td>294.40</td>\n",
              "    </tr>\n",
              "  </tbody>\n",
              "</table>\n",
              "</div>\n",
              "      <button class=\"colab-df-convert\" onclick=\"convertToInteractive('df-24b7e18d-941d-4fef-be56-9c1c64387cf0')\"\n",
              "              title=\"Convert this dataframe to an interactive table.\"\n",
              "              style=\"display:none;\">\n",
              "        \n",
              "  <svg xmlns=\"http://www.w3.org/2000/svg\" height=\"24px\"viewBox=\"0 0 24 24\"\n",
              "       width=\"24px\">\n",
              "    <path d=\"M0 0h24v24H0V0z\" fill=\"none\"/>\n",
              "    <path d=\"M18.56 5.44l.94 2.06.94-2.06 2.06-.94-2.06-.94-.94-2.06-.94 2.06-2.06.94zm-11 1L8.5 8.5l.94-2.06 2.06-.94-2.06-.94L8.5 2.5l-.94 2.06-2.06.94zm10 10l.94 2.06.94-2.06 2.06-.94-2.06-.94-.94-2.06-.94 2.06-2.06.94z\"/><path d=\"M17.41 7.96l-1.37-1.37c-.4-.4-.92-.59-1.43-.59-.52 0-1.04.2-1.43.59L10.3 9.45l-7.72 7.72c-.78.78-.78 2.05 0 2.83L4 21.41c.39.39.9.59 1.41.59.51 0 1.02-.2 1.41-.59l7.78-7.78 2.81-2.81c.8-.78.8-2.07 0-2.86zM5.41 20L4 18.59l7.72-7.72 1.47 1.35L5.41 20z\"/>\n",
              "  </svg>\n",
              "      </button>\n",
              "      \n",
              "  <style>\n",
              "    .colab-df-container {\n",
              "      display:flex;\n",
              "      flex-wrap:wrap;\n",
              "      gap: 12px;\n",
              "    }\n",
              "\n",
              "    .colab-df-convert {\n",
              "      background-color: #E8F0FE;\n",
              "      border: none;\n",
              "      border-radius: 50%;\n",
              "      cursor: pointer;\n",
              "      display: none;\n",
              "      fill: #1967D2;\n",
              "      height: 32px;\n",
              "      padding: 0 0 0 0;\n",
              "      width: 32px;\n",
              "    }\n",
              "\n",
              "    .colab-df-convert:hover {\n",
              "      background-color: #E2EBFA;\n",
              "      box-shadow: 0px 1px 2px rgba(60, 64, 67, 0.3), 0px 1px 3px 1px rgba(60, 64, 67, 0.15);\n",
              "      fill: #174EA6;\n",
              "    }\n",
              "\n",
              "    [theme=dark] .colab-df-convert {\n",
              "      background-color: #3B4455;\n",
              "      fill: #D2E3FC;\n",
              "    }\n",
              "\n",
              "    [theme=dark] .colab-df-convert:hover {\n",
              "      background-color: #434B5C;\n",
              "      box-shadow: 0px 1px 3px 1px rgba(0, 0, 0, 0.15);\n",
              "      filter: drop-shadow(0px 1px 2px rgba(0, 0, 0, 0.3));\n",
              "      fill: #FFFFFF;\n",
              "    }\n",
              "  </style>\n",
              "\n",
              "      <script>\n",
              "        const buttonEl =\n",
              "          document.querySelector('#df-24b7e18d-941d-4fef-be56-9c1c64387cf0 button.colab-df-convert');\n",
              "        buttonEl.style.display =\n",
              "          google.colab.kernel.accessAllowed ? 'block' : 'none';\n",
              "\n",
              "        async function convertToInteractive(key) {\n",
              "          const element = document.querySelector('#df-24b7e18d-941d-4fef-be56-9c1c64387cf0');\n",
              "          const dataTable =\n",
              "            await google.colab.kernel.invokeFunction('convertToInteractive',\n",
              "                                                     [key], {});\n",
              "          if (!dataTable) return;\n",
              "\n",
              "          const docLinkHtml = 'Like what you see? Visit the ' +\n",
              "            '<a target=\"_blank\" href=https://colab.research.google.com/notebooks/data_table.ipynb>data table notebook</a>'\n",
              "            + ' to learn more about interactive tables.';\n",
              "          element.innerHTML = '';\n",
              "          dataTable['output_type'] = 'display_data';\n",
              "          await google.colab.output.renderOutput(dataTable, element);\n",
              "          const docLink = document.createElement('div');\n",
              "          docLink.innerHTML = docLinkHtml;\n",
              "          element.appendChild(docLink);\n",
              "        }\n",
              "      </script>\n",
              "    </div>\n",
              "  </div>\n",
              "  "
            ]
          },
          "metadata": {},
          "execution_count": 89
        }
      ],
      "source": [
        "rfmTable_final.head(5)"
      ]
    },
    {
      "cell_type": "code",
      "execution_count": 90,
      "metadata": {
        "execution": {
          "iopub.execute_input": "2020-12-10T18:44:12.723659Z",
          "iopub.status.busy": "2020-12-10T18:44:12.722571Z",
          "iopub.status.idle": "2020-12-10T18:44:12.997457Z",
          "shell.execute_reply": "2020-12-10T18:44:12.998262Z"
        },
        "papermill": {
          "duration": 0.460387,
          "end_time": "2020-12-10T18:44:12.998511",
          "exception": false,
          "start_time": "2020-12-10T18:44:12.538124",
          "status": "completed"
        },
        "tags": [],
        "id": "tjK9XKv5QahC",
        "outputId": "024cf826-885f-4021-8d76-63fd6f1beb60",
        "colab": {
          "base_uri": "https://localhost:8080/",
          "height": 508
        }
      },
      "outputs": [
        {
          "output_type": "execute_result",
          "data": {
            "text/plain": [
              "       Invoice StockCode                 Description  Quantity  \\\n",
              "107800  499763     20682  RED SPOTTY CHILDS UMBRELLA         1   \n",
              "107801  499763     20679       EDWARDIAN PARASOL RED         1   \n",
              "107802  499763    15056N   EDWARDIAN PARASOL NATURAL         1   \n",
              "107803  499763   15056BL     EDWARDIAN PARASOL BLACK         1   \n",
              "107804  499763    15056P      EDWARDIAN PARASOL PINK         1   \n",
              "\n",
              "               InvoiceDate  Price  Customer ID         Country  Discount  \\\n",
              "107800 2010-03-02 13:08:00   3.25      12346.0  United Kingdom       0.0   \n",
              "107801 2010-03-02 13:08:00   5.95      12346.0  United Kingdom       0.0   \n",
              "107802 2010-03-02 13:08:00   5.95      12346.0  United Kingdom       0.0   \n",
              "107803 2010-03-02 13:08:00   5.95      12346.0  United Kingdom       0.0   \n",
              "107804 2010-03-02 13:08:00   5.95      12346.0  United Kingdom       0.0   \n",
              "\n",
              "        Postage  ...  ProductColor Design Labels TotalPrice  Year  Month  \\\n",
              "107800      0.0  ...           red         Other       3.25  2010      3   \n",
              "107801      0.0  ...           red         Other       5.95  2010      3   \n",
              "107802      0.0  ...                       Other       5.95  2010      3   \n",
              "107803      0.0  ...         black         Other       5.95  2010      3   \n",
              "107804      0.0  ...          pink         Other       5.95  2010      3   \n",
              "\n",
              "         MonthYear Weekday  Day  Hour  \n",
              "107800  March 2010       1    2    13  \n",
              "107801  March 2010       1    2    13  \n",
              "107802  March 2010       1    2    13  \n",
              "107803  March 2010       1    2    13  \n",
              "107804  March 2010       1    2    13  \n",
              "\n",
              "[5 rows x 21 columns]"
            ],
            "text/html": [
              "\n",
              "  <div id=\"df-a758f556-d78a-4cde-bd4d-5138847f1a62\">\n",
              "    <div class=\"colab-df-container\">\n",
              "      <div>\n",
              "<style scoped>\n",
              "    .dataframe tbody tr th:only-of-type {\n",
              "        vertical-align: middle;\n",
              "    }\n",
              "\n",
              "    .dataframe tbody tr th {\n",
              "        vertical-align: top;\n",
              "    }\n",
              "\n",
              "    .dataframe thead th {\n",
              "        text-align: right;\n",
              "    }\n",
              "</style>\n",
              "<table border=\"1\" class=\"dataframe\">\n",
              "  <thead>\n",
              "    <tr style=\"text-align: right;\">\n",
              "      <th></th>\n",
              "      <th>Invoice</th>\n",
              "      <th>StockCode</th>\n",
              "      <th>Description</th>\n",
              "      <th>Quantity</th>\n",
              "      <th>InvoiceDate</th>\n",
              "      <th>Price</th>\n",
              "      <th>Customer ID</th>\n",
              "      <th>Country</th>\n",
              "      <th>Discount</th>\n",
              "      <th>Postage</th>\n",
              "      <th>...</th>\n",
              "      <th>ProductColor</th>\n",
              "      <th>Design</th>\n",
              "      <th>Labels</th>\n",
              "      <th>TotalPrice</th>\n",
              "      <th>Year</th>\n",
              "      <th>Month</th>\n",
              "      <th>MonthYear</th>\n",
              "      <th>Weekday</th>\n",
              "      <th>Day</th>\n",
              "      <th>Hour</th>\n",
              "    </tr>\n",
              "  </thead>\n",
              "  <tbody>\n",
              "    <tr>\n",
              "      <th>107800</th>\n",
              "      <td>499763</td>\n",
              "      <td>20682</td>\n",
              "      <td>RED SPOTTY CHILDS UMBRELLA</td>\n",
              "      <td>1</td>\n",
              "      <td>2010-03-02 13:08:00</td>\n",
              "      <td>3.25</td>\n",
              "      <td>12346.0</td>\n",
              "      <td>United Kingdom</td>\n",
              "      <td>0.0</td>\n",
              "      <td>0.0</td>\n",
              "      <td>...</td>\n",
              "      <td>red</td>\n",
              "      <td></td>\n",
              "      <td>Other</td>\n",
              "      <td>3.25</td>\n",
              "      <td>2010</td>\n",
              "      <td>3</td>\n",
              "      <td>March 2010</td>\n",
              "      <td>1</td>\n",
              "      <td>2</td>\n",
              "      <td>13</td>\n",
              "    </tr>\n",
              "    <tr>\n",
              "      <th>107801</th>\n",
              "      <td>499763</td>\n",
              "      <td>20679</td>\n",
              "      <td>EDWARDIAN PARASOL RED</td>\n",
              "      <td>1</td>\n",
              "      <td>2010-03-02 13:08:00</td>\n",
              "      <td>5.95</td>\n",
              "      <td>12346.0</td>\n",
              "      <td>United Kingdom</td>\n",
              "      <td>0.0</td>\n",
              "      <td>0.0</td>\n",
              "      <td>...</td>\n",
              "      <td>red</td>\n",
              "      <td></td>\n",
              "      <td>Other</td>\n",
              "      <td>5.95</td>\n",
              "      <td>2010</td>\n",
              "      <td>3</td>\n",
              "      <td>March 2010</td>\n",
              "      <td>1</td>\n",
              "      <td>2</td>\n",
              "      <td>13</td>\n",
              "    </tr>\n",
              "    <tr>\n",
              "      <th>107802</th>\n",
              "      <td>499763</td>\n",
              "      <td>15056N</td>\n",
              "      <td>EDWARDIAN PARASOL NATURAL</td>\n",
              "      <td>1</td>\n",
              "      <td>2010-03-02 13:08:00</td>\n",
              "      <td>5.95</td>\n",
              "      <td>12346.0</td>\n",
              "      <td>United Kingdom</td>\n",
              "      <td>0.0</td>\n",
              "      <td>0.0</td>\n",
              "      <td>...</td>\n",
              "      <td></td>\n",
              "      <td></td>\n",
              "      <td>Other</td>\n",
              "      <td>5.95</td>\n",
              "      <td>2010</td>\n",
              "      <td>3</td>\n",
              "      <td>March 2010</td>\n",
              "      <td>1</td>\n",
              "      <td>2</td>\n",
              "      <td>13</td>\n",
              "    </tr>\n",
              "    <tr>\n",
              "      <th>107803</th>\n",
              "      <td>499763</td>\n",
              "      <td>15056BL</td>\n",
              "      <td>EDWARDIAN PARASOL BLACK</td>\n",
              "      <td>1</td>\n",
              "      <td>2010-03-02 13:08:00</td>\n",
              "      <td>5.95</td>\n",
              "      <td>12346.0</td>\n",
              "      <td>United Kingdom</td>\n",
              "      <td>0.0</td>\n",
              "      <td>0.0</td>\n",
              "      <td>...</td>\n",
              "      <td>black</td>\n",
              "      <td></td>\n",
              "      <td>Other</td>\n",
              "      <td>5.95</td>\n",
              "      <td>2010</td>\n",
              "      <td>3</td>\n",
              "      <td>March 2010</td>\n",
              "      <td>1</td>\n",
              "      <td>2</td>\n",
              "      <td>13</td>\n",
              "    </tr>\n",
              "    <tr>\n",
              "      <th>107804</th>\n",
              "      <td>499763</td>\n",
              "      <td>15056P</td>\n",
              "      <td>EDWARDIAN PARASOL PINK</td>\n",
              "      <td>1</td>\n",
              "      <td>2010-03-02 13:08:00</td>\n",
              "      <td>5.95</td>\n",
              "      <td>12346.0</td>\n",
              "      <td>United Kingdom</td>\n",
              "      <td>0.0</td>\n",
              "      <td>0.0</td>\n",
              "      <td>...</td>\n",
              "      <td>pink</td>\n",
              "      <td></td>\n",
              "      <td>Other</td>\n",
              "      <td>5.95</td>\n",
              "      <td>2010</td>\n",
              "      <td>3</td>\n",
              "      <td>March 2010</td>\n",
              "      <td>1</td>\n",
              "      <td>2</td>\n",
              "      <td>13</td>\n",
              "    </tr>\n",
              "  </tbody>\n",
              "</table>\n",
              "<p>5 rows × 21 columns</p>\n",
              "</div>\n",
              "      <button class=\"colab-df-convert\" onclick=\"convertToInteractive('df-a758f556-d78a-4cde-bd4d-5138847f1a62')\"\n",
              "              title=\"Convert this dataframe to an interactive table.\"\n",
              "              style=\"display:none;\">\n",
              "        \n",
              "  <svg xmlns=\"http://www.w3.org/2000/svg\" height=\"24px\"viewBox=\"0 0 24 24\"\n",
              "       width=\"24px\">\n",
              "    <path d=\"M0 0h24v24H0V0z\" fill=\"none\"/>\n",
              "    <path d=\"M18.56 5.44l.94 2.06.94-2.06 2.06-.94-2.06-.94-.94-2.06-.94 2.06-2.06.94zm-11 1L8.5 8.5l.94-2.06 2.06-.94-2.06-.94L8.5 2.5l-.94 2.06-2.06.94zm10 10l.94 2.06.94-2.06 2.06-.94-2.06-.94-.94-2.06-.94 2.06-2.06.94z\"/><path d=\"M17.41 7.96l-1.37-1.37c-.4-.4-.92-.59-1.43-.59-.52 0-1.04.2-1.43.59L10.3 9.45l-7.72 7.72c-.78.78-.78 2.05 0 2.83L4 21.41c.39.39.9.59 1.41.59.51 0 1.02-.2 1.41-.59l7.78-7.78 2.81-2.81c.8-.78.8-2.07 0-2.86zM5.41 20L4 18.59l7.72-7.72 1.47 1.35L5.41 20z\"/>\n",
              "  </svg>\n",
              "      </button>\n",
              "      \n",
              "  <style>\n",
              "    .colab-df-container {\n",
              "      display:flex;\n",
              "      flex-wrap:wrap;\n",
              "      gap: 12px;\n",
              "    }\n",
              "\n",
              "    .colab-df-convert {\n",
              "      background-color: #E8F0FE;\n",
              "      border: none;\n",
              "      border-radius: 50%;\n",
              "      cursor: pointer;\n",
              "      display: none;\n",
              "      fill: #1967D2;\n",
              "      height: 32px;\n",
              "      padding: 0 0 0 0;\n",
              "      width: 32px;\n",
              "    }\n",
              "\n",
              "    .colab-df-convert:hover {\n",
              "      background-color: #E2EBFA;\n",
              "      box-shadow: 0px 1px 2px rgba(60, 64, 67, 0.3), 0px 1px 3px 1px rgba(60, 64, 67, 0.15);\n",
              "      fill: #174EA6;\n",
              "    }\n",
              "\n",
              "    [theme=dark] .colab-df-convert {\n",
              "      background-color: #3B4455;\n",
              "      fill: #D2E3FC;\n",
              "    }\n",
              "\n",
              "    [theme=dark] .colab-df-convert:hover {\n",
              "      background-color: #434B5C;\n",
              "      box-shadow: 0px 1px 3px 1px rgba(0, 0, 0, 0.15);\n",
              "      filter: drop-shadow(0px 1px 2px rgba(0, 0, 0, 0.3));\n",
              "      fill: #FFFFFF;\n",
              "    }\n",
              "  </style>\n",
              "\n",
              "      <script>\n",
              "        const buttonEl =\n",
              "          document.querySelector('#df-a758f556-d78a-4cde-bd4d-5138847f1a62 button.colab-df-convert');\n",
              "        buttonEl.style.display =\n",
              "          google.colab.kernel.accessAllowed ? 'block' : 'none';\n",
              "\n",
              "        async function convertToInteractive(key) {\n",
              "          const element = document.querySelector('#df-a758f556-d78a-4cde-bd4d-5138847f1a62');\n",
              "          const dataTable =\n",
              "            await google.colab.kernel.invokeFunction('convertToInteractive',\n",
              "                                                     [key], {});\n",
              "          if (!dataTable) return;\n",
              "\n",
              "          const docLinkHtml = 'Like what you see? Visit the ' +\n",
              "            '<a target=\"_blank\" href=https://colab.research.google.com/notebooks/data_table.ipynb>data table notebook</a>'\n",
              "            + ' to learn more about interactive tables.';\n",
              "          element.innerHTML = '';\n",
              "          dataTable['output_type'] = 'display_data';\n",
              "          await google.colab.output.renderOutput(dataTable, element);\n",
              "          const docLink = document.createElement('div');\n",
              "          docLink.innerHTML = docLinkHtml;\n",
              "          element.appendChild(docLink);\n",
              "        }\n",
              "      </script>\n",
              "    </div>\n",
              "  </div>\n",
              "  "
            ]
          },
          "metadata": {},
          "execution_count": 90
        }
      ],
      "source": [
        "first_customer = df_cleaned[df_cleaned['Customer ID']==12346.0]\n",
        "first_customer.head(5)"
      ]
    },
    {
      "cell_type": "code",
      "execution_count": 91,
      "metadata": {
        "execution": {
          "iopub.execute_input": "2020-12-10T18:44:13.366971Z",
          "iopub.status.busy": "2020-12-10T18:44:13.366301Z",
          "iopub.status.idle": "2020-12-10T18:44:13.374582Z",
          "shell.execute_reply": "2020-12-10T18:44:13.373982Z"
        },
        "papermill": {
          "duration": 0.192233,
          "end_time": "2020-12-10T18:44:13.374725",
          "exception": false,
          "start_time": "2020-12-10T18:44:13.182492",
          "status": "completed"
        },
        "tags": [],
        "id": "BmyESUqAQahC"
      },
      "outputs": [],
      "source": [
        "quantiles = rfmTable_final.quantile(q=[0.25,0.5,0.75])\n",
        "quantiles = quantiles.to_dict()"
      ]
    },
    {
      "cell_type": "code",
      "execution_count": 92,
      "metadata": {
        "execution": {
          "iopub.execute_input": "2020-12-10T18:44:13.743685Z",
          "iopub.status.busy": "2020-12-10T18:44:13.742976Z",
          "iopub.status.idle": "2020-12-10T18:44:13.746667Z",
          "shell.execute_reply": "2020-12-10T18:44:13.745974Z"
        },
        "papermill": {
          "duration": 0.189868,
          "end_time": "2020-12-10T18:44:13.746796",
          "exception": false,
          "start_time": "2020-12-10T18:44:13.556928",
          "status": "completed"
        },
        "tags": [],
        "id": "Guf_KIAQQahD"
      },
      "outputs": [],
      "source": [
        "segmented_rfm = rfmTable_final"
      ]
    },
    {
      "cell_type": "code",
      "execution_count": 93,
      "metadata": {
        "execution": {
          "iopub.execute_input": "2020-12-10T18:44:14.139033Z",
          "iopub.status.busy": "2020-12-10T18:44:14.138332Z",
          "iopub.status.idle": "2020-12-10T18:44:14.151711Z",
          "shell.execute_reply": "2020-12-10T18:44:14.151020Z"
        },
        "papermill": {
          "duration": 0.215018,
          "end_time": "2020-12-10T18:44:14.151848",
          "exception": false,
          "start_time": "2020-12-10T18:44:13.936830",
          "status": "completed"
        },
        "tags": [],
        "id": "8Ldg2gomQahD"
      },
      "outputs": [],
      "source": [
        "def RScore(x,p,d):\n",
        "    if x <= d[p][0.25]:\n",
        "        return 1\n",
        "    elif x <= d[p][0.50]:\n",
        "        return 2\n",
        "    elif x <= d[p][0.75]: \n",
        "        return 3\n",
        "    else:\n",
        "        return 4\n",
        "    \n",
        "def FMScore(x,p,d):\n",
        "    if x <= d[p][0.25]:\n",
        "        return 4\n",
        "    elif x <= d[p][0.50]:\n",
        "        return 3\n",
        "    elif x <= d[p][0.75]: \n",
        "        return 2\n",
        "    else:\n",
        "        return 1"
      ]
    },
    {
      "cell_type": "code",
      "execution_count": 94,
      "metadata": {
        "execution": {
          "iopub.execute_input": "2020-12-10T18:44:14.536515Z",
          "iopub.status.busy": "2020-12-10T18:44:14.535780Z",
          "iopub.status.idle": "2020-12-10T18:44:14.571065Z",
          "shell.execute_reply": "2020-12-10T18:44:14.571599Z"
        },
        "papermill": {
          "duration": 0.234246,
          "end_time": "2020-12-10T18:44:14.571758",
          "exception": false,
          "start_time": "2020-12-10T18:44:14.337512",
          "status": "completed"
        },
        "tags": [],
        "id": "hi9D0V95QahE",
        "outputId": "5f1e8de6-ba4b-4fb3-e372-145b0d8d78d1",
        "colab": {
          "base_uri": "https://localhost:8080/",
          "height": 237
        }
      },
      "outputs": [
        {
          "output_type": "execute_result",
          "data": {
            "text/plain": [
              "             min_recency  max_recency  frequency  monetary_value  r_quartile  \\\n",
              "Customer ID                                                                    \n",
              "12346.0            325.0        647.0          3          169.36           3   \n",
              "12347.0              2.0        404.0          8         4921.53           1   \n",
              "12348.0             75.0        438.0          5         1658.40           2   \n",
              "12349.0             18.0        589.0          3         3678.69           1   \n",
              "12350.0            310.0        310.0          1          294.40           3   \n",
              "\n",
              "             f_quartile  m_quartile  \n",
              "Customer ID                          \n",
              "12346.0               3           4  \n",
              "12347.0               1           1  \n",
              "12348.0               2           2  \n",
              "12349.0               3           1  \n",
              "12350.0               4           4  "
            ],
            "text/html": [
              "\n",
              "  <div id=\"df-9691c91b-805a-4ac8-8ad4-384f6dc3dfeb\">\n",
              "    <div class=\"colab-df-container\">\n",
              "      <div>\n",
              "<style scoped>\n",
              "    .dataframe tbody tr th:only-of-type {\n",
              "        vertical-align: middle;\n",
              "    }\n",
              "\n",
              "    .dataframe tbody tr th {\n",
              "        vertical-align: top;\n",
              "    }\n",
              "\n",
              "    .dataframe thead th {\n",
              "        text-align: right;\n",
              "    }\n",
              "</style>\n",
              "<table border=\"1\" class=\"dataframe\">\n",
              "  <thead>\n",
              "    <tr style=\"text-align: right;\">\n",
              "      <th></th>\n",
              "      <th>min_recency</th>\n",
              "      <th>max_recency</th>\n",
              "      <th>frequency</th>\n",
              "      <th>monetary_value</th>\n",
              "      <th>r_quartile</th>\n",
              "      <th>f_quartile</th>\n",
              "      <th>m_quartile</th>\n",
              "    </tr>\n",
              "    <tr>\n",
              "      <th>Customer ID</th>\n",
              "      <th></th>\n",
              "      <th></th>\n",
              "      <th></th>\n",
              "      <th></th>\n",
              "      <th></th>\n",
              "      <th></th>\n",
              "      <th></th>\n",
              "    </tr>\n",
              "  </thead>\n",
              "  <tbody>\n",
              "    <tr>\n",
              "      <th>12346.0</th>\n",
              "      <td>325.0</td>\n",
              "      <td>647.0</td>\n",
              "      <td>3</td>\n",
              "      <td>169.36</td>\n",
              "      <td>3</td>\n",
              "      <td>3</td>\n",
              "      <td>4</td>\n",
              "    </tr>\n",
              "    <tr>\n",
              "      <th>12347.0</th>\n",
              "      <td>2.0</td>\n",
              "      <td>404.0</td>\n",
              "      <td>8</td>\n",
              "      <td>4921.53</td>\n",
              "      <td>1</td>\n",
              "      <td>1</td>\n",
              "      <td>1</td>\n",
              "    </tr>\n",
              "    <tr>\n",
              "      <th>12348.0</th>\n",
              "      <td>75.0</td>\n",
              "      <td>438.0</td>\n",
              "      <td>5</td>\n",
              "      <td>1658.40</td>\n",
              "      <td>2</td>\n",
              "      <td>2</td>\n",
              "      <td>2</td>\n",
              "    </tr>\n",
              "    <tr>\n",
              "      <th>12349.0</th>\n",
              "      <td>18.0</td>\n",
              "      <td>589.0</td>\n",
              "      <td>3</td>\n",
              "      <td>3678.69</td>\n",
              "      <td>1</td>\n",
              "      <td>3</td>\n",
              "      <td>1</td>\n",
              "    </tr>\n",
              "    <tr>\n",
              "      <th>12350.0</th>\n",
              "      <td>310.0</td>\n",
              "      <td>310.0</td>\n",
              "      <td>1</td>\n",
              "      <td>294.40</td>\n",
              "      <td>3</td>\n",
              "      <td>4</td>\n",
              "      <td>4</td>\n",
              "    </tr>\n",
              "  </tbody>\n",
              "</table>\n",
              "</div>\n",
              "      <button class=\"colab-df-convert\" onclick=\"convertToInteractive('df-9691c91b-805a-4ac8-8ad4-384f6dc3dfeb')\"\n",
              "              title=\"Convert this dataframe to an interactive table.\"\n",
              "              style=\"display:none;\">\n",
              "        \n",
              "  <svg xmlns=\"http://www.w3.org/2000/svg\" height=\"24px\"viewBox=\"0 0 24 24\"\n",
              "       width=\"24px\">\n",
              "    <path d=\"M0 0h24v24H0V0z\" fill=\"none\"/>\n",
              "    <path d=\"M18.56 5.44l.94 2.06.94-2.06 2.06-.94-2.06-.94-.94-2.06-.94 2.06-2.06.94zm-11 1L8.5 8.5l.94-2.06 2.06-.94-2.06-.94L8.5 2.5l-.94 2.06-2.06.94zm10 10l.94 2.06.94-2.06 2.06-.94-2.06-.94-.94-2.06-.94 2.06-2.06.94z\"/><path d=\"M17.41 7.96l-1.37-1.37c-.4-.4-.92-.59-1.43-.59-.52 0-1.04.2-1.43.59L10.3 9.45l-7.72 7.72c-.78.78-.78 2.05 0 2.83L4 21.41c.39.39.9.59 1.41.59.51 0 1.02-.2 1.41-.59l7.78-7.78 2.81-2.81c.8-.78.8-2.07 0-2.86zM5.41 20L4 18.59l7.72-7.72 1.47 1.35L5.41 20z\"/>\n",
              "  </svg>\n",
              "      </button>\n",
              "      \n",
              "  <style>\n",
              "    .colab-df-container {\n",
              "      display:flex;\n",
              "      flex-wrap:wrap;\n",
              "      gap: 12px;\n",
              "    }\n",
              "\n",
              "    .colab-df-convert {\n",
              "      background-color: #E8F0FE;\n",
              "      border: none;\n",
              "      border-radius: 50%;\n",
              "      cursor: pointer;\n",
              "      display: none;\n",
              "      fill: #1967D2;\n",
              "      height: 32px;\n",
              "      padding: 0 0 0 0;\n",
              "      width: 32px;\n",
              "    }\n",
              "\n",
              "    .colab-df-convert:hover {\n",
              "      background-color: #E2EBFA;\n",
              "      box-shadow: 0px 1px 2px rgba(60, 64, 67, 0.3), 0px 1px 3px 1px rgba(60, 64, 67, 0.15);\n",
              "      fill: #174EA6;\n",
              "    }\n",
              "\n",
              "    [theme=dark] .colab-df-convert {\n",
              "      background-color: #3B4455;\n",
              "      fill: #D2E3FC;\n",
              "    }\n",
              "\n",
              "    [theme=dark] .colab-df-convert:hover {\n",
              "      background-color: #434B5C;\n",
              "      box-shadow: 0px 1px 3px 1px rgba(0, 0, 0, 0.15);\n",
              "      filter: drop-shadow(0px 1px 2px rgba(0, 0, 0, 0.3));\n",
              "      fill: #FFFFFF;\n",
              "    }\n",
              "  </style>\n",
              "\n",
              "      <script>\n",
              "        const buttonEl =\n",
              "          document.querySelector('#df-9691c91b-805a-4ac8-8ad4-384f6dc3dfeb button.colab-df-convert');\n",
              "        buttonEl.style.display =\n",
              "          google.colab.kernel.accessAllowed ? 'block' : 'none';\n",
              "\n",
              "        async function convertToInteractive(key) {\n",
              "          const element = document.querySelector('#df-9691c91b-805a-4ac8-8ad4-384f6dc3dfeb');\n",
              "          const dataTable =\n",
              "            await google.colab.kernel.invokeFunction('convertToInteractive',\n",
              "                                                     [key], {});\n",
              "          if (!dataTable) return;\n",
              "\n",
              "          const docLinkHtml = 'Like what you see? Visit the ' +\n",
              "            '<a target=\"_blank\" href=https://colab.research.google.com/notebooks/data_table.ipynb>data table notebook</a>'\n",
              "            + ' to learn more about interactive tables.';\n",
              "          element.innerHTML = '';\n",
              "          dataTable['output_type'] = 'display_data';\n",
              "          await google.colab.output.renderOutput(dataTable, element);\n",
              "          const docLink = document.createElement('div');\n",
              "          docLink.innerHTML = docLinkHtml;\n",
              "          element.appendChild(docLink);\n",
              "        }\n",
              "      </script>\n",
              "    </div>\n",
              "  </div>\n",
              "  "
            ]
          },
          "metadata": {},
          "execution_count": 94
        }
      ],
      "source": [
        "segmented_rfm['r_quartile'] = segmented_rfm['min_recency'].apply(RScore, args=('min_recency',quantiles,))\n",
        "segmented_rfm['f_quartile'] = segmented_rfm['frequency'].apply(FMScore, args=('frequency',quantiles,))\n",
        "segmented_rfm['m_quartile'] = segmented_rfm['monetary_value'].apply(FMScore, args=('monetary_value',quantiles,))\n",
        "segmented_rfm.head()"
      ]
    },
    {
      "cell_type": "code",
      "execution_count": 95,
      "metadata": {
        "execution": {
          "iopub.execute_input": "2020-12-10T18:44:14.946521Z",
          "iopub.status.busy": "2020-12-10T18:44:14.945818Z",
          "iopub.status.idle": "2020-12-10T18:44:14.970284Z",
          "shell.execute_reply": "2020-12-10T18:44:14.970857Z"
        },
        "papermill": {
          "duration": 0.214323,
          "end_time": "2020-12-10T18:44:14.971005",
          "exception": false,
          "start_time": "2020-12-10T18:44:14.756682",
          "status": "completed"
        },
        "tags": [],
        "id": "596qtfRhQahE",
        "outputId": "b8750372-1098-4f0d-f598-79803be66c2b",
        "colab": {
          "base_uri": "https://localhost:8080/",
          "height": 237
        }
      },
      "outputs": [
        {
          "output_type": "execute_result",
          "data": {
            "text/plain": [
              "             min_recency  max_recency  frequency  monetary_value  r_quartile  \\\n",
              "Customer ID                                                                    \n",
              "12346.0            325.0        647.0          3          169.36           3   \n",
              "12347.0              2.0        404.0          8         4921.53           1   \n",
              "12348.0             75.0        438.0          5         1658.40           2   \n",
              "12349.0             18.0        589.0          3         3678.69           1   \n",
              "12350.0            310.0        310.0          1          294.40           3   \n",
              "\n",
              "             f_quartile  m_quartile RFMScore  \n",
              "Customer ID                                   \n",
              "12346.0               3           4      334  \n",
              "12347.0               1           1      111  \n",
              "12348.0               2           2      222  \n",
              "12349.0               3           1      131  \n",
              "12350.0               4           4      344  "
            ],
            "text/html": [
              "\n",
              "  <div id=\"df-3cfcf70a-f18e-4ce4-8ff2-62392d909f87\">\n",
              "    <div class=\"colab-df-container\">\n",
              "      <div>\n",
              "<style scoped>\n",
              "    .dataframe tbody tr th:only-of-type {\n",
              "        vertical-align: middle;\n",
              "    }\n",
              "\n",
              "    .dataframe tbody tr th {\n",
              "        vertical-align: top;\n",
              "    }\n",
              "\n",
              "    .dataframe thead th {\n",
              "        text-align: right;\n",
              "    }\n",
              "</style>\n",
              "<table border=\"1\" class=\"dataframe\">\n",
              "  <thead>\n",
              "    <tr style=\"text-align: right;\">\n",
              "      <th></th>\n",
              "      <th>min_recency</th>\n",
              "      <th>max_recency</th>\n",
              "      <th>frequency</th>\n",
              "      <th>monetary_value</th>\n",
              "      <th>r_quartile</th>\n",
              "      <th>f_quartile</th>\n",
              "      <th>m_quartile</th>\n",
              "      <th>RFMScore</th>\n",
              "    </tr>\n",
              "    <tr>\n",
              "      <th>Customer ID</th>\n",
              "      <th></th>\n",
              "      <th></th>\n",
              "      <th></th>\n",
              "      <th></th>\n",
              "      <th></th>\n",
              "      <th></th>\n",
              "      <th></th>\n",
              "      <th></th>\n",
              "    </tr>\n",
              "  </thead>\n",
              "  <tbody>\n",
              "    <tr>\n",
              "      <th>12346.0</th>\n",
              "      <td>325.0</td>\n",
              "      <td>647.0</td>\n",
              "      <td>3</td>\n",
              "      <td>169.36</td>\n",
              "      <td>3</td>\n",
              "      <td>3</td>\n",
              "      <td>4</td>\n",
              "      <td>334</td>\n",
              "    </tr>\n",
              "    <tr>\n",
              "      <th>12347.0</th>\n",
              "      <td>2.0</td>\n",
              "      <td>404.0</td>\n",
              "      <td>8</td>\n",
              "      <td>4921.53</td>\n",
              "      <td>1</td>\n",
              "      <td>1</td>\n",
              "      <td>1</td>\n",
              "      <td>111</td>\n",
              "    </tr>\n",
              "    <tr>\n",
              "      <th>12348.0</th>\n",
              "      <td>75.0</td>\n",
              "      <td>438.0</td>\n",
              "      <td>5</td>\n",
              "      <td>1658.40</td>\n",
              "      <td>2</td>\n",
              "      <td>2</td>\n",
              "      <td>2</td>\n",
              "      <td>222</td>\n",
              "    </tr>\n",
              "    <tr>\n",
              "      <th>12349.0</th>\n",
              "      <td>18.0</td>\n",
              "      <td>589.0</td>\n",
              "      <td>3</td>\n",
              "      <td>3678.69</td>\n",
              "      <td>1</td>\n",
              "      <td>3</td>\n",
              "      <td>1</td>\n",
              "      <td>131</td>\n",
              "    </tr>\n",
              "    <tr>\n",
              "      <th>12350.0</th>\n",
              "      <td>310.0</td>\n",
              "      <td>310.0</td>\n",
              "      <td>1</td>\n",
              "      <td>294.40</td>\n",
              "      <td>3</td>\n",
              "      <td>4</td>\n",
              "      <td>4</td>\n",
              "      <td>344</td>\n",
              "    </tr>\n",
              "  </tbody>\n",
              "</table>\n",
              "</div>\n",
              "      <button class=\"colab-df-convert\" onclick=\"convertToInteractive('df-3cfcf70a-f18e-4ce4-8ff2-62392d909f87')\"\n",
              "              title=\"Convert this dataframe to an interactive table.\"\n",
              "              style=\"display:none;\">\n",
              "        \n",
              "  <svg xmlns=\"http://www.w3.org/2000/svg\" height=\"24px\"viewBox=\"0 0 24 24\"\n",
              "       width=\"24px\">\n",
              "    <path d=\"M0 0h24v24H0V0z\" fill=\"none\"/>\n",
              "    <path d=\"M18.56 5.44l.94 2.06.94-2.06 2.06-.94-2.06-.94-.94-2.06-.94 2.06-2.06.94zm-11 1L8.5 8.5l.94-2.06 2.06-.94-2.06-.94L8.5 2.5l-.94 2.06-2.06.94zm10 10l.94 2.06.94-2.06 2.06-.94-2.06-.94-.94-2.06-.94 2.06-2.06.94z\"/><path d=\"M17.41 7.96l-1.37-1.37c-.4-.4-.92-.59-1.43-.59-.52 0-1.04.2-1.43.59L10.3 9.45l-7.72 7.72c-.78.78-.78 2.05 0 2.83L4 21.41c.39.39.9.59 1.41.59.51 0 1.02-.2 1.41-.59l7.78-7.78 2.81-2.81c.8-.78.8-2.07 0-2.86zM5.41 20L4 18.59l7.72-7.72 1.47 1.35L5.41 20z\"/>\n",
              "  </svg>\n",
              "      </button>\n",
              "      \n",
              "  <style>\n",
              "    .colab-df-container {\n",
              "      display:flex;\n",
              "      flex-wrap:wrap;\n",
              "      gap: 12px;\n",
              "    }\n",
              "\n",
              "    .colab-df-convert {\n",
              "      background-color: #E8F0FE;\n",
              "      border: none;\n",
              "      border-radius: 50%;\n",
              "      cursor: pointer;\n",
              "      display: none;\n",
              "      fill: #1967D2;\n",
              "      height: 32px;\n",
              "      padding: 0 0 0 0;\n",
              "      width: 32px;\n",
              "    }\n",
              "\n",
              "    .colab-df-convert:hover {\n",
              "      background-color: #E2EBFA;\n",
              "      box-shadow: 0px 1px 2px rgba(60, 64, 67, 0.3), 0px 1px 3px 1px rgba(60, 64, 67, 0.15);\n",
              "      fill: #174EA6;\n",
              "    }\n",
              "\n",
              "    [theme=dark] .colab-df-convert {\n",
              "      background-color: #3B4455;\n",
              "      fill: #D2E3FC;\n",
              "    }\n",
              "\n",
              "    [theme=dark] .colab-df-convert:hover {\n",
              "      background-color: #434B5C;\n",
              "      box-shadow: 0px 1px 3px 1px rgba(0, 0, 0, 0.15);\n",
              "      filter: drop-shadow(0px 1px 2px rgba(0, 0, 0, 0.3));\n",
              "      fill: #FFFFFF;\n",
              "    }\n",
              "  </style>\n",
              "\n",
              "      <script>\n",
              "        const buttonEl =\n",
              "          document.querySelector('#df-3cfcf70a-f18e-4ce4-8ff2-62392d909f87 button.colab-df-convert');\n",
              "        buttonEl.style.display =\n",
              "          google.colab.kernel.accessAllowed ? 'block' : 'none';\n",
              "\n",
              "        async function convertToInteractive(key) {\n",
              "          const element = document.querySelector('#df-3cfcf70a-f18e-4ce4-8ff2-62392d909f87');\n",
              "          const dataTable =\n",
              "            await google.colab.kernel.invokeFunction('convertToInteractive',\n",
              "                                                     [key], {});\n",
              "          if (!dataTable) return;\n",
              "\n",
              "          const docLinkHtml = 'Like what you see? Visit the ' +\n",
              "            '<a target=\"_blank\" href=https://colab.research.google.com/notebooks/data_table.ipynb>data table notebook</a>'\n",
              "            + ' to learn more about interactive tables.';\n",
              "          element.innerHTML = '';\n",
              "          dataTable['output_type'] = 'display_data';\n",
              "          await google.colab.output.renderOutput(dataTable, element);\n",
              "          const docLink = document.createElement('div');\n",
              "          docLink.innerHTML = docLinkHtml;\n",
              "          element.appendChild(docLink);\n",
              "        }\n",
              "      </script>\n",
              "    </div>\n",
              "  </div>\n",
              "  "
            ]
          },
          "metadata": {},
          "execution_count": 95
        }
      ],
      "source": [
        "segmented_rfm['RFMScore'] = segmented_rfm.r_quartile.map(str) + segmented_rfm.f_quartile.map(str) + segmented_rfm.m_quartile.map(str)\n",
        "segmented_rfm.head()"
      ]
    },
    {
      "cell_type": "code",
      "execution_count": 96,
      "metadata": {
        "execution": {
          "iopub.execute_input": "2020-12-10T18:44:15.350969Z",
          "iopub.status.busy": "2020-12-10T18:44:15.350265Z",
          "iopub.status.idle": "2020-12-10T18:44:15.373904Z",
          "shell.execute_reply": "2020-12-10T18:44:15.374481Z"
        },
        "papermill": {
          "duration": 0.211268,
          "end_time": "2020-12-10T18:44:15.374628",
          "exception": false,
          "start_time": "2020-12-10T18:44:15.163360",
          "status": "completed"
        },
        "tags": [],
        "id": "JCoAS-8uQahF",
        "outputId": "d81f62e4-de9b-4f68-d8fa-745614e7bc38",
        "colab": {
          "base_uri": "https://localhost:8080/",
          "height": 455
        }
      },
      "outputs": [
        {
          "output_type": "execute_result",
          "data": {
            "text/plain": [
              "             min_recency  max_recency  frequency  monetary_value  r_quartile  \\\n",
              "Customer ID                                                                    \n",
              "14646.0              1.0        737.0        140       483455.23           1   \n",
              "14911.0              1.0        738.0        373       258961.81           1   \n",
              "14156.0              9.0        738.0        142       240029.36           1   \n",
              "18102.0              0.0        738.0        114       188732.88           1   \n",
              "13694.0              3.0        735.0        143       188447.56           1   \n",
              "...                  ...          ...        ...             ...         ...   \n",
              "14467.0             17.0        737.0         12         2203.24           1   \n",
              "16076.0              3.0        208.0         10         2173.53           1   \n",
              "13410.0             24.0        731.0          9         2172.51           1   \n",
              "14595.0             19.0        688.0          8         2164.45           1   \n",
              "14205.0             16.0        642.0          9         2158.10           1   \n",
              "\n",
              "             f_quartile  m_quartile RFMScore  \n",
              "Customer ID                                   \n",
              "14646.0               1           1      111  \n",
              "14911.0               1           1      111  \n",
              "14156.0               1           1      111  \n",
              "18102.0               1           1      111  \n",
              "13694.0               1           1      111  \n",
              "...                 ...         ...      ...  \n",
              "14467.0               1           1      111  \n",
              "16076.0               1           1      111  \n",
              "13410.0               1           1      111  \n",
              "14595.0               1           1      111  \n",
              "14205.0               1           1      111  \n",
              "\n",
              "[630 rows x 8 columns]"
            ],
            "text/html": [
              "\n",
              "  <div id=\"df-82ef5322-c5b7-4319-b029-11f12a681a71\">\n",
              "    <div class=\"colab-df-container\">\n",
              "      <div>\n",
              "<style scoped>\n",
              "    .dataframe tbody tr th:only-of-type {\n",
              "        vertical-align: middle;\n",
              "    }\n",
              "\n",
              "    .dataframe tbody tr th {\n",
              "        vertical-align: top;\n",
              "    }\n",
              "\n",
              "    .dataframe thead th {\n",
              "        text-align: right;\n",
              "    }\n",
              "</style>\n",
              "<table border=\"1\" class=\"dataframe\">\n",
              "  <thead>\n",
              "    <tr style=\"text-align: right;\">\n",
              "      <th></th>\n",
              "      <th>min_recency</th>\n",
              "      <th>max_recency</th>\n",
              "      <th>frequency</th>\n",
              "      <th>monetary_value</th>\n",
              "      <th>r_quartile</th>\n",
              "      <th>f_quartile</th>\n",
              "      <th>m_quartile</th>\n",
              "      <th>RFMScore</th>\n",
              "    </tr>\n",
              "    <tr>\n",
              "      <th>Customer ID</th>\n",
              "      <th></th>\n",
              "      <th></th>\n",
              "      <th></th>\n",
              "      <th></th>\n",
              "      <th></th>\n",
              "      <th></th>\n",
              "      <th></th>\n",
              "      <th></th>\n",
              "    </tr>\n",
              "  </thead>\n",
              "  <tbody>\n",
              "    <tr>\n",
              "      <th>14646.0</th>\n",
              "      <td>1.0</td>\n",
              "      <td>737.0</td>\n",
              "      <td>140</td>\n",
              "      <td>483455.23</td>\n",
              "      <td>1</td>\n",
              "      <td>1</td>\n",
              "      <td>1</td>\n",
              "      <td>111</td>\n",
              "    </tr>\n",
              "    <tr>\n",
              "      <th>14911.0</th>\n",
              "      <td>1.0</td>\n",
              "      <td>738.0</td>\n",
              "      <td>373</td>\n",
              "      <td>258961.81</td>\n",
              "      <td>1</td>\n",
              "      <td>1</td>\n",
              "      <td>1</td>\n",
              "      <td>111</td>\n",
              "    </tr>\n",
              "    <tr>\n",
              "      <th>14156.0</th>\n",
              "      <td>9.0</td>\n",
              "      <td>738.0</td>\n",
              "      <td>142</td>\n",
              "      <td>240029.36</td>\n",
              "      <td>1</td>\n",
              "      <td>1</td>\n",
              "      <td>1</td>\n",
              "      <td>111</td>\n",
              "    </tr>\n",
              "    <tr>\n",
              "      <th>18102.0</th>\n",
              "      <td>0.0</td>\n",
              "      <td>738.0</td>\n",
              "      <td>114</td>\n",
              "      <td>188732.88</td>\n",
              "      <td>1</td>\n",
              "      <td>1</td>\n",
              "      <td>1</td>\n",
              "      <td>111</td>\n",
              "    </tr>\n",
              "    <tr>\n",
              "      <th>13694.0</th>\n",
              "      <td>3.0</td>\n",
              "      <td>735.0</td>\n",
              "      <td>143</td>\n",
              "      <td>188447.56</td>\n",
              "      <td>1</td>\n",
              "      <td>1</td>\n",
              "      <td>1</td>\n",
              "      <td>111</td>\n",
              "    </tr>\n",
              "    <tr>\n",
              "      <th>...</th>\n",
              "      <td>...</td>\n",
              "      <td>...</td>\n",
              "      <td>...</td>\n",
              "      <td>...</td>\n",
              "      <td>...</td>\n",
              "      <td>...</td>\n",
              "      <td>...</td>\n",
              "      <td>...</td>\n",
              "    </tr>\n",
              "    <tr>\n",
              "      <th>14467.0</th>\n",
              "      <td>17.0</td>\n",
              "      <td>737.0</td>\n",
              "      <td>12</td>\n",
              "      <td>2203.24</td>\n",
              "      <td>1</td>\n",
              "      <td>1</td>\n",
              "      <td>1</td>\n",
              "      <td>111</td>\n",
              "    </tr>\n",
              "    <tr>\n",
              "      <th>16076.0</th>\n",
              "      <td>3.0</td>\n",
              "      <td>208.0</td>\n",
              "      <td>10</td>\n",
              "      <td>2173.53</td>\n",
              "      <td>1</td>\n",
              "      <td>1</td>\n",
              "      <td>1</td>\n",
              "      <td>111</td>\n",
              "    </tr>\n",
              "    <tr>\n",
              "      <th>13410.0</th>\n",
              "      <td>24.0</td>\n",
              "      <td>731.0</td>\n",
              "      <td>9</td>\n",
              "      <td>2172.51</td>\n",
              "      <td>1</td>\n",
              "      <td>1</td>\n",
              "      <td>1</td>\n",
              "      <td>111</td>\n",
              "    </tr>\n",
              "    <tr>\n",
              "      <th>14595.0</th>\n",
              "      <td>19.0</td>\n",
              "      <td>688.0</td>\n",
              "      <td>8</td>\n",
              "      <td>2164.45</td>\n",
              "      <td>1</td>\n",
              "      <td>1</td>\n",
              "      <td>1</td>\n",
              "      <td>111</td>\n",
              "    </tr>\n",
              "    <tr>\n",
              "      <th>14205.0</th>\n",
              "      <td>16.0</td>\n",
              "      <td>642.0</td>\n",
              "      <td>9</td>\n",
              "      <td>2158.10</td>\n",
              "      <td>1</td>\n",
              "      <td>1</td>\n",
              "      <td>1</td>\n",
              "      <td>111</td>\n",
              "    </tr>\n",
              "  </tbody>\n",
              "</table>\n",
              "<p>630 rows × 8 columns</p>\n",
              "</div>\n",
              "      <button class=\"colab-df-convert\" onclick=\"convertToInteractive('df-82ef5322-c5b7-4319-b029-11f12a681a71')\"\n",
              "              title=\"Convert this dataframe to an interactive table.\"\n",
              "              style=\"display:none;\">\n",
              "        \n",
              "  <svg xmlns=\"http://www.w3.org/2000/svg\" height=\"24px\"viewBox=\"0 0 24 24\"\n",
              "       width=\"24px\">\n",
              "    <path d=\"M0 0h24v24H0V0z\" fill=\"none\"/>\n",
              "    <path d=\"M18.56 5.44l.94 2.06.94-2.06 2.06-.94-2.06-.94-.94-2.06-.94 2.06-2.06.94zm-11 1L8.5 8.5l.94-2.06 2.06-.94-2.06-.94L8.5 2.5l-.94 2.06-2.06.94zm10 10l.94 2.06.94-2.06 2.06-.94-2.06-.94-.94-2.06-.94 2.06-2.06.94z\"/><path d=\"M17.41 7.96l-1.37-1.37c-.4-.4-.92-.59-1.43-.59-.52 0-1.04.2-1.43.59L10.3 9.45l-7.72 7.72c-.78.78-.78 2.05 0 2.83L4 21.41c.39.39.9.59 1.41.59.51 0 1.02-.2 1.41-.59l7.78-7.78 2.81-2.81c.8-.78.8-2.07 0-2.86zM5.41 20L4 18.59l7.72-7.72 1.47 1.35L5.41 20z\"/>\n",
              "  </svg>\n",
              "      </button>\n",
              "      \n",
              "  <style>\n",
              "    .colab-df-container {\n",
              "      display:flex;\n",
              "      flex-wrap:wrap;\n",
              "      gap: 12px;\n",
              "    }\n",
              "\n",
              "    .colab-df-convert {\n",
              "      background-color: #E8F0FE;\n",
              "      border: none;\n",
              "      border-radius: 50%;\n",
              "      cursor: pointer;\n",
              "      display: none;\n",
              "      fill: #1967D2;\n",
              "      height: 32px;\n",
              "      padding: 0 0 0 0;\n",
              "      width: 32px;\n",
              "    }\n",
              "\n",
              "    .colab-df-convert:hover {\n",
              "      background-color: #E2EBFA;\n",
              "      box-shadow: 0px 1px 2px rgba(60, 64, 67, 0.3), 0px 1px 3px 1px rgba(60, 64, 67, 0.15);\n",
              "      fill: #174EA6;\n",
              "    }\n",
              "\n",
              "    [theme=dark] .colab-df-convert {\n",
              "      background-color: #3B4455;\n",
              "      fill: #D2E3FC;\n",
              "    }\n",
              "\n",
              "    [theme=dark] .colab-df-convert:hover {\n",
              "      background-color: #434B5C;\n",
              "      box-shadow: 0px 1px 3px 1px rgba(0, 0, 0, 0.15);\n",
              "      filter: drop-shadow(0px 1px 2px rgba(0, 0, 0, 0.3));\n",
              "      fill: #FFFFFF;\n",
              "    }\n",
              "  </style>\n",
              "\n",
              "      <script>\n",
              "        const buttonEl =\n",
              "          document.querySelector('#df-82ef5322-c5b7-4319-b029-11f12a681a71 button.colab-df-convert');\n",
              "        buttonEl.style.display =\n",
              "          google.colab.kernel.accessAllowed ? 'block' : 'none';\n",
              "\n",
              "        async function convertToInteractive(key) {\n",
              "          const element = document.querySelector('#df-82ef5322-c5b7-4319-b029-11f12a681a71');\n",
              "          const dataTable =\n",
              "            await google.colab.kernel.invokeFunction('convertToInteractive',\n",
              "                                                     [key], {});\n",
              "          if (!dataTable) return;\n",
              "\n",
              "          const docLinkHtml = 'Like what you see? Visit the ' +\n",
              "            '<a target=\"_blank\" href=https://colab.research.google.com/notebooks/data_table.ipynb>data table notebook</a>'\n",
              "            + ' to learn more about interactive tables.';\n",
              "          element.innerHTML = '';\n",
              "          dataTable['output_type'] = 'display_data';\n",
              "          await google.colab.output.renderOutput(dataTable, element);\n",
              "          const docLink = document.createElement('div');\n",
              "          docLink.innerHTML = docLinkHtml;\n",
              "          element.appendChild(docLink);\n",
              "        }\n",
              "      </script>\n",
              "    </div>\n",
              "  </div>\n",
              "  "
            ]
          },
          "metadata": {},
          "execution_count": 96
        }
      ],
      "source": [
        "segmented_rfm[segmented_rfm['RFMScore']=='111'].sort_values('monetary_value', ascending=False)"
      ]
    },
    {
      "cell_type": "code",
      "execution_count": 97,
      "metadata": {
        "execution": {
          "iopub.execute_input": "2020-12-10T18:44:15.752001Z",
          "iopub.status.busy": "2020-12-10T18:44:15.751281Z",
          "iopub.status.idle": "2020-12-10T18:44:15.765360Z",
          "shell.execute_reply": "2020-12-10T18:44:15.765924Z"
        },
        "papermill": {
          "duration": 0.205642,
          "end_time": "2020-12-10T18:44:15.766073",
          "exception": false,
          "start_time": "2020-12-10T18:44:15.560431",
          "status": "completed"
        },
        "tags": [],
        "id": "IFkca73nQahF",
        "outputId": "297b72f3-4fd9-4596-a50f-8e496ddf1ec2",
        "colab": {
          "base_uri": "https://localhost:8080/",
          "height": 237
        }
      },
      "outputs": [
        {
          "output_type": "execute_result",
          "data": {
            "text/plain": [
              "             min_recency  max_recency  frequency  monetary_value  r_quartile  \\\n",
              "Customer ID                                                                    \n",
              "12346.0            325.0        647.0          3          169.36           3   \n",
              "12347.0              2.0        404.0          8         4921.53           1   \n",
              "12348.0             75.0        438.0          5         1658.40           2   \n",
              "12349.0             18.0        589.0          3         3678.69           1   \n",
              "12350.0            310.0        310.0          1          294.40           3   \n",
              "\n",
              "             f_quartile  m_quartile RFMScore  \n",
              "Customer ID                                   \n",
              "12346.0               3           4      334  \n",
              "12347.0               1           1      111  \n",
              "12348.0               2           2      222  \n",
              "12349.0               3           1      131  \n",
              "12350.0               4           4      344  "
            ],
            "text/html": [
              "\n",
              "  <div id=\"df-56a256f8-0acd-477b-9bea-1b3648743840\">\n",
              "    <div class=\"colab-df-container\">\n",
              "      <div>\n",
              "<style scoped>\n",
              "    .dataframe tbody tr th:only-of-type {\n",
              "        vertical-align: middle;\n",
              "    }\n",
              "\n",
              "    .dataframe tbody tr th {\n",
              "        vertical-align: top;\n",
              "    }\n",
              "\n",
              "    .dataframe thead th {\n",
              "        text-align: right;\n",
              "    }\n",
              "</style>\n",
              "<table border=\"1\" class=\"dataframe\">\n",
              "  <thead>\n",
              "    <tr style=\"text-align: right;\">\n",
              "      <th></th>\n",
              "      <th>min_recency</th>\n",
              "      <th>max_recency</th>\n",
              "      <th>frequency</th>\n",
              "      <th>monetary_value</th>\n",
              "      <th>r_quartile</th>\n",
              "      <th>f_quartile</th>\n",
              "      <th>m_quartile</th>\n",
              "      <th>RFMScore</th>\n",
              "    </tr>\n",
              "    <tr>\n",
              "      <th>Customer ID</th>\n",
              "      <th></th>\n",
              "      <th></th>\n",
              "      <th></th>\n",
              "      <th></th>\n",
              "      <th></th>\n",
              "      <th></th>\n",
              "      <th></th>\n",
              "      <th></th>\n",
              "    </tr>\n",
              "  </thead>\n",
              "  <tbody>\n",
              "    <tr>\n",
              "      <th>12346.0</th>\n",
              "      <td>325.0</td>\n",
              "      <td>647.0</td>\n",
              "      <td>3</td>\n",
              "      <td>169.36</td>\n",
              "      <td>3</td>\n",
              "      <td>3</td>\n",
              "      <td>4</td>\n",
              "      <td>334</td>\n",
              "    </tr>\n",
              "    <tr>\n",
              "      <th>12347.0</th>\n",
              "      <td>2.0</td>\n",
              "      <td>404.0</td>\n",
              "      <td>8</td>\n",
              "      <td>4921.53</td>\n",
              "      <td>1</td>\n",
              "      <td>1</td>\n",
              "      <td>1</td>\n",
              "      <td>111</td>\n",
              "    </tr>\n",
              "    <tr>\n",
              "      <th>12348.0</th>\n",
              "      <td>75.0</td>\n",
              "      <td>438.0</td>\n",
              "      <td>5</td>\n",
              "      <td>1658.40</td>\n",
              "      <td>2</td>\n",
              "      <td>2</td>\n",
              "      <td>2</td>\n",
              "      <td>222</td>\n",
              "    </tr>\n",
              "    <tr>\n",
              "      <th>12349.0</th>\n",
              "      <td>18.0</td>\n",
              "      <td>589.0</td>\n",
              "      <td>3</td>\n",
              "      <td>3678.69</td>\n",
              "      <td>1</td>\n",
              "      <td>3</td>\n",
              "      <td>1</td>\n",
              "      <td>131</td>\n",
              "    </tr>\n",
              "    <tr>\n",
              "      <th>12350.0</th>\n",
              "      <td>310.0</td>\n",
              "      <td>310.0</td>\n",
              "      <td>1</td>\n",
              "      <td>294.40</td>\n",
              "      <td>3</td>\n",
              "      <td>4</td>\n",
              "      <td>4</td>\n",
              "      <td>344</td>\n",
              "    </tr>\n",
              "  </tbody>\n",
              "</table>\n",
              "</div>\n",
              "      <button class=\"colab-df-convert\" onclick=\"convertToInteractive('df-56a256f8-0acd-477b-9bea-1b3648743840')\"\n",
              "              title=\"Convert this dataframe to an interactive table.\"\n",
              "              style=\"display:none;\">\n",
              "        \n",
              "  <svg xmlns=\"http://www.w3.org/2000/svg\" height=\"24px\"viewBox=\"0 0 24 24\"\n",
              "       width=\"24px\">\n",
              "    <path d=\"M0 0h24v24H0V0z\" fill=\"none\"/>\n",
              "    <path d=\"M18.56 5.44l.94 2.06.94-2.06 2.06-.94-2.06-.94-.94-2.06-.94 2.06-2.06.94zm-11 1L8.5 8.5l.94-2.06 2.06-.94-2.06-.94L8.5 2.5l-.94 2.06-2.06.94zm10 10l.94 2.06.94-2.06 2.06-.94-2.06-.94-.94-2.06-.94 2.06-2.06.94z\"/><path d=\"M17.41 7.96l-1.37-1.37c-.4-.4-.92-.59-1.43-.59-.52 0-1.04.2-1.43.59L10.3 9.45l-7.72 7.72c-.78.78-.78 2.05 0 2.83L4 21.41c.39.39.9.59 1.41.59.51 0 1.02-.2 1.41-.59l7.78-7.78 2.81-2.81c.8-.78.8-2.07 0-2.86zM5.41 20L4 18.59l7.72-7.72 1.47 1.35L5.41 20z\"/>\n",
              "  </svg>\n",
              "      </button>\n",
              "      \n",
              "  <style>\n",
              "    .colab-df-container {\n",
              "      display:flex;\n",
              "      flex-wrap:wrap;\n",
              "      gap: 12px;\n",
              "    }\n",
              "\n",
              "    .colab-df-convert {\n",
              "      background-color: #E8F0FE;\n",
              "      border: none;\n",
              "      border-radius: 50%;\n",
              "      cursor: pointer;\n",
              "      display: none;\n",
              "      fill: #1967D2;\n",
              "      height: 32px;\n",
              "      padding: 0 0 0 0;\n",
              "      width: 32px;\n",
              "    }\n",
              "\n",
              "    .colab-df-convert:hover {\n",
              "      background-color: #E2EBFA;\n",
              "      box-shadow: 0px 1px 2px rgba(60, 64, 67, 0.3), 0px 1px 3px 1px rgba(60, 64, 67, 0.15);\n",
              "      fill: #174EA6;\n",
              "    }\n",
              "\n",
              "    [theme=dark] .colab-df-convert {\n",
              "      background-color: #3B4455;\n",
              "      fill: #D2E3FC;\n",
              "    }\n",
              "\n",
              "    [theme=dark] .colab-df-convert:hover {\n",
              "      background-color: #434B5C;\n",
              "      box-shadow: 0px 1px 3px 1px rgba(0, 0, 0, 0.15);\n",
              "      filter: drop-shadow(0px 1px 2px rgba(0, 0, 0, 0.3));\n",
              "      fill: #FFFFFF;\n",
              "    }\n",
              "  </style>\n",
              "\n",
              "      <script>\n",
              "        const buttonEl =\n",
              "          document.querySelector('#df-56a256f8-0acd-477b-9bea-1b3648743840 button.colab-df-convert');\n",
              "        buttonEl.style.display =\n",
              "          google.colab.kernel.accessAllowed ? 'block' : 'none';\n",
              "\n",
              "        async function convertToInteractive(key) {\n",
              "          const element = document.querySelector('#df-56a256f8-0acd-477b-9bea-1b3648743840');\n",
              "          const dataTable =\n",
              "            await google.colab.kernel.invokeFunction('convertToInteractive',\n",
              "                                                     [key], {});\n",
              "          if (!dataTable) return;\n",
              "\n",
              "          const docLinkHtml = 'Like what you see? Visit the ' +\n",
              "            '<a target=\"_blank\" href=https://colab.research.google.com/notebooks/data_table.ipynb>data table notebook</a>'\n",
              "            + ' to learn more about interactive tables.';\n",
              "          element.innerHTML = '';\n",
              "          dataTable['output_type'] = 'display_data';\n",
              "          await google.colab.output.renderOutput(dataTable, element);\n",
              "          const docLink = document.createElement('div');\n",
              "          docLink.innerHTML = docLinkHtml;\n",
              "          element.appendChild(docLink);\n",
              "        }\n",
              "      </script>\n",
              "    </div>\n",
              "  </div>\n",
              "  "
            ]
          },
          "metadata": {},
          "execution_count": 97
        }
      ],
      "source": [
        "segmented_rfm.head(5)"
      ]
    },
    {
      "cell_type": "code",
      "execution_count": 98,
      "metadata": {
        "execution": {
          "iopub.execute_input": "2020-12-10T18:44:16.148004Z",
          "iopub.status.busy": "2020-12-10T18:44:16.147325Z",
          "iopub.status.idle": "2020-12-10T18:44:16.152385Z",
          "shell.execute_reply": "2020-12-10T18:44:16.152871Z"
        },
        "papermill": {
          "duration": 0.197034,
          "end_time": "2020-12-10T18:44:16.153057",
          "exception": false,
          "start_time": "2020-12-10T18:44:15.956023",
          "status": "completed"
        },
        "tags": [],
        "id": "W27JmLj-QahG"
      },
      "outputs": [],
      "source": [
        "segmented_rfm = segmented_rfm.reset_index()"
      ]
    },
    {
      "cell_type": "code",
      "execution_count": 99,
      "metadata": {
        "execution": {
          "iopub.execute_input": "2020-12-10T18:44:16.560528Z",
          "iopub.status.busy": "2020-12-10T18:44:16.559535Z",
          "iopub.status.idle": "2020-12-10T18:44:16.581116Z",
          "shell.execute_reply": "2020-12-10T18:44:16.580576Z"
        },
        "papermill": {
          "duration": 0.238552,
          "end_time": "2020-12-10T18:44:16.581260",
          "exception": false,
          "start_time": "2020-12-10T18:44:16.342708",
          "status": "completed"
        },
        "tags": [],
        "id": "N1cjGz6JQahG",
        "outputId": "0edbbf40-ca1f-4705-a2e3-506b4d2831fd",
        "colab": {
          "base_uri": "https://localhost:8080/",
          "height": 206
        }
      },
      "outputs": [
        {
          "output_type": "execute_result",
          "data": {
            "text/plain": [
              "   Customer ID  min_recency  max_recency  frequency  monetary_value  \\\n",
              "0      12346.0        325.0        647.0          3          169.36   \n",
              "1      12347.0          2.0        404.0          8         4921.53   \n",
              "2      12348.0         75.0        438.0          5         1658.40   \n",
              "3      12349.0         18.0        589.0          3         3678.69   \n",
              "4      12350.0        310.0        310.0          1          294.40   \n",
              "\n",
              "   r_quartile  f_quartile  m_quartile RFMScore  \n",
              "0           3           3           4      334  \n",
              "1           1           1           1      111  \n",
              "2           2           2           2      222  \n",
              "3           1           3           1      131  \n",
              "4           3           4           4      344  "
            ],
            "text/html": [
              "\n",
              "  <div id=\"df-073bae14-5ea5-4c26-b7f3-e93a46c5e356\">\n",
              "    <div class=\"colab-df-container\">\n",
              "      <div>\n",
              "<style scoped>\n",
              "    .dataframe tbody tr th:only-of-type {\n",
              "        vertical-align: middle;\n",
              "    }\n",
              "\n",
              "    .dataframe tbody tr th {\n",
              "        vertical-align: top;\n",
              "    }\n",
              "\n",
              "    .dataframe thead th {\n",
              "        text-align: right;\n",
              "    }\n",
              "</style>\n",
              "<table border=\"1\" class=\"dataframe\">\n",
              "  <thead>\n",
              "    <tr style=\"text-align: right;\">\n",
              "      <th></th>\n",
              "      <th>Customer ID</th>\n",
              "      <th>min_recency</th>\n",
              "      <th>max_recency</th>\n",
              "      <th>frequency</th>\n",
              "      <th>monetary_value</th>\n",
              "      <th>r_quartile</th>\n",
              "      <th>f_quartile</th>\n",
              "      <th>m_quartile</th>\n",
              "      <th>RFMScore</th>\n",
              "    </tr>\n",
              "  </thead>\n",
              "  <tbody>\n",
              "    <tr>\n",
              "      <th>0</th>\n",
              "      <td>12346.0</td>\n",
              "      <td>325.0</td>\n",
              "      <td>647.0</td>\n",
              "      <td>3</td>\n",
              "      <td>169.36</td>\n",
              "      <td>3</td>\n",
              "      <td>3</td>\n",
              "      <td>4</td>\n",
              "      <td>334</td>\n",
              "    </tr>\n",
              "    <tr>\n",
              "      <th>1</th>\n",
              "      <td>12347.0</td>\n",
              "      <td>2.0</td>\n",
              "      <td>404.0</td>\n",
              "      <td>8</td>\n",
              "      <td>4921.53</td>\n",
              "      <td>1</td>\n",
              "      <td>1</td>\n",
              "      <td>1</td>\n",
              "      <td>111</td>\n",
              "    </tr>\n",
              "    <tr>\n",
              "      <th>2</th>\n",
              "      <td>12348.0</td>\n",
              "      <td>75.0</td>\n",
              "      <td>438.0</td>\n",
              "      <td>5</td>\n",
              "      <td>1658.40</td>\n",
              "      <td>2</td>\n",
              "      <td>2</td>\n",
              "      <td>2</td>\n",
              "      <td>222</td>\n",
              "    </tr>\n",
              "    <tr>\n",
              "      <th>3</th>\n",
              "      <td>12349.0</td>\n",
              "      <td>18.0</td>\n",
              "      <td>589.0</td>\n",
              "      <td>3</td>\n",
              "      <td>3678.69</td>\n",
              "      <td>1</td>\n",
              "      <td>3</td>\n",
              "      <td>1</td>\n",
              "      <td>131</td>\n",
              "    </tr>\n",
              "    <tr>\n",
              "      <th>4</th>\n",
              "      <td>12350.0</td>\n",
              "      <td>310.0</td>\n",
              "      <td>310.0</td>\n",
              "      <td>1</td>\n",
              "      <td>294.40</td>\n",
              "      <td>3</td>\n",
              "      <td>4</td>\n",
              "      <td>4</td>\n",
              "      <td>344</td>\n",
              "    </tr>\n",
              "  </tbody>\n",
              "</table>\n",
              "</div>\n",
              "      <button class=\"colab-df-convert\" onclick=\"convertToInteractive('df-073bae14-5ea5-4c26-b7f3-e93a46c5e356')\"\n",
              "              title=\"Convert this dataframe to an interactive table.\"\n",
              "              style=\"display:none;\">\n",
              "        \n",
              "  <svg xmlns=\"http://www.w3.org/2000/svg\" height=\"24px\"viewBox=\"0 0 24 24\"\n",
              "       width=\"24px\">\n",
              "    <path d=\"M0 0h24v24H0V0z\" fill=\"none\"/>\n",
              "    <path d=\"M18.56 5.44l.94 2.06.94-2.06 2.06-.94-2.06-.94-.94-2.06-.94 2.06-2.06.94zm-11 1L8.5 8.5l.94-2.06 2.06-.94-2.06-.94L8.5 2.5l-.94 2.06-2.06.94zm10 10l.94 2.06.94-2.06 2.06-.94-2.06-.94-.94-2.06-.94 2.06-2.06.94z\"/><path d=\"M17.41 7.96l-1.37-1.37c-.4-.4-.92-.59-1.43-.59-.52 0-1.04.2-1.43.59L10.3 9.45l-7.72 7.72c-.78.78-.78 2.05 0 2.83L4 21.41c.39.39.9.59 1.41.59.51 0 1.02-.2 1.41-.59l7.78-7.78 2.81-2.81c.8-.78.8-2.07 0-2.86zM5.41 20L4 18.59l7.72-7.72 1.47 1.35L5.41 20z\"/>\n",
              "  </svg>\n",
              "      </button>\n",
              "      \n",
              "  <style>\n",
              "    .colab-df-container {\n",
              "      display:flex;\n",
              "      flex-wrap:wrap;\n",
              "      gap: 12px;\n",
              "    }\n",
              "\n",
              "    .colab-df-convert {\n",
              "      background-color: #E8F0FE;\n",
              "      border: none;\n",
              "      border-radius: 50%;\n",
              "      cursor: pointer;\n",
              "      display: none;\n",
              "      fill: #1967D2;\n",
              "      height: 32px;\n",
              "      padding: 0 0 0 0;\n",
              "      width: 32px;\n",
              "    }\n",
              "\n",
              "    .colab-df-convert:hover {\n",
              "      background-color: #E2EBFA;\n",
              "      box-shadow: 0px 1px 2px rgba(60, 64, 67, 0.3), 0px 1px 3px 1px rgba(60, 64, 67, 0.15);\n",
              "      fill: #174EA6;\n",
              "    }\n",
              "\n",
              "    [theme=dark] .colab-df-convert {\n",
              "      background-color: #3B4455;\n",
              "      fill: #D2E3FC;\n",
              "    }\n",
              "\n",
              "    [theme=dark] .colab-df-convert:hover {\n",
              "      background-color: #434B5C;\n",
              "      box-shadow: 0px 1px 3px 1px rgba(0, 0, 0, 0.15);\n",
              "      filter: drop-shadow(0px 1px 2px rgba(0, 0, 0, 0.3));\n",
              "      fill: #FFFFFF;\n",
              "    }\n",
              "  </style>\n",
              "\n",
              "      <script>\n",
              "        const buttonEl =\n",
              "          document.querySelector('#df-073bae14-5ea5-4c26-b7f3-e93a46c5e356 button.colab-df-convert');\n",
              "        buttonEl.style.display =\n",
              "          google.colab.kernel.accessAllowed ? 'block' : 'none';\n",
              "\n",
              "        async function convertToInteractive(key) {\n",
              "          const element = document.querySelector('#df-073bae14-5ea5-4c26-b7f3-e93a46c5e356');\n",
              "          const dataTable =\n",
              "            await google.colab.kernel.invokeFunction('convertToInteractive',\n",
              "                                                     [key], {});\n",
              "          if (!dataTable) return;\n",
              "\n",
              "          const docLinkHtml = 'Like what you see? Visit the ' +\n",
              "            '<a target=\"_blank\" href=https://colab.research.google.com/notebooks/data_table.ipynb>data table notebook</a>'\n",
              "            + ' to learn more about interactive tables.';\n",
              "          element.innerHTML = '';\n",
              "          dataTable['output_type'] = 'display_data';\n",
              "          await google.colab.output.renderOutput(dataTable, element);\n",
              "          const docLink = document.createElement('div');\n",
              "          docLink.innerHTML = docLinkHtml;\n",
              "          element.appendChild(docLink);\n",
              "        }\n",
              "      </script>\n",
              "    </div>\n",
              "  </div>\n",
              "  "
            ]
          },
          "metadata": {},
          "execution_count": 99
        }
      ],
      "source": [
        "segmented_rfm.head(5)"
      ]
    },
    {
      "cell_type": "code",
      "execution_count": 100,
      "metadata": {
        "execution": {
          "iopub.execute_input": "2020-12-10T18:44:16.998408Z",
          "iopub.status.busy": "2020-12-10T18:44:16.997223Z",
          "iopub.status.idle": "2020-12-10T18:44:17.002536Z",
          "shell.execute_reply": "2020-12-10T18:44:17.003105Z"
        },
        "papermill": {
          "duration": 0.202594,
          "end_time": "2020-12-10T18:44:17.003309",
          "exception": false,
          "start_time": "2020-12-10T18:44:16.800715",
          "status": "completed"
        },
        "tags": [],
        "id": "-jzv3db3QahH",
        "outputId": "80db4651-92c5-414b-9e47-300460542511",
        "colab": {
          "base_uri": "https://localhost:8080/"
        }
      },
      "outputs": [
        {
          "output_type": "execute_result",
          "data": {
            "text/plain": [
              "(775536, 21)"
            ]
          },
          "metadata": {},
          "execution_count": 100
        }
      ],
      "source": [
        "df_cleaned.shape"
      ]
    },
    {
      "cell_type": "code",
      "execution_count": 101,
      "metadata": {
        "execution": {
          "iopub.execute_input": "2020-12-10T18:44:17.397664Z",
          "iopub.status.busy": "2020-12-10T18:44:17.396906Z",
          "iopub.status.idle": "2020-12-10T18:44:18.696396Z",
          "shell.execute_reply": "2020-12-10T18:44:18.696974Z"
        },
        "papermill": {
          "duration": 1.498972,
          "end_time": "2020-12-10T18:44:18.697121",
          "exception": false,
          "start_time": "2020-12-10T18:44:17.198149",
          "status": "completed"
        },
        "tags": [],
        "id": "UW7G6XifQahH"
      },
      "outputs": [],
      "source": [
        "df_cleaned = pd.merge(df_cleaned,segmented_rfm, on='Customer ID')"
      ]
    },
    {
      "cell_type": "code",
      "execution_count": 102,
      "metadata": {
        "execution": {
          "iopub.execute_input": "2020-12-10T18:44:19.083031Z",
          "iopub.status.busy": "2020-12-10T18:44:19.082346Z",
          "iopub.status.idle": "2020-12-10T18:44:19.586396Z",
          "shell.execute_reply": "2020-12-10T18:44:19.585796Z"
        },
        "papermill": {
          "duration": 0.702099,
          "end_time": "2020-12-10T18:44:19.586537",
          "exception": false,
          "start_time": "2020-12-10T18:44:18.884438",
          "status": "completed"
        },
        "tags": [],
        "id": "5n-kcM6QQahI"
      },
      "outputs": [],
      "source": [
        "df_cleaned = df_cleaned.drop(columns=['r_quartile', 'f_quartile', 'm_quartile'])"
      ]
    },
    {
      "cell_type": "markdown",
      "metadata": {
        "papermill": {
          "duration": 0.191035,
          "end_time": "2020-12-10T18:44:19.967310",
          "exception": false,
          "start_time": "2020-12-10T18:44:19.776275",
          "status": "completed"
        },
        "tags": [],
        "id": "uQJDy8uyQahI"
      },
      "source": [
        "<h2 id=\"prod_exp\" style=\"font-family:verdana;\"> \n",
        "         3.4 Product categories expenses \n",
        "        <a class=\"anchor-link\" href=\"https://www.kaggle.com/miljan/product-tagging-for-e-commerce-work-in-progress/#prod_exp\">¶</a>\n",
        "\n",
        "</h2>"
      ]
    },
    {
      "cell_type": "code",
      "execution_count": 103,
      "metadata": {
        "execution": {
          "iopub.execute_input": "2020-12-10T18:44:20.397353Z",
          "iopub.status.busy": "2020-12-10T18:44:20.396661Z",
          "iopub.status.idle": "2020-12-10T18:44:22.905992Z",
          "shell.execute_reply": "2020-12-10T18:44:22.905277Z"
        },
        "papermill": {
          "duration": 2.749097,
          "end_time": "2020-12-10T18:44:22.906126",
          "exception": false,
          "start_time": "2020-12-10T18:44:20.157029",
          "status": "completed"
        },
        "tags": [],
        "id": "As3woh4KQahI"
      },
      "outputs": [],
      "source": [
        "for label in df_cleaned['Labels'].unique():\n",
        "    col = 'Label_{}'.format(label)        \n",
        "    df_temp = df_cleaned[df_cleaned['Labels'] == label]\n",
        "    price_temp = df_temp['TotalPrice']\n",
        "    df_cleaned.loc[:, col] = price_temp\n",
        "    df_cleaned[col].fillna(0, inplace = True)"
      ]
    },
    {
      "cell_type": "markdown",
      "metadata": {
        "papermill": {
          "duration": 0.189367,
          "end_time": "2020-12-10T18:44:23.298522",
          "exception": false,
          "start_time": "2020-12-10T18:44:23.109155",
          "status": "completed"
        },
        "tags": [],
        "id": "kA1wXySzQahJ"
      },
      "source": [
        "***"
      ]
    },
    {
      "cell_type": "markdown",
      "metadata": {
        "papermill": {
          "duration": 0.18803,
          "end_time": "2020-12-10T18:44:23.679503",
          "exception": false,
          "start_time": "2020-12-10T18:44:23.491473",
          "status": "completed"
        },
        "tags": [],
        "id": "ajU_QVkAQahJ"
      },
      "source": [
        "<h1 id=\"cust_segm\" style=\"font-family:verdana;\"> \n",
        "    <center>4. Custumer Segmentation\n",
        "        <a class=\"anchor-link\" href=\"https://www.kaggle.com/miljan/product-tagging-for-e-commerce-work-in-progress/#cust_segm\">¶</a>\n",
        "    </center>\n",
        "</h1>"
      ]
    },
    {
      "cell_type": "code",
      "execution_count": 104,
      "metadata": {
        "execution": {
          "iopub.execute_input": "2020-12-10T18:44:24.177273Z",
          "iopub.status.busy": "2020-12-10T18:44:24.176577Z",
          "iopub.status.idle": "2020-12-10T18:44:24.261699Z",
          "shell.execute_reply": "2020-12-10T18:44:24.260952Z"
        },
        "papermill": {
          "duration": 0.391033,
          "end_time": "2020-12-10T18:44:24.261818",
          "exception": false,
          "start_time": "2020-12-10T18:44:23.870785",
          "status": "completed"
        },
        "tags": [],
        "id": "qI35ftVZQahJ"
      },
      "outputs": [],
      "source": [
        "df_cleaned['RFMScore'] = df_cleaned['RFMScore'].astype(int)"
      ]
    },
    {
      "cell_type": "code",
      "execution_count": 105,
      "metadata": {
        "execution": {
          "iopub.execute_input": "2020-12-10T18:44:24.648797Z",
          "iopub.status.busy": "2020-12-10T18:44:24.647575Z",
          "iopub.status.idle": "2020-12-10T18:44:24.873885Z",
          "shell.execute_reply": "2020-12-10T18:44:24.874388Z"
        },
        "papermill": {
          "duration": 0.423646,
          "end_time": "2020-12-10T18:44:24.874559",
          "exception": false,
          "start_time": "2020-12-10T18:44:24.450913",
          "status": "completed"
        },
        "tags": [],
        "id": "v4S1Tjp8QahK"
      },
      "outputs": [],
      "source": [
        "df_cleaned.loc[(df_cleaned.RFMScore == 111), 'Segment'] = 'Best Customers'"
      ]
    },
    {
      "cell_type": "code",
      "execution_count": 106,
      "metadata": {
        "execution": {
          "iopub.execute_input": "2020-12-10T18:44:25.264855Z",
          "iopub.status.busy": "2020-12-10T18:44:25.264034Z",
          "iopub.status.idle": "2020-12-10T18:44:25.524783Z",
          "shell.execute_reply": "2020-12-10T18:44:25.525372Z"
        },
        "papermill": {
          "duration": 0.453711,
          "end_time": "2020-12-10T18:44:25.525543",
          "exception": false,
          "start_time": "2020-12-10T18:44:25.071832",
          "status": "completed"
        },
        "tags": [],
        "id": "lOT6CmcdQahK"
      },
      "outputs": [],
      "source": [
        "df_cleaned.loc[(df_cleaned.RFMScore == 311), 'Segment'] = 'Almost Lost'"
      ]
    },
    {
      "cell_type": "code",
      "execution_count": 107,
      "metadata": {
        "execution": {
          "iopub.execute_input": "2020-12-10T18:44:25.909269Z",
          "iopub.status.busy": "2020-12-10T18:44:25.908359Z",
          "iopub.status.idle": "2020-12-10T18:44:25.935017Z",
          "shell.execute_reply": "2020-12-10T18:44:25.934390Z"
        },
        "papermill": {
          "duration": 0.220255,
          "end_time": "2020-12-10T18:44:25.935135",
          "exception": false,
          "start_time": "2020-12-10T18:44:25.714880",
          "status": "completed"
        },
        "tags": [],
        "id": "1E-a-dPmQahK"
      },
      "outputs": [],
      "source": [
        "df_cleaned.loc[(df_cleaned.RFMScore == 411), 'Segment'] = 'Lost Customers'"
      ]
    },
    {
      "cell_type": "code",
      "execution_count": 108,
      "metadata": {
        "execution": {
          "iopub.execute_input": "2020-12-10T18:44:26.330069Z",
          "iopub.status.busy": "2020-12-10T18:44:26.329399Z",
          "iopub.status.idle": "2020-12-10T18:44:26.352197Z",
          "shell.execute_reply": "2020-12-10T18:44:26.351624Z"
        },
        "papermill": {
          "duration": 0.219513,
          "end_time": "2020-12-10T18:44:26.352312",
          "exception": false,
          "start_time": "2020-12-10T18:44:26.132799",
          "status": "completed"
        },
        "tags": [],
        "id": "0blOMo3WQahL"
      },
      "outputs": [],
      "source": [
        "df_cleaned.loc[(df_cleaned.RFMScore == 444), 'Segment'] = 'Bad Customers'"
      ]
    },
    {
      "cell_type": "code",
      "execution_count": 109,
      "metadata": {
        "execution": {
          "iopub.execute_input": "2020-12-10T18:44:26.735091Z",
          "iopub.status.busy": "2020-12-10T18:44:26.734421Z",
          "iopub.status.idle": "2020-12-10T18:44:26.967824Z",
          "shell.execute_reply": "2020-12-10T18:44:26.967118Z"
        },
        "papermill": {
          "duration": 0.427215,
          "end_time": "2020-12-10T18:44:26.967946",
          "exception": false,
          "start_time": "2020-12-10T18:44:26.540731",
          "status": "completed"
        },
        "tags": [],
        "id": "N6xGDiA5QahL"
      },
      "outputs": [],
      "source": [
        "for code in [112, 113, 114, 212, 213, 214, 312, 313, 314, 412, 413, 414] : \n",
        "    df_cleaned.loc[(df_cleaned.RFMScore == code), 'Segment'] = 'Loyal Customers'"
      ]
    },
    {
      "cell_type": "code",
      "execution_count": 110,
      "metadata": {
        "execution": {
          "iopub.execute_input": "2020-12-10T18:44:27.354098Z",
          "iopub.status.busy": "2020-12-10T18:44:27.352621Z",
          "iopub.status.idle": "2020-12-10T18:44:27.579659Z",
          "shell.execute_reply": "2020-12-10T18:44:27.579051Z"
        },
        "papermill": {
          "duration": 0.421645,
          "end_time": "2020-12-10T18:44:27.579780",
          "exception": false,
          "start_time": "2020-12-10T18:44:27.158135",
          "status": "completed"
        },
        "tags": [],
        "id": "S5tankZSQahM"
      },
      "outputs": [],
      "source": [
        "for code in [121, 131, 141, 221, 231, 241, 321, 331, 341, 421, 431, 441] : \n",
        "    df_cleaned.loc[(df_cleaned.RFMScore == code), 'Segment'] = 'Big Spenders'"
      ]
    },
    {
      "cell_type": "code",
      "execution_count": 111,
      "metadata": {
        "execution": {
          "iopub.execute_input": "2020-12-10T18:44:28.019866Z",
          "iopub.status.busy": "2020-12-10T18:44:28.018707Z",
          "iopub.status.idle": "2020-12-10T18:44:28.111816Z",
          "shell.execute_reply": "2020-12-10T18:44:28.112406Z"
        },
        "papermill": {
          "duration": 0.342521,
          "end_time": "2020-12-10T18:44:28.112560",
          "exception": false,
          "start_time": "2020-12-10T18:44:27.770039",
          "status": "completed"
        },
        "tags": [],
        "id": "7XjyW-ZqQahM"
      },
      "outputs": [],
      "source": [
        "for code in [211, 222, 122, 123, 223] : \n",
        "    df_cleaned.loc[(df_cleaned.RFMScore == code), 'Segment'] = 'Good Customers'"
      ]
    },
    {
      "cell_type": "code",
      "execution_count": 112,
      "metadata": {
        "execution": {
          "iopub.execute_input": "2020-12-10T18:44:28.499062Z",
          "iopub.status.busy": "2020-12-10T18:44:28.498390Z",
          "iopub.status.idle": "2020-12-10T18:44:28.608627Z",
          "shell.execute_reply": "2020-12-10T18:44:28.607933Z"
        },
        "papermill": {
          "duration": 0.305855,
          "end_time": "2020-12-10T18:44:28.608739",
          "exception": false,
          "start_time": "2020-12-10T18:44:28.302884",
          "status": "completed"
        },
        "tags": [],
        "id": "6rZfdpneQahM"
      },
      "outputs": [],
      "source": [
        "for code in [322, 232, 132, 242, 142, 224, 124] : \n",
        "    df_cleaned.loc[(df_cleaned.RFMScore == code), 'Segment'] = 'Average Customer'"
      ]
    },
    {
      "cell_type": "code",
      "execution_count": 113,
      "metadata": {
        "execution": {
          "iopub.execute_input": "2020-12-10T18:44:29.072931Z",
          "iopub.status.busy": "2020-12-10T18:44:29.072202Z",
          "iopub.status.idle": "2020-12-10T18:44:29.111703Z",
          "shell.execute_reply": "2020-12-10T18:44:29.111101Z"
        },
        "papermill": {
          "duration": 0.314364,
          "end_time": "2020-12-10T18:44:29.111850",
          "exception": false,
          "start_time": "2020-12-10T18:44:28.797486",
          "status": "completed"
        },
        "scrolled": false,
        "tags": [],
        "id": "Wu_sRdAsQahN",
        "outputId": "e331cb2f-e646-41d7-faf7-8dd5bd870b8a",
        "colab": {
          "base_uri": "https://localhost:8080/"
        }
      },
      "outputs": [
        {
          "output_type": "execute_result",
          "data": {
            "text/plain": [
              "333    10545\n",
              "332     9298\n",
              "233     8941\n",
              "133     8806\n",
              "433     8736\n",
              "422     8637\n",
              "432     6503\n",
              "443     5883\n",
              "323     5735\n",
              "344     4130\n",
              "243     2680\n",
              "244     2644\n",
              "434     2558\n",
              "343     2539\n",
              "334     2525\n",
              "442     1817\n",
              "423     1710\n",
              "342     1530\n",
              "144     1367\n",
              "234     1243\n",
              "143     1014\n",
              "134      910\n",
              "324      210\n",
              "424       56\n",
              "Name: RFMScore, dtype: int64"
            ]
          },
          "metadata": {},
          "execution_count": 113
        }
      ],
      "source": [
        "df_cleaned.loc[df_cleaned.Segment.isnull()]['RFMScore'].value_counts()"
      ]
    },
    {
      "cell_type": "code",
      "execution_count": 114,
      "metadata": {
        "execution": {
          "iopub.execute_input": "2020-12-10T18:44:29.606618Z",
          "iopub.status.busy": "2020-12-10T18:44:29.605910Z",
          "iopub.status.idle": "2020-12-10T18:44:29.981245Z",
          "shell.execute_reply": "2020-12-10T18:44:29.980535Z"
        },
        "papermill": {
          "duration": 0.666457,
          "end_time": "2020-12-10T18:44:29.981367",
          "exception": false,
          "start_time": "2020-12-10T18:44:29.314910",
          "status": "completed"
        },
        "tags": [],
        "id": "339_RsDvQahN"
      },
      "outputs": [],
      "source": [
        "for code in df_cleaned.loc[df_cleaned.Segment.isnull()]['RFMScore'].value_counts().index : \n",
        "    df_cleaned.loc[(df_cleaned.RFMScore == code), 'Segment'] = 'Not So Good Customers'"
      ]
    },
    {
      "cell_type": "markdown",
      "metadata": {
        "papermill": {
          "duration": 0.190936,
          "end_time": "2020-12-10T18:44:30.373209",
          "exception": false,
          "start_time": "2020-12-10T18:44:30.182273",
          "status": "completed"
        },
        "tags": [],
        "id": "zhxpF5WCQahO"
      },
      "source": [
        "<br><br>\n",
        "<div class=\"alert alert-block alert-info\" style=\"font-size:15px; font-family:verdana; line-height: 1.7em\">\n",
        "    <b> When you're working on a profesional project, this step should be done in close collaboration with the client (or the marketing team) </b><br><br>\n",
        "</div>"
      ]
    },
    {
      "cell_type": "markdown",
      "metadata": {
        "papermill": {
          "duration": 0.190509,
          "end_time": "2020-12-10T18:44:30.756297",
          "exception": false,
          "start_time": "2020-12-10T18:44:30.565788",
          "status": "completed"
        },
        "tags": [],
        "id": "pctcc-yVQahO"
      },
      "source": [
        "***"
      ]
    },
    {
      "cell_type": "markdown",
      "metadata": {
        "papermill": {
          "duration": 0.193191,
          "end_time": "2020-12-10T18:44:31.141304",
          "exception": false,
          "start_time": "2020-12-10T18:44:30.948113",
          "status": "completed"
        },
        "tags": [],
        "id": "_-fPRU5eQahO"
      },
      "source": [
        "<h1 id=\"sup_learn\" style=\"font-family:verdana;\"> \n",
        "    <center>5. Supervised Learning \n",
        "        <a class=\"anchor-link\" href=\"https://www.kaggle.com/miljan/product-tagging-for-e-commerce-work-in-progress/#sup_learn\">¶</a>\n",
        "    </center>\n",
        "</h1>"
      ]
    },
    {
      "cell_type": "markdown",
      "metadata": {
        "papermill": {
          "duration": 0.188177,
          "end_time": "2020-12-10T18:44:31.522752",
          "exception": false,
          "start_time": "2020-12-10T18:44:31.334575",
          "status": "completed"
        },
        "tags": [],
        "id": "3bjmBFajQahP"
      },
      "source": [
        "<h2 id=\"feature_prep\" style=\"font-family:verdana;\"> \n",
        "         5.1 Preparing my features\n",
        "        <a class=\"anchor-link\" href=\"https://www.kaggle.com/miljan/product-tagging-for-e-commerce-work-in-progress/#feature_prep\">¶</a>\n",
        "\n",
        "</h2>"
      ]
    },
    {
      "cell_type": "markdown",
      "metadata": {
        "papermill": {
          "duration": 0.189547,
          "end_time": "2020-12-10T18:44:31.902857",
          "exception": false,
          "start_time": "2020-12-10T18:44:31.713310",
          "status": "completed"
        },
        "tags": [],
        "id": "C-4920K7QahP"
      },
      "source": [
        "<br><br>\n",
        "<div class=\"alert alert-block alert-info\" style=\"font-size:15px; font-family:verdana; line-height: 1.7em\">\n",
        "    <b> Here, I decided to separate my data in train data and test data. My test data will be new customers in the 2 last months of this dataset. Train data will be the remaining customers. </b><br><br>\n",
        "</div>"
      ]
    },
    {
      "cell_type": "code",
      "execution_count": 115,
      "metadata": {
        "execution": {
          "iopub.execute_input": "2020-12-10T18:44:32.297336Z",
          "iopub.status.busy": "2020-12-10T18:44:32.296660Z",
          "iopub.status.idle": "2020-12-10T18:52:53.606448Z",
          "shell.execute_reply": "2020-12-10T18:52:53.605535Z"
        },
        "papermill": {
          "duration": 501.507293,
          "end_time": "2020-12-10T18:52:53.606643",
          "exception": false,
          "start_time": "2020-12-10T18:44:32.099350",
          "status": "completed"
        },
        "tags": [],
        "id": "Xoh04fbAQahP"
      },
      "outputs": [],
      "source": [
        "new_cust = []\n",
        "for value in df_cleaned[df_cleaned['InvoiceDate']>='2011-10-01 07:45:00']['Customer ID'].value_counts().index:\n",
        "    if value not in df_cleaned[df_cleaned['InvoiceDate']<'2011-10-01 07:45:00']['Customer ID'].value_counts().index :\n",
        "        new_cust.append(value)"
      ]
    },
    {
      "cell_type": "code",
      "execution_count": 116,
      "metadata": {
        "execution": {
          "iopub.execute_input": "2020-12-10T18:52:54.003923Z",
          "iopub.status.busy": "2020-12-10T18:52:54.002839Z",
          "iopub.status.idle": "2020-12-10T18:52:54.027061Z",
          "shell.execute_reply": "2020-12-10T18:52:54.026330Z"
        },
        "papermill": {
          "duration": 0.225279,
          "end_time": "2020-12-10T18:52:54.027214",
          "exception": false,
          "start_time": "2020-12-10T18:52:53.801935",
          "status": "completed"
        },
        "tags": [],
        "id": "sBzvR9VqQahQ"
      },
      "outputs": [],
      "source": [
        "df_cleaned_new_cust = df_cleaned[df_cleaned['Customer ID'].isin(new_cust)]"
      ]
    },
    {
      "cell_type": "code",
      "execution_count": 117,
      "metadata": {
        "execution": {
          "iopub.execute_input": "2020-12-10T18:52:54.420357Z",
          "iopub.status.busy": "2020-12-10T18:52:54.419633Z",
          "iopub.status.idle": "2020-12-10T18:52:54.653561Z",
          "shell.execute_reply": "2020-12-10T18:52:54.652742Z"
        },
        "papermill": {
          "duration": 0.432006,
          "end_time": "2020-12-10T18:52:54.653692",
          "exception": false,
          "start_time": "2020-12-10T18:52:54.221686",
          "status": "completed"
        },
        "tags": [],
        "id": "ia-5-lV2QahQ"
      },
      "outputs": [],
      "source": [
        "df_cleaned_old_cust = df_cleaned[~df_cleaned['Customer ID'].isin(new_cust)]"
      ]
    },
    {
      "cell_type": "code",
      "execution_count": 118,
      "metadata": {
        "execution": {
          "iopub.execute_input": "2020-12-10T18:52:55.049007Z",
          "iopub.status.busy": "2020-12-10T18:52:55.047941Z",
          "iopub.status.idle": "2020-12-10T18:52:55.054207Z",
          "shell.execute_reply": "2020-12-10T18:52:55.053601Z"
        },
        "papermill": {
          "duration": 0.207447,
          "end_time": "2020-12-10T18:52:55.054347",
          "exception": false,
          "start_time": "2020-12-10T18:52:54.846900",
          "status": "completed"
        },
        "tags": [],
        "id": "tSf9RuQeQahQ",
        "outputId": "b4e986d3-cfb1-4cdb-fa55-f1399ba933de",
        "colab": {
          "base_uri": "https://localhost:8080/"
        }
      },
      "outputs": [
        {
          "output_type": "execute_result",
          "data": {
            "text/plain": [
              "((18816, 32), (756720, 32))"
            ]
          },
          "metadata": {},
          "execution_count": 118
        }
      ],
      "source": [
        "(df_cleaned_new_cust.shape, df_cleaned_old_cust.shape)"
      ]
    },
    {
      "cell_type": "code",
      "execution_count": 119,
      "metadata": {
        "execution": {
          "iopub.execute_input": "2020-12-10T18:52:55.519640Z",
          "iopub.status.busy": "2020-12-10T18:52:55.518781Z",
          "iopub.status.idle": "2020-12-10T18:52:55.544782Z",
          "shell.execute_reply": "2020-12-10T18:52:55.544095Z"
        },
        "papermill": {
          "duration": 0.297043,
          "end_time": "2020-12-10T18:52:55.544912",
          "exception": false,
          "start_time": "2020-12-10T18:52:55.247869",
          "status": "completed"
        },
        "tags": [],
        "id": "6TQy-EfGQahR"
      },
      "outputs": [],
      "source": [
        "custom_aggregation = {}\n",
        "custom_aggregation[\"Customer ID\"] = lambda x:x.iloc[0]\n",
        "for label in df_cleaned['Labels'].unique():\n",
        "    col = 'Label_{}'.format(label)  \n",
        "    custom_aggregation[col] = \"sum\"\n",
        "\n",
        "custom_aggregation[\"Quantity\"] = 'sum'\n",
        "custom_aggregation[\"Price\"] = 'mean'\n",
        "custom_aggregation[\"TotalPrice\"] = 'sum'\n",
        "custom_aggregation[\"QuantityCanceled\"] = \"sum\"\n",
        "custom_aggregation[\"Postage\"] = lambda x:x.iloc[0]\n",
        "custom_aggregation[\"Discount\"] = lambda x:x.iloc[0]\n",
        "\n",
        "\n",
        "custom_aggregation[\"min_recency\"] = lambda x:x.iloc[0]\n",
        "custom_aggregation[\"max_recency\"] = lambda x:x.iloc[0]\n",
        "custom_aggregation[\"frequency\"] = lambda x:x.iloc[0]\n",
        "custom_aggregation[\"monetary_value\"] = lambda x:x.iloc[0]\n",
        "\n",
        "custom_aggregation[\"Segment\"] = lambda x:x.iloc[0]"
      ]
    },
    {
      "cell_type": "code",
      "execution_count": 120,
      "metadata": {
        "execution": {
          "iopub.execute_input": "2020-12-10T18:52:55.948238Z",
          "iopub.status.busy": "2020-12-10T18:52:55.947520Z",
          "iopub.status.idle": "2020-12-10T18:53:00.993421Z",
          "shell.execute_reply": "2020-12-10T18:53:00.994168Z"
        },
        "papermill": {
          "duration": 5.2593,
          "end_time": "2020-12-10T18:53:00.994351",
          "exception": false,
          "start_time": "2020-12-10T18:52:55.735051",
          "status": "completed"
        },
        "tags": [],
        "id": "y2rYF3B4QahR"
      },
      "outputs": [],
      "source": [
        "df_grouped_train = df_cleaned_old_cust.groupby(\"Invoice\").agg(custom_aggregation)"
      ]
    },
    {
      "cell_type": "code",
      "execution_count": 121,
      "metadata": {
        "execution": {
          "iopub.execute_input": "2020-12-10T18:53:01.401866Z",
          "iopub.status.busy": "2020-12-10T18:53:01.401162Z",
          "iopub.status.idle": "2020-12-10T18:53:01.532707Z",
          "shell.execute_reply": "2020-12-10T18:53:01.532096Z"
        },
        "papermill": {
          "duration": 0.335545,
          "end_time": "2020-12-10T18:53:01.532836",
          "exception": false,
          "start_time": "2020-12-10T18:53:01.197291",
          "status": "completed"
        },
        "tags": [],
        "id": "vWnwiutKQahR"
      },
      "outputs": [],
      "source": [
        "df_grouped_test = df_cleaned_new_cust.groupby(\"Invoice\").agg(custom_aggregation)"
      ]
    },
    {
      "cell_type": "code",
      "execution_count": 122,
      "metadata": {
        "execution": {
          "iopub.execute_input": "2020-12-10T18:53:01.940109Z",
          "iopub.status.busy": "2020-12-10T18:53:01.939005Z",
          "iopub.status.idle": "2020-12-10T18:53:02.015128Z",
          "shell.execute_reply": "2020-12-10T18:53:02.014391Z"
        },
        "papermill": {
          "duration": 0.285047,
          "end_time": "2020-12-10T18:53:02.015269",
          "exception": false,
          "start_time": "2020-12-10T18:53:01.730222",
          "status": "completed"
        },
        "tags": [],
        "id": "FldSma-JQahR"
      },
      "outputs": [],
      "source": [
        "custom_aggregation = {}\n",
        "\n",
        "for label in df_cleaned['Labels'].unique():\n",
        "    col = 'Label_{}'.format(label)  \n",
        "    custom_aggregation[col] = \"sum\"\n",
        "\n",
        "custom_aggregation[\"Quantity\"] = 'mean'\n",
        "custom_aggregation[\"Price\"] = 'mean'\n",
        "custom_aggregation[\"TotalPrice\"] = 'mean'\n",
        "custom_aggregation[\"QuantityCanceled\"] = \"sum\"\n",
        "custom_aggregation[\"Postage\"] = \"sum\"\n",
        "custom_aggregation[\"Discount\"] = \"sum\"\n",
        "\n",
        "\n",
        "custom_aggregation[\"min_recency\"] = lambda x:x.iloc[0]\n",
        "custom_aggregation[\"max_recency\"] = lambda x:x.iloc[0]\n",
        "custom_aggregation[\"frequency\"] = lambda x:x.iloc[0]\n",
        "custom_aggregation[\"monetary_value\"] = lambda x:x.iloc[0]\n",
        "custom_aggregation[\"Segment\"] = lambda x:x.iloc[0]\n"
      ]
    },
    {
      "cell_type": "code",
      "execution_count": 123,
      "metadata": {
        "execution": {
          "iopub.execute_input": "2020-12-10T18:53:02.422474Z",
          "iopub.status.busy": "2020-12-10T18:53:02.421690Z",
          "iopub.status.idle": "2020-12-10T18:53:02.916660Z",
          "shell.execute_reply": "2020-12-10T18:53:02.916076Z"
        },
        "papermill": {
          "duration": 0.701012,
          "end_time": "2020-12-10T18:53:02.916791",
          "exception": false,
          "start_time": "2020-12-10T18:53:02.215779",
          "status": "completed"
        },
        "tags": [],
        "id": "x1EHy2ClQahS"
      },
      "outputs": [],
      "source": [
        "df_grouped_final_train = df_grouped_train.groupby(\"Customer ID\").agg(custom_aggregation)"
      ]
    },
    {
      "cell_type": "code",
      "execution_count": 124,
      "metadata": {
        "execution": {
          "iopub.execute_input": "2020-12-10T18:53:03.323259Z",
          "iopub.status.busy": "2020-12-10T18:53:03.322298Z",
          "iopub.status.idle": "2020-12-10T18:53:03.376348Z",
          "shell.execute_reply": "2020-12-10T18:53:03.376826Z"
        },
        "papermill": {
          "duration": 0.259866,
          "end_time": "2020-12-10T18:53:03.376992",
          "exception": false,
          "start_time": "2020-12-10T18:53:03.117126",
          "status": "completed"
        },
        "tags": [],
        "id": "z3HwSttjQahS"
      },
      "outputs": [],
      "source": [
        "df_grouped_final_test = df_grouped_test.groupby(\"Customer ID\").agg(custom_aggregation)"
      ]
    },
    {
      "cell_type": "code",
      "execution_count": 125,
      "metadata": {
        "execution": {
          "iopub.execute_input": "2020-12-10T18:53:03.777107Z",
          "iopub.status.busy": "2020-12-10T18:53:03.776051Z",
          "iopub.status.idle": "2020-12-10T18:53:03.782571Z",
          "shell.execute_reply": "2020-12-10T18:53:03.783080Z"
        },
        "papermill": {
          "duration": 0.208237,
          "end_time": "2020-12-10T18:53:03.783270",
          "exception": false,
          "start_time": "2020-12-10T18:53:03.575033",
          "status": "completed"
        },
        "tags": [],
        "id": "eT537DQBQahS"
      },
      "outputs": [],
      "source": [
        "X_train = df_grouped_final_train.drop(columns=['Segment'])"
      ]
    },
    {
      "cell_type": "code",
      "execution_count": 126,
      "metadata": {
        "execution": {
          "iopub.execute_input": "2020-12-10T18:53:04.187939Z",
          "iopub.status.busy": "2020-12-10T18:53:04.187126Z",
          "iopub.status.idle": "2020-12-10T18:53:04.190466Z",
          "shell.execute_reply": "2020-12-10T18:53:04.189902Z"
        },
        "papermill": {
          "duration": 0.205326,
          "end_time": "2020-12-10T18:53:04.190619",
          "exception": false,
          "start_time": "2020-12-10T18:53:03.985293",
          "status": "completed"
        },
        "tags": [],
        "id": "4JI5CjgAQahS"
      },
      "outputs": [],
      "source": [
        "y_train = df_grouped_final_train['Segment']"
      ]
    },
    {
      "cell_type": "code",
      "execution_count": 127,
      "metadata": {
        "execution": {
          "iopub.execute_input": "2020-12-10T18:53:04.593212Z",
          "iopub.status.busy": "2020-12-10T18:53:04.592535Z",
          "iopub.status.idle": "2020-12-10T18:53:04.596596Z",
          "shell.execute_reply": "2020-12-10T18:53:04.595879Z"
        },
        "papermill": {
          "duration": 0.207387,
          "end_time": "2020-12-10T18:53:04.596714",
          "exception": false,
          "start_time": "2020-12-10T18:53:04.389327",
          "status": "completed"
        },
        "tags": [],
        "id": "KkUHSh9zQahT"
      },
      "outputs": [],
      "source": [
        "le_label = preprocessing.LabelEncoder()"
      ]
    },
    {
      "cell_type": "code",
      "execution_count": 128,
      "metadata": {
        "execution": {
          "iopub.execute_input": "2020-12-10T18:53:05.007049Z",
          "iopub.status.busy": "2020-12-10T18:53:05.006334Z",
          "iopub.status.idle": "2020-12-10T18:53:05.012510Z",
          "shell.execute_reply": "2020-12-10T18:53:05.013021Z"
        },
        "papermill": {
          "duration": 0.210163,
          "end_time": "2020-12-10T18:53:05.013211",
          "exception": false,
          "start_time": "2020-12-10T18:53:04.803048",
          "status": "completed"
        },
        "tags": [],
        "id": "HypyAXd7QahT"
      },
      "outputs": [],
      "source": [
        "y_train = le_label.fit_transform(y_train)"
      ]
    },
    {
      "cell_type": "code",
      "execution_count": 129,
      "metadata": {
        "execution": {
          "iopub.execute_input": "2020-12-10T18:53:05.539494Z",
          "iopub.status.busy": "2020-12-10T18:53:05.538680Z",
          "iopub.status.idle": "2020-12-10T18:53:05.542495Z",
          "shell.execute_reply": "2020-12-10T18:53:05.541938Z"
        },
        "papermill": {
          "duration": 0.261228,
          "end_time": "2020-12-10T18:53:05.542619",
          "exception": false,
          "start_time": "2020-12-10T18:53:05.281391",
          "status": "completed"
        },
        "tags": [],
        "id": "J13N1_2gQahT"
      },
      "outputs": [],
      "source": [
        "X_test = df_grouped_final_test.drop(columns=['Segment'])"
      ]
    },
    {
      "cell_type": "code",
      "execution_count": 130,
      "metadata": {
        "execution": {
          "iopub.execute_input": "2020-12-10T18:53:05.946467Z",
          "iopub.status.busy": "2020-12-10T18:53:05.945429Z",
          "iopub.status.idle": "2020-12-10T18:53:05.949859Z",
          "shell.execute_reply": "2020-12-10T18:53:05.950380Z"
        },
        "papermill": {
          "duration": 0.208741,
          "end_time": "2020-12-10T18:53:05.950532",
          "exception": false,
          "start_time": "2020-12-10T18:53:05.741791",
          "status": "completed"
        },
        "tags": [],
        "id": "OXORQXNqQahU"
      },
      "outputs": [],
      "source": [
        "y_test = df_grouped_final_test['Segment']"
      ]
    },
    {
      "cell_type": "code",
      "execution_count": 131,
      "metadata": {
        "execution": {
          "iopub.execute_input": "2020-12-10T18:53:06.366009Z",
          "iopub.status.busy": "2020-12-10T18:53:06.364974Z",
          "iopub.status.idle": "2020-12-10T18:53:06.371886Z",
          "shell.execute_reply": "2020-12-10T18:53:06.372445Z"
        },
        "papermill": {
          "duration": 0.215804,
          "end_time": "2020-12-10T18:53:06.372630",
          "exception": false,
          "start_time": "2020-12-10T18:53:06.156826",
          "status": "completed"
        },
        "tags": [],
        "id": "bH9xA2msQahU"
      },
      "outputs": [],
      "source": [
        "y_test = le_label.transform(y_test)"
      ]
    },
    {
      "cell_type": "code",
      "execution_count": 132,
      "metadata": {
        "execution": {
          "iopub.execute_input": "2020-12-10T18:53:06.769234Z",
          "iopub.status.busy": "2020-12-10T18:53:06.767976Z",
          "iopub.status.idle": "2020-12-10T18:53:06.772685Z",
          "shell.execute_reply": "2020-12-10T18:53:06.772043Z"
        },
        "papermill": {
          "duration": 0.205684,
          "end_time": "2020-12-10T18:53:06.772811",
          "exception": false,
          "start_time": "2020-12-10T18:53:06.567127",
          "status": "completed"
        },
        "tags": [],
        "id": "7lgJag-9QahV"
      },
      "outputs": [],
      "source": [
        "X_train, X_val, y_train, y_val = train_test_split(X_train, y_train, test_size = 0.2, random_state = 46) # Do 80/20 split"
      ]
    },
    {
      "cell_type": "code",
      "execution_count": 133,
      "metadata": {
        "execution": {
          "iopub.execute_input": "2020-12-10T18:53:07.200374Z",
          "iopub.status.busy": "2020-12-10T18:53:07.198950Z",
          "iopub.status.idle": "2020-12-10T18:53:07.213556Z",
          "shell.execute_reply": "2020-12-10T18:53:07.214621Z"
        },
        "papermill": {
          "duration": 0.2493,
          "end_time": "2020-12-10T18:53:07.214858",
          "exception": false,
          "start_time": "2020-12-10T18:53:06.965558",
          "status": "completed"
        },
        "tags": [],
        "id": "1Ir71tGDQahV"
      },
      "outputs": [],
      "source": [
        "scaler = preprocessing.StandardScaler()\n",
        "X_train = scaler.fit_transform(X_train)\n",
        "X_val = scaler.transform(X_val)\n",
        "X_test = scaler.transform(X_test)"
      ]
    },
    {
      "cell_type": "markdown",
      "metadata": {
        "papermill": {
          "duration": 0.20035,
          "end_time": "2020-12-10T18:53:07.613199",
          "exception": false,
          "start_time": "2020-12-10T18:53:07.412849",
          "status": "completed"
        },
        "tags": [],
        "id": "4tdSKLVVQahV"
      },
      "source": [
        "<h2 id=\"model_train\" style=\"font-family:verdana;\"> \n",
        "         5.2 Training models and comparing performance\n",
        "        <a class=\"anchor-link\" href=\"https://www.kaggle.com/miljan/product-tagging-for-e-commerce-work-in-progress/#model_train\">¶</a>\n",
        "\n",
        "</h2>"
      ]
    },
    {
      "cell_type": "code",
      "execution_count": 134,
      "metadata": {
        "execution": {
          "iopub.execute_input": "2020-12-10T18:53:08.017644Z",
          "iopub.status.busy": "2020-12-10T18:53:08.016631Z",
          "iopub.status.idle": "2020-12-10T18:53:08.020668Z",
          "shell.execute_reply": "2020-12-10T18:53:08.019956Z"
        },
        "papermill": {
          "duration": 0.210526,
          "end_time": "2020-12-10T18:53:08.020804",
          "exception": false,
          "start_time": "2020-12-10T18:53:07.810278",
          "status": "completed"
        },
        "tags": [],
        "id": "nB_E7eOCQahW"
      },
      "outputs": [],
      "source": [
        "def print_score(y_pred, clf):\n",
        "    print(\"Clf: \", clf.__class__.__name__)\n",
        "    print(\"Accuracy score: {}\".format(accuracy_score(y_val, y_pred)))\n",
        "    print(\"---\")    "
      ]
    },
    {
      "cell_type": "code",
      "execution_count": 135,
      "metadata": {
        "execution": {
          "iopub.execute_input": "2020-12-10T18:53:08.429903Z",
          "iopub.status.busy": "2020-12-10T18:53:08.428764Z",
          "iopub.status.idle": "2020-12-10T18:53:20.419063Z",
          "shell.execute_reply": "2020-12-10T18:53:20.419844Z"
        },
        "papermill": {
          "duration": 12.194732,
          "end_time": "2020-12-10T18:53:20.420047",
          "exception": false,
          "start_time": "2020-12-10T18:53:08.225315",
          "status": "completed"
        },
        "tags": [],
        "id": "jf1j5z55QahW",
        "outputId": "27a0ea08-fa6d-42e6-c485-bac1e845f798",
        "colab": {
          "base_uri": "https://localhost:8080/"
        }
      },
      "outputs": [
        {
          "output_type": "stream",
          "name": "stdout",
          "text": [
            "Clf:  DummyClassifier\n",
            "Accuracy score: 0.4048059149722736\n",
            "---\n",
            "Clf:  SGDClassifier\n",
            "Accuracy score: 0.6404805914972274\n",
            "---\n"
          ]
        },
        {
          "output_type": "stream",
          "name": "stderr",
          "text": [
            "/usr/local/lib/python3.7/dist-packages/sklearn/svm/_base.py:1208: ConvergenceWarning:\n",
            "\n",
            "Liblinear failed to converge, increase the number of iterations.\n",
            "\n"
          ]
        },
        {
          "output_type": "stream",
          "name": "stdout",
          "text": [
            "Clf:  LinearSVC\n",
            "Accuracy score: 0.711645101663586\n",
            "---\n",
            "Clf:  Perceptron\n",
            "Accuracy score: 0.6349353049907579\n",
            "---\n",
            "Clf:  PassiveAggressiveClassifier\n",
            "Accuracy score: 0.6072088724584104\n",
            "---\n"
          ]
        },
        {
          "output_type": "stream",
          "name": "stderr",
          "text": [
            "/usr/local/lib/python3.7/dist-packages/sklearn/neural_network/_multilayer_perceptron.py:696: ConvergenceWarning:\n",
            "\n",
            "Stochastic Optimizer: Maximum iterations (200) reached and the optimization hasn't converged yet.\n",
            "\n"
          ]
        },
        {
          "output_type": "stream",
          "name": "stdout",
          "text": [
            "Clf:  MLPClassifier\n",
            "Accuracy score: 0.9168207024029574\n",
            "---\n",
            "Clf:  RandomForestClassifier\n",
            "Accuracy score: 0.9944547134935305\n",
            "---\n",
            "Clf:  XGBClassifier\n",
            "Accuracy score: 1.0\n",
            "---\n"
          ]
        }
      ],
      "source": [
        "dummy = DummyClassifier(strategy='prior')\n",
        "sgd = SGDClassifier()\n",
        "mn = MultinomialNB()\n",
        "svc = LinearSVC()\n",
        "perceptron = Perceptron()\n",
        "pac = PassiveAggressiveClassifier()\n",
        "mlpc = MLPClassifier()\n",
        "rfc = RandomForestClassifier()\n",
        "xgb = XGBClassifier()\n",
        "\n",
        "\n",
        "for classifier in [dummy, sgd, svc, perceptron, pac, mlpc, rfc, xgb]:\n",
        "    classifier.fit(X_train, y_train)\n",
        "    y_pred = classifier.predict(X_val)\n",
        "    print_score(y_pred, classifier)"
      ]
    },
    {
      "cell_type": "code",
      "execution_count": 136,
      "metadata": {
        "execution": {
          "iopub.execute_input": "2020-12-10T18:53:20.814350Z",
          "iopub.status.busy": "2020-12-10T18:53:20.813619Z",
          "iopub.status.idle": "2020-12-10T18:53:20.827133Z",
          "shell.execute_reply": "2020-12-10T18:53:20.826557Z"
        },
        "papermill": {
          "duration": 0.212117,
          "end_time": "2020-12-10T18:53:20.827264",
          "exception": false,
          "start_time": "2020-12-10T18:53:20.615147",
          "status": "completed"
        },
        "tags": [],
        "id": "08rxJNClQahX",
        "outputId": "abb73942-3436-4fdf-843c-911336477e42",
        "colab": {
          "base_uri": "https://localhost:8080/"
        }
      },
      "outputs": [
        {
          "output_type": "execute_result",
          "data": {
            "text/plain": [
              "0.9977272727272727"
            ]
          },
          "metadata": {},
          "execution_count": 136
        }
      ],
      "source": [
        "y_pred = xgb.predict(X_test)\n",
        "accuracy_score(y_test, y_pred)"
      ]
    },
    {
      "cell_type": "code",
      "execution_count": 137,
      "metadata": {
        "execution": {
          "iopub.execute_input": "2020-12-10T18:53:21.230745Z",
          "iopub.status.busy": "2020-12-10T18:53:21.229971Z",
          "iopub.status.idle": "2020-12-10T18:53:21.495673Z",
          "shell.execute_reply": "2020-12-10T18:53:21.494986Z"
        },
        "papermill": {
          "duration": 0.467824,
          "end_time": "2020-12-10T18:53:21.495796",
          "exception": false,
          "start_time": "2020-12-10T18:53:21.027972",
          "status": "completed"
        },
        "tags": [],
        "id": "a_1SSVUTQahX",
        "outputId": "518b9c03-3292-4c0d-a6ad-9ad3ebd429f0",
        "colab": {
          "base_uri": "https://localhost:8080/",
          "height": 312
        }
      },
      "outputs": [
        {
          "output_type": "execute_result",
          "data": {
            "text/plain": [
              "<matplotlib.axes._subplots.AxesSubplot at 0x7fb081884e10>"
            ]
          },
          "metadata": {},
          "execution_count": 137
        },
        {
          "output_type": "display_data",
          "data": {
            "text/plain": [
              "<Figure size 432x288 with 1 Axes>"
            ],
            "image/png": "[encoded data removed]"
          },
          "metadata": {
            "needs_background": "light"
          }
        }
      ],
      "source": [
        "plot_importance(xgb)"
      ]
    },
    {
      "cell_type": "markdown",
      "metadata": {
        "papermill": {
          "duration": 0.19668,
          "end_time": "2020-12-10T18:53:21.890162",
          "exception": false,
          "start_time": "2020-12-10T18:53:21.693482",
          "status": "completed"
        },
        "tags": [],
        "id": "SfuPZUQsQahX"
      },
      "source": [
        "<br><br>\n",
        "<div class=\"alert alert-block alert-info\" style=\"font-size:15px; font-family:verdana; line-height: 1.7em\">\n",
        "    <b> This score was predictable since I created my segments on RFM Score only and xgboost can easily recreate segments I've done. In a real context this model would be useful to speed up customer segmentation but here itsn't that useful. The positive aspect of it is that we tested it on new customers in the last 2 months with limited number of transactions. This means that we can classify customers with only a few transactions which is quite powerful. </b><br><br>\n",
        "</div>"
      ]
    },
    {
      "cell_type": "markdown",
      "metadata": {
        "papermill": {
          "duration": 0.205036,
          "end_time": "2020-12-10T18:53:22.300011",
          "exception": false,
          "start_time": "2020-12-10T18:53:22.094975",
          "status": "completed"
        },
        "tags": [],
        "id": "xakMoQXKQahY"
      },
      "source": [
        "***"
      ]
    },
    {
      "cell_type": "markdown",
      "metadata": {
        "papermill": {
          "duration": 0.198673,
          "end_time": "2020-12-10T18:53:22.697709",
          "exception": false,
          "start_time": "2020-12-10T18:53:22.499036",
          "status": "completed"
        },
        "tags": [],
        "id": "2L2awEy7QahY"
      },
      "source": [
        "<h1 id=\"data_vis\" style=\"font-family:verdana;\"> \n",
        "    <center>6. Data Visualization with Dash for Jupyter\n",
        "        <a class=\"anchor-link\" href=\"https://www.kaggle.com/miljan/product-tagging-for-e-commerce-work-in-progress/#data_vis\">¶</a>\n",
        "    </center>\n",
        "</h1>"
      ]
    },
    {
      "cell_type": "markdown",
      "metadata": {
        "papermill": {
          "duration": 0.202262,
          "end_time": "2020-12-10T18:53:23.096974",
          "exception": false,
          "start_time": "2020-12-10T18:53:22.894712",
          "status": "completed"
        },
        "tags": [],
        "id": "itNFWRdrQahY"
      },
      "source": [
        "<h2 id=\"sales\" style=\"font-family:verdana;\"> \n",
        "         6.1 Total Sales\n",
        "        <a class=\"anchor-link\" href=\"https://www.kaggle.com/miljan/product-tagging-for-e-commerce-work-in-progress/#sales\">¶</a>\n",
        "\n",
        "</h2>"
      ]
    },
    {
      "cell_type": "code",
      "execution_count": 138,
      "metadata": {
        "execution": {
          "iopub.execute_input": "2020-12-10T18:53:23.502517Z",
          "iopub.status.busy": "2020-12-10T18:53:23.501721Z",
          "iopub.status.idle": "2020-12-10T18:53:23.505085Z",
          "shell.execute_reply": "2020-12-10T18:53:23.504392Z"
        },
        "papermill": {
          "duration": 0.207547,
          "end_time": "2020-12-10T18:53:23.505218",
          "exception": false,
          "start_time": "2020-12-10T18:53:23.297671",
          "status": "completed"
        },
        "tags": [],
        "id": "eHJq_xwYQahZ"
      },
      "outputs": [],
      "source": [
        "custom_aggregation = {}\n",
        "\n",
        "custom_aggregation[\"InvoiceDate\"] = lambda x:x.iloc[0]\n",
        "custom_aggregation[\"MonthYear\"] = lambda x:x.iloc[0]\n",
        "\n",
        "custom_aggregation[\"TotalPrice\"] = 'sum'"
      ]
    },
    {
      "cell_type": "code",
      "execution_count": 139,
      "metadata": {
        "execution": {
          "iopub.execute_input": "2020-12-10T18:53:23.927863Z",
          "iopub.status.busy": "2020-12-10T18:53:23.927151Z",
          "iopub.status.idle": "2020-12-10T18:53:24.079792Z",
          "shell.execute_reply": "2020-12-10T18:53:24.078927Z"
        },
        "papermill": {
          "duration": 0.377956,
          "end_time": "2020-12-10T18:53:24.079917",
          "exception": false,
          "start_time": "2020-12-10T18:53:23.701961",
          "status": "completed"
        },
        "tags": [],
        "id": "2UV07SFrQahZ",
        "outputId": "a85be712-753d-4982-893a-fbd6fa92ff6c",
        "colab": {
          "base_uri": "https://localhost:8080/",
          "height": 237
        }
      },
      "outputs": [
        {
          "output_type": "execute_result",
          "data": {
            "text/plain": [
              "                      InvoiceDate      MonthYear  TotalPrice\n",
              "MonthYear                                                   \n",
              "December 2009 2009-12-01 07:45:00  December 2009   610700.98\n",
              "January 2010  2010-01-29 10:06:00   January 2010   474055.80\n",
              "February 2010 2010-02-02 13:39:00  February 2010   456027.25\n",
              "March 2010    2010-03-10 08:31:00     March 2010   600399.79\n",
              "April 2010    2010-04-20 16:46:00     April 2010   555330.59"
            ],
            "text/html": [
              "\n",
              "  <div id=\"df-7093e6fa-540b-4ec5-b203-b55033dffa72\">\n",
              "    <div class=\"colab-df-container\">\n",
              "      <div>\n",
              "<style scoped>\n",
              "    .dataframe tbody tr th:only-of-type {\n",
              "        vertical-align: middle;\n",
              "    }\n",
              "\n",
              "    .dataframe tbody tr th {\n",
              "        vertical-align: top;\n",
              "    }\n",
              "\n",
              "    .dataframe thead th {\n",
              "        text-align: right;\n",
              "    }\n",
              "</style>\n",
              "<table border=\"1\" class=\"dataframe\">\n",
              "  <thead>\n",
              "    <tr style=\"text-align: right;\">\n",
              "      <th></th>\n",
              "      <th>InvoiceDate</th>\n",
              "      <th>MonthYear</th>\n",
              "      <th>TotalPrice</th>\n",
              "    </tr>\n",
              "    <tr>\n",
              "      <th>MonthYear</th>\n",
              "      <th></th>\n",
              "      <th></th>\n",
              "      <th></th>\n",
              "    </tr>\n",
              "  </thead>\n",
              "  <tbody>\n",
              "    <tr>\n",
              "      <th>December 2009</th>\n",
              "      <td>2009-12-01 07:45:00</td>\n",
              "      <td>December 2009</td>\n",
              "      <td>610700.98</td>\n",
              "    </tr>\n",
              "    <tr>\n",
              "      <th>January 2010</th>\n",
              "      <td>2010-01-29 10:06:00</td>\n",
              "      <td>January 2010</td>\n",
              "      <td>474055.80</td>\n",
              "    </tr>\n",
              "    <tr>\n",
              "      <th>February 2010</th>\n",
              "      <td>2010-02-02 13:39:00</td>\n",
              "      <td>February 2010</td>\n",
              "      <td>456027.25</td>\n",
              "    </tr>\n",
              "    <tr>\n",
              "      <th>March 2010</th>\n",
              "      <td>2010-03-10 08:31:00</td>\n",
              "      <td>March 2010</td>\n",
              "      <td>600399.79</td>\n",
              "    </tr>\n",
              "    <tr>\n",
              "      <th>April 2010</th>\n",
              "      <td>2010-04-20 16:46:00</td>\n",
              "      <td>April 2010</td>\n",
              "      <td>555330.59</td>\n",
              "    </tr>\n",
              "  </tbody>\n",
              "</table>\n",
              "</div>\n",
              "      <button class=\"colab-df-convert\" onclick=\"convertToInteractive('df-7093e6fa-540b-4ec5-b203-b55033dffa72')\"\n",
              "              title=\"Convert this dataframe to an interactive table.\"\n",
              "              style=\"display:none;\">\n",
              "        \n",
              "  <svg xmlns=\"http://www.w3.org/2000/svg\" height=\"24px\"viewBox=\"0 0 24 24\"\n",
              "       width=\"24px\">\n",
              "    <path d=\"M0 0h24v24H0V0z\" fill=\"none\"/>\n",
              "    <path d=\"M18.56 5.44l.94 2.06.94-2.06 2.06-.94-2.06-.94-.94-2.06-.94 2.06-2.06.94zm-11 1L8.5 8.5l.94-2.06 2.06-.94-2.06-.94L8.5 2.5l-.94 2.06-2.06.94zm10 10l.94 2.06.94-2.06 2.06-.94-2.06-.94-.94-2.06-.94 2.06-2.06.94z\"/><path d=\"M17.41 7.96l-1.37-1.37c-.4-.4-.92-.59-1.43-.59-.52 0-1.04.2-1.43.59L10.3 9.45l-7.72 7.72c-.78.78-.78 2.05 0 2.83L4 21.41c.39.39.9.59 1.41.59.51 0 1.02-.2 1.41-.59l7.78-7.78 2.81-2.81c.8-.78.8-2.07 0-2.86zM5.41 20L4 18.59l7.72-7.72 1.47 1.35L5.41 20z\"/>\n",
              "  </svg>\n",
              "      </button>\n",
              "      \n",
              "  <style>\n",
              "    .colab-df-container {\n",
              "      display:flex;\n",
              "      flex-wrap:wrap;\n",
              "      gap: 12px;\n",
              "    }\n",
              "\n",
              "    .colab-df-convert {\n",
              "      background-color: #E8F0FE;\n",
              "      border: none;\n",
              "      border-radius: 50%;\n",
              "      cursor: pointer;\n",
              "      display: none;\n",
              "      fill: #1967D2;\n",
              "      height: 32px;\n",
              "      padding: 0 0 0 0;\n",
              "      width: 32px;\n",
              "    }\n",
              "\n",
              "    .colab-df-convert:hover {\n",
              "      background-color: #E2EBFA;\n",
              "      box-shadow: 0px 1px 2px rgba(60, 64, 67, 0.3), 0px 1px 3px 1px rgba(60, 64, 67, 0.15);\n",
              "      fill: #174EA6;\n",
              "    }\n",
              "\n",
              "    [theme=dark] .colab-df-convert {\n",
              "      background-color: #3B4455;\n",
              "      fill: #D2E3FC;\n",
              "    }\n",
              "\n",
              "    [theme=dark] .colab-df-convert:hover {\n",
              "      background-color: #434B5C;\n",
              "      box-shadow: 0px 1px 3px 1px rgba(0, 0, 0, 0.15);\n",
              "      filter: drop-shadow(0px 1px 2px rgba(0, 0, 0, 0.3));\n",
              "      fill: #FFFFFF;\n",
              "    }\n",
              "  </style>\n",
              "\n",
              "      <script>\n",
              "        const buttonEl =\n",
              "          document.querySelector('#df-7093e6fa-540b-4ec5-b203-b55033dffa72 button.colab-df-convert');\n",
              "        buttonEl.style.display =\n",
              "          google.colab.kernel.accessAllowed ? 'block' : 'none';\n",
              "\n",
              "        async function convertToInteractive(key) {\n",
              "          const element = document.querySelector('#df-7093e6fa-540b-4ec5-b203-b55033dffa72');\n",
              "          const dataTable =\n",
              "            await google.colab.kernel.invokeFunction('convertToInteractive',\n",
              "                                                     [key], {});\n",
              "          if (!dataTable) return;\n",
              "\n",
              "          const docLinkHtml = 'Like what you see? Visit the ' +\n",
              "            '<a target=\"_blank\" href=https://colab.research.google.com/notebooks/data_table.ipynb>data table notebook</a>'\n",
              "            + ' to learn more about interactive tables.';\n",
              "          element.innerHTML = '';\n",
              "          dataTable['output_type'] = 'display_data';\n",
              "          await google.colab.output.renderOutput(dataTable, element);\n",
              "          const docLink = document.createElement('div');\n",
              "          docLink.innerHTML = docLinkHtml;\n",
              "          element.appendChild(docLink);\n",
              "        }\n",
              "      </script>\n",
              "    </div>\n",
              "  </div>\n",
              "  "
            ]
          },
          "metadata": {},
          "execution_count": 139
        }
      ],
      "source": [
        "sales_invoices_montly = df_cleaned.groupby('MonthYear').agg(custom_aggregation).sort_values(by='InvoiceDate')\n",
        "sales_invoices_montly.head()"
      ]
    },
    {
      "cell_type": "code",
      "execution_count": 140,
      "metadata": {
        "execution": {
          "iopub.execute_input": "2020-12-10T18:53:24.485070Z",
          "iopub.status.busy": "2020-12-10T18:53:24.484353Z",
          "iopub.status.idle": "2020-12-10T18:53:24.516668Z",
          "shell.execute_reply": "2020-12-10T18:53:24.516050Z"
        },
        "papermill": {
          "duration": 0.235641,
          "end_time": "2020-12-10T18:53:24.516786",
          "exception": false,
          "start_time": "2020-12-10T18:53:24.281145",
          "status": "completed"
        },
        "tags": [],
        "id": "jRsT9H2oQaha",
        "outputId": "64b6b372-941a-4614-8432-67135c1c5141",
        "colab": {
          "base_uri": "https://localhost:8080/",
          "height": 542
        }
      },
      "outputs": [
        {
          "output_type": "display_data",
          "data": {
            "text/html": [
              "<html>\n",
              "<head><meta charset=\"utf-8\" /></head>\n",
              "<body>\n",
              "    <div>            <script src=\"https://cdnjs.cloudflare.com/ajax/libs/mathjax/2.7.5/MathJax.js?config=TeX-AMS-MML_SVG\"></script><script type=\"text/javascript\">if (window.MathJax) {MathJax.Hub.Config({SVG: {font: \"STIX-Web\"}});}</script>                <script type=\"text/javascript\">window.PlotlyConfig = {MathJaxConfig: 'local'};</script>\n",
              "        <script src=\"https://cdn.plot.ly/plotly-2.8.3.min.js\"></script>                <div id=\"365739dd-50aa-4f2f-aeaf-2617ca0f1508\" class=\"plotly-graph-div\" style=\"height:525px; width:100%;\"></div>            <script type=\"text/javascript\">                                    window.PLOTLYENV=window.PLOTLYENV || {};                                    if (document.getElementById(\"365739dd-50aa-4f2f-aeaf-2617ca0f1508\")) {                    Plotly.newPlot(                        \"365739dd-50aa-4f2f-aeaf-2617ca0f1508\",                        [{\"x\":[\"December 2009\",\"January 2010\",\"February 2010\",\"March 2010\",\"April 2010\",\"May 2010\",\"June 2010\",\"July 2010\",\"August 2010\",\"September 2010\",\"October 2010\",\"November 2010\",\"December 2010\",\"January 2011\",\"February 2011\",\"March 2011\",\"April 2011\",\"May 2011\",\"June 2011\",\"July 2011\",\"August 2011\",\"September 2011\",\"October 2011\",\"November 2011\",\"December 2011\"],\"y\":[610700.98,474055.8,456027.25,600399.79,555330.59,551905.43,566631.11,497869.71,525305.3,711006.51,900260.31,1043891.65,495781.33,420060.64,411678.99,536623.85,412803.89,611226.76,534858.18,527060.59,567885.47,811056.36,875172.21,1063387.64,296833.2],\"type\":\"scatter\"}],                        {\"title\":{\"text\":\"Total sales\",\"x\":0.5},\"template\":{\"data\":{\"bar\":[{\"error_x\":{\"color\":\"#2a3f5f\"},\"error_y\":{\"color\":\"#2a3f5f\"},\"marker\":{\"line\":{\"color\":\"#E5ECF6\",\"width\":0.5},\"pattern\":{\"fillmode\":\"overlay\",\"size\":10,\"solidity\":0.2}},\"type\":\"bar\"}],\"barpolar\":[{\"marker\":{\"line\":{\"color\":\"#E5ECF6\",\"width\":0.5},\"pattern\":{\"fillmode\":\"overlay\",\"size\":10,\"solidity\":0.2}},\"type\":\"barpolar\"}],\"carpet\":[{\"aaxis\":{\"endlinecolor\":\"#2a3f5f\",\"gridcolor\":\"white\",\"linecolor\":\"white\",\"minorgridcolor\":\"white\",\"startlinecolor\":\"#2a3f5f\"},\"baxis\":{\"endlinecolor\":\"#2a3f5f\",\"gridcolor\":\"white\",\"linecolor\":\"white\",\"minorgridcolor\":\"white\",\"startlinecolor\":\"#2a3f5f\"},\"type\":\"carpet\"}],\"choropleth\":[{\"colorbar\":{\"outlinewidth\":0,\"ticks\":\"\"},\"type\":\"choropleth\"}],\"contour\":[{\"colorbar\":{\"outlinewidth\":0,\"ticks\":\"\"},\"colorscale\":[[0.0,\"#0d0887\"],[0.1111111111111111,\"#46039f\"],[0.2222222222222222,\"#7201a8\"],[0.3333333333333333,\"#9c179e\"],[0.4444444444444444,\"#bd3786\"],[0.5555555555555556,\"#d8576b\"],[0.6666666666666666,\"#ed7953\"],[0.7777777777777778,\"#fb9f3a\"],[0.8888888888888888,\"#fdca26\"],[1.0,\"#f0f921\"]],\"type\":\"contour\"}],\"contourcarpet\":[{\"colorbar\":{\"outlinewidth\":0,\"ticks\":\"\"},\"type\":\"contourcarpet\"}],\"heatmap\":[{\"colorbar\":{\"outlinewidth\":0,\"ticks\":\"\"},\"colorscale\":[[0.0,\"#0d0887\"],[0.1111111111111111,\"#46039f\"],[0.2222222222222222,\"#7201a8\"],[0.3333333333333333,\"#9c179e\"],[0.4444444444444444,\"#bd3786\"],[0.5555555555555556,\"#d8576b\"],[0.6666666666666666,\"#ed7953\"],[0.7777777777777778,\"#fb9f3a\"],[0.8888888888888888,\"#fdca26\"],[1.0,\"#f0f921\"]],\"type\":\"heatmap\"}],\"heatmapgl\":[{\"colorbar\":{\"outlinewidth\":0,\"ticks\":\"\"},\"colorscale\":[[0.0,\"#0d0887\"],[0.1111111111111111,\"#46039f\"],[0.2222222222222222,\"#7201a8\"],[0.3333333333333333,\"#9c179e\"],[0.4444444444444444,\"#bd3786\"],[0.5555555555555556,\"#d8576b\"],[0.6666666666666666,\"#ed7953\"],[0.7777777777777778,\"#fb9f3a\"],[0.8888888888888888,\"#fdca26\"],[1.0,\"#f0f921\"]],\"type\":\"heatmapgl\"}],\"histogram\":[{\"marker\":{\"pattern\":{\"fillmode\":\"overlay\",\"size\":10,\"solidity\":0.2}},\"type\":\"histogram\"}],\"histogram2d\":[{\"colorbar\":{\"outlinewidth\":0,\"ticks\":\"\"},\"colorscale\":[[0.0,\"#0d0887\"],[0.1111111111111111,\"#46039f\"],[0.2222222222222222,\"#7201a8\"],[0.3333333333333333,\"#9c179e\"],[0.4444444444444444,\"#bd3786\"],[0.5555555555555556,\"#d8576b\"],[0.6666666666666666,\"#ed7953\"],[0.7777777777777778,\"#fb9f3a\"],[0.8888888888888888,\"#fdca26\"],[1.0,\"#f0f921\"]],\"type\":\"histogram2d\"}],\"histogram2dcontour\":[{\"colorbar\":{\"outlinewidth\":0,\"ticks\":\"\"},\"colorscale\":[[0.0,\"#0d0887\"],[0.1111111111111111,\"#46039f\"],[0.2222222222222222,\"#7201a8\"],[0.3333333333333333,\"#9c179e\"],[0.4444444444444444,\"#bd3786\"],[0.5555555555555556,\"#d8576b\"],[0.6666666666666666,\"#ed7953\"],[0.7777777777777778,\"#fb9f3a\"],[0.8888888888888888,\"#fdca26\"],[1.0,\"#f0f921\"]],\"type\":\"histogram2dcontour\"}],\"mesh3d\":[{\"colorbar\":{\"outlinewidth\":0,\"ticks\":\"\"},\"type\":\"mesh3d\"}],\"parcoords\":[{\"line\":{\"colorbar\":{\"outlinewidth\":0,\"ticks\":\"\"}},\"type\":\"parcoords\"}],\"pie\":[{\"automargin\":true,\"type\":\"pie\"}],\"scatter\":[{\"marker\":{\"colorbar\":{\"outlinewidth\":0,\"ticks\":\"\"}},\"type\":\"scatter\"}],\"scatter3d\":[{\"line\":{\"colorbar\":{\"outlinewidth\":0,\"ticks\":\"\"}},\"marker\":{\"colorbar\":{\"outlinewidth\":0,\"ticks\":\"\"}},\"type\":\"scatter3d\"}],\"scattercarpet\":[{\"marker\":{\"colorbar\":{\"outlinewidth\":0,\"ticks\":\"\"}},\"type\":\"scattercarpet\"}],\"scattergeo\":[{\"marker\":{\"colorbar\":{\"outlinewidth\":0,\"ticks\":\"\"}},\"type\":\"scattergeo\"}],\"scattergl\":[{\"marker\":{\"colorbar\":{\"outlinewidth\":0,\"ticks\":\"\"}},\"type\":\"scattergl\"}],\"scattermapbox\":[{\"marker\":{\"colorbar\":{\"outlinewidth\":0,\"ticks\":\"\"}},\"type\":\"scattermapbox\"}],\"scatterpolar\":[{\"marker\":{\"colorbar\":{\"outlinewidth\":0,\"ticks\":\"\"}},\"type\":\"scatterpolar\"}],\"scatterpolargl\":[{\"marker\":{\"colorbar\":{\"outlinewidth\":0,\"ticks\":\"\"}},\"type\":\"scatterpolargl\"}],\"scatterternary\":[{\"marker\":{\"colorbar\":{\"outlinewidth\":0,\"ticks\":\"\"}},\"type\":\"scatterternary\"}],\"surface\":[{\"colorbar\":{\"outlinewidth\":0,\"ticks\":\"\"},\"colorscale\":[[0.0,\"#0d0887\"],[0.1111111111111111,\"#46039f\"],[0.2222222222222222,\"#7201a8\"],[0.3333333333333333,\"#9c179e\"],[0.4444444444444444,\"#bd3786\"],[0.5555555555555556,\"#d8576b\"],[0.6666666666666666,\"#ed7953\"],[0.7777777777777778,\"#fb9f3a\"],[0.8888888888888888,\"#fdca26\"],[1.0,\"#f0f921\"]],\"type\":\"surface\"}],\"table\":[{\"cells\":{\"fill\":{\"color\":\"#EBF0F8\"},\"line\":{\"color\":\"white\"}},\"header\":{\"fill\":{\"color\":\"#C8D4E3\"},\"line\":{\"color\":\"white\"}},\"type\":\"table\"}]},\"layout\":{\"annotationdefaults\":{\"arrowcolor\":\"#2a3f5f\",\"arrowhead\":0,\"arrowwidth\":1},\"autotypenumbers\":\"strict\",\"coloraxis\":{\"colorbar\":{\"outlinewidth\":0,\"ticks\":\"\"}},\"colorscale\":{\"diverging\":[[0,\"#8e0152\"],[0.1,\"#c51b7d\"],[0.2,\"#de77ae\"],[0.3,\"#f1b6da\"],[0.4,\"#fde0ef\"],[0.5,\"#f7f7f7\"],[0.6,\"#e6f5d0\"],[0.7,\"#b8e186\"],[0.8,\"#7fbc41\"],[0.9,\"#4d9221\"],[1,\"#276419\"]],\"sequential\":[[0.0,\"#0d0887\"],[0.1111111111111111,\"#46039f\"],[0.2222222222222222,\"#7201a8\"],[0.3333333333333333,\"#9c179e\"],[0.4444444444444444,\"#bd3786\"],[0.5555555555555556,\"#d8576b\"],[0.6666666666666666,\"#ed7953\"],[0.7777777777777778,\"#fb9f3a\"],[0.8888888888888888,\"#fdca26\"],[1.0,\"#f0f921\"]],\"sequentialminus\":[[0.0,\"#0d0887\"],[0.1111111111111111,\"#46039f\"],[0.2222222222222222,\"#7201a8\"],[0.3333333333333333,\"#9c179e\"],[0.4444444444444444,\"#bd3786\"],[0.5555555555555556,\"#d8576b\"],[0.6666666666666666,\"#ed7953\"],[0.7777777777777778,\"#fb9f3a\"],[0.8888888888888888,\"#fdca26\"],[1.0,\"#f0f921\"]]},\"colorway\":[\"#636efa\",\"#EF553B\",\"#00cc96\",\"#ab63fa\",\"#FFA15A\",\"#19d3f3\",\"#FF6692\",\"#B6E880\",\"#FF97FF\",\"#FECB52\"],\"font\":{\"color\":\"#2a3f5f\"},\"geo\":{\"bgcolor\":\"white\",\"lakecolor\":\"white\",\"landcolor\":\"#E5ECF6\",\"showlakes\":true,\"showland\":true,\"subunitcolor\":\"white\"},\"hoverlabel\":{\"align\":\"left\"},\"hovermode\":\"closest\",\"mapbox\":{\"style\":\"light\"},\"paper_bgcolor\":\"white\",\"plot_bgcolor\":\"#E5ECF6\",\"polar\":{\"angularaxis\":{\"gridcolor\":\"white\",\"linecolor\":\"white\",\"ticks\":\"\"},\"bgcolor\":\"#E5ECF6\",\"radialaxis\":{\"gridcolor\":\"white\",\"linecolor\":\"white\",\"ticks\":\"\"}},\"scene\":{\"xaxis\":{\"backgroundcolor\":\"#E5ECF6\",\"gridcolor\":\"white\",\"gridwidth\":2,\"linecolor\":\"white\",\"showbackground\":true,\"ticks\":\"\",\"zerolinecolor\":\"white\"},\"yaxis\":{\"backgroundcolor\":\"#E5ECF6\",\"gridcolor\":\"white\",\"gridwidth\":2,\"linecolor\":\"white\",\"showbackground\":true,\"ticks\":\"\",\"zerolinecolor\":\"white\"},\"zaxis\":{\"backgroundcolor\":\"#E5ECF6\",\"gridcolor\":\"white\",\"gridwidth\":2,\"linecolor\":\"white\",\"showbackground\":true,\"ticks\":\"\",\"zerolinecolor\":\"white\"}},\"shapedefaults\":{\"line\":{\"color\":\"#2a3f5f\"}},\"ternary\":{\"aaxis\":{\"gridcolor\":\"white\",\"linecolor\":\"white\",\"ticks\":\"\"},\"baxis\":{\"gridcolor\":\"white\",\"linecolor\":\"white\",\"ticks\":\"\"},\"bgcolor\":\"#E5ECF6\",\"caxis\":{\"gridcolor\":\"white\",\"linecolor\":\"white\",\"ticks\":\"\"}},\"title\":{\"x\":0.05},\"xaxis\":{\"automargin\":true,\"gridcolor\":\"white\",\"linecolor\":\"white\",\"ticks\":\"\",\"title\":{\"standoff\":15},\"zerolinecolor\":\"white\",\"zerolinewidth\":2},\"yaxis\":{\"automargin\":true,\"gridcolor\":\"white\",\"linecolor\":\"white\",\"ticks\":\"\",\"title\":{\"standoff\":15},\"zerolinecolor\":\"white\",\"zerolinewidth\":2}}},\"xaxis\":{\"type\":\"category\"}},                        {\"responsive\": true}                    ).then(function(){\n",
              "                            \n",
              "var gd = document.getElementById('365739dd-50aa-4f2f-aeaf-2617ca0f1508');\n",
              "var x = new MutationObserver(function (mutations, observer) {{\n",
              "        var display = window.getComputedStyle(gd).display;\n",
              "        if (!display || display === 'none') {{\n",
              "            console.log([gd, 'removed!']);\n",
              "            Plotly.purge(gd);\n",
              "            observer.disconnect();\n",
              "        }}\n",
              "}});\n",
              "\n",
              "// Listen for the removal of the full notebook cells\n",
              "var notebookContainer = gd.closest('#notebook-container');\n",
              "if (notebookContainer) {{\n",
              "    x.observe(notebookContainer, {childList: true});\n",
              "}}\n",
              "\n",
              "// Listen for the clearing of the current output cell\n",
              "var outputEl = gd.closest('.output');\n",
              "if (outputEl) {{\n",
              "    x.observe(outputEl, {childList: true});\n",
              "}}\n",
              "\n",
              "                        })                };                            </script>        </div>\n",
              "</body>\n",
              "</html>"
            ]
          },
          "metadata": {}
        }
      ],
      "source": [
        "data = [go.Scatter(x=sales_invoices_montly.index, \n",
        "                   y=sales_invoices_montly['TotalPrice'])]\n",
        "\n",
        "layout = go.Layout(title=\"Total sales\", title_x=0.5)\n",
        "\n",
        "fig = go.Figure(data=data, layout=layout)\n",
        "fig.update_xaxes(type='category')\n",
        "\n",
        "fig.show()"
      ]
    },
    {
      "cell_type": "markdown",
      "metadata": {
        "papermill": {
          "duration": 0.198445,
          "end_time": "2020-12-10T18:53:24.916560",
          "exception": false,
          "start_time": "2020-12-10T18:53:24.718115",
          "status": "completed"
        },
        "tags": [],
        "id": "RCI3oNEiQaha"
      },
      "source": [
        "<br><br>\n",
        "<div class=\"alert alert-block alert-info\" style=\"font-size:15px; font-family:verdana; line-height: 1.7em\">\n",
        "    <b> This graph clearly shows that seasonality and especially Christmas has a massive impact on sales. In both 2010 and 2011 sells are growing from august to december </b><br><br>\n",
        "</div>"
      ]
    },
    {
      "cell_type": "markdown",
      "metadata": {
        "papermill": {
          "duration": 0.199217,
          "end_time": "2020-12-10T18:53:25.318771",
          "exception": false,
          "start_time": "2020-12-10T18:53:25.119554",
          "status": "completed"
        },
        "tags": [],
        "id": "SBYRM-L5Qahb"
      },
      "source": [
        "<h2 id=\"countries\" style=\"font-family:verdana;\"> \n",
        "         6.2 Customers through the world map\n",
        "        <a class=\"anchor-link\" href=\"https://www.kaggle.com/miljan/product-tagging-for-e-commerce-work-in-progress/#countries\">¶</a>\n",
        "\n",
        "</h2>"
      ]
    },
    {
      "cell_type": "code",
      "execution_count": 141,
      "metadata": {
        "execution": {
          "iopub.execute_input": "2020-12-10T18:53:25.724164Z",
          "iopub.status.busy": "2020-12-10T18:53:25.723465Z",
          "iopub.status.idle": "2020-12-10T18:53:25.731949Z",
          "shell.execute_reply": "2020-12-10T18:53:25.731346Z"
        },
        "papermill": {
          "duration": 0.214995,
          "end_time": "2020-12-10T18:53:25.732069",
          "exception": false,
          "start_time": "2020-12-10T18:53:25.517074",
          "status": "completed"
        },
        "tags": [],
        "id": "AaZx_ee4Qahb"
      },
      "outputs": [],
      "source": [
        "year_options = []\n",
        "for year in df_cleaned['Year'].unique():\n",
        "    year_options.append({'label':str(year), 'value':year})\n",
        "year_options.append({'label':'All', 'value':'All'})"
      ]
    },
    {
      "cell_type": "code",
      "execution_count": 142,
      "metadata": {
        "execution": {
          "iopub.execute_input": "2020-12-10T18:53:26.139791Z",
          "iopub.status.busy": "2020-12-10T18:53:26.138995Z",
          "iopub.status.idle": "2020-12-10T18:53:26.646795Z",
          "shell.execute_reply": "2020-12-10T18:53:26.647358Z"
        },
        "papermill": {
          "duration": 0.717514,
          "end_time": "2020-12-10T18:53:26.647596",
          "exception": false,
          "start_time": "2020-12-10T18:53:25.930082",
          "status": "completed"
        },
        "tags": [],
        "id": "zK3uIM1SQahb"
      },
      "outputs": [],
      "source": [
        "customer_country=df_cleaned[['Country','Customer ID']].drop_duplicates()\n",
        "df_cleaned_grouped = customer_country.groupby(['Country'])['Customer ID'].aggregate('count').reset_index().sort_values('Customer ID', ascending=False)\n",
        "\n",
        "\n",
        "filtered_df_2009 = df_cleaned[df_cleaned['Year']==2009]\n",
        "customer_country_2009=filtered_df_2009[['Country','Customer ID']].drop_duplicates()\n",
        "filtered_df_2009_grouped = customer_country_2009.groupby(['Country'])['Customer ID'].aggregate('count').reset_index().sort_values('Customer ID', ascending=False)\n",
        "\n",
        "filtered_df_2010 = df_cleaned[df_cleaned['Year']==2010]\n",
        "customer_country_2010=filtered_df_2010[['Country','Customer ID']].drop_duplicates()\n",
        "filtered_df_2010_grouped = customer_country_2010.groupby(['Country'])['Customer ID'].aggregate('count').reset_index().sort_values('Customer ID', ascending=False)\n",
        "\n",
        "filtered_df_2011 = df_cleaned[df_cleaned['Year']==2011]\n",
        "customer_country_2011=filtered_df_2011[['Country','Customer ID']].drop_duplicates()\n",
        "filtered_df_2011_grouped = customer_country_2011.groupby(['Country'])['Customer ID'].aggregate('count').reset_index().sort_values('Customer ID', ascending=False)"
      ]
    },
    {
      "cell_type": "code",
      "execution_count": 143,
      "metadata": {
        "execution": {
          "iopub.execute_input": "2020-12-10T18:53:27.057096Z",
          "iopub.status.busy": "2020-12-10T18:53:27.056160Z",
          "iopub.status.idle": "2020-12-10T18:53:27.117077Z",
          "shell.execute_reply": "2020-12-10T18:53:27.116482Z"
        },
        "papermill": {
          "duration": 0.26669,
          "end_time": "2020-12-10T18:53:27.117210",
          "exception": false,
          "start_time": "2020-12-10T18:53:26.850520",
          "status": "completed"
        },
        "tags": [],
        "id": "0r9N2hscQahc"
      },
      "outputs": [],
      "source": [
        "data = [go.Choropleth(\n",
        "                locations = df_cleaned_grouped['Country'],\n",
        "                locationmode = 'country names',\n",
        "                z = df_cleaned_grouped['Customer ID'],\n",
        "                text = df_cleaned_grouped['Country'],\n",
        "                colorscale = 'Rainbow',\n",
        "                marker_line_color='darkgray',\n",
        "                marker_line_width=0.5,\n",
        "                colorbar_title = 'Customers',\n",
        "                ),\n",
        "        go.Choropleth(\n",
        "                locations = filtered_df_2009_grouped['Country'],\n",
        "                locationmode = 'country names',\n",
        "                z = filtered_df_2009_grouped['Customer ID'],\n",
        "                text = filtered_df_2009_grouped['Country'],\n",
        "                colorscale = 'Rainbow',\n",
        "                marker_line_color='darkgray',\n",
        "                marker_line_width=0.5,\n",
        "                colorbar_title = 'Customers',\n",
        "                ),\n",
        "        go.Choropleth(\n",
        "                locations = filtered_df_2010_grouped['Country'],\n",
        "                locationmode = 'country names',\n",
        "                z = filtered_df_2010_grouped['Customer ID'],\n",
        "                text = filtered_df_2010_grouped['Country'],\n",
        "                colorscale = 'Rainbow',\n",
        "                marker_line_color='darkgray',\n",
        "                marker_line_width=0.5,\n",
        "                colorbar_title = 'Customers',\n",
        "                ),\n",
        "        go.Choropleth(\n",
        "                locations = filtered_df_2011_grouped['Country'],\n",
        "                locationmode = 'country names',\n",
        "                z = filtered_df_2011_grouped['Customer ID'],\n",
        "                text = filtered_df_2011_grouped['Country'],\n",
        "                colorscale = 'Rainbow',\n",
        "                marker_line_color='darkgray',\n",
        "                marker_line_width=0.5,\n",
        "                colorbar_title = 'Customers',\n",
        "                ),\n",
        "       ]"
      ]
    },
    {
      "cell_type": "code",
      "execution_count": 144,
      "metadata": {
        "execution": {
          "iopub.execute_input": "2020-12-10T18:53:27.525204Z",
          "iopub.status.busy": "2020-12-10T18:53:27.524443Z",
          "iopub.status.idle": "2020-12-10T18:53:27.549551Z",
          "shell.execute_reply": "2020-12-10T18:53:27.548932Z"
        },
        "papermill": {
          "duration": 0.230329,
          "end_time": "2020-12-10T18:53:27.549695",
          "exception": false,
          "start_time": "2020-12-10T18:53:27.319366",
          "status": "completed"
        },
        "tags": [],
        "id": "4UuSLl-mQahc"
      },
      "outputs": [],
      "source": [
        "layout = go.Layout(\n",
        "                title_text='Our customers',\n",
        "                title_x=0.5,\n",
        "                geo=dict(\n",
        "                    showframe=False,\n",
        "                    showcoastlines=False,\n",
        "                    projection_type='equirectangular'\n",
        "                ),\n",
        "                )"
      ]
    },
    {
      "cell_type": "code",
      "execution_count": 145,
      "metadata": {
        "execution": {
          "iopub.execute_input": "2020-12-10T18:53:27.954743Z",
          "iopub.status.busy": "2020-12-10T18:53:27.953549Z",
          "iopub.status.idle": "2020-12-10T18:53:27.968817Z",
          "shell.execute_reply": "2020-12-10T18:53:27.969358Z"
        },
        "papermill": {
          "duration": 0.218076,
          "end_time": "2020-12-10T18:53:27.969530",
          "exception": false,
          "start_time": "2020-12-10T18:53:27.751454",
          "status": "completed"
        },
        "tags": [],
        "id": "8FMehjaAQahd"
      },
      "outputs": [],
      "source": [
        "fig = go.Figure(data=data, layout=layout)"
      ]
    },
    {
      "cell_type": "code",
      "execution_count": 146,
      "metadata": {
        "execution": {
          "iopub.execute_input": "2020-12-10T18:53:28.407373Z",
          "iopub.status.busy": "2020-12-10T18:53:28.406315Z",
          "iopub.status.idle": "2020-12-10T18:53:28.447440Z",
          "shell.execute_reply": "2020-12-10T18:53:28.446747Z"
        },
        "papermill": {
          "duration": 0.274172,
          "end_time": "2020-12-10T18:53:28.447566",
          "exception": false,
          "start_time": "2020-12-10T18:53:28.173394",
          "status": "completed"
        },
        "tags": [],
        "id": "ZN-tTf46Qahd",
        "outputId": "ed670c65-93cf-4469-81ac-23dfc1773acc",
        "colab": {
          "base_uri": "https://localhost:8080/",
          "height": 542
        }
      },
      "outputs": [
        {
          "output_type": "display_data",
          "data": {
            "text/html": [
              "<html>\n",
              "<head><meta charset=\"utf-8\" /></head>\n",
              "<body>\n",
              "    <div>            <script src=\"https://cdnjs.cloudflare.com/ajax/libs/mathjax/2.7.5/MathJax.js?config=TeX-AMS-MML_SVG\"></script><script type=\"text/javascript\">if (window.MathJax) {MathJax.Hub.Config({SVG: {font: \"STIX-Web\"}});}</script>                <script type=\"text/javascript\">window.PlotlyConfig = {MathJaxConfig: 'local'};</script>\n",
              "        <script src=\"https://cdn.plot.ly/plotly-2.8.3.min.js\"></script>                <div id=\"184c911a-33a6-489d-b368-254d7094008f\" class=\"plotly-graph-div\" style=\"height:525px; width:100%;\"></div>            <script type=\"text/javascript\">                                    window.PLOTLYENV=window.PLOTLYENV || {};                                    if (document.getElementById(\"184c911a-33a6-489d-b368-254d7094008f\")) {                    Plotly.newPlot(                        \"184c911a-33a6-489d-b368-254d7094008f\",                        [{\"colorbar\":{\"title\":{\"text\":\"Customers\"}},\"colorscale\":[[0.0,\"rgb(150,0,90)\"],[0.125,\"rgb(0,0,200)\"],[0.25,\"rgb(0,25,255)\"],[0.375,\"rgb(0,152,255)\"],[0.5,\"rgb(44,255,150)\"],[0.625,\"rgb(151,255,0)\"],[0.75,\"rgb(255,234,0)\"],[0.875,\"rgb(255,111,0)\"],[1.0,\"rgb(255,0,0)\"]],\"locationmode\":\"country names\",\"locations\":[\"United Kingdom\",\"Germany\",\"France\",\"Spain\",\"Belgium\",\"Portugal\",\"Netherlands\",\"Switzerland\",\"Sweden\",\"Italy\",\"Australia\",\"Finland\",\"Austria\",\"Channel Islands\",\"Denmark\",\"Norway\",\"Cyprus\",\"Japan\",\"USA\",\"Poland\",\"Unspecified\",\"Greece\",\"Canada\",\"Israel\",\"United Arab Emirates\",\"EIRE\",\"RSA\",\"Korea\",\"Malta\",\"Brazil\",\"Bahrain\",\"Nigeria\",\"Saudi Arabia\",\"Singapore\",\"Lithuania\",\"Lebanon\",\"Iceland\",\"Thailand\",\"European Community\",\"Czech Republic\",\"West Indies\"],\"marker\":{\"line\":{\"color\":\"darkgray\",\"width\":0.5}},\"text\":[\"United Kingdom\",\"Germany\",\"France\",\"Spain\",\"Belgium\",\"Portugal\",\"Netherlands\",\"Switzerland\",\"Sweden\",\"Italy\",\"Australia\",\"Finland\",\"Austria\",\"Channel Islands\",\"Denmark\",\"Norway\",\"Cyprus\",\"Japan\",\"USA\",\"Poland\",\"Unspecified\",\"Greece\",\"Canada\",\"Israel\",\"United Arab Emirates\",\"EIRE\",\"RSA\",\"Korea\",\"Malta\",\"Brazil\",\"Bahrain\",\"Nigeria\",\"Saudi Arabia\",\"Singapore\",\"Lithuania\",\"Lebanon\",\"Iceland\",\"Thailand\",\"European Community\",\"Czech Republic\",\"West Indies\"],\"z\":[5330,107,93,37,29,23,22,22,19,17,15,13,13,13,12,12,11,10,8,6,6,5,5,4,4,3,2,2,2,2,2,1,1,1,1,1,1,1,1,1,1],\"type\":\"choropleth\"},{\"colorbar\":{\"title\":{\"text\":\"Customers\"}},\"colorscale\":[[0.0,\"rgb(150,0,90)\"],[0.125,\"rgb(0,0,200)\"],[0.25,\"rgb(0,25,255)\"],[0.375,\"rgb(0,152,255)\"],[0.5,\"rgb(44,255,150)\"],[0.625,\"rgb(151,255,0)\"],[0.75,\"rgb(255,234,0)\"],[0.875,\"rgb(255,111,0)\"],[1.0,\"rgb(255,0,0)\"]],\"locationmode\":\"country names\",\"locations\":[\"United Kingdom\",\"France\",\"Germany\",\"Spain\",\"Cyprus\",\"Portugal\",\"Netherlands\",\"Austria\",\"Australia\",\"EIRE\",\"Finland\",\"Italy\",\"Denmark\",\"Norway\",\"Poland\",\"Channel Islands\",\"Belgium\",\"Sweden\",\"Switzerland\",\"United Arab Emirates\",\"Greece\"],\"marker\":{\"line\":{\"color\":\"darkgray\",\"width\":0.5}},\"text\":[\"United Kingdom\",\"France\",\"Germany\",\"Spain\",\"Cyprus\",\"Portugal\",\"Netherlands\",\"Austria\",\"Australia\",\"EIRE\",\"Finland\",\"Italy\",\"Denmark\",\"Norway\",\"Poland\",\"Channel Islands\",\"Belgium\",\"Sweden\",\"Switzerland\",\"United Arab Emirates\",\"Greece\"],\"z\":[900,10,10,4,3,2,2,2,2,2,1,1,1,1,1,1,1,1,1,1,1],\"type\":\"choropleth\"},{\"colorbar\":{\"title\":{\"text\":\"Customers\"}},\"colorscale\":[[0.0,\"rgb(150,0,90)\"],[0.125,\"rgb(0,0,200)\"],[0.25,\"rgb(0,25,255)\"],[0.375,\"rgb(0,152,255)\"],[0.5,\"rgb(44,255,150)\"],[0.625,\"rgb(151,255,0)\"],[0.75,\"rgb(255,234,0)\"],[0.875,\"rgb(255,111,0)\"],[1.0,\"rgb(255,0,0)\"]],\"locationmode\":\"country names\",\"locations\":[\"United Kingdom\",\"Germany\",\"France\",\"Netherlands\",\"Spain\",\"Portugal\",\"Belgium\",\"Sweden\",\"Australia\",\"Switzerland\",\"Italy\",\"Channel Islands\",\"Austria\",\"Denmark\",\"Cyprus\",\"Japan\",\"Finland\",\"USA\",\"Greece\",\"Unspecified\",\"EIRE\",\"United Arab Emirates\",\"Norway\",\"Poland\",\"Korea\",\"Israel\",\"Bahrain\",\"Nigeria\",\"RSA\",\"Singapore\",\"Malta\",\"Lithuania\",\"Thailand\",\"Iceland\",\"Canada\",\"Brazil\",\"West Indies\"],\"marker\":{\"line\":{\"color\":\"darkgray\",\"width\":0.5}},\"text\":[\"United Kingdom\",\"Germany\",\"France\",\"Netherlands\",\"Spain\",\"Portugal\",\"Belgium\",\"Sweden\",\"Australia\",\"Switzerland\",\"Italy\",\"Channel Islands\",\"Austria\",\"Denmark\",\"Cyprus\",\"Japan\",\"Finland\",\"USA\",\"Greece\",\"Unspecified\",\"EIRE\",\"United Arab Emirates\",\"Norway\",\"Poland\",\"Korea\",\"Israel\",\"Bahrain\",\"Nigeria\",\"RSA\",\"Singapore\",\"Malta\",\"Lithuania\",\"Thailand\",\"Iceland\",\"Canada\",\"Brazil\",\"West Indies\"],\"z\":[3867,69,45,22,22,17,17,15,15,14,12,11,10,9,8,7,6,5,4,4,3,3,3,2,2,2,2,1,1,1,1,1,1,1,1,1,1],\"type\":\"choropleth\"},{\"colorbar\":{\"title\":{\"text\":\"Customers\"}},\"colorscale\":[[0.0,\"rgb(150,0,90)\"],[0.125,\"rgb(0,0,200)\"],[0.25,\"rgb(0,25,255)\"],[0.375,\"rgb(0,152,255)\"],[0.5,\"rgb(44,255,150)\"],[0.625,\"rgb(151,255,0)\"],[0.75,\"rgb(255,234,0)\"],[0.875,\"rgb(255,111,0)\"],[1.0,\"rgb(255,0,0)\"]],\"locationmode\":\"country names\",\"locations\":[\"United Kingdom\",\"Germany\",\"France\",\"Spain\",\"Belgium\",\"Switzerland\",\"Portugal\",\"Italy\",\"Finland\",\"Norway\",\"Austria\",\"Australia\",\"Denmark\",\"Netherlands\",\"Sweden\",\"Channel Islands\",\"Japan\",\"Cyprus\",\"Poland\",\"USA\",\"Canada\",\"Unspecified\",\"Greece\",\"EIRE\",\"Israel\",\"Malta\",\"United Arab Emirates\",\"Bahrain\",\"Lebanon\",\"Czech Republic\",\"RSA\",\"Saudi Arabia\",\"Singapore\",\"Iceland\",\"Brazil\",\"European Community\"],\"marker\":{\"line\":{\"color\":\"darkgray\",\"width\":0.5}},\"text\":[\"United Kingdom\",\"Germany\",\"France\",\"Spain\",\"Belgium\",\"Switzerland\",\"Portugal\",\"Italy\",\"Finland\",\"Norway\",\"Austria\",\"Australia\",\"Denmark\",\"Netherlands\",\"Sweden\",\"Channel Islands\",\"Japan\",\"Cyprus\",\"Poland\",\"USA\",\"Canada\",\"Unspecified\",\"Greece\",\"EIRE\",\"Israel\",\"Malta\",\"United Arab Emirates\",\"Bahrain\",\"Lebanon\",\"Czech Republic\",\"RSA\",\"Saudi Arabia\",\"Singapore\",\"Iceland\",\"Brazil\",\"European Community\"],\"z\":[3804,93,84,29,25,21,17,12,12,10,10,9,9,8,8,8,8,8,6,4,4,4,4,3,3,2,2,2,1,1,1,1,1,1,1,1],\"type\":\"choropleth\"}],                        {\"geo\":{\"projection\":{\"type\":\"equirectangular\"},\"showcoastlines\":false,\"showframe\":false},\"title\":{\"text\":\"Our customers\",\"x\":0.5},\"template\":{\"data\":{\"bar\":[{\"error_x\":{\"color\":\"#2a3f5f\"},\"error_y\":{\"color\":\"#2a3f5f\"},\"marker\":{\"line\":{\"color\":\"#E5ECF6\",\"width\":0.5},\"pattern\":{\"fillmode\":\"overlay\",\"size\":10,\"solidity\":0.2}},\"type\":\"bar\"}],\"barpolar\":[{\"marker\":{\"line\":{\"color\":\"#E5ECF6\",\"width\":0.5},\"pattern\":{\"fillmode\":\"overlay\",\"size\":10,\"solidity\":0.2}},\"type\":\"barpolar\"}],\"carpet\":[{\"aaxis\":{\"endlinecolor\":\"#2a3f5f\",\"gridcolor\":\"white\",\"linecolor\":\"white\",\"minorgridcolor\":\"white\",\"startlinecolor\":\"#2a3f5f\"},\"baxis\":{\"endlinecolor\":\"#2a3f5f\",\"gridcolor\":\"white\",\"linecolor\":\"white\",\"minorgridcolor\":\"white\",\"startlinecolor\":\"#2a3f5f\"},\"type\":\"carpet\"}],\"choropleth\":[{\"colorbar\":{\"outlinewidth\":0,\"ticks\":\"\"},\"type\":\"choropleth\"}],\"contour\":[{\"colorbar\":{\"outlinewidth\":0,\"ticks\":\"\"},\"colorscale\":[[0.0,\"#0d0887\"],[0.1111111111111111,\"#46039f\"],[0.2222222222222222,\"#7201a8\"],[0.3333333333333333,\"#9c179e\"],[0.4444444444444444,\"#bd3786\"],[0.5555555555555556,\"#d8576b\"],[0.6666666666666666,\"#ed7953\"],[0.7777777777777778,\"#fb9f3a\"],[0.8888888888888888,\"#fdca26\"],[1.0,\"#f0f921\"]],\"type\":\"contour\"}],\"contourcarpet\":[{\"colorbar\":{\"outlinewidth\":0,\"ticks\":\"\"},\"type\":\"contourcarpet\"}],\"heatmap\":[{\"colorbar\":{\"outlinewidth\":0,\"ticks\":\"\"},\"colorscale\":[[0.0,\"#0d0887\"],[0.1111111111111111,\"#46039f\"],[0.2222222222222222,\"#7201a8\"],[0.3333333333333333,\"#9c179e\"],[0.4444444444444444,\"#bd3786\"],[0.5555555555555556,\"#d8576b\"],[0.6666666666666666,\"#ed7953\"],[0.7777777777777778,\"#fb9f3a\"],[0.8888888888888888,\"#fdca26\"],[1.0,\"#f0f921\"]],\"type\":\"heatmap\"}],\"heatmapgl\":[{\"colorbar\":{\"outlinewidth\":0,\"ticks\":\"\"},\"colorscale\":[[0.0,\"#0d0887\"],[0.1111111111111111,\"#46039f\"],[0.2222222222222222,\"#7201a8\"],[0.3333333333333333,\"#9c179e\"],[0.4444444444444444,\"#bd3786\"],[0.5555555555555556,\"#d8576b\"],[0.6666666666666666,\"#ed7953\"],[0.7777777777777778,\"#fb9f3a\"],[0.8888888888888888,\"#fdca26\"],[1.0,\"#f0f921\"]],\"type\":\"heatmapgl\"}],\"histogram\":[{\"marker\":{\"pattern\":{\"fillmode\":\"overlay\",\"size\":10,\"solidity\":0.2}},\"type\":\"histogram\"}],\"histogram2d\":[{\"colorbar\":{\"outlinewidth\":0,\"ticks\":\"\"},\"colorscale\":[[0.0,\"#0d0887\"],[0.1111111111111111,\"#46039f\"],[0.2222222222222222,\"#7201a8\"],[0.3333333333333333,\"#9c179e\"],[0.4444444444444444,\"#bd3786\"],[0.5555555555555556,\"#d8576b\"],[0.6666666666666666,\"#ed7953\"],[0.7777777777777778,\"#fb9f3a\"],[0.8888888888888888,\"#fdca26\"],[1.0,\"#f0f921\"]],\"type\":\"histogram2d\"}],\"histogram2dcontour\":[{\"colorbar\":{\"outlinewidth\":0,\"ticks\":\"\"},\"colorscale\":[[0.0,\"#0d0887\"],[0.1111111111111111,\"#46039f\"],[0.2222222222222222,\"#7201a8\"],[0.3333333333333333,\"#9c179e\"],[0.4444444444444444,\"#bd3786\"],[0.5555555555555556,\"#d8576b\"],[0.6666666666666666,\"#ed7953\"],[0.7777777777777778,\"#fb9f3a\"],[0.8888888888888888,\"#fdca26\"],[1.0,\"#f0f921\"]],\"type\":\"histogram2dcontour\"}],\"mesh3d\":[{\"colorbar\":{\"outlinewidth\":0,\"ticks\":\"\"},\"type\":\"mesh3d\"}],\"parcoords\":[{\"line\":{\"colorbar\":{\"outlinewidth\":0,\"ticks\":\"\"}},\"type\":\"parcoords\"}],\"pie\":[{\"automargin\":true,\"type\":\"pie\"}],\"scatter\":[{\"marker\":{\"colorbar\":{\"outlinewidth\":0,\"ticks\":\"\"}},\"type\":\"scatter\"}],\"scatter3d\":[{\"line\":{\"colorbar\":{\"outlinewidth\":0,\"ticks\":\"\"}},\"marker\":{\"colorbar\":{\"outlinewidth\":0,\"ticks\":\"\"}},\"type\":\"scatter3d\"}],\"scattercarpet\":[{\"marker\":{\"colorbar\":{\"outlinewidth\":0,\"ticks\":\"\"}},\"type\":\"scattercarpet\"}],\"scattergeo\":[{\"marker\":{\"colorbar\":{\"outlinewidth\":0,\"ticks\":\"\"}},\"type\":\"scattergeo\"}],\"scattergl\":[{\"marker\":{\"colorbar\":{\"outlinewidth\":0,\"ticks\":\"\"}},\"type\":\"scattergl\"}],\"scattermapbox\":[{\"marker\":{\"colorbar\":{\"outlinewidth\":0,\"ticks\":\"\"}},\"type\":\"scattermapbox\"}],\"scatterpolar\":[{\"marker\":{\"colorbar\":{\"outlinewidth\":0,\"ticks\":\"\"}},\"type\":\"scatterpolar\"}],\"scatterpolargl\":[{\"marker\":{\"colorbar\":{\"outlinewidth\":0,\"ticks\":\"\"}},\"type\":\"scatterpolargl\"}],\"scatterternary\":[{\"marker\":{\"colorbar\":{\"outlinewidth\":0,\"ticks\":\"\"}},\"type\":\"scatterternary\"}],\"surface\":[{\"colorbar\":{\"outlinewidth\":0,\"ticks\":\"\"},\"colorscale\":[[0.0,\"#0d0887\"],[0.1111111111111111,\"#46039f\"],[0.2222222222222222,\"#7201a8\"],[0.3333333333333333,\"#9c179e\"],[0.4444444444444444,\"#bd3786\"],[0.5555555555555556,\"#d8576b\"],[0.6666666666666666,\"#ed7953\"],[0.7777777777777778,\"#fb9f3a\"],[0.8888888888888888,\"#fdca26\"],[1.0,\"#f0f921\"]],\"type\":\"surface\"}],\"table\":[{\"cells\":{\"fill\":{\"color\":\"#EBF0F8\"},\"line\":{\"color\":\"white\"}},\"header\":{\"fill\":{\"color\":\"#C8D4E3\"},\"line\":{\"color\":\"white\"}},\"type\":\"table\"}]},\"layout\":{\"annotationdefaults\":{\"arrowcolor\":\"#2a3f5f\",\"arrowhead\":0,\"arrowwidth\":1},\"autotypenumbers\":\"strict\",\"coloraxis\":{\"colorbar\":{\"outlinewidth\":0,\"ticks\":\"\"}},\"colorscale\":{\"diverging\":[[0,\"#8e0152\"],[0.1,\"#c51b7d\"],[0.2,\"#de77ae\"],[0.3,\"#f1b6da\"],[0.4,\"#fde0ef\"],[0.5,\"#f7f7f7\"],[0.6,\"#e6f5d0\"],[0.7,\"#b8e186\"],[0.8,\"#7fbc41\"],[0.9,\"#4d9221\"],[1,\"#276419\"]],\"sequential\":[[0.0,\"#0d0887\"],[0.1111111111111111,\"#46039f\"],[0.2222222222222222,\"#7201a8\"],[0.3333333333333333,\"#9c179e\"],[0.4444444444444444,\"#bd3786\"],[0.5555555555555556,\"#d8576b\"],[0.6666666666666666,\"#ed7953\"],[0.7777777777777778,\"#fb9f3a\"],[0.8888888888888888,\"#fdca26\"],[1.0,\"#f0f921\"]],\"sequentialminus\":[[0.0,\"#0d0887\"],[0.1111111111111111,\"#46039f\"],[0.2222222222222222,\"#7201a8\"],[0.3333333333333333,\"#9c179e\"],[0.4444444444444444,\"#bd3786\"],[0.5555555555555556,\"#d8576b\"],[0.6666666666666666,\"#ed7953\"],[0.7777777777777778,\"#fb9f3a\"],[0.8888888888888888,\"#fdca26\"],[1.0,\"#f0f921\"]]},\"colorway\":[\"#636efa\",\"#EF553B\",\"#00cc96\",\"#ab63fa\",\"#FFA15A\",\"#19d3f3\",\"#FF6692\",\"#B6E880\",\"#FF97FF\",\"#FECB52\"],\"font\":{\"color\":\"#2a3f5f\"},\"geo\":{\"bgcolor\":\"white\",\"lakecolor\":\"white\",\"landcolor\":\"#E5ECF6\",\"showlakes\":true,\"showland\":true,\"subunitcolor\":\"white\"},\"hoverlabel\":{\"align\":\"left\"},\"hovermode\":\"closest\",\"mapbox\":{\"style\":\"light\"},\"paper_bgcolor\":\"white\",\"plot_bgcolor\":\"#E5ECF6\",\"polar\":{\"angularaxis\":{\"gridcolor\":\"white\",\"linecolor\":\"white\",\"ticks\":\"\"},\"bgcolor\":\"#E5ECF6\",\"radialaxis\":{\"gridcolor\":\"white\",\"linecolor\":\"white\",\"ticks\":\"\"}},\"scene\":{\"xaxis\":{\"backgroundcolor\":\"#E5ECF6\",\"gridcolor\":\"white\",\"gridwidth\":2,\"linecolor\":\"white\",\"showbackground\":true,\"ticks\":\"\",\"zerolinecolor\":\"white\"},\"yaxis\":{\"backgroundcolor\":\"#E5ECF6\",\"gridcolor\":\"white\",\"gridwidth\":2,\"linecolor\":\"white\",\"showbackground\":true,\"ticks\":\"\",\"zerolinecolor\":\"white\"},\"zaxis\":{\"backgroundcolor\":\"#E5ECF6\",\"gridcolor\":\"white\",\"gridwidth\":2,\"linecolor\":\"white\",\"showbackground\":true,\"ticks\":\"\",\"zerolinecolor\":\"white\"}},\"shapedefaults\":{\"line\":{\"color\":\"#2a3f5f\"}},\"ternary\":{\"aaxis\":{\"gridcolor\":\"white\",\"linecolor\":\"white\",\"ticks\":\"\"},\"baxis\":{\"gridcolor\":\"white\",\"linecolor\":\"white\",\"ticks\":\"\"},\"bgcolor\":\"#E5ECF6\",\"caxis\":{\"gridcolor\":\"white\",\"linecolor\":\"white\",\"ticks\":\"\"}},\"title\":{\"x\":0.05},\"xaxis\":{\"automargin\":true,\"gridcolor\":\"white\",\"linecolor\":\"white\",\"ticks\":\"\",\"title\":{\"standoff\":15},\"zerolinecolor\":\"white\",\"zerolinewidth\":2},\"yaxis\":{\"automargin\":true,\"gridcolor\":\"white\",\"linecolor\":\"white\",\"ticks\":\"\",\"title\":{\"standoff\":15},\"zerolinecolor\":\"white\",\"zerolinewidth\":2}}},\"updatemenus\":[{\"active\":0,\"buttons\":[{\"args\":[{\"visible\":[true,false,false,false]},{\"title\":\"All customers\"}],\"label\":\"All\",\"method\":\"update\"},{\"args\":[{\"visible\":[false,true,false,false]},{\"title\":\"Customers in 2009\"}],\"label\":\"2009\",\"method\":\"update\"},{\"args\":[{\"visible\":[false,false,true,false]},{\"title\":\"Customers in 2010\"}],\"label\":\"2010\",\"method\":\"update\"},{\"args\":[{\"visible\":[false,false,false,true]},{\"title\":\"Customers in 2011\"}],\"label\":\"2011\",\"method\":\"update\"}]}]},                        {\"responsive\": true}                    ).then(function(){\n",
              "                            \n",
              "var gd = document.getElementById('184c911a-33a6-489d-b368-254d7094008f');\n",
              "var x = new MutationObserver(function (mutations, observer) {{\n",
              "        var display = window.getComputedStyle(gd).display;\n",
              "        if (!display || display === 'none') {{\n",
              "            console.log([gd, 'removed!']);\n",
              "            Plotly.purge(gd);\n",
              "            observer.disconnect();\n",
              "        }}\n",
              "}});\n",
              "\n",
              "// Listen for the removal of the full notebook cells\n",
              "var notebookContainer = gd.closest('#notebook-container');\n",
              "if (notebookContainer) {{\n",
              "    x.observe(notebookContainer, {childList: true});\n",
              "}}\n",
              "\n",
              "// Listen for the clearing of the current output cell\n",
              "var outputEl = gd.closest('.output');\n",
              "if (outputEl) {{\n",
              "    x.observe(outputEl, {childList: true});\n",
              "}}\n",
              "\n",
              "                        })                };                            </script>        </div>\n",
              "</body>\n",
              "</html>"
            ]
          },
          "metadata": {}
        }
      ],
      "source": [
        "# Add dropdown \n",
        "fig.update_layout( \n",
        "    updatemenus=[ \n",
        "        dict( \n",
        "            active=0, \n",
        "            buttons=list([ \n",
        "                dict(label=\"All\", \n",
        "                     method=\"update\", \n",
        "                     args=[{\"visible\": [True, False, False, False]}, \n",
        "                           {\"title\": \"All customers\"}]), \n",
        "                dict(label=\"2009\", \n",
        "                     method=\"update\", \n",
        "                     args=[{\"visible\": [False, True, False, False]}, \n",
        "                           {\"title\": \"Customers in 2009\", \n",
        "                            }]), \n",
        "                dict(label=\"2010\", \n",
        "                     method=\"update\", \n",
        "                     args=[{\"visible\": [False, False, True, False]}, \n",
        "                           {\"title\": \"Customers in 2010\", \n",
        "                            }]), \n",
        "                dict(label=\"2011\", \n",
        "                     method=\"update\", \n",
        "                     args=[{\"visible\": [False, False, False, True]}, \n",
        "                           {\"title\": \"Customers in 2011\", \n",
        "                            }]), \n",
        "            ]), \n",
        "        ) \n",
        "    ]) \n",
        "  \n",
        "fig.show() "
      ]
    },
    {
      "cell_type": "markdown",
      "metadata": {
        "papermill": {
          "duration": 0.20352,
          "end_time": "2020-12-10T18:53:28.852892",
          "exception": false,
          "start_time": "2020-12-10T18:53:28.649372",
          "status": "completed"
        },
        "tags": [],
        "id": "dQ_qu_8kQahe"
      },
      "source": [
        "<br><br>\n",
        "<div class=\"alert alert-block alert-info\" style=\"font-size:15px; font-family:verdana; line-height: 1.7em\">\n",
        "    <b> This online e-commerce platform has expended through the years internationally. It would be interesting to see how they're doing today.  </b><br><br>\n",
        "</div>"
      ]
    },
    {
      "cell_type": "code",
      "execution_count": 147,
      "metadata": {
        "execution": {
          "iopub.execute_input": "2020-12-10T18:53:29.293597Z",
          "iopub.status.busy": "2020-12-10T18:53:29.292609Z",
          "iopub.status.idle": "2020-12-10T18:53:29.359639Z",
          "shell.execute_reply": "2020-12-10T18:53:29.359061Z"
        },
        "papermill": {
          "duration": 0.291571,
          "end_time": "2020-12-10T18:53:29.359764",
          "exception": false,
          "start_time": "2020-12-10T18:53:29.068193",
          "status": "completed"
        },
        "tags": [],
        "id": "r6kNqJj6Qahe",
        "outputId": "f05a7bc0-4f79-4610-aa10-90491244a11e",
        "colab": {
          "base_uri": "https://localhost:8080/"
        }
      },
      "outputs": [
        {
          "output_type": "execute_result",
          "data": {
            "text/plain": [
              "Country\n",
              "United Kingdom    12517792.41\n",
              "EIRE                510270.88\n",
              "Netherlands         506347.92\n",
              "Germany             374277.99\n",
              "France              289627.30\n",
              "Australia           148292.90\n",
              "Name: TotalPrice, dtype: float64"
            ]
          },
          "metadata": {},
          "execution_count": 147
        }
      ],
      "source": [
        "df_cleaned.groupby('Country')['TotalPrice'].sum().sort_values(ascending=False)[:6]"
      ]
    },
    {
      "cell_type": "code",
      "execution_count": 148,
      "metadata": {
        "execution": {
          "iopub.execute_input": "2020-12-10T18:53:29.770968Z",
          "iopub.status.busy": "2020-12-10T18:53:29.770281Z",
          "iopub.status.idle": "2020-12-10T18:53:30.406448Z",
          "shell.execute_reply": "2020-12-10T18:53:30.406953Z"
        },
        "papermill": {
          "duration": 0.844561,
          "end_time": "2020-12-10T18:53:30.407110",
          "exception": false,
          "start_time": "2020-12-10T18:53:29.562549",
          "status": "completed"
        },
        "tags": [],
        "id": "WfL9VbORQahf"
      },
      "outputs": [],
      "source": [
        "countries = ['EIRE', 'Netherlands', 'Germany', 'France', 'Australia'] \n",
        "\n",
        "countries_options = []\n",
        "data = []\n",
        "for country in countries:\n",
        "    year_options.append({'label':str(country), 'value':country})\n",
        "\n",
        "for country in countries:\n",
        "    df_segment = df_cleaned[df_cleaned['Country']==country]\n",
        "    df_segment_grouped = df_segment.groupby('MonthYear').agg(custom_aggregation).sort_values(by='InvoiceDate')\n",
        "    \n",
        "    data.append(go.Bar(x=df_segment_grouped.index, \n",
        "                   y=df_segment_grouped['TotalPrice']))\n",
        "    \n"
      ]
    },
    {
      "cell_type": "code",
      "execution_count": 149,
      "metadata": {
        "execution": {
          "iopub.execute_input": "2020-12-10T18:53:30.819445Z",
          "iopub.status.busy": "2020-12-10T18:53:30.818370Z",
          "iopub.status.idle": "2020-12-10T18:53:30.825679Z",
          "shell.execute_reply": "2020-12-10T18:53:30.826164Z"
        },
        "papermill": {
          "duration": 0.21576,
          "end_time": "2020-12-10T18:53:30.826342",
          "exception": false,
          "start_time": "2020-12-10T18:53:30.610582",
          "status": "completed"
        },
        "tags": [],
        "id": "Ifz84eShQahf"
      },
      "outputs": [],
      "source": [
        "layout = go.Layout(\n",
        "                title_text='Our customers',\n",
        "                title_x=0.5,\n",
        "                geo=dict(\n",
        "                    showframe=False,\n",
        "                    showcoastlines=False,\n",
        "                    projection_type='equirectangular'\n",
        "                ),\n",
        "                )"
      ]
    },
    {
      "cell_type": "code",
      "execution_count": 150,
      "metadata": {
        "execution": {
          "iopub.execute_input": "2020-12-10T18:53:31.234236Z",
          "iopub.status.busy": "2020-12-10T18:53:31.233228Z",
          "iopub.status.idle": "2020-12-10T18:53:31.241716Z",
          "shell.execute_reply": "2020-12-10T18:53:31.242199Z"
        },
        "papermill": {
          "duration": 0.211877,
          "end_time": "2020-12-10T18:53:31.242354",
          "exception": false,
          "start_time": "2020-12-10T18:53:31.030477",
          "status": "completed"
        },
        "tags": [],
        "id": "UgoIXyOXQahg"
      },
      "outputs": [],
      "source": [
        "fig = go.Figure(data=data, layout=layout)"
      ]
    },
    {
      "cell_type": "code",
      "execution_count": 151,
      "metadata": {
        "execution": {
          "iopub.execute_input": "2020-12-10T18:53:31.654810Z",
          "iopub.status.busy": "2020-12-10T18:53:31.653772Z",
          "iopub.status.idle": "2020-12-10T18:53:31.673615Z",
          "shell.execute_reply": "2020-12-10T18:53:31.674081Z"
        },
        "papermill": {
          "duration": 0.224091,
          "end_time": "2020-12-10T18:53:31.674246",
          "exception": false,
          "start_time": "2020-12-10T18:53:31.450155",
          "status": "completed"
        },
        "tags": [],
        "id": "eBSNM-QmQahg",
        "outputId": "6645bbaf-0680-458d-8571-c4787c72e2c5",
        "colab": {
          "base_uri": "https://localhost:8080/",
          "height": 542
        }
      },
      "outputs": [
        {
          "output_type": "display_data",
          "data": {
            "text/html": [
              "<html>\n",
              "<head><meta charset=\"utf-8\" /></head>\n",
              "<body>\n",
              "    <div>            <script src=\"https://cdnjs.cloudflare.com/ajax/libs/mathjax/2.7.5/MathJax.js?config=TeX-AMS-MML_SVG\"></script><script type=\"text/javascript\">if (window.MathJax) {MathJax.Hub.Config({SVG: {font: \"STIX-Web\"}});}</script>                <script type=\"text/javascript\">window.PlotlyConfig = {MathJaxConfig: 'local'};</script>\n",
              "        <script src=\"https://cdn.plot.ly/plotly-2.8.3.min.js\"></script>                <div id=\"39141b2c-661d-4467-a7c8-211c7e2e6fd8\" class=\"plotly-graph-div\" style=\"height:525px; width:100%;\"></div>            <script type=\"text/javascript\">                                    window.PLOTLYENV=window.PLOTLYENV || {};                                    if (document.getElementById(\"39141b2c-661d-4467-a7c8-211c7e2e6fd8\")) {                    Plotly.newPlot(                        \"39141b2c-661d-4467-a7c8-211c7e2e6fd8\",                        [{\"x\":[\"December 2009\",\"January 2010\",\"February 2010\",\"March 2010\",\"April 2010\",\"May 2010\",\"June 2010\",\"July 2010\",\"August 2010\",\"September 2010\",\"October 2010\",\"November 2010\",\"December 2010\",\"January 2011\",\"February 2011\",\"March 2011\",\"April 2011\",\"May 2011\",\"June 2011\",\"July 2011\",\"August 2011\",\"September 2011\",\"October 2011\",\"November 2011\",\"December 2011\"],\"y\":[16240.7,39785.13,18283.97,20670.0,18506.4,17874.85,22119.07,16496.29,21510.33,28785.86,35609.25,26785.86,7577.22,14313.19,9935.72,16596.28,7270.5,15632.24,19395.34,29144.95,12110.64,38147.590000000004,22197.55,28453.03,6828.92],\"type\":\"bar\"},{\"x\":[\"December 2009\",\"January 2010\",\"February 2010\",\"March 2010\",\"April 2010\",\"May 2010\",\"June 2010\",\"July 2010\",\"August 2010\",\"September 2010\",\"October 2010\",\"November 2010\",\"December 2010\",\"January 2011\",\"February 2011\",\"March 2011\",\"April 2011\",\"May 2011\",\"June 2011\",\"July 2011\",\"August 2011\",\"September 2011\",\"October 2011\",\"November 2011\",\"December 2011\"],\"y\":[13821.73,26399.37,12423.59,21680.5,6336.78,21520.73,23196.01,5383.64,21355.29,40921.08,16029.05,31648.77,8754.48,26596.16,22096.31,20094.489999999998,2886.56,27550.88,26738.09,11.02,35839.01,26832.26,33441.69,25640.01,9150.42],\"type\":\"bar\"},{\"x\":[\"December 2009\",\"January 2010\",\"February 2010\",\"March 2010\",\"April 2010\",\"May 2010\",\"June 2010\",\"July 2010\",\"August 2010\",\"September 2010\",\"October 2010\",\"November 2010\",\"December 2010\",\"January 2011\",\"February 2011\",\"March 2011\",\"April 2011\",\"May 2011\",\"June 2011\",\"July 2011\",\"August 2011\",\"September 2011\",\"October 2011\",\"November 2011\",\"December 2011\"],\"y\":[8290.88,11095.62,7625.4,15105.24,21196.52,7968.01,14073.29,18093.35,8748.82,15815.51,18880.47,27307.77,12854.58,14819.17,8613.65,12570.58,10906.63,23318.51,11914.48,14498.18,17333.22,16343.87,27132.31,23448.56,6323.37],\"type\":\"bar\"},{\"x\":[\"December 2009\",\"January 2010\",\"February 2010\",\"March 2010\",\"April 2010\",\"May 2010\",\"June 2010\",\"July 2010\",\"August 2010\",\"September 2010\",\"October 2010\",\"November 2010\",\"December 2010\",\"January 2011\",\"February 2011\",\"March 2011\",\"April 2011\",\"May 2011\",\"June 2011\",\"July 2011\",\"August 2011\",\"September 2011\",\"October 2011\",\"November 2011\",\"December 2011\"],\"y\":[5803.79,7241.28,8035.01,7781.42,6424.63,12834.449999999999,8325.79,6997.05,4445.38,12195.63,13735.13,16699.74,8499.56,15161.27,7635.0599999999995,13620.8,3824.31,15835.38,14336.43,9045.8,12506.64,21798.4,22106.43,28199.0,6538.92],\"type\":\"bar\"},{\"x\":[\"December 2009\",\"February 2010\",\"March 2010\",\"April 2010\",\"May 2010\",\"June 2010\",\"July 2010\",\"August 2010\",\"September 2010\",\"October 2010\",\"November 2010\",\"December 2010\",\"January 2011\",\"February 2011\",\"March 2011\",\"April 2011\",\"May 2011\",\"June 2011\",\"July 2011\",\"August 2011\",\"September 2011\",\"October 2011\",\"November 2011\"],\"y\":[271.1,1029.66,429.39,630.95,1312.7,3187.78,605.62,176.0,785.83,2941.45,17331.77,965.35,7997.71,13440.47,16029.29,421.6,13605.51,22475.77,4767.57,18437.6,3454.93,12470.53,5524.32],\"type\":\"bar\"}],                        {\"geo\":{\"projection\":{\"type\":\"equirectangular\"},\"showcoastlines\":false,\"showframe\":false},\"title\":{\"text\":\"Our customers\",\"x\":0.5},\"template\":{\"data\":{\"bar\":[{\"error_x\":{\"color\":\"#2a3f5f\"},\"error_y\":{\"color\":\"#2a3f5f\"},\"marker\":{\"line\":{\"color\":\"#E5ECF6\",\"width\":0.5},\"pattern\":{\"fillmode\":\"overlay\",\"size\":10,\"solidity\":0.2}},\"type\":\"bar\"}],\"barpolar\":[{\"marker\":{\"line\":{\"color\":\"#E5ECF6\",\"width\":0.5},\"pattern\":{\"fillmode\":\"overlay\",\"size\":10,\"solidity\":0.2}},\"type\":\"barpolar\"}],\"carpet\":[{\"aaxis\":{\"endlinecolor\":\"#2a3f5f\",\"gridcolor\":\"white\",\"linecolor\":\"white\",\"minorgridcolor\":\"white\",\"startlinecolor\":\"#2a3f5f\"},\"baxis\":{\"endlinecolor\":\"#2a3f5f\",\"gridcolor\":\"white\",\"linecolor\":\"white\",\"minorgridcolor\":\"white\",\"startlinecolor\":\"#2a3f5f\"},\"type\":\"carpet\"}],\"choropleth\":[{\"colorbar\":{\"outlinewidth\":0,\"ticks\":\"\"},\"type\":\"choropleth\"}],\"contour\":[{\"colorbar\":{\"outlinewidth\":0,\"ticks\":\"\"},\"colorscale\":[[0.0,\"#0d0887\"],[0.1111111111111111,\"#46039f\"],[0.2222222222222222,\"#7201a8\"],[0.3333333333333333,\"#9c179e\"],[0.4444444444444444,\"#bd3786\"],[0.5555555555555556,\"#d8576b\"],[0.6666666666666666,\"#ed7953\"],[0.7777777777777778,\"#fb9f3a\"],[0.8888888888888888,\"#fdca26\"],[1.0,\"#f0f921\"]],\"type\":\"contour\"}],\"contourcarpet\":[{\"colorbar\":{\"outlinewidth\":0,\"ticks\":\"\"},\"type\":\"contourcarpet\"}],\"heatmap\":[{\"colorbar\":{\"outlinewidth\":0,\"ticks\":\"\"},\"colorscale\":[[0.0,\"#0d0887\"],[0.1111111111111111,\"#46039f\"],[0.2222222222222222,\"#7201a8\"],[0.3333333333333333,\"#9c179e\"],[0.4444444444444444,\"#bd3786\"],[0.5555555555555556,\"#d8576b\"],[0.6666666666666666,\"#ed7953\"],[0.7777777777777778,\"#fb9f3a\"],[0.8888888888888888,\"#fdca26\"],[1.0,\"#f0f921\"]],\"type\":\"heatmap\"}],\"heatmapgl\":[{\"colorbar\":{\"outlinewidth\":0,\"ticks\":\"\"},\"colorscale\":[[0.0,\"#0d0887\"],[0.1111111111111111,\"#46039f\"],[0.2222222222222222,\"#7201a8\"],[0.3333333333333333,\"#9c179e\"],[0.4444444444444444,\"#bd3786\"],[0.5555555555555556,\"#d8576b\"],[0.6666666666666666,\"#ed7953\"],[0.7777777777777778,\"#fb9f3a\"],[0.8888888888888888,\"#fdca26\"],[1.0,\"#f0f921\"]],\"type\":\"heatmapgl\"}],\"histogram\":[{\"marker\":{\"pattern\":{\"fillmode\":\"overlay\",\"size\":10,\"solidity\":0.2}},\"type\":\"histogram\"}],\"histogram2d\":[{\"colorbar\":{\"outlinewidth\":0,\"ticks\":\"\"},\"colorscale\":[[0.0,\"#0d0887\"],[0.1111111111111111,\"#46039f\"],[0.2222222222222222,\"#7201a8\"],[0.3333333333333333,\"#9c179e\"],[0.4444444444444444,\"#bd3786\"],[0.5555555555555556,\"#d8576b\"],[0.6666666666666666,\"#ed7953\"],[0.7777777777777778,\"#fb9f3a\"],[0.8888888888888888,\"#fdca26\"],[1.0,\"#f0f921\"]],\"type\":\"histogram2d\"}],\"histogram2dcontour\":[{\"colorbar\":{\"outlinewidth\":0,\"ticks\":\"\"},\"colorscale\":[[0.0,\"#0d0887\"],[0.1111111111111111,\"#46039f\"],[0.2222222222222222,\"#7201a8\"],[0.3333333333333333,\"#9c179e\"],[0.4444444444444444,\"#bd3786\"],[0.5555555555555556,\"#d8576b\"],[0.6666666666666666,\"#ed7953\"],[0.7777777777777778,\"#fb9f3a\"],[0.8888888888888888,\"#fdca26\"],[1.0,\"#f0f921\"]],\"type\":\"histogram2dcontour\"}],\"mesh3d\":[{\"colorbar\":{\"outlinewidth\":0,\"ticks\":\"\"},\"type\":\"mesh3d\"}],\"parcoords\":[{\"line\":{\"colorbar\":{\"outlinewidth\":0,\"ticks\":\"\"}},\"type\":\"parcoords\"}],\"pie\":[{\"automargin\":true,\"type\":\"pie\"}],\"scatter\":[{\"marker\":{\"colorbar\":{\"outlinewidth\":0,\"ticks\":\"\"}},\"type\":\"scatter\"}],\"scatter3d\":[{\"line\":{\"colorbar\":{\"outlinewidth\":0,\"ticks\":\"\"}},\"marker\":{\"colorbar\":{\"outlinewidth\":0,\"ticks\":\"\"}},\"type\":\"scatter3d\"}],\"scattercarpet\":[{\"marker\":{\"colorbar\":{\"outlinewidth\":0,\"ticks\":\"\"}},\"type\":\"scattercarpet\"}],\"scattergeo\":[{\"marker\":{\"colorbar\":{\"outlinewidth\":0,\"ticks\":\"\"}},\"type\":\"scattergeo\"}],\"scattergl\":[{\"marker\":{\"colorbar\":{\"outlinewidth\":0,\"ticks\":\"\"}},\"type\":\"scattergl\"}],\"scattermapbox\":[{\"marker\":{\"colorbar\":{\"outlinewidth\":0,\"ticks\":\"\"}},\"type\":\"scattermapbox\"}],\"scatterpolar\":[{\"marker\":{\"colorbar\":{\"outlinewidth\":0,\"ticks\":\"\"}},\"type\":\"scatterpolar\"}],\"scatterpolargl\":[{\"marker\":{\"colorbar\":{\"outlinewidth\":0,\"ticks\":\"\"}},\"type\":\"scatterpolargl\"}],\"scatterternary\":[{\"marker\":{\"colorbar\":{\"outlinewidth\":0,\"ticks\":\"\"}},\"type\":\"scatterternary\"}],\"surface\":[{\"colorbar\":{\"outlinewidth\":0,\"ticks\":\"\"},\"colorscale\":[[0.0,\"#0d0887\"],[0.1111111111111111,\"#46039f\"],[0.2222222222222222,\"#7201a8\"],[0.3333333333333333,\"#9c179e\"],[0.4444444444444444,\"#bd3786\"],[0.5555555555555556,\"#d8576b\"],[0.6666666666666666,\"#ed7953\"],[0.7777777777777778,\"#fb9f3a\"],[0.8888888888888888,\"#fdca26\"],[1.0,\"#f0f921\"]],\"type\":\"surface\"}],\"table\":[{\"cells\":{\"fill\":{\"color\":\"#EBF0F8\"},\"line\":{\"color\":\"white\"}},\"header\":{\"fill\":{\"color\":\"#C8D4E3\"},\"line\":{\"color\":\"white\"}},\"type\":\"table\"}]},\"layout\":{\"annotationdefaults\":{\"arrowcolor\":\"#2a3f5f\",\"arrowhead\":0,\"arrowwidth\":1},\"autotypenumbers\":\"strict\",\"coloraxis\":{\"colorbar\":{\"outlinewidth\":0,\"ticks\":\"\"}},\"colorscale\":{\"diverging\":[[0,\"#8e0152\"],[0.1,\"#c51b7d\"],[0.2,\"#de77ae\"],[0.3,\"#f1b6da\"],[0.4,\"#fde0ef\"],[0.5,\"#f7f7f7\"],[0.6,\"#e6f5d0\"],[0.7,\"#b8e186\"],[0.8,\"#7fbc41\"],[0.9,\"#4d9221\"],[1,\"#276419\"]],\"sequential\":[[0.0,\"#0d0887\"],[0.1111111111111111,\"#46039f\"],[0.2222222222222222,\"#7201a8\"],[0.3333333333333333,\"#9c179e\"],[0.4444444444444444,\"#bd3786\"],[0.5555555555555556,\"#d8576b\"],[0.6666666666666666,\"#ed7953\"],[0.7777777777777778,\"#fb9f3a\"],[0.8888888888888888,\"#fdca26\"],[1.0,\"#f0f921\"]],\"sequentialminus\":[[0.0,\"#0d0887\"],[0.1111111111111111,\"#46039f\"],[0.2222222222222222,\"#7201a8\"],[0.3333333333333333,\"#9c179e\"],[0.4444444444444444,\"#bd3786\"],[0.5555555555555556,\"#d8576b\"],[0.6666666666666666,\"#ed7953\"],[0.7777777777777778,\"#fb9f3a\"],[0.8888888888888888,\"#fdca26\"],[1.0,\"#f0f921\"]]},\"colorway\":[\"#636efa\",\"#EF553B\",\"#00cc96\",\"#ab63fa\",\"#FFA15A\",\"#19d3f3\",\"#FF6692\",\"#B6E880\",\"#FF97FF\",\"#FECB52\"],\"font\":{\"color\":\"#2a3f5f\"},\"geo\":{\"bgcolor\":\"white\",\"lakecolor\":\"white\",\"landcolor\":\"#E5ECF6\",\"showlakes\":true,\"showland\":true,\"subunitcolor\":\"white\"},\"hoverlabel\":{\"align\":\"left\"},\"hovermode\":\"closest\",\"mapbox\":{\"style\":\"light\"},\"paper_bgcolor\":\"white\",\"plot_bgcolor\":\"#E5ECF6\",\"polar\":{\"angularaxis\":{\"gridcolor\":\"white\",\"linecolor\":\"white\",\"ticks\":\"\"},\"bgcolor\":\"#E5ECF6\",\"radialaxis\":{\"gridcolor\":\"white\",\"linecolor\":\"white\",\"ticks\":\"\"}},\"scene\":{\"xaxis\":{\"backgroundcolor\":\"#E5ECF6\",\"gridcolor\":\"white\",\"gridwidth\":2,\"linecolor\":\"white\",\"showbackground\":true,\"ticks\":\"\",\"zerolinecolor\":\"white\"},\"yaxis\":{\"backgroundcolor\":\"#E5ECF6\",\"gridcolor\":\"white\",\"gridwidth\":2,\"linecolor\":\"white\",\"showbackground\":true,\"ticks\":\"\",\"zerolinecolor\":\"white\"},\"zaxis\":{\"backgroundcolor\":\"#E5ECF6\",\"gridcolor\":\"white\",\"gridwidth\":2,\"linecolor\":\"white\",\"showbackground\":true,\"ticks\":\"\",\"zerolinecolor\":\"white\"}},\"shapedefaults\":{\"line\":{\"color\":\"#2a3f5f\"}},\"ternary\":{\"aaxis\":{\"gridcolor\":\"white\",\"linecolor\":\"white\",\"ticks\":\"\"},\"baxis\":{\"gridcolor\":\"white\",\"linecolor\":\"white\",\"ticks\":\"\"},\"bgcolor\":\"#E5ECF6\",\"caxis\":{\"gridcolor\":\"white\",\"linecolor\":\"white\",\"ticks\":\"\"}},\"title\":{\"x\":0.05},\"xaxis\":{\"automargin\":true,\"gridcolor\":\"white\",\"linecolor\":\"white\",\"ticks\":\"\",\"title\":{\"standoff\":15},\"zerolinecolor\":\"white\",\"zerolinewidth\":2},\"yaxis\":{\"automargin\":true,\"gridcolor\":\"white\",\"linecolor\":\"white\",\"ticks\":\"\",\"title\":{\"standoff\":15},\"zerolinecolor\":\"white\",\"zerolinewidth\":2}}},\"updatemenus\":[{\"active\":0,\"buttons\":[{\"args\":[{\"visible\":[true,false,false,false,false]},{\"title\":\"EIRE sells\"}],\"label\":\"EIRE\",\"method\":\"update\"},{\"args\":[{\"visible\":[false,true,false,false,false]},{\"title\":\"Netherlands sells\"}],\"label\":\"Netherlands\",\"method\":\"update\"},{\"args\":[{\"visible\":[false,false,true,false,false]},{\"title\":\"Germany sells\"}],\"label\":\"Germany\",\"method\":\"update\"},{\"args\":[{\"visible\":[false,false,false,true,false]},{\"title\":\"France sells\"}],\"label\":\"France\",\"method\":\"update\"},{\"args\":[{\"visible\":[false,false,false,false,true]},{\"title\":\"Australia sells\"}],\"label\":\"Australia\",\"method\":\"update\"}]}]},                        {\"responsive\": true}                    ).then(function(){\n",
              "                            \n",
              "var gd = document.getElementById('39141b2c-661d-4467-a7c8-211c7e2e6fd8');\n",
              "var x = new MutationObserver(function (mutations, observer) {{\n",
              "        var display = window.getComputedStyle(gd).display;\n",
              "        if (!display || display === 'none') {{\n",
              "            console.log([gd, 'removed!']);\n",
              "            Plotly.purge(gd);\n",
              "            observer.disconnect();\n",
              "        }}\n",
              "}});\n",
              "\n",
              "// Listen for the removal of the full notebook cells\n",
              "var notebookContainer = gd.closest('#notebook-container');\n",
              "if (notebookContainer) {{\n",
              "    x.observe(notebookContainer, {childList: true});\n",
              "}}\n",
              "\n",
              "// Listen for the clearing of the current output cell\n",
              "var outputEl = gd.closest('.output');\n",
              "if (outputEl) {{\n",
              "    x.observe(outputEl, {childList: true});\n",
              "}}\n",
              "\n",
              "                        })                };                            </script>        </div>\n",
              "</body>\n",
              "</html>"
            ]
          },
          "metadata": {}
        }
      ],
      "source": [
        "# Add dropdown \n",
        "fig.update_layout( \n",
        "    updatemenus=[ \n",
        "        dict( \n",
        "            active=0, \n",
        "            buttons=list([ \n",
        "                dict(label=countries[0], \n",
        "                     method=\"update\", \n",
        "                     args=[{\"visible\": [True, False, False, False, False]}, \n",
        "                           {\"title\": \"{} sells\".format(countries[0])}]), \n",
        "                dict(label=countries[1], \n",
        "                     method=\"update\", \n",
        "                     args=[{\"visible\": [False, True, False, False, False]}, \n",
        "                           {\"title\": \"{} sells\".format(countries[1])}]), \n",
        "                dict(label=countries[2], \n",
        "                     method=\"update\", \n",
        "                     args=[{\"visible\": [False, False, True, False, False]}, \n",
        "                           {\"title\": \"{} sells\".format(countries[2])}]), \n",
        "                dict(label=countries[3], \n",
        "                     method=\"update\", \n",
        "                     args=[{\"visible\": [False, False, False, True, False]}, \n",
        "                           {\"title\": \"{} sells\".format(countries[3])}]), \n",
        "                dict(label=countries[4], \n",
        "                     method=\"update\", \n",
        "                     args=[{\"visible\": [False, False, False, False, True]}, \n",
        "                           {\"title\": \"{} sells\".format(countries[4])}]), \n",
        "                \n",
        "            ]), \n",
        "        ) \n",
        "    ]) \n",
        "  \n",
        "fig.show() "
      ]
    },
    {
      "cell_type": "markdown",
      "metadata": {
        "papermill": {
          "duration": 0.20662,
          "end_time": "2020-12-10T18:53:32.081896",
          "exception": false,
          "start_time": "2020-12-10T18:53:31.875276",
          "status": "completed"
        },
        "tags": [],
        "id": "15vwR3y9Qahi"
      },
      "source": [
        "<h2 id=\"countries\" style=\"font-family:verdana;\"> \n",
        "         6.3 Customers' Segments\n",
        "        <a class=\"anchor-link\" href=\"https://www.kaggle.com/miljan/product-tagging-for-e-commerce-work-in-progress/#countries\">¶</a>\n",
        "\n",
        "</h2>"
      ]
    },
    {
      "cell_type": "code",
      "execution_count": 152,
      "metadata": {
        "execution": {
          "iopub.execute_input": "2020-12-10T18:53:32.493983Z",
          "iopub.status.busy": "2020-12-10T18:53:32.492946Z",
          "iopub.status.idle": "2020-12-10T18:53:34.204026Z",
          "shell.execute_reply": "2020-12-10T18:53:34.203466Z"
        },
        "papermill": {
          "duration": 1.916062,
          "end_time": "2020-12-10T18:53:34.204172",
          "exception": false,
          "start_time": "2020-12-10T18:53:32.288110",
          "status": "completed"
        },
        "tags": [],
        "id": "7bkpopu9Qahi",
        "outputId": "307ff08c-20e4-489a-8727-48ced6f853fe",
        "colab": {
          "base_uri": "https://localhost:8080/",
          "height": 1000
        }
      },
      "outputs": [
        {
          "output_type": "display_data",
          "data": {
            "text/html": [
              "<html>\n",
              "<head><meta charset=\"utf-8\" /></head>\n",
              "<body>\n",
              "    <div>            <script src=\"https://cdnjs.cloudflare.com/ajax/libs/mathjax/2.7.5/MathJax.js?config=TeX-AMS-MML_SVG\"></script><script type=\"text/javascript\">if (window.MathJax) {MathJax.Hub.Config({SVG: {font: \"STIX-Web\"}});}</script>                <script type=\"text/javascript\">window.PlotlyConfig = {MathJaxConfig: 'local'};</script>\n",
              "        <script src=\"https://cdn.plot.ly/plotly-2.8.3.min.js\"></script>                <div id=\"639ca304-89ae-4967-9bec-cf572d6f46e4\" class=\"plotly-graph-div\" style=\"height:1000px; width:1000px;\"></div>            <script type=\"text/javascript\">                                    window.PLOTLYENV=window.PLOTLYENV || {};                                    if (document.getElementById(\"639ca304-89ae-4967-9bec-cf572d6f46e4\")) {                    Plotly.newPlot(                        \"639ca304-89ae-4967-9bec-cf572d6f46e4\",                        [{\"x\":[\"December 2009\",\"January 2010\",\"February 2010\",\"March 2010\",\"April 2010\",\"May 2010\",\"June 2010\",\"July 2010\",\"August 2010\",\"September 2010\",\"October 2010\",\"November 2010\",\"December 2010\",\"January 2011\",\"February 2011\",\"March 2011\",\"April 2011\",\"May 2011\",\"June 2011\",\"July 2011\",\"August 2011\",\"September 2011\",\"October 2011\",\"November 2011\",\"December 2011\"],\"y\":[330264.29,260571.59,216771.17,287372.28,239209.19,259773.3,284511.25,235827.04,253943.02,348982.67,408386.92,523917.7,295404.37,259620.83,233738.32,296928.7,204158.34,345636.08,305991.3,287164.21,321159.71,428216.59,439997.64,621077.38,211296.52],\"type\":\"scatter\",\"xaxis\":\"x\",\"yaxis\":\"y\"},{\"x\":[\"December 2009\",\"January 2010\",\"February 2010\",\"March 2010\",\"April 2010\",\"May 2010\",\"June 2010\",\"July 2010\",\"August 2010\",\"September 2010\",\"October 2010\",\"November 2010\",\"December 2010\",\"January 2011\",\"February 2011\",\"March 2011\",\"April 2011\",\"May 2011\",\"June 2011\",\"July 2011\",\"August 2011\",\"September 2011\",\"October 2011\",\"November 2011\",\"December 2011\"],\"y\":[55344.01,46130.56,48310.14,48246.58,58674.63,43736.32,44435.08,37804.46,41659.07,66736.41,93002.28,89702.64,28379.82,32285.93,31161.29,39346.62,36435.659999999996,53580.11,49196.97,41113.71,54937.61,93676.61,86272.06,110852.38,20305.94],\"type\":\"scatter\",\"xaxis\":\"x2\",\"yaxis\":\"y2\"},{\"x\":[\"December 2009\",\"January 2010\",\"February 2010\",\"March 2010\",\"April 2010\",\"May 2010\",\"June 2010\",\"July 2010\",\"August 2010\",\"September 2010\",\"October 2010\",\"November 2010\",\"December 2010\",\"January 2011\",\"February 2011\",\"March 2011\",\"April 2011\",\"May 2011\",\"June 2011\",\"July 2011\",\"August 2011\",\"September 2011\",\"October 2011\",\"November 2011\",\"December 2011\"],\"y\":[84757.93000000001,58090.48,75195.56,94957.14,86144.09,92412.6,91974.32,88525.76,93395.83,127523.57,150683.87,181395.77,68314.4,60791.16,75500.68000000001,96101.78,86113.24,114348.12,94979.96,106097.69,101731.39,169030.09,211760.59,160206.92,23830.48],\"type\":\"scatter\",\"xaxis\":\"x3\",\"yaxis\":\"y3\"},{\"x\":[\"December 2009\",\"January 2010\",\"February 2010\",\"March 2010\",\"April 2010\",\"May 2010\",\"June 2010\",\"July 2010\",\"August 2010\",\"September 2010\",\"October 2010\",\"November 2010\",\"December 2010\",\"January 2011\",\"February 2011\",\"March 2011\",\"April 2011\",\"May 2011\",\"June 2011\",\"July 2011\",\"August 2011\",\"September 2011\",\"October 2011\",\"November 2011\",\"December 2011\"],\"y\":[13466.23,9815.89,8584.83,13989.57,11322.7,13460.46,12434.17,11704.89,12514.0,14315.88,19337.63,28337.97,12552.55,8452.210000000001,10123.93,9111.98,10986.54,11830.960000000001,13432.68,12321.23,9720.3,15410.54,14921.880000000001,26867.62,6515.89],\"type\":\"scatter\",\"xaxis\":\"x4\",\"yaxis\":\"y4\"},{\"x\":[\"December 2009\",\"January 2010\",\"February 2010\",\"March 2010\",\"April 2010\",\"May 2010\",\"June 2010\",\"July 2010\",\"August 2010\",\"September 2010\",\"October 2010\",\"November 2010\",\"December 2010\",\"January 2011\",\"February 2011\",\"March 2011\",\"April 2011\",\"May 2011\",\"June 2011\",\"July 2011\",\"August 2011\",\"September 2011\",\"October 2011\",\"November 2011\",\"December 2011\"],\"y\":[14290.12,13227.33,13773.27,16835.77,17091.82,20025.49,15428.95,14197.76,15475.880000000001,23801.43,44542.66,40208.99,18791.99,11254.02,10744.46,18748.34,15017.51,23008.46,17504.45,18724.11,21041.18,47603.28,52903.23,55376.36,16207.15],\"type\":\"scatter\",\"xaxis\":\"x5\",\"yaxis\":\"y5\"},{\"x\":[\"December 2009\",\"January 2010\",\"February 2010\",\"March 2010\",\"April 2010\",\"May 2010\",\"June 2010\",\"July 2010\",\"August 2010\",\"September 2010\",\"October 2010\",\"November 2010\",\"December 2010\",\"January 2011\",\"February 2011\",\"March 2011\",\"April 2011\",\"May 2011\",\"June 2011\",\"July 2011\",\"August 2011\",\"September 2011\",\"October 2011\",\"November 2011\",\"December 2011\"],\"y\":[51337.03,36420.74,40194.05,70286.29,53101.43,58729.49,56741.78,44797.29,51557.72,71055.29,114417.0,112993.93000000001,33346.47,28840.29,36479.05,54306.93,39400.5,42899.96,36897.1,42573.2,38058.64,55805.36,69316.81,89006.98,18677.22],\"type\":\"scatter\",\"xaxis\":\"x6\",\"yaxis\":\"y6\"},{\"x\":[\"December 2009\",\"January 2010\",\"February 2010\",\"March 2010\",\"April 2010\",\"May 2010\",\"June 2010\",\"July 2010\",\"August 2010\",\"September 2010\",\"October 2010\",\"November 2010\",\"December 2010\",\"January 2011\",\"February 2011\",\"March 2011\",\"April 2011\",\"May 2011\",\"June 2011\",\"July 2011\",\"August 2011\",\"September 2011\"],\"y\":[41443.24,39163.51,32678.38,45349.68,57622.51,41656.47,44263.45,54308.03,48307.39,47259.66,52961.72,51060.46,38991.73,18816.2,13931.26,22079.5,20692.1,19923.07,16855.72,19066.44,21236.64,1313.89],\"type\":\"scatter\",\"xaxis\":\"x7\",\"yaxis\":\"y7\"},{\"x\":[\"December 2009\",\"January 2010\",\"February 2010\",\"March 2010\",\"April 2010\",\"May 2010\",\"June 2010\",\"July 2010\",\"August 2010\",\"September 2010\",\"October 2010\",\"November 2010\"],\"y\":[7802.24,5493.0,12452.07,15003.64,23981.55,15072.37,8291.37,4969.26,2647.59,3572.04,3236.88,2724.34],\"type\":\"scatter\",\"xaxis\":\"x8\",\"yaxis\":\"y8\"},{\"x\":[\"December 2009\",\"January 2010\",\"February 2010\",\"March 2010\",\"April 2010\",\"May 2010\",\"June 2010\",\"July 2010\",\"August 2010\",\"September 2010\",\"October 2010\",\"November 2010\"],\"y\":[11995.89,5142.7,8067.78,8358.84,8182.67,7038.93,8550.74,5735.22,5804.8,7759.56,13691.35,13549.85],\"type\":\"scatter\",\"xaxis\":\"x9\",\"yaxis\":\"y9\"}],                        {\"template\":{\"data\":{\"bar\":[{\"error_x\":{\"color\":\"#2a3f5f\"},\"error_y\":{\"color\":\"#2a3f5f\"},\"marker\":{\"line\":{\"color\":\"#E5ECF6\",\"width\":0.5},\"pattern\":{\"fillmode\":\"overlay\",\"size\":10,\"solidity\":0.2}},\"type\":\"bar\"}],\"barpolar\":[{\"marker\":{\"line\":{\"color\":\"#E5ECF6\",\"width\":0.5},\"pattern\":{\"fillmode\":\"overlay\",\"size\":10,\"solidity\":0.2}},\"type\":\"barpolar\"}],\"carpet\":[{\"aaxis\":{\"endlinecolor\":\"#2a3f5f\",\"gridcolor\":\"white\",\"linecolor\":\"white\",\"minorgridcolor\":\"white\",\"startlinecolor\":\"#2a3f5f\"},\"baxis\":{\"endlinecolor\":\"#2a3f5f\",\"gridcolor\":\"white\",\"linecolor\":\"white\",\"minorgridcolor\":\"white\",\"startlinecolor\":\"#2a3f5f\"},\"type\":\"carpet\"}],\"choropleth\":[{\"colorbar\":{\"outlinewidth\":0,\"ticks\":\"\"},\"type\":\"choropleth\"}],\"contour\":[{\"colorbar\":{\"outlinewidth\":0,\"ticks\":\"\"},\"colorscale\":[[0.0,\"#0d0887\"],[0.1111111111111111,\"#46039f\"],[0.2222222222222222,\"#7201a8\"],[0.3333333333333333,\"#9c179e\"],[0.4444444444444444,\"#bd3786\"],[0.5555555555555556,\"#d8576b\"],[0.6666666666666666,\"#ed7953\"],[0.7777777777777778,\"#fb9f3a\"],[0.8888888888888888,\"#fdca26\"],[1.0,\"#f0f921\"]],\"type\":\"contour\"}],\"contourcarpet\":[{\"colorbar\":{\"outlinewidth\":0,\"ticks\":\"\"},\"type\":\"contourcarpet\"}],\"heatmap\":[{\"colorbar\":{\"outlinewidth\":0,\"ticks\":\"\"},\"colorscale\":[[0.0,\"#0d0887\"],[0.1111111111111111,\"#46039f\"],[0.2222222222222222,\"#7201a8\"],[0.3333333333333333,\"#9c179e\"],[0.4444444444444444,\"#bd3786\"],[0.5555555555555556,\"#d8576b\"],[0.6666666666666666,\"#ed7953\"],[0.7777777777777778,\"#fb9f3a\"],[0.8888888888888888,\"#fdca26\"],[1.0,\"#f0f921\"]],\"type\":\"heatmap\"}],\"heatmapgl\":[{\"colorbar\":{\"outlinewidth\":0,\"ticks\":\"\"},\"colorscale\":[[0.0,\"#0d0887\"],[0.1111111111111111,\"#46039f\"],[0.2222222222222222,\"#7201a8\"],[0.3333333333333333,\"#9c179e\"],[0.4444444444444444,\"#bd3786\"],[0.5555555555555556,\"#d8576b\"],[0.6666666666666666,\"#ed7953\"],[0.7777777777777778,\"#fb9f3a\"],[0.8888888888888888,\"#fdca26\"],[1.0,\"#f0f921\"]],\"type\":\"heatmapgl\"}],\"histogram\":[{\"marker\":{\"pattern\":{\"fillmode\":\"overlay\",\"size\":10,\"solidity\":0.2}},\"type\":\"histogram\"}],\"histogram2d\":[{\"colorbar\":{\"outlinewidth\":0,\"ticks\":\"\"},\"colorscale\":[[0.0,\"#0d0887\"],[0.1111111111111111,\"#46039f\"],[0.2222222222222222,\"#7201a8\"],[0.3333333333333333,\"#9c179e\"],[0.4444444444444444,\"#bd3786\"],[0.5555555555555556,\"#d8576b\"],[0.6666666666666666,\"#ed7953\"],[0.7777777777777778,\"#fb9f3a\"],[0.8888888888888888,\"#fdca26\"],[1.0,\"#f0f921\"]],\"type\":\"histogram2d\"}],\"histogram2dcontour\":[{\"colorbar\":{\"outlinewidth\":0,\"ticks\":\"\"},\"colorscale\":[[0.0,\"#0d0887\"],[0.1111111111111111,\"#46039f\"],[0.2222222222222222,\"#7201a8\"],[0.3333333333333333,\"#9c179e\"],[0.4444444444444444,\"#bd3786\"],[0.5555555555555556,\"#d8576b\"],[0.6666666666666666,\"#ed7953\"],[0.7777777777777778,\"#fb9f3a\"],[0.8888888888888888,\"#fdca26\"],[1.0,\"#f0f921\"]],\"type\":\"histogram2dcontour\"}],\"mesh3d\":[{\"colorbar\":{\"outlinewidth\":0,\"ticks\":\"\"},\"type\":\"mesh3d\"}],\"parcoords\":[{\"line\":{\"colorbar\":{\"outlinewidth\":0,\"ticks\":\"\"}},\"type\":\"parcoords\"}],\"pie\":[{\"automargin\":true,\"type\":\"pie\"}],\"scatter\":[{\"marker\":{\"colorbar\":{\"outlinewidth\":0,\"ticks\":\"\"}},\"type\":\"scatter\"}],\"scatter3d\":[{\"line\":{\"colorbar\":{\"outlinewidth\":0,\"ticks\":\"\"}},\"marker\":{\"colorbar\":{\"outlinewidth\":0,\"ticks\":\"\"}},\"type\":\"scatter3d\"}],\"scattercarpet\":[{\"marker\":{\"colorbar\":{\"outlinewidth\":0,\"ticks\":\"\"}},\"type\":\"scattercarpet\"}],\"scattergeo\":[{\"marker\":{\"colorbar\":{\"outlinewidth\":0,\"ticks\":\"\"}},\"type\":\"scattergeo\"}],\"scattergl\":[{\"marker\":{\"colorbar\":{\"outlinewidth\":0,\"ticks\":\"\"}},\"type\":\"scattergl\"}],\"scattermapbox\":[{\"marker\":{\"colorbar\":{\"outlinewidth\":0,\"ticks\":\"\"}},\"type\":\"scattermapbox\"}],\"scatterpolar\":[{\"marker\":{\"colorbar\":{\"outlinewidth\":0,\"ticks\":\"\"}},\"type\":\"scatterpolar\"}],\"scatterpolargl\":[{\"marker\":{\"colorbar\":{\"outlinewidth\":0,\"ticks\":\"\"}},\"type\":\"scatterpolargl\"}],\"scatterternary\":[{\"marker\":{\"colorbar\":{\"outlinewidth\":0,\"ticks\":\"\"}},\"type\":\"scatterternary\"}],\"surface\":[{\"colorbar\":{\"outlinewidth\":0,\"ticks\":\"\"},\"colorscale\":[[0.0,\"#0d0887\"],[0.1111111111111111,\"#46039f\"],[0.2222222222222222,\"#7201a8\"],[0.3333333333333333,\"#9c179e\"],[0.4444444444444444,\"#bd3786\"],[0.5555555555555556,\"#d8576b\"],[0.6666666666666666,\"#ed7953\"],[0.7777777777777778,\"#fb9f3a\"],[0.8888888888888888,\"#fdca26\"],[1.0,\"#f0f921\"]],\"type\":\"surface\"}],\"table\":[{\"cells\":{\"fill\":{\"color\":\"#EBF0F8\"},\"line\":{\"color\":\"white\"}},\"header\":{\"fill\":{\"color\":\"#C8D4E3\"},\"line\":{\"color\":\"white\"}},\"type\":\"table\"}]},\"layout\":{\"annotationdefaults\":{\"arrowcolor\":\"#2a3f5f\",\"arrowhead\":0,\"arrowwidth\":1},\"autotypenumbers\":\"strict\",\"coloraxis\":{\"colorbar\":{\"outlinewidth\":0,\"ticks\":\"\"}},\"colorscale\":{\"diverging\":[[0,\"#8e0152\"],[0.1,\"#c51b7d\"],[0.2,\"#de77ae\"],[0.3,\"#f1b6da\"],[0.4,\"#fde0ef\"],[0.5,\"#f7f7f7\"],[0.6,\"#e6f5d0\"],[0.7,\"#b8e186\"],[0.8,\"#7fbc41\"],[0.9,\"#4d9221\"],[1,\"#276419\"]],\"sequential\":[[0.0,\"#0d0887\"],[0.1111111111111111,\"#46039f\"],[0.2222222222222222,\"#7201a8\"],[0.3333333333333333,\"#9c179e\"],[0.4444444444444444,\"#bd3786\"],[0.5555555555555556,\"#d8576b\"],[0.6666666666666666,\"#ed7953\"],[0.7777777777777778,\"#fb9f3a\"],[0.8888888888888888,\"#fdca26\"],[1.0,\"#f0f921\"]],\"sequentialminus\":[[0.0,\"#0d0887\"],[0.1111111111111111,\"#46039f\"],[0.2222222222222222,\"#7201a8\"],[0.3333333333333333,\"#9c179e\"],[0.4444444444444444,\"#bd3786\"],[0.5555555555555556,\"#d8576b\"],[0.6666666666666666,\"#ed7953\"],[0.7777777777777778,\"#fb9f3a\"],[0.8888888888888888,\"#fdca26\"],[1.0,\"#f0f921\"]]},\"colorway\":[\"#636efa\",\"#EF553B\",\"#00cc96\",\"#ab63fa\",\"#FFA15A\",\"#19d3f3\",\"#FF6692\",\"#B6E880\",\"#FF97FF\",\"#FECB52\"],\"font\":{\"color\":\"#2a3f5f\"},\"geo\":{\"bgcolor\":\"white\",\"lakecolor\":\"white\",\"landcolor\":\"#E5ECF6\",\"showlakes\":true,\"showland\":true,\"subunitcolor\":\"white\"},\"hoverlabel\":{\"align\":\"left\"},\"hovermode\":\"closest\",\"mapbox\":{\"style\":\"light\"},\"paper_bgcolor\":\"white\",\"plot_bgcolor\":\"#E5ECF6\",\"polar\":{\"angularaxis\":{\"gridcolor\":\"white\",\"linecolor\":\"white\",\"ticks\":\"\"},\"bgcolor\":\"#E5ECF6\",\"radialaxis\":{\"gridcolor\":\"white\",\"linecolor\":\"white\",\"ticks\":\"\"}},\"scene\":{\"xaxis\":{\"backgroundcolor\":\"#E5ECF6\",\"gridcolor\":\"white\",\"gridwidth\":2,\"linecolor\":\"white\",\"showbackground\":true,\"ticks\":\"\",\"zerolinecolor\":\"white\"},\"yaxis\":{\"backgroundcolor\":\"#E5ECF6\",\"gridcolor\":\"white\",\"gridwidth\":2,\"linecolor\":\"white\",\"showbackground\":true,\"ticks\":\"\",\"zerolinecolor\":\"white\"},\"zaxis\":{\"backgroundcolor\":\"#E5ECF6\",\"gridcolor\":\"white\",\"gridwidth\":2,\"linecolor\":\"white\",\"showbackground\":true,\"ticks\":\"\",\"zerolinecolor\":\"white\"}},\"shapedefaults\":{\"line\":{\"color\":\"#2a3f5f\"}},\"ternary\":{\"aaxis\":{\"gridcolor\":\"white\",\"linecolor\":\"white\",\"ticks\":\"\"},\"baxis\":{\"gridcolor\":\"white\",\"linecolor\":\"white\",\"ticks\":\"\"},\"bgcolor\":\"#E5ECF6\",\"caxis\":{\"gridcolor\":\"white\",\"linecolor\":\"white\",\"ticks\":\"\"}},\"title\":{\"x\":0.05},\"xaxis\":{\"automargin\":true,\"gridcolor\":\"white\",\"linecolor\":\"white\",\"ticks\":\"\",\"title\":{\"standoff\":15},\"zerolinecolor\":\"white\",\"zerolinewidth\":2},\"yaxis\":{\"automargin\":true,\"gridcolor\":\"white\",\"linecolor\":\"white\",\"ticks\":\"\",\"title\":{\"standoff\":15},\"zerolinecolor\":\"white\",\"zerolinewidth\":2}}},\"xaxis\":{\"anchor\":\"y\",\"domain\":[0.0,0.2888888888888889]},\"yaxis\":{\"anchor\":\"x\",\"domain\":[0.7933333333333333,1.0]},\"xaxis2\":{\"anchor\":\"y2\",\"domain\":[0.35555555555555557,0.6444444444444445]},\"yaxis2\":{\"anchor\":\"x2\",\"domain\":[0.7933333333333333,1.0],\"matches\":\"y\",\"showticklabels\":false},\"xaxis3\":{\"anchor\":\"y3\",\"domain\":[0.7111111111111111,1.0]},\"yaxis3\":{\"anchor\":\"x3\",\"domain\":[0.7933333333333333,1.0],\"matches\":\"y\",\"showticklabels\":false},\"xaxis4\":{\"anchor\":\"y4\",\"domain\":[0.0,0.2888888888888889]},\"yaxis4\":{\"anchor\":\"x4\",\"domain\":[0.39666666666666667,0.6033333333333333]},\"xaxis5\":{\"anchor\":\"y5\",\"domain\":[0.35555555555555557,0.6444444444444445]},\"yaxis5\":{\"anchor\":\"x5\",\"domain\":[0.39666666666666667,0.6033333333333333],\"matches\":\"y4\",\"showticklabels\":false},\"xaxis6\":{\"anchor\":\"y6\",\"domain\":[0.7111111111111111,1.0]},\"yaxis6\":{\"anchor\":\"x6\",\"domain\":[0.39666666666666667,0.6033333333333333],\"matches\":\"y4\",\"showticklabels\":false},\"xaxis7\":{\"anchor\":\"y7\",\"domain\":[0.0,0.2888888888888889]},\"yaxis7\":{\"anchor\":\"x7\",\"domain\":[0.0,0.20666666666666667]},\"xaxis8\":{\"anchor\":\"y8\",\"domain\":[0.35555555555555557,0.6444444444444445]},\"yaxis8\":{\"anchor\":\"x8\",\"domain\":[0.0,0.20666666666666667],\"matches\":\"y7\",\"showticklabels\":false},\"xaxis9\":{\"anchor\":\"y9\",\"domain\":[0.7111111111111111,1.0]},\"yaxis9\":{\"anchor\":\"x9\",\"domain\":[0.0,0.20666666666666667],\"matches\":\"y7\",\"showticklabels\":false},\"annotations\":[{\"font\":{\"color\":\"#ff0000\",\"size\":10},\"showarrow\":false,\"text\":\"Best Customers\",\"x\":0.14444444444444446,\"xanchor\":\"center\",\"xref\":\"paper\",\"y\":1.0,\"yanchor\":\"bottom\",\"yref\":\"paper\"},{\"font\":{\"color\":\"#ff0000\",\"size\":10},\"showarrow\":false,\"text\":\"Big Spenders\",\"x\":0.5,\"xanchor\":\"center\",\"xref\":\"paper\",\"y\":1.0,\"yanchor\":\"bottom\",\"yref\":\"paper\"},{\"font\":{\"color\":\"#ff0000\",\"size\":10},\"showarrow\":false,\"text\":\"Good Customers\",\"x\":0.8555555555555556,\"xanchor\":\"center\",\"xref\":\"paper\",\"y\":1.0,\"yanchor\":\"bottom\",\"yref\":\"paper\"},{\"font\":{\"color\":\"#ff0000\",\"size\":10},\"showarrow\":false,\"text\":\"Loyal Customers\",\"x\":0.14444444444444446,\"xanchor\":\"center\",\"xref\":\"paper\",\"y\":0.6033333333333333,\"yanchor\":\"bottom\",\"yref\":\"paper\"},{\"font\":{\"color\":\"#ff0000\",\"size\":10},\"showarrow\":false,\"text\":\"Average Customer\",\"x\":0.5,\"xanchor\":\"center\",\"xref\":\"paper\",\"y\":0.6033333333333333,\"yanchor\":\"bottom\",\"yref\":\"paper\"},{\"font\":{\"color\":\"#ff0000\",\"size\":10},\"showarrow\":false,\"text\":\"Not So Good Customers\",\"x\":0.8555555555555556,\"xanchor\":\"center\",\"xref\":\"paper\",\"y\":0.6033333333333333,\"yanchor\":\"bottom\",\"yref\":\"paper\"},{\"font\":{\"color\":\"#ff0000\",\"size\":10},\"showarrow\":false,\"text\":\"Almost Lost\",\"x\":0.14444444444444446,\"xanchor\":\"center\",\"xref\":\"paper\",\"y\":0.20666666666666667,\"yanchor\":\"bottom\",\"yref\":\"paper\"},{\"font\":{\"color\":\"#ff0000\",\"size\":10},\"showarrow\":false,\"text\":\"Lost Customers\",\"x\":0.5,\"xanchor\":\"center\",\"xref\":\"paper\",\"y\":0.20666666666666667,\"yanchor\":\"bottom\",\"yref\":\"paper\"},{\"font\":{\"color\":\"#ff0000\",\"size\":10},\"showarrow\":false,\"text\":\"Bad Customers\",\"x\":0.8555555555555556,\"xanchor\":\"center\",\"xref\":\"paper\",\"y\":0.20666666666666667,\"yanchor\":\"bottom\",\"yref\":\"paper\"}],\"title\":{\"text\":\"Sales Through segments\",\"x\":0.5},\"height\":1000,\"width\":1000},                        {\"responsive\": true}                    ).then(function(){\n",
              "                            \n",
              "var gd = document.getElementById('639ca304-89ae-4967-9bec-cf572d6f46e4');\n",
              "var x = new MutationObserver(function (mutations, observer) {{\n",
              "        var display = window.getComputedStyle(gd).display;\n",
              "        if (!display || display === 'none') {{\n",
              "            console.log([gd, 'removed!']);\n",
              "            Plotly.purge(gd);\n",
              "            observer.disconnect();\n",
              "        }}\n",
              "}});\n",
              "\n",
              "// Listen for the removal of the full notebook cells\n",
              "var notebookContainer = gd.closest('#notebook-container');\n",
              "if (notebookContainer) {{\n",
              "    x.observe(notebookContainer, {childList: true});\n",
              "}}\n",
              "\n",
              "// Listen for the clearing of the current output cell\n",
              "var outputEl = gd.closest('.output');\n",
              "if (outputEl) {{\n",
              "    x.observe(outputEl, {childList: true});\n",
              "}}\n",
              "\n",
              "                        })                };                            </script>        </div>\n",
              "</body>\n",
              "</html>"
            ]
          },
          "metadata": {}
        }
      ],
      "source": [
        "i = 1\n",
        "j = 1\n",
        "data = []\n",
        "segment_names = ['Best Customers', 'Big Spenders', 'Good Customers', 'Loyal Customers', 'Average Customer', \n",
        "                 'Not So Good Customers', 'Almost Lost', 'Lost Customers', 'Bad Customers']\n",
        "for segment in segment_names:\n",
        "    df_segment = df_cleaned[df_cleaned['Segment']==segment]\n",
        "    df_segment_grouped = df_segment.groupby('MonthYear').agg(custom_aggregation).sort_values(by='InvoiceDate')\n",
        "    \n",
        "    data.append(go.Scatter(x=df_segment_grouped.index, \n",
        "                   y=df_segment_grouped['TotalPrice']))\n",
        "    \n",
        "fig = make_subplots(rows=3, cols=3, shared_yaxes=True, vertical_spacing=0.19, subplot_titles=(segment_names[0], segment_names[1], segment_names[2], segment_names[3], segment_names[4], segment_names[5], \n",
        "                                  segment_names[6], segment_names[7], segment_names[8]))    \n",
        "    \n",
        "k = 0\n",
        "for i in range(1,4):\n",
        "    for j in range(1,4):\n",
        "        fig.add_trace(data[k], row=i, col=j)\n",
        "        k+=1\n",
        "\n",
        "\n",
        "fig.update_layout(height=1000, width=1000, title_text=\"Sales Through segments\", title_x=0.5\n",
        "                  )\n",
        "for i in fig['layout']['annotations']:\n",
        "    i['font'] = dict(size=10,color='#ff0000')\n",
        "fig.show()"
      ]
    },
    {
      "cell_type": "markdown",
      "metadata": {
        "papermill": {
          "duration": 0.201396,
          "end_time": "2020-12-10T18:53:34.613740",
          "exception": false,
          "start_time": "2020-12-10T18:53:34.412344",
          "status": "completed"
        },
        "tags": [],
        "id": "wWQfhFv4Qahj"
      },
      "source": [
        "<br><br>\n",
        "<div class=\"alert alert-block alert-info\" style=\"font-size:15px; font-family:verdana; line-height: 1.7em\">\n",
        "    <b> It seems that our segment categories can be improved. As I said earlier this should be done in partnership with the marketing team. For example, the segment \"Not So Good Customers\" seems to have better sells than the average customers. The problem seems to be in december 2010 because there was a massive decrease in sells this month. We also have a good representation of the segment \"Best customers\" since they have the biggest sales. Lastly, we can see graphically why we labeled these categories \"almost lost\" and \"lost customers\"  </b><br><br>\n",
        "</div>"
      ]
    },
    {
      "cell_type": "markdown",
      "metadata": {
        "papermill": {
          "duration": 0.205381,
          "end_time": "2020-12-10T18:53:35.021309",
          "exception": false,
          "start_time": "2020-12-10T18:53:34.815928",
          "status": "completed"
        },
        "tags": [],
        "id": "ALpx8V9iQahj"
      },
      "source": [
        "<h2 id=\"prod_sells\" style=\"font-family:verdana;\"> \n",
        "         6.4 Most sold products\n",
        "        <a class=\"anchor-link\" href=\"https://www.kaggle.com/miljan/product-tagging-for-e-commerce-work-in-progress/#prod_sells\">¶</a>\n",
        "\n",
        "</h2>"
      ]
    },
    {
      "cell_type": "code",
      "execution_count": 153,
      "metadata": {
        "execution": {
          "iopub.execute_input": "2020-12-10T18:53:35.445391Z",
          "iopub.status.busy": "2020-12-10T18:53:35.444475Z",
          "iopub.status.idle": "2020-12-10T18:53:35.597843Z",
          "shell.execute_reply": "2020-12-10T18:53:35.597139Z"
        },
        "papermill": {
          "duration": 0.372055,
          "end_time": "2020-12-10T18:53:35.597961",
          "exception": false,
          "start_time": "2020-12-10T18:53:35.225906",
          "status": "completed"
        },
        "tags": [],
        "id": "s1-y5IDUQahj",
        "outputId": "0532b8d8-bc95-4ca0-c8bc-e11976b825ed",
        "colab": {
          "base_uri": "https://localhost:8080/",
          "height": 542
        }
      },
      "outputs": [
        {
          "output_type": "display_data",
          "data": {
            "text/html": [
              "<html>\n",
              "<head><meta charset=\"utf-8\" /></head>\n",
              "<body>\n",
              "    <div>            <script src=\"https://cdnjs.cloudflare.com/ajax/libs/mathjax/2.7.5/MathJax.js?config=TeX-AMS-MML_SVG\"></script><script type=\"text/javascript\">if (window.MathJax) {MathJax.Hub.Config({SVG: {font: \"STIX-Web\"}});}</script>                <script type=\"text/javascript\">window.PlotlyConfig = {MathJaxConfig: 'local'};</script>\n",
              "        <script src=\"https://cdn.plot.ly/plotly-2.8.3.min.js\"></script>                <div id=\"92c3dda0-0b03-406e-bfa0-e577596ec1fb\" class=\"plotly-graph-div\" style=\"height:525px; width:100%;\"></div>            <script type=\"text/javascript\">                                    window.PLOTLYENV=window.PLOTLYENV || {};                                    if (document.getElementById(\"92c3dda0-0b03-406e-bfa0-e577596ec1fb\")) {                    Plotly.newPlot(                        \"92c3dda0-0b03-406e-bfa0-e577596ec1fb\",                        [{\"x\":[\"WORLD WAR 2 GLIDERS ASSTD DESIGNS\",\"PAPER CRAFT , LITTLE BIRDIE\",\"MEDIUM CERAMIC TOP STORAGE JAR\",\"WHITE HANGING HEART T-LIGHT HOLDER\",\"JUMBO BAG RED RETROSPOT\",\"ASSORTED COLOUR BIRD ORNAMENT\",\"60 TEATIME FAIRY CAKE CASES\",\"PACK OF 60 PINK PAISLEY CAKE CASES\",\"BROCADE RING PURSE \",\"PACK OF 72 RETRO SPOT CAKE CASES\"],\"y\":[96065,80995,77916,74769,68924,64906,52828,51892,47906,45129],\"type\":\"bar\"}],                        {\"title\":{\"text\":\"TOP 10 most sold products\",\"x\":0.5},\"template\":{\"data\":{\"bar\":[{\"error_x\":{\"color\":\"#2a3f5f\"},\"error_y\":{\"color\":\"#2a3f5f\"},\"marker\":{\"line\":{\"color\":\"#E5ECF6\",\"width\":0.5},\"pattern\":{\"fillmode\":\"overlay\",\"size\":10,\"solidity\":0.2}},\"type\":\"bar\"}],\"barpolar\":[{\"marker\":{\"line\":{\"color\":\"#E5ECF6\",\"width\":0.5},\"pattern\":{\"fillmode\":\"overlay\",\"size\":10,\"solidity\":0.2}},\"type\":\"barpolar\"}],\"carpet\":[{\"aaxis\":{\"endlinecolor\":\"#2a3f5f\",\"gridcolor\":\"white\",\"linecolor\":\"white\",\"minorgridcolor\":\"white\",\"startlinecolor\":\"#2a3f5f\"},\"baxis\":{\"endlinecolor\":\"#2a3f5f\",\"gridcolor\":\"white\",\"linecolor\":\"white\",\"minorgridcolor\":\"white\",\"startlinecolor\":\"#2a3f5f\"},\"type\":\"carpet\"}],\"choropleth\":[{\"colorbar\":{\"outlinewidth\":0,\"ticks\":\"\"},\"type\":\"choropleth\"}],\"contour\":[{\"colorbar\":{\"outlinewidth\":0,\"ticks\":\"\"},\"colorscale\":[[0.0,\"#0d0887\"],[0.1111111111111111,\"#46039f\"],[0.2222222222222222,\"#7201a8\"],[0.3333333333333333,\"#9c179e\"],[0.4444444444444444,\"#bd3786\"],[0.5555555555555556,\"#d8576b\"],[0.6666666666666666,\"#ed7953\"],[0.7777777777777778,\"#fb9f3a\"],[0.8888888888888888,\"#fdca26\"],[1.0,\"#f0f921\"]],\"type\":\"contour\"}],\"contourcarpet\":[{\"colorbar\":{\"outlinewidth\":0,\"ticks\":\"\"},\"type\":\"contourcarpet\"}],\"heatmap\":[{\"colorbar\":{\"outlinewidth\":0,\"ticks\":\"\"},\"colorscale\":[[0.0,\"#0d0887\"],[0.1111111111111111,\"#46039f\"],[0.2222222222222222,\"#7201a8\"],[0.3333333333333333,\"#9c179e\"],[0.4444444444444444,\"#bd3786\"],[0.5555555555555556,\"#d8576b\"],[0.6666666666666666,\"#ed7953\"],[0.7777777777777778,\"#fb9f3a\"],[0.8888888888888888,\"#fdca26\"],[1.0,\"#f0f921\"]],\"type\":\"heatmap\"}],\"heatmapgl\":[{\"colorbar\":{\"outlinewidth\":0,\"ticks\":\"\"},\"colorscale\":[[0.0,\"#0d0887\"],[0.1111111111111111,\"#46039f\"],[0.2222222222222222,\"#7201a8\"],[0.3333333333333333,\"#9c179e\"],[0.4444444444444444,\"#bd3786\"],[0.5555555555555556,\"#d8576b\"],[0.6666666666666666,\"#ed7953\"],[0.7777777777777778,\"#fb9f3a\"],[0.8888888888888888,\"#fdca26\"],[1.0,\"#f0f921\"]],\"type\":\"heatmapgl\"}],\"histogram\":[{\"marker\":{\"pattern\":{\"fillmode\":\"overlay\",\"size\":10,\"solidity\":0.2}},\"type\":\"histogram\"}],\"histogram2d\":[{\"colorbar\":{\"outlinewidth\":0,\"ticks\":\"\"},\"colorscale\":[[0.0,\"#0d0887\"],[0.1111111111111111,\"#46039f\"],[0.2222222222222222,\"#7201a8\"],[0.3333333333333333,\"#9c179e\"],[0.4444444444444444,\"#bd3786\"],[0.5555555555555556,\"#d8576b\"],[0.6666666666666666,\"#ed7953\"],[0.7777777777777778,\"#fb9f3a\"],[0.8888888888888888,\"#fdca26\"],[1.0,\"#f0f921\"]],\"type\":\"histogram2d\"}],\"histogram2dcontour\":[{\"colorbar\":{\"outlinewidth\":0,\"ticks\":\"\"},\"colorscale\":[[0.0,\"#0d0887\"],[0.1111111111111111,\"#46039f\"],[0.2222222222222222,\"#7201a8\"],[0.3333333333333333,\"#9c179e\"],[0.4444444444444444,\"#bd3786\"],[0.5555555555555556,\"#d8576b\"],[0.6666666666666666,\"#ed7953\"],[0.7777777777777778,\"#fb9f3a\"],[0.8888888888888888,\"#fdca26\"],[1.0,\"#f0f921\"]],\"type\":\"histogram2dcontour\"}],\"mesh3d\":[{\"colorbar\":{\"outlinewidth\":0,\"ticks\":\"\"},\"type\":\"mesh3d\"}],\"parcoords\":[{\"line\":{\"colorbar\":{\"outlinewidth\":0,\"ticks\":\"\"}},\"type\":\"parcoords\"}],\"pie\":[{\"automargin\":true,\"type\":\"pie\"}],\"scatter\":[{\"marker\":{\"colorbar\":{\"outlinewidth\":0,\"ticks\":\"\"}},\"type\":\"scatter\"}],\"scatter3d\":[{\"line\":{\"colorbar\":{\"outlinewidth\":0,\"ticks\":\"\"}},\"marker\":{\"colorbar\":{\"outlinewidth\":0,\"ticks\":\"\"}},\"type\":\"scatter3d\"}],\"scattercarpet\":[{\"marker\":{\"colorbar\":{\"outlinewidth\":0,\"ticks\":\"\"}},\"type\":\"scattercarpet\"}],\"scattergeo\":[{\"marker\":{\"colorbar\":{\"outlinewidth\":0,\"ticks\":\"\"}},\"type\":\"scattergeo\"}],\"scattergl\":[{\"marker\":{\"colorbar\":{\"outlinewidth\":0,\"ticks\":\"\"}},\"type\":\"scattergl\"}],\"scattermapbox\":[{\"marker\":{\"colorbar\":{\"outlinewidth\":0,\"ticks\":\"\"}},\"type\":\"scattermapbox\"}],\"scatterpolar\":[{\"marker\":{\"colorbar\":{\"outlinewidth\":0,\"ticks\":\"\"}},\"type\":\"scatterpolar\"}],\"scatterpolargl\":[{\"marker\":{\"colorbar\":{\"outlinewidth\":0,\"ticks\":\"\"}},\"type\":\"scatterpolargl\"}],\"scatterternary\":[{\"marker\":{\"colorbar\":{\"outlinewidth\":0,\"ticks\":\"\"}},\"type\":\"scatterternary\"}],\"surface\":[{\"colorbar\":{\"outlinewidth\":0,\"ticks\":\"\"},\"colorscale\":[[0.0,\"#0d0887\"],[0.1111111111111111,\"#46039f\"],[0.2222222222222222,\"#7201a8\"],[0.3333333333333333,\"#9c179e\"],[0.4444444444444444,\"#bd3786\"],[0.5555555555555556,\"#d8576b\"],[0.6666666666666666,\"#ed7953\"],[0.7777777777777778,\"#fb9f3a\"],[0.8888888888888888,\"#fdca26\"],[1.0,\"#f0f921\"]],\"type\":\"surface\"}],\"table\":[{\"cells\":{\"fill\":{\"color\":\"#EBF0F8\"},\"line\":{\"color\":\"white\"}},\"header\":{\"fill\":{\"color\":\"#C8D4E3\"},\"line\":{\"color\":\"white\"}},\"type\":\"table\"}]},\"layout\":{\"annotationdefaults\":{\"arrowcolor\":\"#2a3f5f\",\"arrowhead\":0,\"arrowwidth\":1},\"autotypenumbers\":\"strict\",\"coloraxis\":{\"colorbar\":{\"outlinewidth\":0,\"ticks\":\"\"}},\"colorscale\":{\"diverging\":[[0,\"#8e0152\"],[0.1,\"#c51b7d\"],[0.2,\"#de77ae\"],[0.3,\"#f1b6da\"],[0.4,\"#fde0ef\"],[0.5,\"#f7f7f7\"],[0.6,\"#e6f5d0\"],[0.7,\"#b8e186\"],[0.8,\"#7fbc41\"],[0.9,\"#4d9221\"],[1,\"#276419\"]],\"sequential\":[[0.0,\"#0d0887\"],[0.1111111111111111,\"#46039f\"],[0.2222222222222222,\"#7201a8\"],[0.3333333333333333,\"#9c179e\"],[0.4444444444444444,\"#bd3786\"],[0.5555555555555556,\"#d8576b\"],[0.6666666666666666,\"#ed7953\"],[0.7777777777777778,\"#fb9f3a\"],[0.8888888888888888,\"#fdca26\"],[1.0,\"#f0f921\"]],\"sequentialminus\":[[0.0,\"#0d0887\"],[0.1111111111111111,\"#46039f\"],[0.2222222222222222,\"#7201a8\"],[0.3333333333333333,\"#9c179e\"],[0.4444444444444444,\"#bd3786\"],[0.5555555555555556,\"#d8576b\"],[0.6666666666666666,\"#ed7953\"],[0.7777777777777778,\"#fb9f3a\"],[0.8888888888888888,\"#fdca26\"],[1.0,\"#f0f921\"]]},\"colorway\":[\"#636efa\",\"#EF553B\",\"#00cc96\",\"#ab63fa\",\"#FFA15A\",\"#19d3f3\",\"#FF6692\",\"#B6E880\",\"#FF97FF\",\"#FECB52\"],\"font\":{\"color\":\"#2a3f5f\"},\"geo\":{\"bgcolor\":\"white\",\"lakecolor\":\"white\",\"landcolor\":\"#E5ECF6\",\"showlakes\":true,\"showland\":true,\"subunitcolor\":\"white\"},\"hoverlabel\":{\"align\":\"left\"},\"hovermode\":\"closest\",\"mapbox\":{\"style\":\"light\"},\"paper_bgcolor\":\"white\",\"plot_bgcolor\":\"#E5ECF6\",\"polar\":{\"angularaxis\":{\"gridcolor\":\"white\",\"linecolor\":\"white\",\"ticks\":\"\"},\"bgcolor\":\"#E5ECF6\",\"radialaxis\":{\"gridcolor\":\"white\",\"linecolor\":\"white\",\"ticks\":\"\"}},\"scene\":{\"xaxis\":{\"backgroundcolor\":\"#E5ECF6\",\"gridcolor\":\"white\",\"gridwidth\":2,\"linecolor\":\"white\",\"showbackground\":true,\"ticks\":\"\",\"zerolinecolor\":\"white\"},\"yaxis\":{\"backgroundcolor\":\"#E5ECF6\",\"gridcolor\":\"white\",\"gridwidth\":2,\"linecolor\":\"white\",\"showbackground\":true,\"ticks\":\"\",\"zerolinecolor\":\"white\"},\"zaxis\":{\"backgroundcolor\":\"#E5ECF6\",\"gridcolor\":\"white\",\"gridwidth\":2,\"linecolor\":\"white\",\"showbackground\":true,\"ticks\":\"\",\"zerolinecolor\":\"white\"}},\"shapedefaults\":{\"line\":{\"color\":\"#2a3f5f\"}},\"ternary\":{\"aaxis\":{\"gridcolor\":\"white\",\"linecolor\":\"white\",\"ticks\":\"\"},\"baxis\":{\"gridcolor\":\"white\",\"linecolor\":\"white\",\"ticks\":\"\"},\"bgcolor\":\"#E5ECF6\",\"caxis\":{\"gridcolor\":\"white\",\"linecolor\":\"white\",\"ticks\":\"\"}},\"title\":{\"x\":0.05},\"xaxis\":{\"automargin\":true,\"gridcolor\":\"white\",\"linecolor\":\"white\",\"ticks\":\"\",\"title\":{\"standoff\":15},\"zerolinecolor\":\"white\",\"zerolinewidth\":2},\"yaxis\":{\"automargin\":true,\"gridcolor\":\"white\",\"linecolor\":\"white\",\"ticks\":\"\",\"title\":{\"standoff\":15},\"zerolinecolor\":\"white\",\"zerolinewidth\":2}}}},                        {\"responsive\": true}                    ).then(function(){\n",
              "                            \n",
              "var gd = document.getElementById('92c3dda0-0b03-406e-bfa0-e577596ec1fb');\n",
              "var x = new MutationObserver(function (mutations, observer) {{\n",
              "        var display = window.getComputedStyle(gd).display;\n",
              "        if (!display || display === 'none') {{\n",
              "            console.log([gd, 'removed!']);\n",
              "            Plotly.purge(gd);\n",
              "            observer.disconnect();\n",
              "        }}\n",
              "}});\n",
              "\n",
              "// Listen for the removal of the full notebook cells\n",
              "var notebookContainer = gd.closest('#notebook-container');\n",
              "if (notebookContainer) {{\n",
              "    x.observe(notebookContainer, {childList: true});\n",
              "}}\n",
              "\n",
              "// Listen for the clearing of the current output cell\n",
              "var outputEl = gd.closest('.output');\n",
              "if (outputEl) {{\n",
              "    x.observe(outputEl, {childList: true});\n",
              "}}\n",
              "\n",
              "                        })                };                            </script>        </div>\n",
              "</body>\n",
              "</html>"
            ]
          },
          "metadata": {}
        }
      ],
      "source": [
        "most_sold_prod = df_cleaned.groupby(['Description'])['Quantity'].sum().sort_values(ascending=False)[:10]\n",
        "\n",
        "data = [go.Bar(x=most_sold_prod.index, \n",
        "               y=most_sold_prod.values)]\n",
        "\n",
        "layout = go.Layout(title=\"TOP 10 most sold products\", title_x=0.5)\n",
        "\n",
        "fig = go.Figure(data=data, layout=layout)\n",
        "\n",
        "fig.show()"
      ]
    },
    {
      "cell_type": "code",
      "execution_count": 154,
      "metadata": {
        "execution": {
          "iopub.execute_input": "2020-12-10T18:53:36.150865Z",
          "iopub.status.busy": "2020-12-10T18:53:36.150118Z",
          "iopub.status.idle": "2020-12-10T18:53:37.370036Z",
          "shell.execute_reply": "2020-12-10T18:53:37.369216Z"
        },
        "papermill": {
          "duration": 1.564672,
          "end_time": "2020-12-10T18:53:37.370170",
          "exception": false,
          "start_time": "2020-12-10T18:53:35.805498",
          "status": "completed"
        },
        "tags": [],
        "id": "7TjzkSuUQahj",
        "outputId": "40947cee-74cb-4b8c-c720-9c090c03fa91",
        "colab": {
          "base_uri": "https://localhost:8080/",
          "height": 1000
        }
      },
      "outputs": [
        {
          "output_type": "display_data",
          "data": {
            "text/html": [
              "<html>\n",
              "<head><meta charset=\"utf-8\" /></head>\n",
              "<body>\n",
              "    <div>            <script src=\"https://cdnjs.cloudflare.com/ajax/libs/mathjax/2.7.5/MathJax.js?config=TeX-AMS-MML_SVG\"></script><script type=\"text/javascript\">if (window.MathJax) {MathJax.Hub.Config({SVG: {font: \"STIX-Web\"}});}</script>                <script type=\"text/javascript\">window.PlotlyConfig = {MathJaxConfig: 'local'};</script>\n",
              "        <script src=\"https://cdn.plot.ly/plotly-2.8.3.min.js\"></script>                <div id=\"cfd2a31e-707b-4b06-acb5-cd83ddc340d7\" class=\"plotly-graph-div\" style=\"height:1000px; width:1000px;\"></div>            <script type=\"text/javascript\">                                    window.PLOTLYENV=window.PLOTLYENV || {};                                    if (document.getElementById(\"cfd2a31e-707b-4b06-acb5-cd83ddc340d7\")) {                    Plotly.newPlot(                        \"cfd2a31e-707b-4b06-acb5-cd83ddc340d7\",                        [{\"x\":[\"December 2009\",\"January 2010\",\"February 2010\",\"March 2010\",\"April 2010\",\"May 2010\",\"June 2010\",\"July 2010\",\"August 2010\",\"September 2010\",\"October 2010\",\"November 2010\",\"December 2010\",\"January 2011\",\"February 2011\",\"March 2011\",\"April 2011\",\"May 2011\",\"June 2011\",\"July 2011\",\"August 2011\",\"September 2011\",\"October 2011\",\"November 2011\",\"December 2011\"],\"y\":[540.27,285.75,504.0,880.47,732.96,596.64,1043.6399999999999,568.02,953.49,1048.07,1261.9199999999998,1286.31,1150.47,385.43999999999994,795.17,915.3599999999999,2079.8399999999997,1221.6,533.76,968.6399999999999,654.2399999999999,985.6999999999999,918.1399999999999,1294.1999999999998,376.65],\"type\":\"scatter\",\"xaxis\":\"x\",\"yaxis\":\"y\"},{\"x\":[\"December 2011\"],\"y\":[0.0],\"type\":\"scatter\",\"xaxis\":\"x2\",\"yaxis\":\"y2\"},{\"x\":[\"January 2011\",\"May 2011\",\"June 2011\",\"July 2011\",\"August 2011\",\"September 2011\",\"October 2011\",\"November 2011\",\"December 2011\"],\"y\":[0.0,610.08,456.43,825.6899999999999,469.84000000000003,396.01,267.42,708.11,203.51],\"type\":\"scatter\",\"xaxis\":\"x3\",\"yaxis\":\"y3\"},{\"x\":[\"December 2009\",\"January 2010\",\"February 2010\",\"March 2010\",\"April 2010\",\"May 2010\",\"June 2010\",\"July 2010\",\"August 2010\",\"September 2010\",\"October 2010\",\"November 2010\",\"December 2010\",\"January 2011\",\"February 2011\",\"March 2011\",\"April 2011\",\"May 2011\",\"June 2011\",\"July 2011\",\"August 2011\",\"September 2011\",\"October 2011\",\"November 2011\",\"December 2011\"],\"y\":[11661.06,10898.45,7600.65,10109.37,8774.25,10463.1,8858.85,8858.9,9002.2,10587.05,9292.15,13216.06,8245.25,6747.9,4883.55,5221.45,4946.7,8630.2,3565.25,5408.97,4449.0,6019.1,4538.39,8163.83,1995.79],\"type\":\"scatter\",\"xaxis\":\"x4\",\"yaxis\":\"y4\"},{\"x\":[\"May 2010\",\"June 2010\",\"July 2010\",\"August 2010\",\"September 2010\",\"October 2010\",\"November 2010\",\"December 2010\",\"January 2011\",\"February 2011\",\"March 2011\",\"April 2011\",\"May 2011\",\"June 2011\",\"July 2011\",\"August 2011\",\"September 2011\",\"October 2011\",\"November 2011\",\"December 2011\"],\"y\":[2399.85,7365.45,6216.15,3043.35,11152.8,7560.75,9253.35,3586.35,4367.85,5187.45,6514.93,4134.62,6562.61,6510.280000000001,5650.7300000000005,9495.56,7956.02,7015.22,8024.83,1283.6000000000001],\"type\":\"scatter\",\"xaxis\":\"x5\",\"yaxis\":\"y5\"},{\"x\":[\"December 2009\",\"January 2010\",\"February 2010\",\"March 2010\",\"April 2010\",\"May 2010\",\"June 2010\",\"July 2010\",\"August 2010\",\"September 2010\",\"October 2010\",\"November 2010\",\"December 2010\",\"January 2011\",\"February 2011\",\"March 2011\",\"April 2011\",\"May 2011\",\"June 2011\",\"July 2011\",\"August 2011\",\"September 2011\",\"October 2011\",\"November 2011\",\"December 2011\"],\"y\":[6111.89,2352.67,2609.55,4896.84,4348.8099999999995,3454.08,2975.58,4853.75,4091.31,5728.41,6304.97,7417.93,3650.9,2704.19,2620.91,3989.5299999999997,3886.72,4975.55,2523.64,2979.47,4072.81,4814.24,4346.4,6453.55,1999.46],\"type\":\"scatter\",\"xaxis\":\"x6\",\"yaxis\":\"y6\"},{\"x\":[\"December 2009\",\"January 2010\",\"February 2010\",\"March 2010\",\"April 2010\",\"May 2010\",\"June 2010\",\"July 2010\",\"August 2010\",\"September 2010\",\"October 2010\",\"November 2010\",\"December 2010\",\"January 2011\",\"February 2011\",\"March 2011\",\"April 2011\",\"May 2011\",\"June 2011\",\"July 2011\",\"August 2011\",\"September 2011\",\"October 2011\",\"November 2011\",\"December 2011\"],\"y\":[919.73,1405.55,1679.83,1389.1000000000001,1538.9,1663.95,1549.46,1123.25,1604.63,1511.8,1602.25,1093.43,732.0500000000001,526.1,340.25,942.9000000000001,1042.85,692.8000000000001,387.99,633.65,673.6,1101.98,709.5,685.75,70.30000000000001],\"type\":\"scatter\",\"xaxis\":\"x7\",\"yaxis\":\"y7\"},{\"x\":[\"December 2009\",\"January 2010\",\"February 2010\",\"March 2010\",\"April 2010\",\"May 2010\",\"June 2010\",\"July 2010\",\"August 2010\",\"September 2010\",\"October 2010\",\"November 2010\",\"December 2010\",\"January 2011\",\"February 2011\",\"March 2011\",\"April 2011\",\"May 2011\",\"June 2011\",\"July 2011\",\"August 2011\",\"September 2011\",\"October 2011\",\"November 2011\",\"December 2011\"],\"y\":[558.4,1070.5,1169.65,1135.9,1325.5,1255.45,1482.2,896.25,1564.1,1370.25,1505.99,1395.6100000000001,778.25,357.65000000000003,703.9,1309.8,1157.39,624.5500000000001,755.6500000000001,1141.25,993.9000000000001,1066.73,684.5,729.88,120.20000000000002],\"type\":\"scatter\",\"xaxis\":\"x8\",\"yaxis\":\"y8\"},{\"x\":[\"December 2009\",\"January 2010\",\"February 2010\",\"March 2010\",\"April 2010\",\"May 2010\",\"June 2010\",\"July 2010\",\"August 2010\",\"September 2010\",\"October 2010\",\"November 2010\",\"December 2010\",\"January 2011\",\"February 2011\",\"March 2011\",\"April 2011\",\"May 2011\",\"June 2011\",\"July 2011\",\"August 2011\",\"September 2011\",\"October 2011\",\"November 2011\",\"December 2011\"],\"y\":[166.10999999999999,201.81,325.74,170.31,148.89000000000001,652.86,574.8,209.28,336.24,501.09000000000003,236.0,815.2199999999999,198.99,522.54,106.49,869.64,138.07999999999998,582.76,751.0699999999999,492.90999999999997,391.7,608.5500000000001,779.37,413.28000000000003,113.73],\"type\":\"scatter\",\"xaxis\":\"x9\",\"yaxis\":\"y9\"}],                        {\"template\":{\"data\":{\"bar\":[{\"error_x\":{\"color\":\"#2a3f5f\"},\"error_y\":{\"color\":\"#2a3f5f\"},\"marker\":{\"line\":{\"color\":\"#E5ECF6\",\"width\":0.5},\"pattern\":{\"fillmode\":\"overlay\",\"size\":10,\"solidity\":0.2}},\"type\":\"bar\"}],\"barpolar\":[{\"marker\":{\"line\":{\"color\":\"#E5ECF6\",\"width\":0.5},\"pattern\":{\"fillmode\":\"overlay\",\"size\":10,\"solidity\":0.2}},\"type\":\"barpolar\"}],\"carpet\":[{\"aaxis\":{\"endlinecolor\":\"#2a3f5f\",\"gridcolor\":\"white\",\"linecolor\":\"white\",\"minorgridcolor\":\"white\",\"startlinecolor\":\"#2a3f5f\"},\"baxis\":{\"endlinecolor\":\"#2a3f5f\",\"gridcolor\":\"white\",\"linecolor\":\"white\",\"minorgridcolor\":\"white\",\"startlinecolor\":\"#2a3f5f\"},\"type\":\"carpet\"}],\"choropleth\":[{\"colorbar\":{\"outlinewidth\":0,\"ticks\":\"\"},\"type\":\"choropleth\"}],\"contour\":[{\"colorbar\":{\"outlinewidth\":0,\"ticks\":\"\"},\"colorscale\":[[0.0,\"#0d0887\"],[0.1111111111111111,\"#46039f\"],[0.2222222222222222,\"#7201a8\"],[0.3333333333333333,\"#9c179e\"],[0.4444444444444444,\"#bd3786\"],[0.5555555555555556,\"#d8576b\"],[0.6666666666666666,\"#ed7953\"],[0.7777777777777778,\"#fb9f3a\"],[0.8888888888888888,\"#fdca26\"],[1.0,\"#f0f921\"]],\"type\":\"contour\"}],\"contourcarpet\":[{\"colorbar\":{\"outlinewidth\":0,\"ticks\":\"\"},\"type\":\"contourcarpet\"}],\"heatmap\":[{\"colorbar\":{\"outlinewidth\":0,\"ticks\":\"\"},\"colorscale\":[[0.0,\"#0d0887\"],[0.1111111111111111,\"#46039f\"],[0.2222222222222222,\"#7201a8\"],[0.3333333333333333,\"#9c179e\"],[0.4444444444444444,\"#bd3786\"],[0.5555555555555556,\"#d8576b\"],[0.6666666666666666,\"#ed7953\"],[0.7777777777777778,\"#fb9f3a\"],[0.8888888888888888,\"#fdca26\"],[1.0,\"#f0f921\"]],\"type\":\"heatmap\"}],\"heatmapgl\":[{\"colorbar\":{\"outlinewidth\":0,\"ticks\":\"\"},\"colorscale\":[[0.0,\"#0d0887\"],[0.1111111111111111,\"#46039f\"],[0.2222222222222222,\"#7201a8\"],[0.3333333333333333,\"#9c179e\"],[0.4444444444444444,\"#bd3786\"],[0.5555555555555556,\"#d8576b\"],[0.6666666666666666,\"#ed7953\"],[0.7777777777777778,\"#fb9f3a\"],[0.8888888888888888,\"#fdca26\"],[1.0,\"#f0f921\"]],\"type\":\"heatmapgl\"}],\"histogram\":[{\"marker\":{\"pattern\":{\"fillmode\":\"overlay\",\"size\":10,\"solidity\":0.2}},\"type\":\"histogram\"}],\"histogram2d\":[{\"colorbar\":{\"outlinewidth\":0,\"ticks\":\"\"},\"colorscale\":[[0.0,\"#0d0887\"],[0.1111111111111111,\"#46039f\"],[0.2222222222222222,\"#7201a8\"],[0.3333333333333333,\"#9c179e\"],[0.4444444444444444,\"#bd3786\"],[0.5555555555555556,\"#d8576b\"],[0.6666666666666666,\"#ed7953\"],[0.7777777777777778,\"#fb9f3a\"],[0.8888888888888888,\"#fdca26\"],[1.0,\"#f0f921\"]],\"type\":\"histogram2d\"}],\"histogram2dcontour\":[{\"colorbar\":{\"outlinewidth\":0,\"ticks\":\"\"},\"colorscale\":[[0.0,\"#0d0887\"],[0.1111111111111111,\"#46039f\"],[0.2222222222222222,\"#7201a8\"],[0.3333333333333333,\"#9c179e\"],[0.4444444444444444,\"#bd3786\"],[0.5555555555555556,\"#d8576b\"],[0.6666666666666666,\"#ed7953\"],[0.7777777777777778,\"#fb9f3a\"],[0.8888888888888888,\"#fdca26\"],[1.0,\"#f0f921\"]],\"type\":\"histogram2dcontour\"}],\"mesh3d\":[{\"colorbar\":{\"outlinewidth\":0,\"ticks\":\"\"},\"type\":\"mesh3d\"}],\"parcoords\":[{\"line\":{\"colorbar\":{\"outlinewidth\":0,\"ticks\":\"\"}},\"type\":\"parcoords\"}],\"pie\":[{\"automargin\":true,\"type\":\"pie\"}],\"scatter\":[{\"marker\":{\"colorbar\":{\"outlinewidth\":0,\"ticks\":\"\"}},\"type\":\"scatter\"}],\"scatter3d\":[{\"line\":{\"colorbar\":{\"outlinewidth\":0,\"ticks\":\"\"}},\"marker\":{\"colorbar\":{\"outlinewidth\":0,\"ticks\":\"\"}},\"type\":\"scatter3d\"}],\"scattercarpet\":[{\"marker\":{\"colorbar\":{\"outlinewidth\":0,\"ticks\":\"\"}},\"type\":\"scattercarpet\"}],\"scattergeo\":[{\"marker\":{\"colorbar\":{\"outlinewidth\":0,\"ticks\":\"\"}},\"type\":\"scattergeo\"}],\"scattergl\":[{\"marker\":{\"colorbar\":{\"outlinewidth\":0,\"ticks\":\"\"}},\"type\":\"scattergl\"}],\"scattermapbox\":[{\"marker\":{\"colorbar\":{\"outlinewidth\":0,\"ticks\":\"\"}},\"type\":\"scattermapbox\"}],\"scatterpolar\":[{\"marker\":{\"colorbar\":{\"outlinewidth\":0,\"ticks\":\"\"}},\"type\":\"scatterpolar\"}],\"scatterpolargl\":[{\"marker\":{\"colorbar\":{\"outlinewidth\":0,\"ticks\":\"\"}},\"type\":\"scatterpolargl\"}],\"scatterternary\":[{\"marker\":{\"colorbar\":{\"outlinewidth\":0,\"ticks\":\"\"}},\"type\":\"scatterternary\"}],\"surface\":[{\"colorbar\":{\"outlinewidth\":0,\"ticks\":\"\"},\"colorscale\":[[0.0,\"#0d0887\"],[0.1111111111111111,\"#46039f\"],[0.2222222222222222,\"#7201a8\"],[0.3333333333333333,\"#9c179e\"],[0.4444444444444444,\"#bd3786\"],[0.5555555555555556,\"#d8576b\"],[0.6666666666666666,\"#ed7953\"],[0.7777777777777778,\"#fb9f3a\"],[0.8888888888888888,\"#fdca26\"],[1.0,\"#f0f921\"]],\"type\":\"surface\"}],\"table\":[{\"cells\":{\"fill\":{\"color\":\"#EBF0F8\"},\"line\":{\"color\":\"white\"}},\"header\":{\"fill\":{\"color\":\"#C8D4E3\"},\"line\":{\"color\":\"white\"}},\"type\":\"table\"}]},\"layout\":{\"annotationdefaults\":{\"arrowcolor\":\"#2a3f5f\",\"arrowhead\":0,\"arrowwidth\":1},\"autotypenumbers\":\"strict\",\"coloraxis\":{\"colorbar\":{\"outlinewidth\":0,\"ticks\":\"\"}},\"colorscale\":{\"diverging\":[[0,\"#8e0152\"],[0.1,\"#c51b7d\"],[0.2,\"#de77ae\"],[0.3,\"#f1b6da\"],[0.4,\"#fde0ef\"],[0.5,\"#f7f7f7\"],[0.6,\"#e6f5d0\"],[0.7,\"#b8e186\"],[0.8,\"#7fbc41\"],[0.9,\"#4d9221\"],[1,\"#276419\"]],\"sequential\":[[0.0,\"#0d0887\"],[0.1111111111111111,\"#46039f\"],[0.2222222222222222,\"#7201a8\"],[0.3333333333333333,\"#9c179e\"],[0.4444444444444444,\"#bd3786\"],[0.5555555555555556,\"#d8576b\"],[0.6666666666666666,\"#ed7953\"],[0.7777777777777778,\"#fb9f3a\"],[0.8888888888888888,\"#fdca26\"],[1.0,\"#f0f921\"]],\"sequentialminus\":[[0.0,\"#0d0887\"],[0.1111111111111111,\"#46039f\"],[0.2222222222222222,\"#7201a8\"],[0.3333333333333333,\"#9c179e\"],[0.4444444444444444,\"#bd3786\"],[0.5555555555555556,\"#d8576b\"],[0.6666666666666666,\"#ed7953\"],[0.7777777777777778,\"#fb9f3a\"],[0.8888888888888888,\"#fdca26\"],[1.0,\"#f0f921\"]]},\"colorway\":[\"#636efa\",\"#EF553B\",\"#00cc96\",\"#ab63fa\",\"#FFA15A\",\"#19d3f3\",\"#FF6692\",\"#B6E880\",\"#FF97FF\",\"#FECB52\"],\"font\":{\"color\":\"#2a3f5f\"},\"geo\":{\"bgcolor\":\"white\",\"lakecolor\":\"white\",\"landcolor\":\"#E5ECF6\",\"showlakes\":true,\"showland\":true,\"subunitcolor\":\"white\"},\"hoverlabel\":{\"align\":\"left\"},\"hovermode\":\"closest\",\"mapbox\":{\"style\":\"light\"},\"paper_bgcolor\":\"white\",\"plot_bgcolor\":\"#E5ECF6\",\"polar\":{\"angularaxis\":{\"gridcolor\":\"white\",\"linecolor\":\"white\",\"ticks\":\"\"},\"bgcolor\":\"#E5ECF6\",\"radialaxis\":{\"gridcolor\":\"white\",\"linecolor\":\"white\",\"ticks\":\"\"}},\"scene\":{\"xaxis\":{\"backgroundcolor\":\"#E5ECF6\",\"gridcolor\":\"white\",\"gridwidth\":2,\"linecolor\":\"white\",\"showbackground\":true,\"ticks\":\"\",\"zerolinecolor\":\"white\"},\"yaxis\":{\"backgroundcolor\":\"#E5ECF6\",\"gridcolor\":\"white\",\"gridwidth\":2,\"linecolor\":\"white\",\"showbackground\":true,\"ticks\":\"\",\"zerolinecolor\":\"white\"},\"zaxis\":{\"backgroundcolor\":\"#E5ECF6\",\"gridcolor\":\"white\",\"gridwidth\":2,\"linecolor\":\"white\",\"showbackground\":true,\"ticks\":\"\",\"zerolinecolor\":\"white\"}},\"shapedefaults\":{\"line\":{\"color\":\"#2a3f5f\"}},\"ternary\":{\"aaxis\":{\"gridcolor\":\"white\",\"linecolor\":\"white\",\"ticks\":\"\"},\"baxis\":{\"gridcolor\":\"white\",\"linecolor\":\"white\",\"ticks\":\"\"},\"bgcolor\":\"#E5ECF6\",\"caxis\":{\"gridcolor\":\"white\",\"linecolor\":\"white\",\"ticks\":\"\"}},\"title\":{\"x\":0.05},\"xaxis\":{\"automargin\":true,\"gridcolor\":\"white\",\"linecolor\":\"white\",\"ticks\":\"\",\"title\":{\"standoff\":15},\"zerolinecolor\":\"white\",\"zerolinewidth\":2},\"yaxis\":{\"automargin\":true,\"gridcolor\":\"white\",\"linecolor\":\"white\",\"ticks\":\"\",\"title\":{\"standoff\":15},\"zerolinecolor\":\"white\",\"zerolinewidth\":2}}},\"xaxis\":{\"anchor\":\"y\",\"domain\":[0.0,0.2888888888888889]},\"yaxis\":{\"anchor\":\"x\",\"domain\":[0.7933333333333333,1.0]},\"xaxis2\":{\"anchor\":\"y2\",\"domain\":[0.35555555555555557,0.6444444444444445]},\"yaxis2\":{\"anchor\":\"x2\",\"domain\":[0.7933333333333333,1.0]},\"xaxis3\":{\"anchor\":\"y3\",\"domain\":[0.7111111111111111,1.0]},\"yaxis3\":{\"anchor\":\"x3\",\"domain\":[0.7933333333333333,1.0]},\"xaxis4\":{\"anchor\":\"y4\",\"domain\":[0.0,0.2888888888888889]},\"yaxis4\":{\"anchor\":\"x4\",\"domain\":[0.39666666666666667,0.6033333333333333]},\"xaxis5\":{\"anchor\":\"y5\",\"domain\":[0.35555555555555557,0.6444444444444445]},\"yaxis5\":{\"anchor\":\"x5\",\"domain\":[0.39666666666666667,0.6033333333333333]},\"xaxis6\":{\"anchor\":\"y6\",\"domain\":[0.7111111111111111,1.0]},\"yaxis6\":{\"anchor\":\"x6\",\"domain\":[0.39666666666666667,0.6033333333333333]},\"xaxis7\":{\"anchor\":\"y7\",\"domain\":[0.0,0.2888888888888889]},\"yaxis7\":{\"anchor\":\"x7\",\"domain\":[0.0,0.20666666666666667]},\"xaxis8\":{\"anchor\":\"y8\",\"domain\":[0.35555555555555557,0.6444444444444445]},\"yaxis8\":{\"anchor\":\"x8\",\"domain\":[0.0,0.20666666666666667]},\"xaxis9\":{\"anchor\":\"y9\",\"domain\":[0.7111111111111111,1.0]},\"yaxis9\":{\"anchor\":\"x9\",\"domain\":[0.0,0.20666666666666667]},\"annotations\":[{\"font\":{\"color\":\"#ff0000\",\"size\":10},\"showarrow\":false,\"text\":\"WORLD WAR 2 GLIDERS ASSTD DESIGNS\",\"x\":0.14444444444444446,\"xanchor\":\"center\",\"xref\":\"paper\",\"y\":1.0,\"yanchor\":\"bottom\",\"yref\":\"paper\"},{\"font\":{\"color\":\"#ff0000\",\"size\":10},\"showarrow\":false,\"text\":\"PAPER CRAFT , LITTLE BIRDIE\",\"x\":0.5,\"xanchor\":\"center\",\"xref\":\"paper\",\"y\":1.0,\"yanchor\":\"bottom\",\"yref\":\"paper\"},{\"font\":{\"color\":\"#ff0000\",\"size\":10},\"showarrow\":false,\"text\":\"MEDIUM CERAMIC TOP STORAGE JAR\",\"x\":0.8555555555555556,\"xanchor\":\"center\",\"xref\":\"paper\",\"y\":1.0,\"yanchor\":\"bottom\",\"yref\":\"paper\"},{\"font\":{\"color\":\"#ff0000\",\"size\":10},\"showarrow\":false,\"text\":\"WHITE HANGING HEART T-LIGHT HOLDER\",\"x\":0.14444444444444446,\"xanchor\":\"center\",\"xref\":\"paper\",\"y\":0.6033333333333333,\"yanchor\":\"bottom\",\"yref\":\"paper\"},{\"font\":{\"color\":\"#ff0000\",\"size\":10},\"showarrow\":false,\"text\":\"JUMBO BAG RED RETROSPOT\",\"x\":0.5,\"xanchor\":\"center\",\"xref\":\"paper\",\"y\":0.6033333333333333,\"yanchor\":\"bottom\",\"yref\":\"paper\"},{\"font\":{\"color\":\"#ff0000\",\"size\":10},\"showarrow\":false,\"text\":\"ASSORTED COLOUR BIRD ORNAMENT\",\"x\":0.8555555555555556,\"xanchor\":\"center\",\"xref\":\"paper\",\"y\":0.6033333333333333,\"yanchor\":\"bottom\",\"yref\":\"paper\"},{\"font\":{\"color\":\"#ff0000\",\"size\":10},\"showarrow\":false,\"text\":\"60 TEATIME FAIRY CAKE CASES\",\"x\":0.14444444444444446,\"xanchor\":\"center\",\"xref\":\"paper\",\"y\":0.20666666666666667,\"yanchor\":\"bottom\",\"yref\":\"paper\"},{\"font\":{\"color\":\"#ff0000\",\"size\":10},\"showarrow\":false,\"text\":\"PACK OF 60 PINK PAISLEY CAKE CASES\",\"x\":0.5,\"xanchor\":\"center\",\"xref\":\"paper\",\"y\":0.20666666666666667,\"yanchor\":\"bottom\",\"yref\":\"paper\"},{\"font\":{\"color\":\"#ff0000\",\"size\":10},\"showarrow\":false,\"text\":\"BROCADE RING PURSE \",\"x\":0.8555555555555556,\"xanchor\":\"center\",\"xref\":\"paper\",\"y\":0.20666666666666667,\"yanchor\":\"bottom\",\"yref\":\"paper\"}],\"title\":{\"text\":\"Best products monthly sales\",\"x\":0.5},\"height\":1000,\"width\":1000},                        {\"responsive\": true}                    ).then(function(){\n",
              "                            \n",
              "var gd = document.getElementById('cfd2a31e-707b-4b06-acb5-cd83ddc340d7');\n",
              "var x = new MutationObserver(function (mutations, observer) {{\n",
              "        var display = window.getComputedStyle(gd).display;\n",
              "        if (!display || display === 'none') {{\n",
              "            console.log([gd, 'removed!']);\n",
              "            Plotly.purge(gd);\n",
              "            observer.disconnect();\n",
              "        }}\n",
              "}});\n",
              "\n",
              "// Listen for the removal of the full notebook cells\n",
              "var notebookContainer = gd.closest('#notebook-container');\n",
              "if (notebookContainer) {{\n",
              "    x.observe(notebookContainer, {childList: true});\n",
              "}}\n",
              "\n",
              "// Listen for the clearing of the current output cell\n",
              "var outputEl = gd.closest('.output');\n",
              "if (outputEl) {{\n",
              "    x.observe(outputEl, {childList: true});\n",
              "}}\n",
              "\n",
              "                        })                };                            </script>        </div>\n",
              "</body>\n",
              "</html>"
            ]
          },
          "metadata": {}
        }
      ],
      "source": [
        "i = 1\n",
        "j = 1\n",
        "data = []\n",
        "prod_names= []\n",
        "for product in most_sold_prod.index[0:9]:\n",
        "    df_product = df_cleaned[df_cleaned['Description']==product]\n",
        "    df_product_grouped = df_product.groupby('MonthYear').agg(custom_aggregation).sort_values(by='InvoiceDate')\n",
        "    \n",
        "    data.append(go.Scatter(x=df_product_grouped.index, \n",
        "                   y=df_product_grouped['TotalPrice']))\n",
        "    prod_names.append(product)\n",
        "    \n",
        "fig = make_subplots(rows=3, cols=3, vertical_spacing=0.19, subplot_titles=(prod_names[0], prod_names[1], prod_names[2], prod_names[3], prod_names[4], prod_names[5], \n",
        "                                  prod_names[6], prod_names[7], prod_names[8]))    \n",
        "    \n",
        "k = 0\n",
        "for i in range(1,4):\n",
        "    for j in range(1,4):\n",
        "        fig.add_trace(data[k], row=i, col=j)\n",
        "        k+=1\n",
        "\n",
        "\n",
        "fig.update_layout(height=1000, width=1000, title_text=\"Best products monthly sales\", title_x=0.5\n",
        "                  )\n",
        "for i in fig['layout']['annotations']:\n",
        "    i['font'] = dict(size=10,color='#ff0000')\n",
        "fig.show()"
      ]
    },
    {
      "cell_type": "markdown",
      "metadata": {
        "papermill": {
          "duration": 0.206502,
          "end_time": "2020-12-10T18:53:37.784252",
          "exception": false,
          "start_time": "2020-12-10T18:53:37.577750",
          "status": "completed"
        },
        "tags": [],
        "id": "k6P_dRhSQahp"
      },
      "source": [
        "<br><br>\n",
        "<div class=\"alert alert-block alert-info\" style=\"font-size:15px; font-family:verdana; line-height: 1.7em\">\n",
        "    <b> This graph would be much more interesting if I could do it in Dash since we could select whatever product we're interested into and see its sells through the year. I'll incorporate it in my future dashboard. The main information we can drive from this graph is that we shouldn't keep the following products in the database \"Paper craft\" and \"Storage Jar\" since there are so much canceled ordrers. </b><br><br>\n",
        "</div>"
      ]
    },
    {
      "cell_type": "code",
      "execution_count": 155,
      "metadata": {
        "execution": {
          "iopub.execute_input": "2020-12-10T18:53:38.226918Z",
          "iopub.status.busy": "2020-12-10T18:53:38.226143Z",
          "iopub.status.idle": "2020-12-10T18:53:38.292802Z",
          "shell.execute_reply": "2020-12-10T18:53:38.292156Z"
        },
        "papermill": {
          "duration": 0.298252,
          "end_time": "2020-12-10T18:53:38.292923",
          "exception": false,
          "start_time": "2020-12-10T18:53:37.994671",
          "status": "completed"
        },
        "tags": [],
        "id": "lyuNgW9PQahq"
      },
      "outputs": [],
      "source": [
        "prod_categories = df_cleaned.groupby('Labels')['TotalPrice'].sum()"
      ]
    },
    {
      "cell_type": "code",
      "execution_count": 156,
      "metadata": {
        "execution": {
          "iopub.execute_input": "2020-12-10T18:53:38.750950Z",
          "iopub.status.busy": "2020-12-10T18:53:38.750242Z",
          "iopub.status.idle": "2020-12-10T18:53:38.770918Z",
          "shell.execute_reply": "2020-12-10T18:53:38.770364Z"
        },
        "papermill": {
          "duration": 0.267809,
          "end_time": "2020-12-10T18:53:38.771047",
          "exception": false,
          "start_time": "2020-12-10T18:53:38.503238",
          "status": "completed"
        },
        "tags": [],
        "id": "-jPeYGBnQahq",
        "outputId": "3d1502c0-4c27-476f-cdfc-d2327c750918",
        "colab": {
          "base_uri": "https://localhost:8080/",
          "height": 542
        }
      },
      "outputs": [
        {
          "output_type": "display_data",
          "data": {
            "text/html": [
              "<html>\n",
              "<head><meta charset=\"utf-8\" /></head>\n",
              "<body>\n",
              "    <div>            <script src=\"https://cdnjs.cloudflare.com/ajax/libs/mathjax/2.7.5/MathJax.js?config=TeX-AMS-MML_SVG\"></script><script type=\"text/javascript\">if (window.MathJax) {MathJax.Hub.Config({SVG: {font: \"STIX-Web\"}});}</script>                <script type=\"text/javascript\">window.PlotlyConfig = {MathJaxConfig: 'local'};</script>\n",
              "        <script src=\"https://cdn.plot.ly/plotly-2.8.3.min.js\"></script>                <div id=\"3de6a2f6-4b8e-4eb9-854f-e6b7cb920f99\" class=\"plotly-graph-div\" style=\"height:525px; width:100%;\"></div>            <script type=\"text/javascript\">                                    window.PLOTLYENV=window.PLOTLYENV || {};                                    if (document.getElementById(\"3de6a2f6-4b8e-4eb9-854f-e6b7cb920f99\")) {                    Plotly.newPlot(                        \"3de6a2f6-4b8e-4eb9-854f-e6b7cb920f99\",                        [{\"labels\":[\"Gifts\",\"Home Decoration\",\"Other\",\"Party\",\"Tableware\"],\"values\":[42860.7,286854.36,14369810.47,214699.6,143588.41],\"type\":\"pie\"}],                        {\"title\":{\"text\":\"Total sales through product categories\",\"x\":0.5},\"template\":{\"data\":{\"bar\":[{\"error_x\":{\"color\":\"#2a3f5f\"},\"error_y\":{\"color\":\"#2a3f5f\"},\"marker\":{\"line\":{\"color\":\"#E5ECF6\",\"width\":0.5},\"pattern\":{\"fillmode\":\"overlay\",\"size\":10,\"solidity\":0.2}},\"type\":\"bar\"}],\"barpolar\":[{\"marker\":{\"line\":{\"color\":\"#E5ECF6\",\"width\":0.5},\"pattern\":{\"fillmode\":\"overlay\",\"size\":10,\"solidity\":0.2}},\"type\":\"barpolar\"}],\"carpet\":[{\"aaxis\":{\"endlinecolor\":\"#2a3f5f\",\"gridcolor\":\"white\",\"linecolor\":\"white\",\"minorgridcolor\":\"white\",\"startlinecolor\":\"#2a3f5f\"},\"baxis\":{\"endlinecolor\":\"#2a3f5f\",\"gridcolor\":\"white\",\"linecolor\":\"white\",\"minorgridcolor\":\"white\",\"startlinecolor\":\"#2a3f5f\"},\"type\":\"carpet\"}],\"choropleth\":[{\"colorbar\":{\"outlinewidth\":0,\"ticks\":\"\"},\"type\":\"choropleth\"}],\"contour\":[{\"colorbar\":{\"outlinewidth\":0,\"ticks\":\"\"},\"colorscale\":[[0.0,\"#0d0887\"],[0.1111111111111111,\"#46039f\"],[0.2222222222222222,\"#7201a8\"],[0.3333333333333333,\"#9c179e\"],[0.4444444444444444,\"#bd3786\"],[0.5555555555555556,\"#d8576b\"],[0.6666666666666666,\"#ed7953\"],[0.7777777777777778,\"#fb9f3a\"],[0.8888888888888888,\"#fdca26\"],[1.0,\"#f0f921\"]],\"type\":\"contour\"}],\"contourcarpet\":[{\"colorbar\":{\"outlinewidth\":0,\"ticks\":\"\"},\"type\":\"contourcarpet\"}],\"heatmap\":[{\"colorbar\":{\"outlinewidth\":0,\"ticks\":\"\"},\"colorscale\":[[0.0,\"#0d0887\"],[0.1111111111111111,\"#46039f\"],[0.2222222222222222,\"#7201a8\"],[0.3333333333333333,\"#9c179e\"],[0.4444444444444444,\"#bd3786\"],[0.5555555555555556,\"#d8576b\"],[0.6666666666666666,\"#ed7953\"],[0.7777777777777778,\"#fb9f3a\"],[0.8888888888888888,\"#fdca26\"],[1.0,\"#f0f921\"]],\"type\":\"heatmap\"}],\"heatmapgl\":[{\"colorbar\":{\"outlinewidth\":0,\"ticks\":\"\"},\"colorscale\":[[0.0,\"#0d0887\"],[0.1111111111111111,\"#46039f\"],[0.2222222222222222,\"#7201a8\"],[0.3333333333333333,\"#9c179e\"],[0.4444444444444444,\"#bd3786\"],[0.5555555555555556,\"#d8576b\"],[0.6666666666666666,\"#ed7953\"],[0.7777777777777778,\"#fb9f3a\"],[0.8888888888888888,\"#fdca26\"],[1.0,\"#f0f921\"]],\"type\":\"heatmapgl\"}],\"histogram\":[{\"marker\":{\"pattern\":{\"fillmode\":\"overlay\",\"size\":10,\"solidity\":0.2}},\"type\":\"histogram\"}],\"histogram2d\":[{\"colorbar\":{\"outlinewidth\":0,\"ticks\":\"\"},\"colorscale\":[[0.0,\"#0d0887\"],[0.1111111111111111,\"#46039f\"],[0.2222222222222222,\"#7201a8\"],[0.3333333333333333,\"#9c179e\"],[0.4444444444444444,\"#bd3786\"],[0.5555555555555556,\"#d8576b\"],[0.6666666666666666,\"#ed7953\"],[0.7777777777777778,\"#fb9f3a\"],[0.8888888888888888,\"#fdca26\"],[1.0,\"#f0f921\"]],\"type\":\"histogram2d\"}],\"histogram2dcontour\":[{\"colorbar\":{\"outlinewidth\":0,\"ticks\":\"\"},\"colorscale\":[[0.0,\"#0d0887\"],[0.1111111111111111,\"#46039f\"],[0.2222222222222222,\"#7201a8\"],[0.3333333333333333,\"#9c179e\"],[0.4444444444444444,\"#bd3786\"],[0.5555555555555556,\"#d8576b\"],[0.6666666666666666,\"#ed7953\"],[0.7777777777777778,\"#fb9f3a\"],[0.8888888888888888,\"#fdca26\"],[1.0,\"#f0f921\"]],\"type\":\"histogram2dcontour\"}],\"mesh3d\":[{\"colorbar\":{\"outlinewidth\":0,\"ticks\":\"\"},\"type\":\"mesh3d\"}],\"parcoords\":[{\"line\":{\"colorbar\":{\"outlinewidth\":0,\"ticks\":\"\"}},\"type\":\"parcoords\"}],\"pie\":[{\"automargin\":true,\"type\":\"pie\"}],\"scatter\":[{\"marker\":{\"colorbar\":{\"outlinewidth\":0,\"ticks\":\"\"}},\"type\":\"scatter\"}],\"scatter3d\":[{\"line\":{\"colorbar\":{\"outlinewidth\":0,\"ticks\":\"\"}},\"marker\":{\"colorbar\":{\"outlinewidth\":0,\"ticks\":\"\"}},\"type\":\"scatter3d\"}],\"scattercarpet\":[{\"marker\":{\"colorbar\":{\"outlinewidth\":0,\"ticks\":\"\"}},\"type\":\"scattercarpet\"}],\"scattergeo\":[{\"marker\":{\"colorbar\":{\"outlinewidth\":0,\"ticks\":\"\"}},\"type\":\"scattergeo\"}],\"scattergl\":[{\"marker\":{\"colorbar\":{\"outlinewidth\":0,\"ticks\":\"\"}},\"type\":\"scattergl\"}],\"scattermapbox\":[{\"marker\":{\"colorbar\":{\"outlinewidth\":0,\"ticks\":\"\"}},\"type\":\"scattermapbox\"}],\"scatterpolar\":[{\"marker\":{\"colorbar\":{\"outlinewidth\":0,\"ticks\":\"\"}},\"type\":\"scatterpolar\"}],\"scatterpolargl\":[{\"marker\":{\"colorbar\":{\"outlinewidth\":0,\"ticks\":\"\"}},\"type\":\"scatterpolargl\"}],\"scatterternary\":[{\"marker\":{\"colorbar\":{\"outlinewidth\":0,\"ticks\":\"\"}},\"type\":\"scatterternary\"}],\"surface\":[{\"colorbar\":{\"outlinewidth\":0,\"ticks\":\"\"},\"colorscale\":[[0.0,\"#0d0887\"],[0.1111111111111111,\"#46039f\"],[0.2222222222222222,\"#7201a8\"],[0.3333333333333333,\"#9c179e\"],[0.4444444444444444,\"#bd3786\"],[0.5555555555555556,\"#d8576b\"],[0.6666666666666666,\"#ed7953\"],[0.7777777777777778,\"#fb9f3a\"],[0.8888888888888888,\"#fdca26\"],[1.0,\"#f0f921\"]],\"type\":\"surface\"}],\"table\":[{\"cells\":{\"fill\":{\"color\":\"#EBF0F8\"},\"line\":{\"color\":\"white\"}},\"header\":{\"fill\":{\"color\":\"#C8D4E3\"},\"line\":{\"color\":\"white\"}},\"type\":\"table\"}]},\"layout\":{\"annotationdefaults\":{\"arrowcolor\":\"#2a3f5f\",\"arrowhead\":0,\"arrowwidth\":1},\"autotypenumbers\":\"strict\",\"coloraxis\":{\"colorbar\":{\"outlinewidth\":0,\"ticks\":\"\"}},\"colorscale\":{\"diverging\":[[0,\"#8e0152\"],[0.1,\"#c51b7d\"],[0.2,\"#de77ae\"],[0.3,\"#f1b6da\"],[0.4,\"#fde0ef\"],[0.5,\"#f7f7f7\"],[0.6,\"#e6f5d0\"],[0.7,\"#b8e186\"],[0.8,\"#7fbc41\"],[0.9,\"#4d9221\"],[1,\"#276419\"]],\"sequential\":[[0.0,\"#0d0887\"],[0.1111111111111111,\"#46039f\"],[0.2222222222222222,\"#7201a8\"],[0.3333333333333333,\"#9c179e\"],[0.4444444444444444,\"#bd3786\"],[0.5555555555555556,\"#d8576b\"],[0.6666666666666666,\"#ed7953\"],[0.7777777777777778,\"#fb9f3a\"],[0.8888888888888888,\"#fdca26\"],[1.0,\"#f0f921\"]],\"sequentialminus\":[[0.0,\"#0d0887\"],[0.1111111111111111,\"#46039f\"],[0.2222222222222222,\"#7201a8\"],[0.3333333333333333,\"#9c179e\"],[0.4444444444444444,\"#bd3786\"],[0.5555555555555556,\"#d8576b\"],[0.6666666666666666,\"#ed7953\"],[0.7777777777777778,\"#fb9f3a\"],[0.8888888888888888,\"#fdca26\"],[1.0,\"#f0f921\"]]},\"colorway\":[\"#636efa\",\"#EF553B\",\"#00cc96\",\"#ab63fa\",\"#FFA15A\",\"#19d3f3\",\"#FF6692\",\"#B6E880\",\"#FF97FF\",\"#FECB52\"],\"font\":{\"color\":\"#2a3f5f\"},\"geo\":{\"bgcolor\":\"white\",\"lakecolor\":\"white\",\"landcolor\":\"#E5ECF6\",\"showlakes\":true,\"showland\":true,\"subunitcolor\":\"white\"},\"hoverlabel\":{\"align\":\"left\"},\"hovermode\":\"closest\",\"mapbox\":{\"style\":\"light\"},\"paper_bgcolor\":\"white\",\"plot_bgcolor\":\"#E5ECF6\",\"polar\":{\"angularaxis\":{\"gridcolor\":\"white\",\"linecolor\":\"white\",\"ticks\":\"\"},\"bgcolor\":\"#E5ECF6\",\"radialaxis\":{\"gridcolor\":\"white\",\"linecolor\":\"white\",\"ticks\":\"\"}},\"scene\":{\"xaxis\":{\"backgroundcolor\":\"#E5ECF6\",\"gridcolor\":\"white\",\"gridwidth\":2,\"linecolor\":\"white\",\"showbackground\":true,\"ticks\":\"\",\"zerolinecolor\":\"white\"},\"yaxis\":{\"backgroundcolor\":\"#E5ECF6\",\"gridcolor\":\"white\",\"gridwidth\":2,\"linecolor\":\"white\",\"showbackground\":true,\"ticks\":\"\",\"zerolinecolor\":\"white\"},\"zaxis\":{\"backgroundcolor\":\"#E5ECF6\",\"gridcolor\":\"white\",\"gridwidth\":2,\"linecolor\":\"white\",\"showbackground\":true,\"ticks\":\"\",\"zerolinecolor\":\"white\"}},\"shapedefaults\":{\"line\":{\"color\":\"#2a3f5f\"}},\"ternary\":{\"aaxis\":{\"gridcolor\":\"white\",\"linecolor\":\"white\",\"ticks\":\"\"},\"baxis\":{\"gridcolor\":\"white\",\"linecolor\":\"white\",\"ticks\":\"\"},\"bgcolor\":\"#E5ECF6\",\"caxis\":{\"gridcolor\":\"white\",\"linecolor\":\"white\",\"ticks\":\"\"}},\"title\":{\"x\":0.05},\"xaxis\":{\"automargin\":true,\"gridcolor\":\"white\",\"linecolor\":\"white\",\"ticks\":\"\",\"title\":{\"standoff\":15},\"zerolinecolor\":\"white\",\"zerolinewidth\":2},\"yaxis\":{\"automargin\":true,\"gridcolor\":\"white\",\"linecolor\":\"white\",\"ticks\":\"\",\"title\":{\"standoff\":15},\"zerolinecolor\":\"white\",\"zerolinewidth\":2}}}},                        {\"responsive\": true}                    ).then(function(){\n",
              "                            \n",
              "var gd = document.getElementById('3de6a2f6-4b8e-4eb9-854f-e6b7cb920f99');\n",
              "var x = new MutationObserver(function (mutations, observer) {{\n",
              "        var display = window.getComputedStyle(gd).display;\n",
              "        if (!display || display === 'none') {{\n",
              "            console.log([gd, 'removed!']);\n",
              "            Plotly.purge(gd);\n",
              "            observer.disconnect();\n",
              "        }}\n",
              "}});\n",
              "\n",
              "// Listen for the removal of the full notebook cells\n",
              "var notebookContainer = gd.closest('#notebook-container');\n",
              "if (notebookContainer) {{\n",
              "    x.observe(notebookContainer, {childList: true});\n",
              "}}\n",
              "\n",
              "// Listen for the clearing of the current output cell\n",
              "var outputEl = gd.closest('.output');\n",
              "if (outputEl) {{\n",
              "    x.observe(outputEl, {childList: true});\n",
              "}}\n",
              "\n",
              "                        })                };                            </script>        </div>\n",
              "</body>\n",
              "</html>"
            ]
          },
          "metadata": {}
        }
      ],
      "source": [
        "data = [go.Pie(labels=prod_categories.index, \n",
        "                   values=prod_categories.values)]\n",
        "\n",
        "layout = go.Layout(title=\"Total sales through product categories\", title_x=0.5)\n",
        "\n",
        "fig = go.Figure(data=data, layout=layout)\n",
        "\n",
        "fig.show()"
      ]
    },
    {
      "cell_type": "markdown",
      "metadata": {
        "papermill": {
          "duration": 0.208855,
          "end_time": "2020-12-10T18:53:39.189229",
          "exception": false,
          "start_time": "2020-12-10T18:53:38.980374",
          "status": "completed"
        },
        "tags": [],
        "id": "yub0uthMQahq"
      },
      "source": [
        "<br><br>\n",
        "<div class=\"alert alert-block alert-info\" style=\"font-size:15px; font-family:verdana; line-height: 1.7em\">\n",
        "    <b> The work done on product categories doesn't seem to be very representative of the real sells, I'll rework this part in a new version. </b><br><br>\n",
        "</div>"
      ]
    },
    {
      "cell_type": "markdown",
      "metadata": {
        "papermill": {
          "duration": 0.20712,
          "end_time": "2020-12-10T18:53:39.631365",
          "exception": false,
          "start_time": "2020-12-10T18:53:39.424245",
          "status": "completed"
        },
        "tags": [],
        "id": "NpNiQs8hQahq"
      },
      "source": [
        "<h2 id=\"time_graphs\" style=\"font-family:verdana;\"> \n",
        "         6.5 Time Features\n",
        "        <a class=\"anchor-link\" href=\"https://www.kaggle.com/miljan/product-tagging-for-e-commerce-work-in-progress/#time_graphs\">¶</a>\n",
        "\n",
        "</h2>"
      ]
    },
    {
      "cell_type": "code",
      "execution_count": 157,
      "metadata": {
        "execution": {
          "iopub.execute_input": "2020-12-10T18:53:40.074707Z",
          "iopub.status.busy": "2020-12-10T18:53:40.073917Z",
          "iopub.status.idle": "2020-12-10T18:53:40.092165Z",
          "shell.execute_reply": "2020-12-10T18:53:40.091569Z"
        },
        "papermill": {
          "duration": 0.249761,
          "end_time": "2020-12-10T18:53:40.092301",
          "exception": false,
          "start_time": "2020-12-10T18:53:39.842540",
          "status": "completed"
        },
        "tags": [],
        "id": "4XonyAaFQahr",
        "outputId": "a71e1df5-5315-460d-c7e9-3b40d56ccb83",
        "colab": {
          "base_uri": "https://localhost:8080/"
        }
      },
      "outputs": [
        {
          "output_type": "execute_result",
          "data": {
            "text/plain": [
              "Hour\n",
              "6           4.25\n",
              "7       69672.35\n",
              "8      476018.04\n",
              "9     1148761.36\n",
              "10    1982572.99\n",
              "11    1897771.55\n",
              "12    2406094.87\n",
              "13    2111271.66\n",
              "14    1815394.96\n",
              "15    1573177.09\n",
              "16     874414.68\n",
              "17     410044.66\n",
              "18     151741.33\n",
              "19     112667.69\n",
              "20      28206.06\n",
              "Name: TotalPrice, dtype: float64"
            ]
          },
          "metadata": {},
          "execution_count": 157
        }
      ],
      "source": [
        "hourly_sales = df_cleaned.groupby('Hour')['TotalPrice'].sum().sort_index(ascending=True)\n",
        "hourly_sales"
      ]
    },
    {
      "cell_type": "code",
      "execution_count": 158,
      "metadata": {
        "execution": {
          "iopub.execute_input": "2020-12-10T18:53:40.529457Z",
          "iopub.status.busy": "2020-12-10T18:53:40.528298Z",
          "iopub.status.idle": "2020-12-10T18:53:40.534737Z",
          "shell.execute_reply": "2020-12-10T18:53:40.533987Z"
        },
        "papermill": {
          "duration": 0.231778,
          "end_time": "2020-12-10T18:53:40.534863",
          "exception": false,
          "start_time": "2020-12-10T18:53:40.303085",
          "status": "completed"
        },
        "tags": [],
        "id": "mL_NUAhJQahr",
        "outputId": "0044416b-23a3-4f2b-cd5b-cb8af61700f4",
        "colab": {
          "base_uri": "https://localhost:8080/",
          "height": 542
        }
      },
      "outputs": [
        {
          "output_type": "display_data",
          "data": {
            "text/html": [
              "<html>\n",
              "<head><meta charset=\"utf-8\" /></head>\n",
              "<body>\n",
              "    <div>            <script src=\"https://cdnjs.cloudflare.com/ajax/libs/mathjax/2.7.5/MathJax.js?config=TeX-AMS-MML_SVG\"></script><script type=\"text/javascript\">if (window.MathJax) {MathJax.Hub.Config({SVG: {font: \"STIX-Web\"}});}</script>                <script type=\"text/javascript\">window.PlotlyConfig = {MathJaxConfig: 'local'};</script>\n",
              "        <script src=\"https://cdn.plot.ly/plotly-2.8.3.min.js\"></script>                <div id=\"7ac3389f-29c6-4b16-a8e1-f8882c638352\" class=\"plotly-graph-div\" style=\"height:525px; width:100%;\"></div>            <script type=\"text/javascript\">                                    window.PLOTLYENV=window.PLOTLYENV || {};                                    if (document.getElementById(\"7ac3389f-29c6-4b16-a8e1-f8882c638352\")) {                    Plotly.newPlot(                        \"7ac3389f-29c6-4b16-a8e1-f8882c638352\",                        [{\"x\":[6,7,8,9,10,11,12,13,14,15,16,17,18,19,20],\"y\":[4.25,69672.35,476018.04,1148761.36,1982572.99,1897771.55,2406094.87,2111271.66,1815394.96,1573177.09,874414.68,410044.66,151741.33,112667.69,28206.06],\"type\":\"bar\"}],                        {\"title\":{\"text\":\"Hourly sales\",\"x\":0.5},\"template\":{\"data\":{\"bar\":[{\"error_x\":{\"color\":\"#2a3f5f\"},\"error_y\":{\"color\":\"#2a3f5f\"},\"marker\":{\"line\":{\"color\":\"#E5ECF6\",\"width\":0.5},\"pattern\":{\"fillmode\":\"overlay\",\"size\":10,\"solidity\":0.2}},\"type\":\"bar\"}],\"barpolar\":[{\"marker\":{\"line\":{\"color\":\"#E5ECF6\",\"width\":0.5},\"pattern\":{\"fillmode\":\"overlay\",\"size\":10,\"solidity\":0.2}},\"type\":\"barpolar\"}],\"carpet\":[{\"aaxis\":{\"endlinecolor\":\"#2a3f5f\",\"gridcolor\":\"white\",\"linecolor\":\"white\",\"minorgridcolor\":\"white\",\"startlinecolor\":\"#2a3f5f\"},\"baxis\":{\"endlinecolor\":\"#2a3f5f\",\"gridcolor\":\"white\",\"linecolor\":\"white\",\"minorgridcolor\":\"white\",\"startlinecolor\":\"#2a3f5f\"},\"type\":\"carpet\"}],\"choropleth\":[{\"colorbar\":{\"outlinewidth\":0,\"ticks\":\"\"},\"type\":\"choropleth\"}],\"contour\":[{\"colorbar\":{\"outlinewidth\":0,\"ticks\":\"\"},\"colorscale\":[[0.0,\"#0d0887\"],[0.1111111111111111,\"#46039f\"],[0.2222222222222222,\"#7201a8\"],[0.3333333333333333,\"#9c179e\"],[0.4444444444444444,\"#bd3786\"],[0.5555555555555556,\"#d8576b\"],[0.6666666666666666,\"#ed7953\"],[0.7777777777777778,\"#fb9f3a\"],[0.8888888888888888,\"#fdca26\"],[1.0,\"#f0f921\"]],\"type\":\"contour\"}],\"contourcarpet\":[{\"colorbar\":{\"outlinewidth\":0,\"ticks\":\"\"},\"type\":\"contourcarpet\"}],\"heatmap\":[{\"colorbar\":{\"outlinewidth\":0,\"ticks\":\"\"},\"colorscale\":[[0.0,\"#0d0887\"],[0.1111111111111111,\"#46039f\"],[0.2222222222222222,\"#7201a8\"],[0.3333333333333333,\"#9c179e\"],[0.4444444444444444,\"#bd3786\"],[0.5555555555555556,\"#d8576b\"],[0.6666666666666666,\"#ed7953\"],[0.7777777777777778,\"#fb9f3a\"],[0.8888888888888888,\"#fdca26\"],[1.0,\"#f0f921\"]],\"type\":\"heatmap\"}],\"heatmapgl\":[{\"colorbar\":{\"outlinewidth\":0,\"ticks\":\"\"},\"colorscale\":[[0.0,\"#0d0887\"],[0.1111111111111111,\"#46039f\"],[0.2222222222222222,\"#7201a8\"],[0.3333333333333333,\"#9c179e\"],[0.4444444444444444,\"#bd3786\"],[0.5555555555555556,\"#d8576b\"],[0.6666666666666666,\"#ed7953\"],[0.7777777777777778,\"#fb9f3a\"],[0.8888888888888888,\"#fdca26\"],[1.0,\"#f0f921\"]],\"type\":\"heatmapgl\"}],\"histogram\":[{\"marker\":{\"pattern\":{\"fillmode\":\"overlay\",\"size\":10,\"solidity\":0.2}},\"type\":\"histogram\"}],\"histogram2d\":[{\"colorbar\":{\"outlinewidth\":0,\"ticks\":\"\"},\"colorscale\":[[0.0,\"#0d0887\"],[0.1111111111111111,\"#46039f\"],[0.2222222222222222,\"#7201a8\"],[0.3333333333333333,\"#9c179e\"],[0.4444444444444444,\"#bd3786\"],[0.5555555555555556,\"#d8576b\"],[0.6666666666666666,\"#ed7953\"],[0.7777777777777778,\"#fb9f3a\"],[0.8888888888888888,\"#fdca26\"],[1.0,\"#f0f921\"]],\"type\":\"histogram2d\"}],\"histogram2dcontour\":[{\"colorbar\":{\"outlinewidth\":0,\"ticks\":\"\"},\"colorscale\":[[0.0,\"#0d0887\"],[0.1111111111111111,\"#46039f\"],[0.2222222222222222,\"#7201a8\"],[0.3333333333333333,\"#9c179e\"],[0.4444444444444444,\"#bd3786\"],[0.5555555555555556,\"#d8576b\"],[0.6666666666666666,\"#ed7953\"],[0.7777777777777778,\"#fb9f3a\"],[0.8888888888888888,\"#fdca26\"],[1.0,\"#f0f921\"]],\"type\":\"histogram2dcontour\"}],\"mesh3d\":[{\"colorbar\":{\"outlinewidth\":0,\"ticks\":\"\"},\"type\":\"mesh3d\"}],\"parcoords\":[{\"line\":{\"colorbar\":{\"outlinewidth\":0,\"ticks\":\"\"}},\"type\":\"parcoords\"}],\"pie\":[{\"automargin\":true,\"type\":\"pie\"}],\"scatter\":[{\"marker\":{\"colorbar\":{\"outlinewidth\":0,\"ticks\":\"\"}},\"type\":\"scatter\"}],\"scatter3d\":[{\"line\":{\"colorbar\":{\"outlinewidth\":0,\"ticks\":\"\"}},\"marker\":{\"colorbar\":{\"outlinewidth\":0,\"ticks\":\"\"}},\"type\":\"scatter3d\"}],\"scattercarpet\":[{\"marker\":{\"colorbar\":{\"outlinewidth\":0,\"ticks\":\"\"}},\"type\":\"scattercarpet\"}],\"scattergeo\":[{\"marker\":{\"colorbar\":{\"outlinewidth\":0,\"ticks\":\"\"}},\"type\":\"scattergeo\"}],\"scattergl\":[{\"marker\":{\"colorbar\":{\"outlinewidth\":0,\"ticks\":\"\"}},\"type\":\"scattergl\"}],\"scattermapbox\":[{\"marker\":{\"colorbar\":{\"outlinewidth\":0,\"ticks\":\"\"}},\"type\":\"scattermapbox\"}],\"scatterpolar\":[{\"marker\":{\"colorbar\":{\"outlinewidth\":0,\"ticks\":\"\"}},\"type\":\"scatterpolar\"}],\"scatterpolargl\":[{\"marker\":{\"colorbar\":{\"outlinewidth\":0,\"ticks\":\"\"}},\"type\":\"scatterpolargl\"}],\"scatterternary\":[{\"marker\":{\"colorbar\":{\"outlinewidth\":0,\"ticks\":\"\"}},\"type\":\"scatterternary\"}],\"surface\":[{\"colorbar\":{\"outlinewidth\":0,\"ticks\":\"\"},\"colorscale\":[[0.0,\"#0d0887\"],[0.1111111111111111,\"#46039f\"],[0.2222222222222222,\"#7201a8\"],[0.3333333333333333,\"#9c179e\"],[0.4444444444444444,\"#bd3786\"],[0.5555555555555556,\"#d8576b\"],[0.6666666666666666,\"#ed7953\"],[0.7777777777777778,\"#fb9f3a\"],[0.8888888888888888,\"#fdca26\"],[1.0,\"#f0f921\"]],\"type\":\"surface\"}],\"table\":[{\"cells\":{\"fill\":{\"color\":\"#EBF0F8\"},\"line\":{\"color\":\"white\"}},\"header\":{\"fill\":{\"color\":\"#C8D4E3\"},\"line\":{\"color\":\"white\"}},\"type\":\"table\"}]},\"layout\":{\"annotationdefaults\":{\"arrowcolor\":\"#2a3f5f\",\"arrowhead\":0,\"arrowwidth\":1},\"autotypenumbers\":\"strict\",\"coloraxis\":{\"colorbar\":{\"outlinewidth\":0,\"ticks\":\"\"}},\"colorscale\":{\"diverging\":[[0,\"#8e0152\"],[0.1,\"#c51b7d\"],[0.2,\"#de77ae\"],[0.3,\"#f1b6da\"],[0.4,\"#fde0ef\"],[0.5,\"#f7f7f7\"],[0.6,\"#e6f5d0\"],[0.7,\"#b8e186\"],[0.8,\"#7fbc41\"],[0.9,\"#4d9221\"],[1,\"#276419\"]],\"sequential\":[[0.0,\"#0d0887\"],[0.1111111111111111,\"#46039f\"],[0.2222222222222222,\"#7201a8\"],[0.3333333333333333,\"#9c179e\"],[0.4444444444444444,\"#bd3786\"],[0.5555555555555556,\"#d8576b\"],[0.6666666666666666,\"#ed7953\"],[0.7777777777777778,\"#fb9f3a\"],[0.8888888888888888,\"#fdca26\"],[1.0,\"#f0f921\"]],\"sequentialminus\":[[0.0,\"#0d0887\"],[0.1111111111111111,\"#46039f\"],[0.2222222222222222,\"#7201a8\"],[0.3333333333333333,\"#9c179e\"],[0.4444444444444444,\"#bd3786\"],[0.5555555555555556,\"#d8576b\"],[0.6666666666666666,\"#ed7953\"],[0.7777777777777778,\"#fb9f3a\"],[0.8888888888888888,\"#fdca26\"],[1.0,\"#f0f921\"]]},\"colorway\":[\"#636efa\",\"#EF553B\",\"#00cc96\",\"#ab63fa\",\"#FFA15A\",\"#19d3f3\",\"#FF6692\",\"#B6E880\",\"#FF97FF\",\"#FECB52\"],\"font\":{\"color\":\"#2a3f5f\"},\"geo\":{\"bgcolor\":\"white\",\"lakecolor\":\"white\",\"landcolor\":\"#E5ECF6\",\"showlakes\":true,\"showland\":true,\"subunitcolor\":\"white\"},\"hoverlabel\":{\"align\":\"left\"},\"hovermode\":\"closest\",\"mapbox\":{\"style\":\"light\"},\"paper_bgcolor\":\"white\",\"plot_bgcolor\":\"#E5ECF6\",\"polar\":{\"angularaxis\":{\"gridcolor\":\"white\",\"linecolor\":\"white\",\"ticks\":\"\"},\"bgcolor\":\"#E5ECF6\",\"radialaxis\":{\"gridcolor\":\"white\",\"linecolor\":\"white\",\"ticks\":\"\"}},\"scene\":{\"xaxis\":{\"backgroundcolor\":\"#E5ECF6\",\"gridcolor\":\"white\",\"gridwidth\":2,\"linecolor\":\"white\",\"showbackground\":true,\"ticks\":\"\",\"zerolinecolor\":\"white\"},\"yaxis\":{\"backgroundcolor\":\"#E5ECF6\",\"gridcolor\":\"white\",\"gridwidth\":2,\"linecolor\":\"white\",\"showbackground\":true,\"ticks\":\"\",\"zerolinecolor\":\"white\"},\"zaxis\":{\"backgroundcolor\":\"#E5ECF6\",\"gridcolor\":\"white\",\"gridwidth\":2,\"linecolor\":\"white\",\"showbackground\":true,\"ticks\":\"\",\"zerolinecolor\":\"white\"}},\"shapedefaults\":{\"line\":{\"color\":\"#2a3f5f\"}},\"ternary\":{\"aaxis\":{\"gridcolor\":\"white\",\"linecolor\":\"white\",\"ticks\":\"\"},\"baxis\":{\"gridcolor\":\"white\",\"linecolor\":\"white\",\"ticks\":\"\"},\"bgcolor\":\"#E5ECF6\",\"caxis\":{\"gridcolor\":\"white\",\"linecolor\":\"white\",\"ticks\":\"\"}},\"title\":{\"x\":0.05},\"xaxis\":{\"automargin\":true,\"gridcolor\":\"white\",\"linecolor\":\"white\",\"ticks\":\"\",\"title\":{\"standoff\":15},\"zerolinecolor\":\"white\",\"zerolinewidth\":2},\"yaxis\":{\"automargin\":true,\"gridcolor\":\"white\",\"linecolor\":\"white\",\"ticks\":\"\",\"title\":{\"standoff\":15},\"zerolinecolor\":\"white\",\"zerolinewidth\":2}}}},                        {\"responsive\": true}                    ).then(function(){\n",
              "                            \n",
              "var gd = document.getElementById('7ac3389f-29c6-4b16-a8e1-f8882c638352');\n",
              "var x = new MutationObserver(function (mutations, observer) {{\n",
              "        var display = window.getComputedStyle(gd).display;\n",
              "        if (!display || display === 'none') {{\n",
              "            console.log([gd, 'removed!']);\n",
              "            Plotly.purge(gd);\n",
              "            observer.disconnect();\n",
              "        }}\n",
              "}});\n",
              "\n",
              "// Listen for the removal of the full notebook cells\n",
              "var notebookContainer = gd.closest('#notebook-container');\n",
              "if (notebookContainer) {{\n",
              "    x.observe(notebookContainer, {childList: true});\n",
              "}}\n",
              "\n",
              "// Listen for the clearing of the current output cell\n",
              "var outputEl = gd.closest('.output');\n",
              "if (outputEl) {{\n",
              "    x.observe(outputEl, {childList: true});\n",
              "}}\n",
              "\n",
              "                        })                };                            </script>        </div>\n",
              "</body>\n",
              "</html>"
            ]
          },
          "metadata": {}
        }
      ],
      "source": [
        "data = [go.Bar(x=hourly_sales.index, \n",
        "               y=hourly_sales.values)]\n",
        "\n",
        "layout = go.Layout(title=\"Hourly sales\", title_x=0.5)\n",
        "\n",
        "fig = go.Figure(data=data, layout=layout)\n",
        "\n",
        "fig.show()"
      ]
    },
    {
      "cell_type": "code",
      "execution_count": 159,
      "metadata": {
        "execution": {
          "iopub.execute_input": "2020-12-10T18:53:40.964345Z",
          "iopub.status.busy": "2020-12-10T18:53:40.963598Z",
          "iopub.status.idle": "2020-12-10T18:53:40.986656Z",
          "shell.execute_reply": "2020-12-10T18:53:40.985754Z"
        },
        "papermill": {
          "duration": 0.241638,
          "end_time": "2020-12-10T18:53:40.986794",
          "exception": false,
          "start_time": "2020-12-10T18:53:40.745156",
          "status": "completed"
        },
        "tags": [],
        "id": "mxhFQ6FPQahr",
        "outputId": "4c203811-5ca4-4e92-dde8-3da408c4bf6f",
        "colab": {
          "base_uri": "https://localhost:8080/",
          "height": 542
        }
      },
      "outputs": [
        {
          "output_type": "display_data",
          "data": {
            "text/html": [
              "<html>\n",
              "<head><meta charset=\"utf-8\" /></head>\n",
              "<body>\n",
              "    <div>            <script src=\"https://cdnjs.cloudflare.com/ajax/libs/mathjax/2.7.5/MathJax.js?config=TeX-AMS-MML_SVG\"></script><script type=\"text/javascript\">if (window.MathJax) {MathJax.Hub.Config({SVG: {font: \"STIX-Web\"}});}</script>                <script type=\"text/javascript\">window.PlotlyConfig = {MathJaxConfig: 'local'};</script>\n",
              "        <script src=\"https://cdn.plot.ly/plotly-2.8.3.min.js\"></script>                <div id=\"9a124c0f-aee8-4d67-bc6c-72c3fb66e8da\" class=\"plotly-graph-div\" style=\"height:525px; width:100%;\"></div>            <script type=\"text/javascript\">                                    window.PLOTLYENV=window.PLOTLYENV || {};                                    if (document.getElementById(\"9a124c0f-aee8-4d67-bc6c-72c3fb66e8da\")) {                    Plotly.newPlot(                        \"9a124c0f-aee8-4d67-bc6c-72c3fb66e8da\",                        [{\"x\":[0,1,2,3,4,5,6],\"y\":[2421002.66,2798504.41,2755651.3,3213500.92,2181937.63,9478.68,1677737.94],\"type\":\"bar\"}],                        {\"title\":{\"text\":\"Weekday sales\",\"x\":0.5},\"template\":{\"data\":{\"bar\":[{\"error_x\":{\"color\":\"#2a3f5f\"},\"error_y\":{\"color\":\"#2a3f5f\"},\"marker\":{\"line\":{\"color\":\"#E5ECF6\",\"width\":0.5},\"pattern\":{\"fillmode\":\"overlay\",\"size\":10,\"solidity\":0.2}},\"type\":\"bar\"}],\"barpolar\":[{\"marker\":{\"line\":{\"color\":\"#E5ECF6\",\"width\":0.5},\"pattern\":{\"fillmode\":\"overlay\",\"size\":10,\"solidity\":0.2}},\"type\":\"barpolar\"}],\"carpet\":[{\"aaxis\":{\"endlinecolor\":\"#2a3f5f\",\"gridcolor\":\"white\",\"linecolor\":\"white\",\"minorgridcolor\":\"white\",\"startlinecolor\":\"#2a3f5f\"},\"baxis\":{\"endlinecolor\":\"#2a3f5f\",\"gridcolor\":\"white\",\"linecolor\":\"white\",\"minorgridcolor\":\"white\",\"startlinecolor\":\"#2a3f5f\"},\"type\":\"carpet\"}],\"choropleth\":[{\"colorbar\":{\"outlinewidth\":0,\"ticks\":\"\"},\"type\":\"choropleth\"}],\"contour\":[{\"colorbar\":{\"outlinewidth\":0,\"ticks\":\"\"},\"colorscale\":[[0.0,\"#0d0887\"],[0.1111111111111111,\"#46039f\"],[0.2222222222222222,\"#7201a8\"],[0.3333333333333333,\"#9c179e\"],[0.4444444444444444,\"#bd3786\"],[0.5555555555555556,\"#d8576b\"],[0.6666666666666666,\"#ed7953\"],[0.7777777777777778,\"#fb9f3a\"],[0.8888888888888888,\"#fdca26\"],[1.0,\"#f0f921\"]],\"type\":\"contour\"}],\"contourcarpet\":[{\"colorbar\":{\"outlinewidth\":0,\"ticks\":\"\"},\"type\":\"contourcarpet\"}],\"heatmap\":[{\"colorbar\":{\"outlinewidth\":0,\"ticks\":\"\"},\"colorscale\":[[0.0,\"#0d0887\"],[0.1111111111111111,\"#46039f\"],[0.2222222222222222,\"#7201a8\"],[0.3333333333333333,\"#9c179e\"],[0.4444444444444444,\"#bd3786\"],[0.5555555555555556,\"#d8576b\"],[0.6666666666666666,\"#ed7953\"],[0.7777777777777778,\"#fb9f3a\"],[0.8888888888888888,\"#fdca26\"],[1.0,\"#f0f921\"]],\"type\":\"heatmap\"}],\"heatmapgl\":[{\"colorbar\":{\"outlinewidth\":0,\"ticks\":\"\"},\"colorscale\":[[0.0,\"#0d0887\"],[0.1111111111111111,\"#46039f\"],[0.2222222222222222,\"#7201a8\"],[0.3333333333333333,\"#9c179e\"],[0.4444444444444444,\"#bd3786\"],[0.5555555555555556,\"#d8576b\"],[0.6666666666666666,\"#ed7953\"],[0.7777777777777778,\"#fb9f3a\"],[0.8888888888888888,\"#fdca26\"],[1.0,\"#f0f921\"]],\"type\":\"heatmapgl\"}],\"histogram\":[{\"marker\":{\"pattern\":{\"fillmode\":\"overlay\",\"size\":10,\"solidity\":0.2}},\"type\":\"histogram\"}],\"histogram2d\":[{\"colorbar\":{\"outlinewidth\":0,\"ticks\":\"\"},\"colorscale\":[[0.0,\"#0d0887\"],[0.1111111111111111,\"#46039f\"],[0.2222222222222222,\"#7201a8\"],[0.3333333333333333,\"#9c179e\"],[0.4444444444444444,\"#bd3786\"],[0.5555555555555556,\"#d8576b\"],[0.6666666666666666,\"#ed7953\"],[0.7777777777777778,\"#fb9f3a\"],[0.8888888888888888,\"#fdca26\"],[1.0,\"#f0f921\"]],\"type\":\"histogram2d\"}],\"histogram2dcontour\":[{\"colorbar\":{\"outlinewidth\":0,\"ticks\":\"\"},\"colorscale\":[[0.0,\"#0d0887\"],[0.1111111111111111,\"#46039f\"],[0.2222222222222222,\"#7201a8\"],[0.3333333333333333,\"#9c179e\"],[0.4444444444444444,\"#bd3786\"],[0.5555555555555556,\"#d8576b\"],[0.6666666666666666,\"#ed7953\"],[0.7777777777777778,\"#fb9f3a\"],[0.8888888888888888,\"#fdca26\"],[1.0,\"#f0f921\"]],\"type\":\"histogram2dcontour\"}],\"mesh3d\":[{\"colorbar\":{\"outlinewidth\":0,\"ticks\":\"\"},\"type\":\"mesh3d\"}],\"parcoords\":[{\"line\":{\"colorbar\":{\"outlinewidth\":0,\"ticks\":\"\"}},\"type\":\"parcoords\"}],\"pie\":[{\"automargin\":true,\"type\":\"pie\"}],\"scatter\":[{\"marker\":{\"colorbar\":{\"outlinewidth\":0,\"ticks\":\"\"}},\"type\":\"scatter\"}],\"scatter3d\":[{\"line\":{\"colorbar\":{\"outlinewidth\":0,\"ticks\":\"\"}},\"marker\":{\"colorbar\":{\"outlinewidth\":0,\"ticks\":\"\"}},\"type\":\"scatter3d\"}],\"scattercarpet\":[{\"marker\":{\"colorbar\":{\"outlinewidth\":0,\"ticks\":\"\"}},\"type\":\"scattercarpet\"}],\"scattergeo\":[{\"marker\":{\"colorbar\":{\"outlinewidth\":0,\"ticks\":\"\"}},\"type\":\"scattergeo\"}],\"scattergl\":[{\"marker\":{\"colorbar\":{\"outlinewidth\":0,\"ticks\":\"\"}},\"type\":\"scattergl\"}],\"scattermapbox\":[{\"marker\":{\"colorbar\":{\"outlinewidth\":0,\"ticks\":\"\"}},\"type\":\"scattermapbox\"}],\"scatterpolar\":[{\"marker\":{\"colorbar\":{\"outlinewidth\":0,\"ticks\":\"\"}},\"type\":\"scatterpolar\"}],\"scatterpolargl\":[{\"marker\":{\"colorbar\":{\"outlinewidth\":0,\"ticks\":\"\"}},\"type\":\"scatterpolargl\"}],\"scatterternary\":[{\"marker\":{\"colorbar\":{\"outlinewidth\":0,\"ticks\":\"\"}},\"type\":\"scatterternary\"}],\"surface\":[{\"colorbar\":{\"outlinewidth\":0,\"ticks\":\"\"},\"colorscale\":[[0.0,\"#0d0887\"],[0.1111111111111111,\"#46039f\"],[0.2222222222222222,\"#7201a8\"],[0.3333333333333333,\"#9c179e\"],[0.4444444444444444,\"#bd3786\"],[0.5555555555555556,\"#d8576b\"],[0.6666666666666666,\"#ed7953\"],[0.7777777777777778,\"#fb9f3a\"],[0.8888888888888888,\"#fdca26\"],[1.0,\"#f0f921\"]],\"type\":\"surface\"}],\"table\":[{\"cells\":{\"fill\":{\"color\":\"#EBF0F8\"},\"line\":{\"color\":\"white\"}},\"header\":{\"fill\":{\"color\":\"#C8D4E3\"},\"line\":{\"color\":\"white\"}},\"type\":\"table\"}]},\"layout\":{\"annotationdefaults\":{\"arrowcolor\":\"#2a3f5f\",\"arrowhead\":0,\"arrowwidth\":1},\"autotypenumbers\":\"strict\",\"coloraxis\":{\"colorbar\":{\"outlinewidth\":0,\"ticks\":\"\"}},\"colorscale\":{\"diverging\":[[0,\"#8e0152\"],[0.1,\"#c51b7d\"],[0.2,\"#de77ae\"],[0.3,\"#f1b6da\"],[0.4,\"#fde0ef\"],[0.5,\"#f7f7f7\"],[0.6,\"#e6f5d0\"],[0.7,\"#b8e186\"],[0.8,\"#7fbc41\"],[0.9,\"#4d9221\"],[1,\"#276419\"]],\"sequential\":[[0.0,\"#0d0887\"],[0.1111111111111111,\"#46039f\"],[0.2222222222222222,\"#7201a8\"],[0.3333333333333333,\"#9c179e\"],[0.4444444444444444,\"#bd3786\"],[0.5555555555555556,\"#d8576b\"],[0.6666666666666666,\"#ed7953\"],[0.7777777777777778,\"#fb9f3a\"],[0.8888888888888888,\"#fdca26\"],[1.0,\"#f0f921\"]],\"sequentialminus\":[[0.0,\"#0d0887\"],[0.1111111111111111,\"#46039f\"],[0.2222222222222222,\"#7201a8\"],[0.3333333333333333,\"#9c179e\"],[0.4444444444444444,\"#bd3786\"],[0.5555555555555556,\"#d8576b\"],[0.6666666666666666,\"#ed7953\"],[0.7777777777777778,\"#fb9f3a\"],[0.8888888888888888,\"#fdca26\"],[1.0,\"#f0f921\"]]},\"colorway\":[\"#636efa\",\"#EF553B\",\"#00cc96\",\"#ab63fa\",\"#FFA15A\",\"#19d3f3\",\"#FF6692\",\"#B6E880\",\"#FF97FF\",\"#FECB52\"],\"font\":{\"color\":\"#2a3f5f\"},\"geo\":{\"bgcolor\":\"white\",\"lakecolor\":\"white\",\"landcolor\":\"#E5ECF6\",\"showlakes\":true,\"showland\":true,\"subunitcolor\":\"white\"},\"hoverlabel\":{\"align\":\"left\"},\"hovermode\":\"closest\",\"mapbox\":{\"style\":\"light\"},\"paper_bgcolor\":\"white\",\"plot_bgcolor\":\"#E5ECF6\",\"polar\":{\"angularaxis\":{\"gridcolor\":\"white\",\"linecolor\":\"white\",\"ticks\":\"\"},\"bgcolor\":\"#E5ECF6\",\"radialaxis\":{\"gridcolor\":\"white\",\"linecolor\":\"white\",\"ticks\":\"\"}},\"scene\":{\"xaxis\":{\"backgroundcolor\":\"#E5ECF6\",\"gridcolor\":\"white\",\"gridwidth\":2,\"linecolor\":\"white\",\"showbackground\":true,\"ticks\":\"\",\"zerolinecolor\":\"white\"},\"yaxis\":{\"backgroundcolor\":\"#E5ECF6\",\"gridcolor\":\"white\",\"gridwidth\":2,\"linecolor\":\"white\",\"showbackground\":true,\"ticks\":\"\",\"zerolinecolor\":\"white\"},\"zaxis\":{\"backgroundcolor\":\"#E5ECF6\",\"gridcolor\":\"white\",\"gridwidth\":2,\"linecolor\":\"white\",\"showbackground\":true,\"ticks\":\"\",\"zerolinecolor\":\"white\"}},\"shapedefaults\":{\"line\":{\"color\":\"#2a3f5f\"}},\"ternary\":{\"aaxis\":{\"gridcolor\":\"white\",\"linecolor\":\"white\",\"ticks\":\"\"},\"baxis\":{\"gridcolor\":\"white\",\"linecolor\":\"white\",\"ticks\":\"\"},\"bgcolor\":\"#E5ECF6\",\"caxis\":{\"gridcolor\":\"white\",\"linecolor\":\"white\",\"ticks\":\"\"}},\"title\":{\"x\":0.05},\"xaxis\":{\"automargin\":true,\"gridcolor\":\"white\",\"linecolor\":\"white\",\"ticks\":\"\",\"title\":{\"standoff\":15},\"zerolinecolor\":\"white\",\"zerolinewidth\":2},\"yaxis\":{\"automargin\":true,\"gridcolor\":\"white\",\"linecolor\":\"white\",\"ticks\":\"\",\"title\":{\"standoff\":15},\"zerolinecolor\":\"white\",\"zerolinewidth\":2}}}},                        {\"responsive\": true}                    ).then(function(){\n",
              "                            \n",
              "var gd = document.getElementById('9a124c0f-aee8-4d67-bc6c-72c3fb66e8da');\n",
              "var x = new MutationObserver(function (mutations, observer) {{\n",
              "        var display = window.getComputedStyle(gd).display;\n",
              "        if (!display || display === 'none') {{\n",
              "            console.log([gd, 'removed!']);\n",
              "            Plotly.purge(gd);\n",
              "            observer.disconnect();\n",
              "        }}\n",
              "}});\n",
              "\n",
              "// Listen for the removal of the full notebook cells\n",
              "var notebookContainer = gd.closest('#notebook-container');\n",
              "if (notebookContainer) {{\n",
              "    x.observe(notebookContainer, {childList: true});\n",
              "}}\n",
              "\n",
              "// Listen for the clearing of the current output cell\n",
              "var outputEl = gd.closest('.output');\n",
              "if (outputEl) {{\n",
              "    x.observe(outputEl, {childList: true});\n",
              "}}\n",
              "\n",
              "                        })                };                            </script>        </div>\n",
              "</body>\n",
              "</html>"
            ]
          },
          "metadata": {}
        }
      ],
      "source": [
        "weekday_sales = df_cleaned.groupby('Weekday')['TotalPrice'].sum().sort_index(ascending=True)\n",
        "\n",
        "data = [go.Bar(x=weekday_sales.index, \n",
        "               y=weekday_sales.values)]\n",
        "\n",
        "layout = go.Layout(title=\"Weekday sales\", title_x=0.5)\n",
        "\n",
        "fig = go.Figure(data=data, layout=layout)\n",
        "\n",
        "fig.show()\n"
      ]
    },
    {
      "cell_type": "markdown",
      "metadata": {
        "papermill": {
          "duration": 0.214918,
          "end_time": "2020-12-10T18:53:41.413312",
          "exception": false,
          "start_time": "2020-12-10T18:53:41.198394",
          "status": "completed"
        },
        "tags": [],
        "id": "e44DC9A8Qahr"
      },
      "source": [
        "<br><br>\n",
        "<div class=\"alert alert-block alert-info\" style=\"font-size:15px; font-family:verdana; line-height: 1.7em\">\n",
        "    <b> I really can't believe that there's a day in the week where sells are dropping that drastically. It must be an error. </b><br><br>\n",
        "</div>"
      ]
    },
    {
      "cell_type": "code",
      "execution_count": 160,
      "metadata": {
        "execution": {
          "iopub.execute_input": "2020-12-10T18:53:41.839779Z",
          "iopub.status.busy": "2020-12-10T18:53:41.838957Z",
          "iopub.status.idle": "2020-12-10T18:53:41.862865Z",
          "shell.execute_reply": "2020-12-10T18:53:41.863465Z"
        },
        "papermill": {
          "duration": 0.24162,
          "end_time": "2020-12-10T18:53:41.863621",
          "exception": false,
          "start_time": "2020-12-10T18:53:41.622001",
          "status": "completed"
        },
        "tags": [],
        "id": "mX-F20ibQahs",
        "outputId": "9256d842-9c0f-46bf-f7cf-68941aa9e2d6",
        "colab": {
          "base_uri": "https://localhost:8080/",
          "height": 542
        }
      },
      "outputs": [
        {
          "output_type": "display_data",
          "data": {
            "text/html": [
              "<html>\n",
              "<head><meta charset=\"utf-8\" /></head>\n",
              "<body>\n",
              "    <div>            <script src=\"https://cdnjs.cloudflare.com/ajax/libs/mathjax/2.7.5/MathJax.js?config=TeX-AMS-MML_SVG\"></script><script type=\"text/javascript\">if (window.MathJax) {MathJax.Hub.Config({SVG: {font: \"STIX-Web\"}});}</script>                <script type=\"text/javascript\">window.PlotlyConfig = {MathJaxConfig: 'local'};</script>\n",
              "        <script src=\"https://cdn.plot.ly/plotly-2.8.3.min.js\"></script>                <div id=\"4ff4f046-b9a3-4448-abdf-e4858a83bda0\" class=\"plotly-graph-div\" style=\"height:525px; width:100%;\"></div>            <script type=\"text/javascript\">                                    window.PLOTLYENV=window.PLOTLYENV || {};                                    if (document.getElementById(\"4ff4f046-b9a3-4448-abdf-e4858a83bda0\")) {                    Plotly.newPlot(                        \"4ff4f046-b9a3-4448-abdf-e4858a83bda0\",                        [{\"x\":[1,2,3,4,5,6,7,8,9,10,11,12,13,14,15,16,17,18,19,20,21,22,23,24,25,26,27,28,29,30,31],\"y\":[494770.81,448345.27,463093.91,513990.03,551360.7,515434.51,619058.93,548988.76,483656.53,499744.25,529782.6900000001,451410.8,455093.76,578696.96,564809.14,521015.25,543633.52,537570.18,477853.17,476762.45,549816.82,467646.4,461917.21,466997.43,476328.68,432056.57,419494.59,510814.22000000003,417360.17,362445.57,217864.26],\"type\":\"bar\"}],                        {\"title\":{\"text\":\"Day of the month sales\",\"x\":0.5},\"template\":{\"data\":{\"bar\":[{\"error_x\":{\"color\":\"#2a3f5f\"},\"error_y\":{\"color\":\"#2a3f5f\"},\"marker\":{\"line\":{\"color\":\"#E5ECF6\",\"width\":0.5},\"pattern\":{\"fillmode\":\"overlay\",\"size\":10,\"solidity\":0.2}},\"type\":\"bar\"}],\"barpolar\":[{\"marker\":{\"line\":{\"color\":\"#E5ECF6\",\"width\":0.5},\"pattern\":{\"fillmode\":\"overlay\",\"size\":10,\"solidity\":0.2}},\"type\":\"barpolar\"}],\"carpet\":[{\"aaxis\":{\"endlinecolor\":\"#2a3f5f\",\"gridcolor\":\"white\",\"linecolor\":\"white\",\"minorgridcolor\":\"white\",\"startlinecolor\":\"#2a3f5f\"},\"baxis\":{\"endlinecolor\":\"#2a3f5f\",\"gridcolor\":\"white\",\"linecolor\":\"white\",\"minorgridcolor\":\"white\",\"startlinecolor\":\"#2a3f5f\"},\"type\":\"carpet\"}],\"choropleth\":[{\"colorbar\":{\"outlinewidth\":0,\"ticks\":\"\"},\"type\":\"choropleth\"}],\"contour\":[{\"colorbar\":{\"outlinewidth\":0,\"ticks\":\"\"},\"colorscale\":[[0.0,\"#0d0887\"],[0.1111111111111111,\"#46039f\"],[0.2222222222222222,\"#7201a8\"],[0.3333333333333333,\"#9c179e\"],[0.4444444444444444,\"#bd3786\"],[0.5555555555555556,\"#d8576b\"],[0.6666666666666666,\"#ed7953\"],[0.7777777777777778,\"#fb9f3a\"],[0.8888888888888888,\"#fdca26\"],[1.0,\"#f0f921\"]],\"type\":\"contour\"}],\"contourcarpet\":[{\"colorbar\":{\"outlinewidth\":0,\"ticks\":\"\"},\"type\":\"contourcarpet\"}],\"heatmap\":[{\"colorbar\":{\"outlinewidth\":0,\"ticks\":\"\"},\"colorscale\":[[0.0,\"#0d0887\"],[0.1111111111111111,\"#46039f\"],[0.2222222222222222,\"#7201a8\"],[0.3333333333333333,\"#9c179e\"],[0.4444444444444444,\"#bd3786\"],[0.5555555555555556,\"#d8576b\"],[0.6666666666666666,\"#ed7953\"],[0.7777777777777778,\"#fb9f3a\"],[0.8888888888888888,\"#fdca26\"],[1.0,\"#f0f921\"]],\"type\":\"heatmap\"}],\"heatmapgl\":[{\"colorbar\":{\"outlinewidth\":0,\"ticks\":\"\"},\"colorscale\":[[0.0,\"#0d0887\"],[0.1111111111111111,\"#46039f\"],[0.2222222222222222,\"#7201a8\"],[0.3333333333333333,\"#9c179e\"],[0.4444444444444444,\"#bd3786\"],[0.5555555555555556,\"#d8576b\"],[0.6666666666666666,\"#ed7953\"],[0.7777777777777778,\"#fb9f3a\"],[0.8888888888888888,\"#fdca26\"],[1.0,\"#f0f921\"]],\"type\":\"heatmapgl\"}],\"histogram\":[{\"marker\":{\"pattern\":{\"fillmode\":\"overlay\",\"size\":10,\"solidity\":0.2}},\"type\":\"histogram\"}],\"histogram2d\":[{\"colorbar\":{\"outlinewidth\":0,\"ticks\":\"\"},\"colorscale\":[[0.0,\"#0d0887\"],[0.1111111111111111,\"#46039f\"],[0.2222222222222222,\"#7201a8\"],[0.3333333333333333,\"#9c179e\"],[0.4444444444444444,\"#bd3786\"],[0.5555555555555556,\"#d8576b\"],[0.6666666666666666,\"#ed7953\"],[0.7777777777777778,\"#fb9f3a\"],[0.8888888888888888,\"#fdca26\"],[1.0,\"#f0f921\"]],\"type\":\"histogram2d\"}],\"histogram2dcontour\":[{\"colorbar\":{\"outlinewidth\":0,\"ticks\":\"\"},\"colorscale\":[[0.0,\"#0d0887\"],[0.1111111111111111,\"#46039f\"],[0.2222222222222222,\"#7201a8\"],[0.3333333333333333,\"#9c179e\"],[0.4444444444444444,\"#bd3786\"],[0.5555555555555556,\"#d8576b\"],[0.6666666666666666,\"#ed7953\"],[0.7777777777777778,\"#fb9f3a\"],[0.8888888888888888,\"#fdca26\"],[1.0,\"#f0f921\"]],\"type\":\"histogram2dcontour\"}],\"mesh3d\":[{\"colorbar\":{\"outlinewidth\":0,\"ticks\":\"\"},\"type\":\"mesh3d\"}],\"parcoords\":[{\"line\":{\"colorbar\":{\"outlinewidth\":0,\"ticks\":\"\"}},\"type\":\"parcoords\"}],\"pie\":[{\"automargin\":true,\"type\":\"pie\"}],\"scatter\":[{\"marker\":{\"colorbar\":{\"outlinewidth\":0,\"ticks\":\"\"}},\"type\":\"scatter\"}],\"scatter3d\":[{\"line\":{\"colorbar\":{\"outlinewidth\":0,\"ticks\":\"\"}},\"marker\":{\"colorbar\":{\"outlinewidth\":0,\"ticks\":\"\"}},\"type\":\"scatter3d\"}],\"scattercarpet\":[{\"marker\":{\"colorbar\":{\"outlinewidth\":0,\"ticks\":\"\"}},\"type\":\"scattercarpet\"}],\"scattergeo\":[{\"marker\":{\"colorbar\":{\"outlinewidth\":0,\"ticks\":\"\"}},\"type\":\"scattergeo\"}],\"scattergl\":[{\"marker\":{\"colorbar\":{\"outlinewidth\":0,\"ticks\":\"\"}},\"type\":\"scattergl\"}],\"scattermapbox\":[{\"marker\":{\"colorbar\":{\"outlinewidth\":0,\"ticks\":\"\"}},\"type\":\"scattermapbox\"}],\"scatterpolar\":[{\"marker\":{\"colorbar\":{\"outlinewidth\":0,\"ticks\":\"\"}},\"type\":\"scatterpolar\"}],\"scatterpolargl\":[{\"marker\":{\"colorbar\":{\"outlinewidth\":0,\"ticks\":\"\"}},\"type\":\"scatterpolargl\"}],\"scatterternary\":[{\"marker\":{\"colorbar\":{\"outlinewidth\":0,\"ticks\":\"\"}},\"type\":\"scatterternary\"}],\"surface\":[{\"colorbar\":{\"outlinewidth\":0,\"ticks\":\"\"},\"colorscale\":[[0.0,\"#0d0887\"],[0.1111111111111111,\"#46039f\"],[0.2222222222222222,\"#7201a8\"],[0.3333333333333333,\"#9c179e\"],[0.4444444444444444,\"#bd3786\"],[0.5555555555555556,\"#d8576b\"],[0.6666666666666666,\"#ed7953\"],[0.7777777777777778,\"#fb9f3a\"],[0.8888888888888888,\"#fdca26\"],[1.0,\"#f0f921\"]],\"type\":\"surface\"}],\"table\":[{\"cells\":{\"fill\":{\"color\":\"#EBF0F8\"},\"line\":{\"color\":\"white\"}},\"header\":{\"fill\":{\"color\":\"#C8D4E3\"},\"line\":{\"color\":\"white\"}},\"type\":\"table\"}]},\"layout\":{\"annotationdefaults\":{\"arrowcolor\":\"#2a3f5f\",\"arrowhead\":0,\"arrowwidth\":1},\"autotypenumbers\":\"strict\",\"coloraxis\":{\"colorbar\":{\"outlinewidth\":0,\"ticks\":\"\"}},\"colorscale\":{\"diverging\":[[0,\"#8e0152\"],[0.1,\"#c51b7d\"],[0.2,\"#de77ae\"],[0.3,\"#f1b6da\"],[0.4,\"#fde0ef\"],[0.5,\"#f7f7f7\"],[0.6,\"#e6f5d0\"],[0.7,\"#b8e186\"],[0.8,\"#7fbc41\"],[0.9,\"#4d9221\"],[1,\"#276419\"]],\"sequential\":[[0.0,\"#0d0887\"],[0.1111111111111111,\"#46039f\"],[0.2222222222222222,\"#7201a8\"],[0.3333333333333333,\"#9c179e\"],[0.4444444444444444,\"#bd3786\"],[0.5555555555555556,\"#d8576b\"],[0.6666666666666666,\"#ed7953\"],[0.7777777777777778,\"#fb9f3a\"],[0.8888888888888888,\"#fdca26\"],[1.0,\"#f0f921\"]],\"sequentialminus\":[[0.0,\"#0d0887\"],[0.1111111111111111,\"#46039f\"],[0.2222222222222222,\"#7201a8\"],[0.3333333333333333,\"#9c179e\"],[0.4444444444444444,\"#bd3786\"],[0.5555555555555556,\"#d8576b\"],[0.6666666666666666,\"#ed7953\"],[0.7777777777777778,\"#fb9f3a\"],[0.8888888888888888,\"#fdca26\"],[1.0,\"#f0f921\"]]},\"colorway\":[\"#636efa\",\"#EF553B\",\"#00cc96\",\"#ab63fa\",\"#FFA15A\",\"#19d3f3\",\"#FF6692\",\"#B6E880\",\"#FF97FF\",\"#FECB52\"],\"font\":{\"color\":\"#2a3f5f\"},\"geo\":{\"bgcolor\":\"white\",\"lakecolor\":\"white\",\"landcolor\":\"#E5ECF6\",\"showlakes\":true,\"showland\":true,\"subunitcolor\":\"white\"},\"hoverlabel\":{\"align\":\"left\"},\"hovermode\":\"closest\",\"mapbox\":{\"style\":\"light\"},\"paper_bgcolor\":\"white\",\"plot_bgcolor\":\"#E5ECF6\",\"polar\":{\"angularaxis\":{\"gridcolor\":\"white\",\"linecolor\":\"white\",\"ticks\":\"\"},\"bgcolor\":\"#E5ECF6\",\"radialaxis\":{\"gridcolor\":\"white\",\"linecolor\":\"white\",\"ticks\":\"\"}},\"scene\":{\"xaxis\":{\"backgroundcolor\":\"#E5ECF6\",\"gridcolor\":\"white\",\"gridwidth\":2,\"linecolor\":\"white\",\"showbackground\":true,\"ticks\":\"\",\"zerolinecolor\":\"white\"},\"yaxis\":{\"backgroundcolor\":\"#E5ECF6\",\"gridcolor\":\"white\",\"gridwidth\":2,\"linecolor\":\"white\",\"showbackground\":true,\"ticks\":\"\",\"zerolinecolor\":\"white\"},\"zaxis\":{\"backgroundcolor\":\"#E5ECF6\",\"gridcolor\":\"white\",\"gridwidth\":2,\"linecolor\":\"white\",\"showbackground\":true,\"ticks\":\"\",\"zerolinecolor\":\"white\"}},\"shapedefaults\":{\"line\":{\"color\":\"#2a3f5f\"}},\"ternary\":{\"aaxis\":{\"gridcolor\":\"white\",\"linecolor\":\"white\",\"ticks\":\"\"},\"baxis\":{\"gridcolor\":\"white\",\"linecolor\":\"white\",\"ticks\":\"\"},\"bgcolor\":\"#E5ECF6\",\"caxis\":{\"gridcolor\":\"white\",\"linecolor\":\"white\",\"ticks\":\"\"}},\"title\":{\"x\":0.05},\"xaxis\":{\"automargin\":true,\"gridcolor\":\"white\",\"linecolor\":\"white\",\"ticks\":\"\",\"title\":{\"standoff\":15},\"zerolinecolor\":\"white\",\"zerolinewidth\":2},\"yaxis\":{\"automargin\":true,\"gridcolor\":\"white\",\"linecolor\":\"white\",\"ticks\":\"\",\"title\":{\"standoff\":15},\"zerolinecolor\":\"white\",\"zerolinewidth\":2}}}},                        {\"responsive\": true}                    ).then(function(){\n",
              "                            \n",
              "var gd = document.getElementById('4ff4f046-b9a3-4448-abdf-e4858a83bda0');\n",
              "var x = new MutationObserver(function (mutations, observer) {{\n",
              "        var display = window.getComputedStyle(gd).display;\n",
              "        if (!display || display === 'none') {{\n",
              "            console.log([gd, 'removed!']);\n",
              "            Plotly.purge(gd);\n",
              "            observer.disconnect();\n",
              "        }}\n",
              "}});\n",
              "\n",
              "// Listen for the removal of the full notebook cells\n",
              "var notebookContainer = gd.closest('#notebook-container');\n",
              "if (notebookContainer) {{\n",
              "    x.observe(notebookContainer, {childList: true});\n",
              "}}\n",
              "\n",
              "// Listen for the clearing of the current output cell\n",
              "var outputEl = gd.closest('.output');\n",
              "if (outputEl) {{\n",
              "    x.observe(outputEl, {childList: true});\n",
              "}}\n",
              "\n",
              "                        })                };                            </script>        </div>\n",
              "</body>\n",
              "</html>"
            ]
          },
          "metadata": {}
        }
      ],
      "source": [
        "day_sales = df_cleaned.groupby('Day')['TotalPrice'].sum().sort_index(ascending=True)\n",
        "\n",
        "data = [go.Bar(x=day_sales.index, \n",
        "               y=day_sales.values)]\n",
        "\n",
        "layout = go.Layout(title=\"Day of the month sales\", title_x=0.5)\n",
        "\n",
        "fig = go.Figure(data=data, layout=layout)\n",
        "\n",
        "fig.show()\n"
      ]
    },
    {
      "cell_type": "markdown",
      "metadata": {
        "papermill": {
          "duration": 0.212224,
          "end_time": "2020-12-10T18:53:42.293210",
          "exception": false,
          "start_time": "2020-12-10T18:53:42.080986",
          "status": "completed"
        },
        "tags": [],
        "id": "ThK9frl3Qahs"
      },
      "source": [
        "<center style=\"font-family:cursive; font-size:18px; color:#159364;\">This is a work in progress, feel free to suggest any graphics that you would like to see. <br>I'm going to add more visualizations and then create a dashboard that I'll share with you.<br> Thank you for taking your time to read my notebook 🙏 </center>"
      ]
    },
    {
      "cell_type": "markdown",
      "metadata": {
        "papermill": {
          "duration": 0.21337,
          "end_time": "2020-12-10T18:53:42.720958",
          "exception": false,
          "start_time": "2020-12-10T18:53:42.507588",
          "status": "completed"
        },
        "tags": [],
        "id": "3NiHXUFwQahs"
      },
      "source": [
        "***"
      ]
    },
    {
      "cell_type": "code",
      "source": [
        ""
      ],
      "metadata": {
        "id": "thN6aRz8eIVu"
      },
      "execution_count": 160,
      "outputs": []
    }
  ],
  "metadata": {
    "kernelspec": {
      "display_name": "Python 3 (ipykernel)",
      "language": "python",
      "name": "python3"
    },
    "language_info": {
      "codemirror_mode": {
        "name": "ipython",
        "version": 3
      },
      "file_extension": ".py",
      "mimetype": "text/x-python",
      "name": "python",
      "nbconvert_exporter": "python",
      "pygments_lexer": "ipython3",
      "version": "3.10.2"
    },
    "papermill": {
      "duration": 5688.212319,
      "end_time": "2020-12-10T18:53:43.045506",
      "environment_variables": {},
      "exception": null,
      "input_path": "__notebook__.ipynb",
      "output_path": "__notebook__.ipynb",
      "parameters": {},
      "start_time": "2020-12-10T17:18:54.833187",
      "version": "2.1.0"
    },
    "colab": {
      "name": "customer-segmentation-and-visualizations-in-plotly.ipynb",
      "provenance": [],
      "include_colab_link": true
    }
  },
  "nbformat": 4,
  "nbformat_minor": 0
}